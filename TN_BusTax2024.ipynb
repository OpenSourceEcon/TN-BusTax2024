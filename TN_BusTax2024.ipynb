{
 "cells": [
  {
   "cell_type": "markdown",
   "metadata": {
    "id": "EIBsVBIXc7Q8"
   },
   "source": [
    "# Notebook for replicating the analyses in \"Tennessee Trends: The State of Tennessee’s Economy\"\n",
    "### Richard W. Evans, September 2024\n",
    "This notebook replicates the analyses by [Richard W. Evans](https://sites.google.com/site/rickecon) (@rickecon) in the September 2024 article on Tennessee business tax reform as part of the article \"[Tennessee Trends: The State of Tennessee’s Economy](https://www.beacontn.org/tennessee-trends-the-state-of-tennessees-economy/),\" by Ron Shultis, Jason Edmonds, and [Richard W. Evans](https://sites.google.com/site/rickecon), Beacon Center of Tennessee (Sep. 12, 2024).\n",
    "\n",
    "A Google Colab version of this notebook that can be run from your browser in the cloud is available at [this link](https://colab.research.google.com/drive/1dDKVTEAm4drvNXgHpm617j-82X4xzxKh?usp=sharing)."
   ]
  },
  {
   "cell_type": "markdown",
   "metadata": {},
   "source": [
    "## 1. Introduction\n",
    "Before opening and running this notebook, make sure that you have downloaded or cloned the [`TN-BusTax2024`](https://github.com/OpenSourceEcon/TN-BusTax2024) repository (https://github.com/OpenSourceEcon/TN-BusTax2024) and created and activated the associated conda environment `tn-bustax2024-dev` in the `environment.yml` file. You can also run this notebook easily in the cloud by going to this [Google Colab version](https://colab.research.google.com/drive/1dDKVTEAm4drvNXgHpm617j-82X4xzxKh?usp=sharing) of this notebook."
   ]
  },
  {
   "cell_type": "code",
   "execution_count": 1,
   "metadata": {},
   "outputs": [],
   "source": [
    "# import packages\n",
    "import pandas as pd\n",
    "import numpy as np\n",
    "import os\n",
    "import geopandas as gpd\n",
    "from bokeh.io import output_file, output_notebook\n",
    "from bokeh.plotting import figure, show\n",
    "from bokeh.models import (\n",
    "    ColumnDataSource, Title, Label, LabelSet, Legend, LegendItem,\n",
    "    CategoricalColorMapper, ColorBar, HoverTool, NumeralTickFormatter,\n",
    "    GeoJSONDataSource, FactorRange\n",
    ")\n",
    "from bokeh.models.tickers import SingleIntervalTicker\n",
    "from bokeh.transform import factor_cmap\n",
    "from bokeh.sampledata.us_states import data as states\n",
    "from bokeh.transform import cumsum\n",
    "from bokeh.palettes import Category20c\n",
    "\n",
    "import ccc\n",
    "import taxcalc as tc\n",
    "import requests\n",
    "import random\n",
    "import json\n",
    "\n",
    "import plotly.express as px\n",
    "import plotly.io as pio\n",
    "# set template for plotting\n",
    "pio.templates.default = \"plotly_white\""
   ]
  },
  {
   "cell_type": "markdown",
   "metadata": {},
   "source": [
    "### 1.1. Figure 4. Rainy Day Fund and Total Reserves as Percentages of General-Fund Expenditures, Tennessee and 50-State Median: 2000-2023\n",
    "\n",
    "Get the Pew state rainy day fund data. This does not include District of Columbia. The 2022 data is now final. The 2023 data is labeled as \"Enacted\" which means projected based on enacted legislation."
   ]
  },
  {
   "cell_type": "code",
   "execution_count": 2,
   "metadata": {},
   "outputs": [],
   "source": [
    "cur_dir = os.getcwd()\n",
    "data_dir = os.path.join(cur_dir, 'data')\n",
    "image_dir = os.path.join(cur_dir, 'images')"
   ]
  },
  {
   "cell_type": "code",
   "execution_count": 3,
   "metadata": {},
   "outputs": [],
   "source": [
    "# Read in the Pew data on rainy day funds by year and state from worksheet\n",
    "rain_totbal_path = (\n",
    "    \"https://github.com/OpenSourceEcon/TN-BusTax2024/blob/main/data/\" +\n",
    "    \"ReservesBalancesData.xlsx?raw=true\"\n",
    ")\n",
    "rain_df = pd.read_excel(\n",
    "    rain_totbal_path,\n",
    "    sheet_name=\"Rainy Day Fund Data\",\n",
    "    header=4,\n",
    "    index_col=0,\n",
    "    skipfooter=2\n",
    ")\n",
    "\n",
    "# Create a DataFrame of just the rainy day funds in $millions\n",
    "# by state and by year\n",
    "rain_dol_df = rain_df.loc[:'Wyoming', 'FY 2000.1':'FY 2023 Estimated']\n",
    "rain_dol_df = rain_dol_df.rename(columns = {\n",
    "    'FY 2000.1': '2000',\n",
    "    'FY 2001.1': '2001',\n",
    "    'FY 2002.1': '2002',\n",
    "    'FY 2003.1': '2003',\n",
    "    'FY 2004.1': '2004',\n",
    "    'FY 2005.1': '2005',\n",
    "    'FY 2006.1': '2006',\n",
    "    'FY 2007.1': '2007',\n",
    "    'FY 2008.1': '2008',\n",
    "    'FY 2009.1': '2009',\n",
    "    'FY 2010.1': '2010',\n",
    "    'FY 2011.1': '2011',\n",
    "    'FY 2012.1': '2012',\n",
    "    'FY 2013.1': '2013',\n",
    "    'FY 2014.1': '2014',\n",
    "    'FY 2015.1': '2015',\n",
    "    ' FY 2016': '2016',\n",
    "    ' FY 2017': '2017',\n",
    "    ' FY 2018': '2018',\n",
    "    'FY 2019.1': '2019',\n",
    "    'FY 2020.1': '2020',\n",
    "    'FY 2021.1': '2021',\n",
    "    'FY2022': '2022',\n",
    "    'FY 2023 Estimated': '2023'\n",
    "})\n",
    "rain_dol_df\n",
    "\n",
    "# Create a DataFrame of just the rainy day funds as a percent of\n",
    "# general fund expenditures by state and by year\n",
    "rain_pct_df = rain_df.loc[:, 'FY 2000.2':'FY 2023 Estimated.1']\n",
    "rain_pct_df = rain_pct_df.rename(columns = {\n",
    "    'FY 2000.2': '2000',\n",
    "    'FY 2001.2': '2001',\n",
    "    'FY 2002.2': '2002',\n",
    "    'FY 2003.2': '2003',\n",
    "    'FY 2004.2': '2004',\n",
    "    'FY 2005.2': '2005',\n",
    "    'FY 2006.2': '2006',\n",
    "    'FY 2007.2': '2007',\n",
    "    'FY 2008.2': '2008',\n",
    "    'FY 2009.2': '2009',\n",
    "    'FY 2010.2': '2010',\n",
    "    'FY 2011.2': '2011',\n",
    "    'FY 2012.2': '2012',\n",
    "    'FY 2013.2': '2013',\n",
    "    'FY 2014.2': '2014',\n",
    "    'FY 2015.2': '2015',\n",
    "    ' FY 2016.1': '2016',\n",
    "    ' FY 2017.1': '2017',\n",
    "    ' FY 2018.1': '2018',\n",
    "    'FY 2019.2': '2019',\n",
    "    'FY 2020.2': '2020',\n",
    "    'FY 2021.2': '2021',\n",
    "    'FY2022.1': '2022',\n",
    "    'FY 2023 Estimated.1': '2023'\n",
    "})"
   ]
  },
  {
   "cell_type": "code",
   "execution_count": 4,
   "metadata": {},
   "outputs": [],
   "source": [
    "# Read in the PEW data on total reserves and balances by year and state from\n",
    "# worksheet\n",
    "totbal_df = pd.read_excel(\n",
    "    rain_totbal_path,\n",
    "    sheet_name=\"Total Balances Data\",\n",
    "    header=5,\n",
    "    index_col=0,\n",
    "    skipfooter=2\n",
    ")\n",
    "\n",
    "# Create a DataFrame of just the total reserves and balances funds in $millions\n",
    "# by state and by year\n",
    "totbal_dol_df = totbal_df.loc[:'Wyoming', 'FY 2000.1':'FY 2023 Estimated.1']\n",
    "totbal_dol_df = totbal_dol_df.rename(columns = {\n",
    "    'FY 2000.1': '2000',\n",
    "    'FY 2001.1': '2001',\n",
    "    'FY 2002.1': '2002',\n",
    "    'FY 2003.1': '2003',\n",
    "    'FY 2004.1': '2004',\n",
    "    'FY 2005.1': '2005',\n",
    "    'FY 2006.1': '2006',\n",
    "    'FY 2007.1': '2007',\n",
    "    'FY 2008.1': '2008',\n",
    "    'FY 2009.1': '2009',\n",
    "    'FY 2010.1': '2010',\n",
    "    'FY 2011.1': '2011',\n",
    "    'FY 2012.1': '2012',\n",
    "    'FY 2013.1': '2013',\n",
    "    'FY 2014.1': '2014',\n",
    "    'FY 2015.1': '2015',\n",
    "    ' FY 2016.1': '2016',\n",
    "    ' FY 2017.1': '2017',\n",
    "    ' FY 2018.1': '2018',\n",
    "    'FY 2019.1': '2019',\n",
    "    'FY 2020.1': '2020',\n",
    "    'FY 2021.1': '2021',\n",
    "    'FY2022.1': '2022',\n",
    "    'FY 2023 Estimated.1': '2023'\n",
    "})\n",
    "\n",
    "# Create a DataFrame of just the total reserves and balances funds as percent\n",
    "# of general fund expenditures by state and by year\n",
    "totbal_pct_df = totbal_df.loc[:, 'FY 2000.2':'FY 2023 Estimated.2']\n",
    "totbal_pct_df = totbal_pct_df.rename(columns = {\n",
    "    'FY 2000.2': '2000',\n",
    "    'FY 2001.2': '2001',\n",
    "    'FY 2002.2': '2002',\n",
    "    'FY 2003.2': '2003',\n",
    "    'FY 2004.2': '2004',\n",
    "    'FY 2005.2': '2005',\n",
    "    'FY 2006.2': '2006',\n",
    "    'FY 2007.2': '2007',\n",
    "    'FY 2008.2': '2008',\n",
    "    'FY 2009.2': '2009',\n",
    "    'FY 2010.2': '2010',\n",
    "    'FY 2011.2': '2011',\n",
    "    'FY 2012.2': '2012',\n",
    "    'FY 2013.2': '2013',\n",
    "    'FY 2014.2': '2014',\n",
    "    'FY 2015.2': '2015',\n",
    "    ' FY 2016.2': '2016',\n",
    "    ' FY 2017.2': '2017',\n",
    "    ' FY 2018.2': '2018',\n",
    "    'FY 2019.2': '2019',\n",
    "    'FY 2020.2': '2020',\n",
    "    'FY 2021.2': '2021',\n",
    "    'FY2022.2': '2022',\n",
    "    'FY 2023 Estimated.2': '2023'\n",
    "})"
   ]
  },
  {
   "cell_type": "code",
   "execution_count": 5,
   "metadata": {},
   "outputs": [
    {
     "data": {
      "text/html": [
       "<div>\n",
       "<style scoped>\n",
       "    .dataframe tbody tr th:only-of-type {\n",
       "        vertical-align: middle;\n",
       "    }\n",
       "\n",
       "    .dataframe tbody tr th {\n",
       "        vertical-align: top;\n",
       "    }\n",
       "\n",
       "    .dataframe thead th {\n",
       "        text-align: right;\n",
       "    }\n",
       "</style>\n",
       "<table border=\"1\" class=\"dataframe\">\n",
       "  <thead>\n",
       "    <tr style=\"text-align: right;\">\n",
       "      <th></th>\n",
       "      <th>year</th>\n",
       "      <th>rain_50m_pct</th>\n",
       "      <th>rain_tn_pct</th>\n",
       "      <th>totbal_50m_pct</th>\n",
       "      <th>totbal_tn_pct</th>\n",
       "    </tr>\n",
       "  </thead>\n",
       "  <tbody>\n",
       "    <tr>\n",
       "      <th>0</th>\n",
       "      <td>2000</td>\n",
       "      <td>4.127259</td>\n",
       "      <td>2.504361</td>\n",
       "      <td>8.766520</td>\n",
       "      <td>3.285552</td>\n",
       "    </tr>\n",
       "    <tr>\n",
       "      <th>1</th>\n",
       "      <td>2001</td>\n",
       "      <td>4.614270</td>\n",
       "      <td>2.537384</td>\n",
       "      <td>7.148315</td>\n",
       "      <td>2.983564</td>\n",
       "    </tr>\n",
       "    <tr>\n",
       "      <th>2</th>\n",
       "      <td>2002</td>\n",
       "      <td>1.655668</td>\n",
       "      <td>2.368376</td>\n",
       "      <td>2.887308</td>\n",
       "      <td>2.521389</td>\n",
       "    </tr>\n",
       "    <tr>\n",
       "      <th>3</th>\n",
       "      <td>2003</td>\n",
       "      <td>0.722015</td>\n",
       "      <td>2.249264</td>\n",
       "      <td>2.656212</td>\n",
       "      <td>3.059252</td>\n",
       "    </tr>\n",
       "    <tr>\n",
       "      <th>4</th>\n",
       "      <td>2004</td>\n",
       "      <td>1.844196</td>\n",
       "      <td>2.654402</td>\n",
       "      <td>5.246650</td>\n",
       "      <td>9.323433</td>\n",
       "    </tr>\n",
       "    <tr>\n",
       "      <th>5</th>\n",
       "      <td>2005</td>\n",
       "      <td>2.459819</td>\n",
       "      <td>3.022189</td>\n",
       "      <td>9.016673</td>\n",
       "      <td>8.094287</td>\n",
       "    </tr>\n",
       "    <tr>\n",
       "      <th>6</th>\n",
       "      <td>2006</td>\n",
       "      <td>4.553273</td>\n",
       "      <td>3.585613</td>\n",
       "      <td>11.801597</td>\n",
       "      <td>11.793910</td>\n",
       "    </tr>\n",
       "    <tr>\n",
       "      <th>7</th>\n",
       "      <td>2007</td>\n",
       "      <td>4.738918</td>\n",
       "      <td>5.553680</td>\n",
       "      <td>11.327766</td>\n",
       "      <td>15.849829</td>\n",
       "    </tr>\n",
       "    <tr>\n",
       "      <th>8</th>\n",
       "      <td>2008</td>\n",
       "      <td>4.834502</td>\n",
       "      <td>6.835208</td>\n",
       "      <td>8.292193</td>\n",
       "      <td>10.004921</td>\n",
       "    </tr>\n",
       "    <tr>\n",
       "      <th>9</th>\n",
       "      <td>2009</td>\n",
       "      <td>2.728263</td>\n",
       "      <td>5.212919</td>\n",
       "      <td>4.582794</td>\n",
       "      <td>5.936077</td>\n",
       "    </tr>\n",
       "    <tr>\n",
       "      <th>10</th>\n",
       "      <td>2010</td>\n",
       "      <td>1.638317</td>\n",
       "      <td>4.794405</td>\n",
       "      <td>4.488299</td>\n",
       "      <td>7.330751</td>\n",
       "    </tr>\n",
       "    <tr>\n",
       "      <th>11</th>\n",
       "      <td>2011</td>\n",
       "      <td>1.761059</td>\n",
       "      <td>2.837106</td>\n",
       "      <td>6.368404</td>\n",
       "      <td>8.791429</td>\n",
       "    </tr>\n",
       "    <tr>\n",
       "      <th>12</th>\n",
       "      <td>2012</td>\n",
       "      <td>2.486130</td>\n",
       "      <td>2.739849</td>\n",
       "      <td>7.907533</td>\n",
       "      <td>10.068496</td>\n",
       "    </tr>\n",
       "    <tr>\n",
       "      <th>13</th>\n",
       "      <td>2013</td>\n",
       "      <td>3.558071</td>\n",
       "      <td>3.106972</td>\n",
       "      <td>9.956752</td>\n",
       "      <td>10.086314</td>\n",
       "    </tr>\n",
       "    <tr>\n",
       "      <th>14</th>\n",
       "      <td>2014</td>\n",
       "      <td>4.524613</td>\n",
       "      <td>3.757416</td>\n",
       "      <td>7.292836</td>\n",
       "      <td>6.919908</td>\n",
       "    </tr>\n",
       "    <tr>\n",
       "      <th>15</th>\n",
       "      <td>2015</td>\n",
       "      <td>4.918311</td>\n",
       "      <td>3.986083</td>\n",
       "      <td>9.204278</td>\n",
       "      <td>11.062090</td>\n",
       "    </tr>\n",
       "    <tr>\n",
       "      <th>16</th>\n",
       "      <td>2016</td>\n",
       "      <td>5.339670</td>\n",
       "      <td>4.491894</td>\n",
       "      <td>9.739579</td>\n",
       "      <td>15.483590</td>\n",
       "    </tr>\n",
       "    <tr>\n",
       "      <th>17</th>\n",
       "      <td>2017</td>\n",
       "      <td>5.613689</td>\n",
       "      <td>5.046003</td>\n",
       "      <td>8.315685</td>\n",
       "      <td>17.484250</td>\n",
       "    </tr>\n",
       "    <tr>\n",
       "      <th>18</th>\n",
       "      <td>2018</td>\n",
       "      <td>6.547734</td>\n",
       "      <td>5.785447</td>\n",
       "      <td>11.724584</td>\n",
       "      <td>14.028985</td>\n",
       "    </tr>\n",
       "    <tr>\n",
       "      <th>19</th>\n",
       "      <td>2019</td>\n",
       "      <td>7.929661</td>\n",
       "      <td>6.133679</td>\n",
       "      <td>13.993790</td>\n",
       "      <td>17.642564</td>\n",
       "    </tr>\n",
       "    <tr>\n",
       "      <th>20</th>\n",
       "      <td>2020</td>\n",
       "      <td>8.439704</td>\n",
       "      <td>8.207990</td>\n",
       "      <td>12.711729</td>\n",
       "      <td>21.827099</td>\n",
       "    </tr>\n",
       "    <tr>\n",
       "      <th>21</th>\n",
       "      <td>2021</td>\n",
       "      <td>10.288484</td>\n",
       "      <td>10.035783</td>\n",
       "      <td>27.123898</td>\n",
       "      <td>41.306590</td>\n",
       "    </tr>\n",
       "    <tr>\n",
       "      <th>22</th>\n",
       "      <td>2022</td>\n",
       "      <td>11.484141</td>\n",
       "      <td>9.835649</td>\n",
       "      <td>39.507860</td>\n",
       "      <td>56.996002</td>\n",
       "    </tr>\n",
       "    <tr>\n",
       "      <th>23</th>\n",
       "      <td>2023</td>\n",
       "      <td>12.603642</td>\n",
       "      <td>8.583486</td>\n",
       "      <td>30.920881</td>\n",
       "      <td>32.697837</td>\n",
       "    </tr>\n",
       "  </tbody>\n",
       "</table>\n",
       "</div>"
      ],
      "text/plain": [
       "    year  rain_50m_pct  rain_tn_pct  totbal_50m_pct  totbal_tn_pct\n",
       "0   2000      4.127259     2.504361        8.766520       3.285552\n",
       "1   2001      4.614270     2.537384        7.148315       2.983564\n",
       "2   2002      1.655668     2.368376        2.887308       2.521389\n",
       "3   2003      0.722015     2.249264        2.656212       3.059252\n",
       "4   2004      1.844196     2.654402        5.246650       9.323433\n",
       "5   2005      2.459819     3.022189        9.016673       8.094287\n",
       "6   2006      4.553273     3.585613       11.801597      11.793910\n",
       "7   2007      4.738918     5.553680       11.327766      15.849829\n",
       "8   2008      4.834502     6.835208        8.292193      10.004921\n",
       "9   2009      2.728263     5.212919        4.582794       5.936077\n",
       "10  2010      1.638317     4.794405        4.488299       7.330751\n",
       "11  2011      1.761059     2.837106        6.368404       8.791429\n",
       "12  2012      2.486130     2.739849        7.907533      10.068496\n",
       "13  2013      3.558071     3.106972        9.956752      10.086314\n",
       "14  2014      4.524613     3.757416        7.292836       6.919908\n",
       "15  2015      4.918311     3.986083        9.204278      11.062090\n",
       "16  2016      5.339670     4.491894        9.739579      15.483590\n",
       "17  2017      5.613689     5.046003        8.315685      17.484250\n",
       "18  2018      6.547734     5.785447       11.724584      14.028985\n",
       "19  2019      7.929661     6.133679       13.993790      17.642564\n",
       "20  2020      8.439704     8.207990       12.711729      21.827099\n",
       "21  2021     10.288484    10.035783       27.123898      41.306590\n",
       "22  2022     11.484141     9.835649       39.507860      56.996002\n",
       "23  2023     12.603642     8.583486       30.920881      32.697837"
      ]
     },
     "execution_count": 5,
     "metadata": {},
     "output_type": "execute_result"
    }
   ],
   "source": [
    "rain_pct_50_df = rain_pct_df.loc[\"50-state median\", :].to_frame().reset_index()\n",
    "rain_pct_50_df.rename(\n",
    "    columns = {\"index\":\"year\", \"50-state median\":\"fraction\"}, inplace = True\n",
    ")\n",
    "rain_pct_50_df[\"percent\"] = 100 * rain_pct_50_df[\"fraction\"]\n",
    "rain_pct_50_df[\"series\"] = \"50-state median Rainy Day Fund\"\n",
    "\n",
    "rain_pct_tn_df = rain_pct_df.loc[\"Tennessee\", :].to_frame().reset_index()\n",
    "rain_pct_tn_df = rain_pct_tn_df.rename(\n",
    "    columns = {\"index\":\"year\", \"Tennessee\":\"fraction\"}\n",
    ")\n",
    "rain_pct_tn_df[\"percent\"] = 100 * rain_pct_tn_df[\"fraction\"]\n",
    "rain_pct_tn_df[\"series\"] = \"Tennessee Rainy Day Fund\"\n",
    "\n",
    "totbal_pct_50_df = \\\n",
    "    totbal_pct_df.loc[\"50-state median\", :].to_frame().reset_index()\n",
    "totbal_pct_50_df = totbal_pct_50_df.rename(\n",
    "    columns = {\"index\":\"year\", \"50-state median\":\"fraction\"}\n",
    ")\n",
    "totbal_pct_50_df[\"percent\"] = 100 * totbal_pct_50_df[\"fraction\"]\n",
    "totbal_pct_50_df[\"series\"] = \"50-state median total reserve balances\"\n",
    "\n",
    "totbal_pct_tn_df = totbal_pct_df.loc[\"Tennessee\", :].to_frame().reset_index()\n",
    "totbal_pct_tn_df = totbal_pct_tn_df.rename(\n",
    "    columns = {'index':'year', \"Tennessee\":\"fraction\"}\n",
    ")\n",
    "totbal_pct_tn_df[\"percent\"] = 100 * totbal_pct_tn_df[\"fraction\"]\n",
    "totbal_pct_tn_df[\"series\"] = \"Tennessee total reserve balances\"\n",
    "\n",
    "# Merge the four DataFrames to save the joint dataframe as a .csv\n",
    "fig4_source_df = rain_pct_50_df[['year', 'percent']].rename(\n",
    "    columns={'percent':'rain_50m_pct'}\n",
    ")\n",
    "fig4_source_df = pd.merge(\n",
    "    fig4_source_df,\n",
    "    rain_pct_tn_df[['year', 'percent']].rename(\n",
    "        columns={'percent':'rain_tn_pct'}\n",
    "    ),\n",
    "    on='year', how='inner'\n",
    ")\n",
    "fig4_source_df = pd.merge(\n",
    "    fig4_source_df,\n",
    "    totbal_pct_50_df[['year', 'percent']].rename(\n",
    "        columns={'percent':'totbal_50m_pct'}\n",
    "    ),\n",
    "    on='year', how='inner'\n",
    ")\n",
    "fig4_source_df = pd.merge(\n",
    "    fig4_source_df,\n",
    "    totbal_pct_tn_df[['year', 'percent']].rename(\n",
    "        columns={'percent':'totbal_tn_pct'}\n",
    "    ),\n",
    "    on='year', how='inner'\n",
    ")\n",
    "fig4_source_df.to_csv('./data/fig4_source.csv', index=False)\n",
    "\n",
    "fig4_source_df"
   ]
  },
  {
   "cell_type": "code",
   "execution_count": 6,
   "metadata": {},
   "outputs": [
    {
     "data": {
      "text/html": [
       "    <style>\n",
       "        .bk-notebook-logo {\n",
       "            display: block;\n",
       "            width: 20px;\n",
       "            height: 20px;\n",
       "            background-image: url(data:image/png;base64,iVBORw0KGgoAAAANSUhEUgAAABQAAAAUCAYAAACNiR0NAAAABHNCSVQICAgIfAhkiAAAAAlwSFlzAAALEgAACxIB0t1+/AAAABx0RVh0U29mdHdhcmUAQWRvYmUgRmlyZXdvcmtzIENTNui8sowAAAOkSURBVDiNjZRtaJVlGMd/1/08zzln5zjP1LWcU9N0NkN8m2CYjpgQYQXqSs0I84OLIC0hkEKoPtiH3gmKoiJDU7QpLgoLjLIQCpEsNJ1vqUOdO7ppbuec5+V+rj4ctwzd8IIbbi6u+8f1539dt3A78eXC7QizUF7gyV1fD1Yqg4JWz84yffhm0qkFqBogB9rM8tZdtwVsPUhWhGcFJngGeWrPzHm5oaMmkfEg1usvLFyc8jLRqDOMru7AyC8saQr7GG7f5fvDeH7Ej8CM66nIF+8yngt6HWaKh7k49Soy9nXurCi1o3qUbS3zWfrYeQDTB/Qj6kX6Ybhw4B+bOYoLKCC9H3Nu/leUTZ1JdRWkkn2ldcCamzrcf47KKXdAJllSlxAOkRgyHsGC/zRday5Qld9DyoM4/q/rUoy/CXh3jzOu3bHUVZeU+DEn8FInkPBFlu3+nW3Nw0mk6vCDiWg8CeJaxEwuHS3+z5RgY+YBR6V1Z1nxSOfoaPa4LASWxxdNp+VWTk7+4vzaou8v8PN+xo+KY2xsw6une2frhw05CTYOmQvsEhjhWjn0bmXPjpE1+kplmmkP3suftwTubK9Vq22qKmrBhpY4jvd5afdRA3wGjFAgcnTK2s4hY0/GPNIb0nErGMCRxWOOX64Z8RAC4oCXdklmEvcL8o0BfkNK4lUg9HTl+oPlQxdNo3Mg4Nv175e/1LDGzZen30MEjRUtmXSfiTVu1kK8W4txyV6BMKlbgk3lMwYCiusNy9fVfvvwMxv8Ynl6vxoByANLTWplvuj/nF9m2+PDtt1eiHPBr1oIfhCChQMBw6Aw0UulqTKZdfVvfG7VcfIqLG9bcldL/+pdWTLxLUy8Qq38heUIjh4XlzZxzQm19lLFlr8vdQ97rjZVOLf8nclzckbcD4wxXMidpX30sFd37Fv/GtwwhzhxGVAprjbg0gCAEeIgwCZyTV2Z1REEW8O4py0wsjeloKoMr6iCY6dP92H6Vw/oTyICIthibxjm/DfN9lVz8IqtqKYLUXfoKVMVQVVJOElGjrnnUt9T9wbgp8AyYKaGlqingHZU/uG2NTZSVqwHQTWkx9hxjkpWDaCg6Ckj5qebgBVbT3V3NNXMSiWSDdGV3hrtzla7J+duwPOToIg42ChPQOQjspnSlp1V+Gjdged7+8UN5CRAV7a5EdFNwCjEaBR27b3W890TE7g24NAP/mMDXRWrGoFPQI9ls/MWO2dWFAar/xcOIImbbpA3zgAAAABJRU5ErkJggg==);\n",
       "        }\n",
       "    </style>\n",
       "    <div>\n",
       "        <a href=\"https://bokeh.org\" target=\"_blank\" class=\"bk-notebook-logo\"></a>\n",
       "        <span id=\"f44ca9f2-bd80-4e11-a69a-c26a1e11c178\">Loading BokehJS ...</span>\n",
       "    </div>\n"
      ]
     },
     "metadata": {},
     "output_type": "display_data"
    },
    {
     "data": {
      "application/javascript": "'use strict';\n(function(root) {\n  function now() {\n    return new Date();\n  }\n\n  const force = true;\n\n  if (typeof root._bokeh_onload_callbacks === \"undefined\" || force === true) {\n    root._bokeh_onload_callbacks = [];\n    root._bokeh_is_loading = undefined;\n  }\n\nconst JS_MIME_TYPE = 'application/javascript';\n  const HTML_MIME_TYPE = 'text/html';\n  const EXEC_MIME_TYPE = 'application/vnd.bokehjs_exec.v0+json';\n  const CLASS_NAME = 'output_bokeh rendered_html';\n\n  /**\n   * Render data to the DOM node\n   */\n  function render(props, node) {\n    const script = document.createElement(\"script\");\n    node.appendChild(script);\n  }\n\n  /**\n   * Handle when an output is cleared or removed\n   */\n  function handleClearOutput(event, handle) {\n    function drop(id) {\n      const view = Bokeh.index.get_by_id(id)\n      if (view != null) {\n        view.model.document.clear()\n        Bokeh.index.delete(view)\n      }\n    }\n\n    const cell = handle.cell;\n\n    const id = cell.output_area._bokeh_element_id;\n    const server_id = cell.output_area._bokeh_server_id;\n\n    // Clean up Bokeh references\n    if (id != null) {\n      drop(id)\n    }\n\n    if (server_id !== undefined) {\n      // Clean up Bokeh references\n      const cmd_clean = \"from bokeh.io.state import curstate; print(curstate().uuid_to_server['\" + server_id + \"'].get_sessions()[0].document.roots[0]._id)\";\n      cell.notebook.kernel.execute(cmd_clean, {\n        iopub: {\n          output: function(msg) {\n            const id = msg.content.text.trim()\n            drop(id)\n          }\n        }\n      });\n      // Destroy server and session\n      const cmd_destroy = \"import bokeh.io.notebook as ion; ion.destroy_server('\" + server_id + \"')\";\n      cell.notebook.kernel.execute(cmd_destroy);\n    }\n  }\n\n  /**\n   * Handle when a new output is added\n   */\n  function handleAddOutput(event, handle) {\n    const output_area = handle.output_area;\n    const output = handle.output;\n\n    // limit handleAddOutput to display_data with EXEC_MIME_TYPE content only\n    if ((output.output_type != \"display_data\") || (!Object.prototype.hasOwnProperty.call(output.data, EXEC_MIME_TYPE))) {\n      return\n    }\n\n    const toinsert = output_area.element.find(\".\" + CLASS_NAME.split(' ')[0]);\n\n    if (output.metadata[EXEC_MIME_TYPE][\"id\"] !== undefined) {\n      toinsert[toinsert.length - 1].firstChild.textContent = output.data[JS_MIME_TYPE];\n      // store reference to embed id on output_area\n      output_area._bokeh_element_id = output.metadata[EXEC_MIME_TYPE][\"id\"];\n    }\n    if (output.metadata[EXEC_MIME_TYPE][\"server_id\"] !== undefined) {\n      const bk_div = document.createElement(\"div\");\n      bk_div.innerHTML = output.data[HTML_MIME_TYPE];\n      const script_attrs = bk_div.children[0].attributes;\n      for (let i = 0; i < script_attrs.length; i++) {\n        toinsert[toinsert.length - 1].firstChild.setAttribute(script_attrs[i].name, script_attrs[i].value);\n        toinsert[toinsert.length - 1].firstChild.textContent = bk_div.children[0].textContent\n      }\n      // store reference to server id on output_area\n      output_area._bokeh_server_id = output.metadata[EXEC_MIME_TYPE][\"server_id\"];\n    }\n  }\n\n  function register_renderer(events, OutputArea) {\n\n    function append_mime(data, metadata, element) {\n      // create a DOM node to render to\n      const toinsert = this.create_output_subarea(\n        metadata,\n        CLASS_NAME,\n        EXEC_MIME_TYPE\n      );\n      this.keyboard_manager.register_events(toinsert);\n      // Render to node\n      const props = {data: data, metadata: metadata[EXEC_MIME_TYPE]};\n      render(props, toinsert[toinsert.length - 1]);\n      element.append(toinsert);\n      return toinsert\n    }\n\n    /* Handle when an output is cleared or removed */\n    events.on('clear_output.CodeCell', handleClearOutput);\n    events.on('delete.Cell', handleClearOutput);\n\n    /* Handle when a new output is added */\n    events.on('output_added.OutputArea', handleAddOutput);\n\n    /**\n     * Register the mime type and append_mime function with output_area\n     */\n    OutputArea.prototype.register_mime_type(EXEC_MIME_TYPE, append_mime, {\n      /* Is output safe? */\n      safe: true,\n      /* Index of renderer in `output_area.display_order` */\n      index: 0\n    });\n  }\n\n  // register the mime type if in Jupyter Notebook environment and previously unregistered\n  if (root.Jupyter !== undefined) {\n    const events = require('base/js/events');\n    const OutputArea = require('notebook/js/outputarea').OutputArea;\n\n    if (OutputArea.prototype.mime_types().indexOf(EXEC_MIME_TYPE) == -1) {\n      register_renderer(events, OutputArea);\n    }\n  }\n  if (typeof (root._bokeh_timeout) === \"undefined\" || force === true) {\n    root._bokeh_timeout = Date.now() + 5000;\n    root._bokeh_failed_load = false;\n  }\n\n  const NB_LOAD_WARNING = {'data': {'text/html':\n     \"<div style='background-color: #fdd'>\\n\"+\n     \"<p>\\n\"+\n     \"BokehJS does not appear to have successfully loaded. If loading BokehJS from CDN, this \\n\"+\n     \"may be due to a slow or bad network connection. Possible fixes:\\n\"+\n     \"</p>\\n\"+\n     \"<ul>\\n\"+\n     \"<li>re-rerun `output_notebook()` to attempt to load from CDN again, or</li>\\n\"+\n     \"<li>use INLINE resources instead, as so:</li>\\n\"+\n     \"</ul>\\n\"+\n     \"<code>\\n\"+\n     \"from bokeh.resources import INLINE\\n\"+\n     \"output_notebook(resources=INLINE)\\n\"+\n     \"</code>\\n\"+\n     \"</div>\"}};\n\n  function display_loaded(error = null) {\n    const el = document.getElementById(\"f44ca9f2-bd80-4e11-a69a-c26a1e11c178\");\n    if (el != null) {\n      const html = (() => {\n        if (typeof root.Bokeh === \"undefined\") {\n          if (error == null) {\n            return \"BokehJS is loading ...\";\n          } else {\n            return \"BokehJS failed to load.\";\n          }\n        } else {\n          const prefix = `BokehJS ${root.Bokeh.version}`;\n          if (error == null) {\n            return `${prefix} successfully loaded.`;\n          } else {\n            return `${prefix} <b>encountered errors</b> while loading and may not function as expected.`;\n          }\n        }\n      })();\n      el.innerHTML = html;\n\n      if (error != null) {\n        const wrapper = document.createElement(\"div\");\n        wrapper.style.overflow = \"auto\";\n        wrapper.style.height = \"5em\";\n        wrapper.style.resize = \"vertical\";\n        const content = document.createElement(\"div\");\n        content.style.fontFamily = \"monospace\";\n        content.style.whiteSpace = \"pre-wrap\";\n        content.style.backgroundColor = \"rgb(255, 221, 221)\";\n        content.textContent = error.stack ?? error.toString();\n        wrapper.append(content);\n        el.append(wrapper);\n      }\n    } else if (Date.now() < root._bokeh_timeout) {\n      setTimeout(() => display_loaded(error), 100);\n    }\n  }\n\n  function run_callbacks() {\n    try {\n      root._bokeh_onload_callbacks.forEach(function(callback) {\n        if (callback != null)\n          callback();\n      });\n    } finally {\n      delete root._bokeh_onload_callbacks\n    }\n    console.debug(\"Bokeh: all callbacks have finished\");\n  }\n\n  function load_libs(css_urls, js_urls, callback) {\n    if (css_urls == null) css_urls = [];\n    if (js_urls == null) js_urls = [];\n\n    root._bokeh_onload_callbacks.push(callback);\n    if (root._bokeh_is_loading > 0) {\n      console.debug(\"Bokeh: BokehJS is being loaded, scheduling callback at\", now());\n      return null;\n    }\n    if (js_urls == null || js_urls.length === 0) {\n      run_callbacks();\n      return null;\n    }\n    console.debug(\"Bokeh: BokehJS not loaded, scheduling load and callback at\", now());\n    root._bokeh_is_loading = css_urls.length + js_urls.length;\n\n    function on_load() {\n      root._bokeh_is_loading--;\n      if (root._bokeh_is_loading === 0) {\n        console.debug(\"Bokeh: all BokehJS libraries/stylesheets loaded\");\n        run_callbacks()\n      }\n    }\n\n    function on_error(url) {\n      console.error(\"failed to load \" + url);\n    }\n\n    for (let i = 0; i < css_urls.length; i++) {\n      const url = css_urls[i];\n      const element = document.createElement(\"link\");\n      element.onload = on_load;\n      element.onerror = on_error.bind(null, url);\n      element.rel = \"stylesheet\";\n      element.type = \"text/css\";\n      element.href = url;\n      console.debug(\"Bokeh: injecting link tag for BokehJS stylesheet: \", url);\n      document.body.appendChild(element);\n    }\n\n    for (let i = 0; i < js_urls.length; i++) {\n      const url = js_urls[i];\n      const element = document.createElement('script');\n      element.onload = on_load;\n      element.onerror = on_error.bind(null, url);\n      element.async = false;\n      element.src = url;\n      console.debug(\"Bokeh: injecting script tag for BokehJS library: \", url);\n      document.head.appendChild(element);\n    }\n  };\n\n  function inject_raw_css(css) {\n    const element = document.createElement(\"style\");\n    element.appendChild(document.createTextNode(css));\n    document.body.appendChild(element);\n  }\n\n  const js_urls = [\"https://cdn.bokeh.org/bokeh/release/bokeh-3.4.2.min.js\", \"https://cdn.bokeh.org/bokeh/release/bokeh-gl-3.4.2.min.js\", \"https://cdn.bokeh.org/bokeh/release/bokeh-widgets-3.4.2.min.js\", \"https://cdn.bokeh.org/bokeh/release/bokeh-tables-3.4.2.min.js\", \"https://cdn.bokeh.org/bokeh/release/bokeh-mathjax-3.4.2.min.js\"];\n  const css_urls = [];\n\n  const inline_js = [    function(Bokeh) {\n      Bokeh.set_log_level(\"info\");\n    },\nfunction(Bokeh) {\n    }\n  ];\n\n  function run_inline_js() {\n    if (root.Bokeh !== undefined || force === true) {\n      try {\n            for (let i = 0; i < inline_js.length; i++) {\n      inline_js[i].call(root, root.Bokeh);\n    }\n\n      } catch (error) {display_loaded(error);throw error;\n      }if (force === true) {\n        display_loaded();\n      }} else if (Date.now() < root._bokeh_timeout) {\n      setTimeout(run_inline_js, 100);\n    } else if (!root._bokeh_failed_load) {\n      console.log(\"Bokeh: BokehJS failed to load within specified timeout.\");\n      root._bokeh_failed_load = true;\n    } else if (force !== true) {\n      const cell = $(document.getElementById(\"f44ca9f2-bd80-4e11-a69a-c26a1e11c178\")).parents('.cell').data().cell;\n      cell.output_area.append_execute_result(NB_LOAD_WARNING)\n    }\n  }\n\n  if (root._bokeh_is_loading === 0) {\n    console.debug(\"Bokeh: BokehJS loaded, going straight to plotting\");\n    run_inline_js();\n  } else {\n    load_libs(css_urls, js_urls, function() {\n      console.debug(\"Bokeh: BokehJS plotting callback run at\", now());\n      run_inline_js();\n    });\n  }\n}(window));",
      "application/vnd.bokehjs_load.v0+json": ""
     },
     "metadata": {},
     "output_type": "display_data"
    },
    {
     "data": {
      "text/html": [
       "\n",
       "  <div id=\"f0dacbed-0ee8-40d1-ae2b-c9621fc89569\" data-root-id=\"p1013\" style=\"display: contents;\"></div>\n"
      ]
     },
     "metadata": {},
     "output_type": "display_data"
    },
    {
     "data": {
      "application/javascript": "(function(root) {\n  function embed_document(root) {\n  const docs_json = {\"4a2108ff-b1dc-4c9a-8b80-85d444f2f2b5\":{\"version\":\"3.4.2\",\"title\":\"Bokeh Application\",\"roots\":[{\"type\":\"object\",\"name\":\"Figure\",\"id\":\"p1013\",\"attributes\":{\"width\":800,\"height\":500,\"x_range\":{\"type\":\"object\",\"name\":\"Range1d\",\"id\":\"p1022\",\"attributes\":{\"start\":1999,\"end\":2024.6}},\"y_range\":{\"type\":\"object\",\"name\":\"Range1d\",\"id\":\"p1023\",\"attributes\":{\"start\":-2.091684882601296,\"end\":59.80970167331416}},\"x_scale\":{\"type\":\"object\",\"name\":\"LinearScale\",\"id\":\"p1024\"},\"y_scale\":{\"type\":\"object\",\"name\":\"LinearScale\",\"id\":\"p1025\"},\"title\":{\"type\":\"object\",\"name\":\"Title\",\"id\":\"p1020\"},\"renderers\":[{\"type\":\"object\",\"name\":\"GlyphRenderer\",\"id\":\"p1048\",\"attributes\":{\"data_source\":{\"type\":\"object\",\"name\":\"ColumnDataSource\",\"id\":\"p1001\",\"attributes\":{\"selected\":{\"type\":\"object\",\"name\":\"Selection\",\"id\":\"p1002\",\"attributes\":{\"indices\":[],\"line_indices\":[]}},\"selection_policy\":{\"type\":\"object\",\"name\":\"UnionRenderers\",\"id\":\"p1003\"},\"data\":{\"type\":\"map\",\"entries\":[[\"index\",{\"type\":\"ndarray\",\"array\":{\"type\":\"bytes\",\"data\":\"AAAAAAEAAAACAAAAAwAAAAQAAAAFAAAABgAAAAcAAAAIAAAACQAAAAoAAAALAAAADAAAAA0AAAAOAAAADwAAABAAAAARAAAAEgAAABMAAAAUAAAAFQAAABYAAAAXAAAA\"},\"shape\":[24],\"dtype\":\"int32\",\"order\":\"little\"}],[\"year\",{\"type\":\"ndarray\",\"array\":[\"2000\",\"2001\",\"2002\",\"2003\",\"2004\",\"2005\",\"2006\",\"2007\",\"2008\",\"2009\",\"2010\",\"2011\",\"2012\",\"2013\",\"2014\",\"2015\",\"2016\",\"2017\",\"2018\",\"2019\",\"2020\",\"2021\",\"2022\",\"2023\"],\"shape\":[24],\"dtype\":\"object\",\"order\":\"little\"}],[\"fraction\",{\"type\":\"ndarray\",\"array\":{\"type\":\"bytes\",\"data\":\"2Rx/OgilmT/Z17VWmfuZP4PBgeqNQJg/sWWVeU8Ilz9EvpjhWi6bPw1oeL588p4/l6ohN7xboj+xY6TRUW+sPxsaS4+Ff7E/N9+zgK2wqj/F4DA6H4yoP5Ypa+xNDZ0/Bd5UU1kOnD9XLQ/bvdCfPxMhrJTrPKM/qb6lkaNopD8dMQ6Hnf+mP90RO7nl1ak/+CokyBmfrT8Vg5UziWevPxJluEowA7U/c35J8wyxuT+2hRco5C25P6lBjwpG+bU/\"},\"shape\":[24],\"dtype\":\"float64\",\"order\":\"little\"}],[\"percent\",{\"type\":\"ndarray\",\"array\":{\"type\":\"bytes\",\"data\":\"ik6zbe4IBECiEL7Lj0wEQC5fNd9u8gJAcrf8Fn7+AUClVD8ANzwFQEoRznRxLQhAjJokFlavDEDibcjr9zYWQMpY5a9AVxtAY4aMjAfaFECaL3ZleC0TQH24s+BksgZAdE0ayTXrBUBs2yNTFNsIQK7zTBgwDw5A6PmSk3/jD0BfFoMRs/cRQPUltngbLxRAkkFcJEwkF0Bozkww44gYQPYOYLp9aiBAymoRHlISJEB2YFI/2qsjQEzrP7i+KiFA\"},\"shape\":[24],\"dtype\":\"float64\",\"order\":\"little\"}],[\"series\",{\"type\":\"ndarray\",\"array\":[\"Tennessee Rainy Day Fund\",\"Tennessee Rainy Day Fund\",\"Tennessee Rainy Day Fund\",\"Tennessee Rainy Day Fund\",\"Tennessee Rainy Day Fund\",\"Tennessee Rainy Day Fund\",\"Tennessee Rainy Day Fund\",\"Tennessee Rainy Day Fund\",\"Tennessee Rainy Day Fund\",\"Tennessee Rainy Day Fund\",\"Tennessee Rainy Day Fund\",\"Tennessee Rainy Day Fund\",\"Tennessee Rainy Day Fund\",\"Tennessee Rainy Day Fund\",\"Tennessee Rainy Day Fund\",\"Tennessee Rainy Day Fund\",\"Tennessee Rainy Day Fund\",\"Tennessee Rainy Day Fund\",\"Tennessee Rainy Day Fund\",\"Tennessee Rainy Day Fund\",\"Tennessee Rainy Day Fund\",\"Tennessee Rainy Day Fund\",\"Tennessee Rainy Day Fund\",\"Tennessee Rainy Day Fund\"],\"shape\":[24],\"dtype\":\"object\",\"order\":\"little\"}]]}}},\"view\":{\"type\":\"object\",\"name\":\"CDSView\",\"id\":\"p1049\",\"attributes\":{\"filter\":{\"type\":\"object\",\"name\":\"AllIndices\",\"id\":\"p1050\"}}},\"glyph\":{\"type\":\"object\",\"name\":\"Line\",\"id\":\"p1045\",\"attributes\":{\"x\":{\"type\":\"field\",\"field\":\"year\"},\"y\":{\"type\":\"field\",\"field\":\"percent\"},\"line_color\":\"#3477A5\",\"line_alpha\":0.7,\"line_width\":4}},\"nonselection_glyph\":{\"type\":\"object\",\"name\":\"Line\",\"id\":\"p1046\",\"attributes\":{\"x\":{\"type\":\"field\",\"field\":\"year\"},\"y\":{\"type\":\"field\",\"field\":\"percent\"},\"line_color\":\"#3477A5\",\"line_alpha\":0.1,\"line_width\":4}},\"muted_glyph\":{\"type\":\"object\",\"name\":\"Line\",\"id\":\"p1047\",\"attributes\":{\"x\":{\"type\":\"field\",\"field\":\"year\"},\"y\":{\"type\":\"field\",\"field\":\"percent\"},\"line_color\":\"#3477A5\",\"line_alpha\":0.2,\"line_width\":4}}}},{\"type\":\"object\",\"name\":\"GlyphRenderer\",\"id\":\"p1057\",\"attributes\":{\"data_source\":{\"id\":\"p1001\"},\"view\":{\"type\":\"object\",\"name\":\"CDSView\",\"id\":\"p1058\",\"attributes\":{\"filter\":{\"type\":\"object\",\"name\":\"AllIndices\",\"id\":\"p1059\"}}},\"glyph\":{\"type\":\"object\",\"name\":\"Scatter\",\"id\":\"p1054\",\"attributes\":{\"x\":{\"type\":\"field\",\"field\":\"year\"},\"y\":{\"type\":\"field\",\"field\":\"percent\"},\"size\":{\"type\":\"value\",\"value\":10},\"line_alpha\":{\"type\":\"value\",\"value\":0.7},\"fill_color\":{\"type\":\"value\",\"value\":\"#3477A5\"},\"fill_alpha\":{\"type\":\"value\",\"value\":0.7}}},\"nonselection_glyph\":{\"type\":\"object\",\"name\":\"Scatter\",\"id\":\"p1055\",\"attributes\":{\"x\":{\"type\":\"field\",\"field\":\"year\"},\"y\":{\"type\":\"field\",\"field\":\"percent\"},\"size\":{\"type\":\"value\",\"value\":10},\"line_alpha\":{\"type\":\"value\",\"value\":0.1},\"fill_color\":{\"type\":\"value\",\"value\":\"#3477A5\"},\"fill_alpha\":{\"type\":\"value\",\"value\":0.1},\"hatch_alpha\":{\"type\":\"value\",\"value\":0.1}}},\"muted_glyph\":{\"type\":\"object\",\"name\":\"Scatter\",\"id\":\"p1056\",\"attributes\":{\"x\":{\"type\":\"field\",\"field\":\"year\"},\"y\":{\"type\":\"field\",\"field\":\"percent\"},\"size\":{\"type\":\"value\",\"value\":10},\"line_alpha\":{\"type\":\"value\",\"value\":0.2},\"fill_color\":{\"type\":\"value\",\"value\":\"#3477A5\"},\"fill_alpha\":{\"type\":\"value\",\"value\":0.2},\"hatch_alpha\":{\"type\":\"value\",\"value\":0.2}}}}},{\"type\":\"object\",\"name\":\"GlyphRenderer\",\"id\":\"p1068\",\"attributes\":{\"data_source\":{\"type\":\"object\",\"name\":\"ColumnDataSource\",\"id\":\"p1004\",\"attributes\":{\"selected\":{\"type\":\"object\",\"name\":\"Selection\",\"id\":\"p1005\",\"attributes\":{\"indices\":[],\"line_indices\":[]}},\"selection_policy\":{\"type\":\"object\",\"name\":\"UnionRenderers\",\"id\":\"p1006\"},\"data\":{\"type\":\"map\",\"entries\":[[\"index\",{\"type\":\"ndarray\",\"array\":{\"type\":\"bytes\",\"data\":\"AAAAAAEAAAACAAAAAwAAAAQAAAAFAAAABgAAAAcAAAAIAAAACQAAAAoAAAALAAAADAAAAA0AAAAOAAAADwAAABAAAAARAAAAEgAAABMAAAAUAAAAFQAAABYAAAAXAAAA\"},\"shape\":[24],\"dtype\":\"int32\",\"order\":\"little\"}],[\"year\",{\"type\":\"ndarray\",\"array\":[\"2000\",\"2001\",\"2002\",\"2003\",\"2004\",\"2005\",\"2006\",\"2007\",\"2008\",\"2009\",\"2010\",\"2011\",\"2012\",\"2013\",\"2014\",\"2015\",\"2016\",\"2017\",\"2018\",\"2019\",\"2020\",\"2021\",\"2022\",\"2023\"],\"shape\":[24],\"dtype\":\"object\",\"order\":\"little\"}],[\"fraction\",{\"type\":\"ndarray\",\"array\":{\"type\":\"bytes\",\"data\":\"10uEaa4hpT/XvrrwA6CnPyir5r479JA/t6mw7t6SfT9qyMsic+KSP0eUYsNEMJk/tHxH8xBQpz+gh7rhZEOoP64tjtGtwKg/7eUIDfrvmz9XIZcKwMaQPzrYc7yCCJI/uH5bvD11mT9cOi6QojeiP5bJKUCAKqc/FAEoaocuqT936Qka0FarPy4WlXv5vaw/BiqmfR/DsD/EcXtmyEy0P4wCbEwLm7U/Er9TRKlWuj8vq8c0P2a9P04uxRT2IcA/\"},\"shape\":[24],\"dtype\":\"float64\",\"order\":\"little\"}],[\"percent\",{\"type\":\"ndarray\",\"array\":{\"type\":\"bytes\",\"data\":\"QFtvQlCCEEAY5REUA3USQG5rSFqdffo/lwR6Kr4a5z8maV7m04H9P9cDpbi1rQNAbdkPPo02EkD1uVnQpvQSQLATt8uHVhNAofMuWnvTBUAYJIwQjDb6P9sBdUZMLfw/AHsnO5jjA0AwO0gB7nYMQH2lIDI0GRJA2EDvylmsE0BlvleU0lsVQFR5jOhqdBZAqaFTNOEwGkDC4SAg+bcfQP1htNMg4SBARm1hPbSTJEC9/Tth4fcmQFoYdIAQNSlA\"},\"shape\":[24],\"dtype\":\"float64\",\"order\":\"little\"}],[\"series\",{\"type\":\"ndarray\",\"array\":[\"50-state median Rainy Day Fund\",\"50-state median Rainy Day Fund\",\"50-state median Rainy Day Fund\",\"50-state median Rainy Day Fund\",\"50-state median Rainy Day Fund\",\"50-state median Rainy Day Fund\",\"50-state median Rainy Day Fund\",\"50-state median Rainy Day Fund\",\"50-state median Rainy Day Fund\",\"50-state median Rainy Day Fund\",\"50-state median Rainy Day Fund\",\"50-state median Rainy Day Fund\",\"50-state median Rainy Day Fund\",\"50-state median Rainy Day Fund\",\"50-state median Rainy Day Fund\",\"50-state median Rainy Day Fund\",\"50-state median Rainy Day Fund\",\"50-state median Rainy Day Fund\",\"50-state median Rainy Day Fund\",\"50-state median Rainy Day Fund\",\"50-state median Rainy Day Fund\",\"50-state median Rainy Day Fund\",\"50-state median Rainy Day Fund\",\"50-state median Rainy Day Fund\"],\"shape\":[24],\"dtype\":\"object\",\"order\":\"little\"}]]}}},\"view\":{\"type\":\"object\",\"name\":\"CDSView\",\"id\":\"p1069\",\"attributes\":{\"filter\":{\"type\":\"object\",\"name\":\"AllIndices\",\"id\":\"p1070\"}}},\"glyph\":{\"type\":\"object\",\"name\":\"Line\",\"id\":\"p1065\",\"attributes\":{\"x\":{\"type\":\"field\",\"field\":\"year\"},\"y\":{\"type\":\"field\",\"field\":\"percent\"},\"line_color\":\"#D5AB53\",\"line_alpha\":0.7,\"line_width\":4}},\"nonselection_glyph\":{\"type\":\"object\",\"name\":\"Line\",\"id\":\"p1066\",\"attributes\":{\"x\":{\"type\":\"field\",\"field\":\"year\"},\"y\":{\"type\":\"field\",\"field\":\"percent\"},\"line_color\":\"#D5AB53\",\"line_alpha\":0.1,\"line_width\":4}},\"muted_glyph\":{\"type\":\"object\",\"name\":\"Line\",\"id\":\"p1067\",\"attributes\":{\"x\":{\"type\":\"field\",\"field\":\"year\"},\"y\":{\"type\":\"field\",\"field\":\"percent\"},\"line_color\":\"#D5AB53\",\"line_alpha\":0.2,\"line_width\":4}}}},{\"type\":\"object\",\"name\":\"GlyphRenderer\",\"id\":\"p1077\",\"attributes\":{\"data_source\":{\"id\":\"p1004\"},\"view\":{\"type\":\"object\",\"name\":\"CDSView\",\"id\":\"p1078\",\"attributes\":{\"filter\":{\"type\":\"object\",\"name\":\"AllIndices\",\"id\":\"p1079\"}}},\"glyph\":{\"type\":\"object\",\"name\":\"Scatter\",\"id\":\"p1074\",\"attributes\":{\"x\":{\"type\":\"field\",\"field\":\"year\"},\"y\":{\"type\":\"field\",\"field\":\"percent\"},\"size\":{\"type\":\"value\",\"value\":10},\"line_alpha\":{\"type\":\"value\",\"value\":0.7},\"fill_color\":{\"type\":\"value\",\"value\":\"#D5AB53\"},\"fill_alpha\":{\"type\":\"value\",\"value\":0.7}}},\"nonselection_glyph\":{\"type\":\"object\",\"name\":\"Scatter\",\"id\":\"p1075\",\"attributes\":{\"x\":{\"type\":\"field\",\"field\":\"year\"},\"y\":{\"type\":\"field\",\"field\":\"percent\"},\"size\":{\"type\":\"value\",\"value\":10},\"line_alpha\":{\"type\":\"value\",\"value\":0.1},\"fill_color\":{\"type\":\"value\",\"value\":\"#D5AB53\"},\"fill_alpha\":{\"type\":\"value\",\"value\":0.1},\"hatch_alpha\":{\"type\":\"value\",\"value\":0.1}}},\"muted_glyph\":{\"type\":\"object\",\"name\":\"Scatter\",\"id\":\"p1076\",\"attributes\":{\"x\":{\"type\":\"field\",\"field\":\"year\"},\"y\":{\"type\":\"field\",\"field\":\"percent\"},\"size\":{\"type\":\"value\",\"value\":10},\"line_alpha\":{\"type\":\"value\",\"value\":0.2},\"fill_color\":{\"type\":\"value\",\"value\":\"#D5AB53\"},\"fill_alpha\":{\"type\":\"value\",\"value\":0.2},\"hatch_alpha\":{\"type\":\"value\",\"value\":0.2}}}}},{\"type\":\"object\",\"name\":\"GlyphRenderer\",\"id\":\"p1087\",\"attributes\":{\"data_source\":{\"type\":\"object\",\"name\":\"ColumnDataSource\",\"id\":\"p1007\",\"attributes\":{\"selected\":{\"type\":\"object\",\"name\":\"Selection\",\"id\":\"p1008\",\"attributes\":{\"indices\":[],\"line_indices\":[]}},\"selection_policy\":{\"type\":\"object\",\"name\":\"UnionRenderers\",\"id\":\"p1009\"},\"data\":{\"type\":\"map\",\"entries\":[[\"index\",{\"type\":\"ndarray\",\"array\":{\"type\":\"bytes\",\"data\":\"AAAAAAEAAAACAAAAAwAAAAQAAAAFAAAABgAAAAcAAAAIAAAACQAAAAoAAAALAAAADAAAAA0AAAAOAAAADwAAABAAAAARAAAAEgAAABMAAAAUAAAAFQAAABYAAAAXAAAA\"},\"shape\":[24],\"dtype\":\"int32\",\"order\":\"little\"}],[\"year\",{\"type\":\"ndarray\",\"array\":[\"2000\",\"2001\",\"2002\",\"2003\",\"2004\",\"2005\",\"2006\",\"2007\",\"2008\",\"2009\",\"2010\",\"2011\",\"2012\",\"2013\",\"2014\",\"2015\",\"2016\",\"2017\",\"2018\",\"2019\",\"2020\",\"2021\",\"2022\",\"2023\"],\"shape\":[24],\"dtype\":\"object\",\"order\":\"little\"}],[\"fraction\",{\"type\":\"ndarray\",\"array\":{\"type\":\"bytes\",\"data\":\"OqZ1O3DSoD/DnbfsO42eP3opODir0Zk/QOQyDKVTnz8ap1qNNN63P2D91ASsuLQ/uk1IwEExvj9lnZD+q0nEP70S9EPTnLk/fyiNCIlkrj9CY+cCSMSyP+VIrfmMgbY/1Ye4W33GuT8tE4DEKtK5P2pNK90Ht7E/ulbJzqZRvD/vRO6yqdHDP6nsZjQ9YcY/VdK+kAT1wT8CduSNHZXGP996/75N8Ms/OHC08atv2j+ekUTNHD3iPyJeHrQ27dQ/\"},\"shape\":[24],\"dtype\":\"float64\",\"order\":\"little\"}],[\"percent\",{\"type\":\"ndarray\",\"array\":{\"type\":\"bytes\",\"data\":\"u9PnXM9ICkBAc+/QVt4HQGfg68PNKwRAUsKH8Vh5CECM0m4OmaUiQPNlxmNGMCBAuXw4XnuWJ0Du9cG9HLMvQKSuFg2FAiRAo0euDou+F0AXi4mEsFIdQPNgDyM2lSFAHiqo7xEjJED7DoRpMSwkQPaok0n8rRtAwUuNUcofJkC1S5QnmfcuQORo8ND3ezFApSgqItcOLEAyfNoWf6QxQP6XN7280zVArPfUVD6nRECHI7sAfX9MQIu5t7xSWUBA\"},\"shape\":[24],\"dtype\":\"float64\",\"order\":\"little\"}],[\"series\",{\"type\":\"ndarray\",\"array\":[\"Tennessee total reserve balances\",\"Tennessee total reserve balances\",\"Tennessee total reserve balances\",\"Tennessee total reserve balances\",\"Tennessee total reserve balances\",\"Tennessee total reserve balances\",\"Tennessee total reserve balances\",\"Tennessee total reserve balances\",\"Tennessee total reserve balances\",\"Tennessee total reserve balances\",\"Tennessee total reserve balances\",\"Tennessee total reserve balances\",\"Tennessee total reserve balances\",\"Tennessee total reserve balances\",\"Tennessee total reserve balances\",\"Tennessee total reserve balances\",\"Tennessee total reserve balances\",\"Tennessee total reserve balances\",\"Tennessee total reserve balances\",\"Tennessee total reserve balances\",\"Tennessee total reserve balances\",\"Tennessee total reserve balances\",\"Tennessee total reserve balances\",\"Tennessee total reserve balances\"],\"shape\":[24],\"dtype\":\"object\",\"order\":\"little\"}]]}}},\"view\":{\"type\":\"object\",\"name\":\"CDSView\",\"id\":\"p1088\",\"attributes\":{\"filter\":{\"type\":\"object\",\"name\":\"AllIndices\",\"id\":\"p1089\"}}},\"glyph\":{\"type\":\"object\",\"name\":\"Line\",\"id\":\"p1084\",\"attributes\":{\"x\":{\"type\":\"field\",\"field\":\"year\"},\"y\":{\"type\":\"field\",\"field\":\"percent\"},\"line_color\":\"#3477A5\",\"line_alpha\":0.7,\"line_width\":4}},\"nonselection_glyph\":{\"type\":\"object\",\"name\":\"Line\",\"id\":\"p1085\",\"attributes\":{\"x\":{\"type\":\"field\",\"field\":\"year\"},\"y\":{\"type\":\"field\",\"field\":\"percent\"},\"line_color\":\"#3477A5\",\"line_alpha\":0.1,\"line_width\":4}},\"muted_glyph\":{\"type\":\"object\",\"name\":\"Line\",\"id\":\"p1086\",\"attributes\":{\"x\":{\"type\":\"field\",\"field\":\"year\"},\"y\":{\"type\":\"field\",\"field\":\"percent\"},\"line_color\":\"#3477A5\",\"line_alpha\":0.2,\"line_width\":4}}}},{\"type\":\"object\",\"name\":\"GlyphRenderer\",\"id\":\"p1096\",\"attributes\":{\"data_source\":{\"id\":\"p1007\"},\"view\":{\"type\":\"object\",\"name\":\"CDSView\",\"id\":\"p1097\",\"attributes\":{\"filter\":{\"type\":\"object\",\"name\":\"AllIndices\",\"id\":\"p1098\"}}},\"glyph\":{\"type\":\"object\",\"name\":\"Scatter\",\"id\":\"p1093\",\"attributes\":{\"x\":{\"type\":\"field\",\"field\":\"year\"},\"y\":{\"type\":\"field\",\"field\":\"percent\"},\"size\":{\"type\":\"value\",\"value\":10},\"line_alpha\":{\"type\":\"value\",\"value\":0.7},\"fill_color\":{\"type\":\"value\",\"value\":\"#3477A5\"},\"fill_alpha\":{\"type\":\"value\",\"value\":0.7},\"marker\":{\"type\":\"value\",\"value\":\"square\"}}},\"nonselection_glyph\":{\"type\":\"object\",\"name\":\"Scatter\",\"id\":\"p1094\",\"attributes\":{\"x\":{\"type\":\"field\",\"field\":\"year\"},\"y\":{\"type\":\"field\",\"field\":\"percent\"},\"size\":{\"type\":\"value\",\"value\":10},\"line_alpha\":{\"type\":\"value\",\"value\":0.1},\"fill_color\":{\"type\":\"value\",\"value\":\"#3477A5\"},\"fill_alpha\":{\"type\":\"value\",\"value\":0.1},\"hatch_alpha\":{\"type\":\"value\",\"value\":0.1},\"marker\":{\"type\":\"value\",\"value\":\"square\"}}},\"muted_glyph\":{\"type\":\"object\",\"name\":\"Scatter\",\"id\":\"p1095\",\"attributes\":{\"x\":{\"type\":\"field\",\"field\":\"year\"},\"y\":{\"type\":\"field\",\"field\":\"percent\"},\"size\":{\"type\":\"value\",\"value\":10},\"line_alpha\":{\"type\":\"value\",\"value\":0.2},\"fill_color\":{\"type\":\"value\",\"value\":\"#3477A5\"},\"fill_alpha\":{\"type\":\"value\",\"value\":0.2},\"hatch_alpha\":{\"type\":\"value\",\"value\":0.2},\"marker\":{\"type\":\"value\",\"value\":\"square\"}}}}},{\"type\":\"object\",\"name\":\"GlyphRenderer\",\"id\":\"p1106\",\"attributes\":{\"data_source\":{\"type\":\"object\",\"name\":\"ColumnDataSource\",\"id\":\"p1010\",\"attributes\":{\"selected\":{\"type\":\"object\",\"name\":\"Selection\",\"id\":\"p1011\",\"attributes\":{\"indices\":[],\"line_indices\":[]}},\"selection_policy\":{\"type\":\"object\",\"name\":\"UnionRenderers\",\"id\":\"p1012\"},\"data\":{\"type\":\"map\",\"entries\":[[\"index\",{\"type\":\"ndarray\",\"array\":{\"type\":\"bytes\",\"data\":\"AAAAAAEAAAACAAAAAwAAAAQAAAAFAAAABgAAAAcAAAAIAAAACQAAAAoAAAALAAAADAAAAA0AAAAOAAAADwAAABAAAAARAAAAEgAAABMAAAAUAAAAFQAAABYAAAAXAAAA\"},\"shape\":[24],\"dtype\":\"int32\",\"order\":\"little\"}],[\"year\",{\"type\":\"ndarray\",\"array\":[\"2000\",\"2001\",\"2002\",\"2003\",\"2004\",\"2005\",\"2006\",\"2007\",\"2008\",\"2009\",\"2010\",\"2011\",\"2012\",\"2013\",\"2014\",\"2015\",\"2016\",\"2017\",\"2018\",\"2019\",\"2020\",\"2021\",\"2022\",\"2023\"],\"shape\":[24],\"dtype\":\"object\",\"order\":\"little\"}],[\"fraction\",{\"type\":\"ndarray\",\"array\":{\"type\":\"bytes\",\"data\":\"MCdYBTpxtj+0jEdCuEyyP1D/+M7nkJ0/ZMNMZhkzmz+jekin49yqPwjsmbMqFbc/ZLyqYks2vj9AHry4w/+8P/Rc3RRfOrU/xp/qVcJ2pz+kutk85/qmP3zMyd6YTbA/KCqy0kc+tD/5aiXQQX25P/RdHuluq7I/aHbciR2Qtz/GNplI7u64P5FBnnnESbU/RXxyw9IDvj+03bosfOnBP90f8xthRcA/9d0iwfpb0T+8dcy990jZP8oA6L8TytM/\"},\"shape\":[24],\"dtype\":\"float64\",\"order\":\"little\"}],[\"percent\",{\"type\":\"ndarray\",\"array\":{\"type\":\"bytes\",\"data\":\"nt4sVHWIIUDZy4/n35ccQHaHshk1GQdApvjr1+s/BUDPn7DakfwUQGZAUFyJCCJALmMV5WqaJ0Ci91Lo0KcmQJ/wTEialSBA00wf08dUEkDQGYqnBPQRQIJPG9w+eRlA3mE2OVChH0CTO51q2+kjQM1yP0zdKx1AgTy0E5doIkDLsrcoqnojQDmjA3+hoSBAFnGxqPxyJ0Bp+uMF0vwrQMnhq7tnbClAz3rGzbcfO0D7u0eMAcFDQDyB2tu+6z5A\"},\"shape\":[24],\"dtype\":\"float64\",\"order\":\"little\"}],[\"series\",{\"type\":\"ndarray\",\"array\":[\"50-state median total reserve balances\",\"50-state median total reserve balances\",\"50-state median total reserve balances\",\"50-state median total reserve balances\",\"50-state median total reserve balances\",\"50-state median total reserve balances\",\"50-state median total reserve balances\",\"50-state median total reserve balances\",\"50-state median total reserve balances\",\"50-state median total reserve balances\",\"50-state median total reserve balances\",\"50-state median total reserve balances\",\"50-state median total reserve balances\",\"50-state median total reserve balances\",\"50-state median total reserve balances\",\"50-state median total reserve balances\",\"50-state median total reserve balances\",\"50-state median total reserve balances\",\"50-state median total reserve balances\",\"50-state median total reserve balances\",\"50-state median total reserve balances\",\"50-state median total reserve balances\",\"50-state median total reserve balances\",\"50-state median total reserve balances\"],\"shape\":[24],\"dtype\":\"object\",\"order\":\"little\"}]]}}},\"view\":{\"type\":\"object\",\"name\":\"CDSView\",\"id\":\"p1107\",\"attributes\":{\"filter\":{\"type\":\"object\",\"name\":\"AllIndices\",\"id\":\"p1108\"}}},\"glyph\":{\"type\":\"object\",\"name\":\"Line\",\"id\":\"p1103\",\"attributes\":{\"x\":{\"type\":\"field\",\"field\":\"year\"},\"y\":{\"type\":\"field\",\"field\":\"percent\"},\"line_color\":\"#D5AB53\",\"line_alpha\":0.7,\"line_width\":4}},\"nonselection_glyph\":{\"type\":\"object\",\"name\":\"Line\",\"id\":\"p1104\",\"attributes\":{\"x\":{\"type\":\"field\",\"field\":\"year\"},\"y\":{\"type\":\"field\",\"field\":\"percent\"},\"line_color\":\"#D5AB53\",\"line_alpha\":0.1,\"line_width\":4}},\"muted_glyph\":{\"type\":\"object\",\"name\":\"Line\",\"id\":\"p1105\",\"attributes\":{\"x\":{\"type\":\"field\",\"field\":\"year\"},\"y\":{\"type\":\"field\",\"field\":\"percent\"},\"line_color\":\"#D5AB53\",\"line_alpha\":0.2,\"line_width\":4}}}},{\"type\":\"object\",\"name\":\"GlyphRenderer\",\"id\":\"p1115\",\"attributes\":{\"data_source\":{\"id\":\"p1010\"},\"view\":{\"type\":\"object\",\"name\":\"CDSView\",\"id\":\"p1116\",\"attributes\":{\"filter\":{\"type\":\"object\",\"name\":\"AllIndices\",\"id\":\"p1117\"}}},\"glyph\":{\"type\":\"object\",\"name\":\"Scatter\",\"id\":\"p1112\",\"attributes\":{\"x\":{\"type\":\"field\",\"field\":\"year\"},\"y\":{\"type\":\"field\",\"field\":\"percent\"},\"size\":{\"type\":\"value\",\"value\":10},\"line_alpha\":{\"type\":\"value\",\"value\":0.7},\"fill_color\":{\"type\":\"value\",\"value\":\"#D5AB53\"},\"fill_alpha\":{\"type\":\"value\",\"value\":0.7},\"marker\":{\"type\":\"value\",\"value\":\"square\"}}},\"nonselection_glyph\":{\"type\":\"object\",\"name\":\"Scatter\",\"id\":\"p1113\",\"attributes\":{\"x\":{\"type\":\"field\",\"field\":\"year\"},\"y\":{\"type\":\"field\",\"field\":\"percent\"},\"size\":{\"type\":\"value\",\"value\":10},\"line_alpha\":{\"type\":\"value\",\"value\":0.1},\"fill_color\":{\"type\":\"value\",\"value\":\"#D5AB53\"},\"fill_alpha\":{\"type\":\"value\",\"value\":0.1},\"hatch_alpha\":{\"type\":\"value\",\"value\":0.1},\"marker\":{\"type\":\"value\",\"value\":\"square\"}}},\"muted_glyph\":{\"type\":\"object\",\"name\":\"Scatter\",\"id\":\"p1114\",\"attributes\":{\"x\":{\"type\":\"field\",\"field\":\"year\"},\"y\":{\"type\":\"field\",\"field\":\"percent\"},\"size\":{\"type\":\"value\",\"value\":10},\"line_alpha\":{\"type\":\"value\",\"value\":0.2},\"fill_color\":{\"type\":\"value\",\"value\":\"#D5AB53\"},\"fill_alpha\":{\"type\":\"value\",\"value\":0.2},\"hatch_alpha\":{\"type\":\"value\",\"value\":0.2},\"marker\":{\"type\":\"value\",\"value\":\"square\"}}}}},{\"type\":\"object\",\"name\":\"GlyphRenderer\",\"id\":\"p1125\",\"attributes\":{\"data_source\":{\"type\":\"object\",\"name\":\"ColumnDataSource\",\"id\":\"p1119\",\"attributes\":{\"selected\":{\"type\":\"object\",\"name\":\"Selection\",\"id\":\"p1120\",\"attributes\":{\"indices\":[],\"line_indices\":[]}},\"selection_policy\":{\"type\":\"object\",\"name\":\"UnionRenderers\",\"id\":\"p1121\"},\"data\":{\"type\":\"map\"}}},\"view\":{\"type\":\"object\",\"name\":\"CDSView\",\"id\":\"p1126\",\"attributes\":{\"filter\":{\"type\":\"object\",\"name\":\"AllIndices\",\"id\":\"p1127\"}}},\"glyph\":{\"type\":\"object\",\"name\":\"Segment\",\"id\":\"p1122\",\"attributes\":{\"x0\":{\"type\":\"value\",\"value\":2022.4},\"y0\":{\"type\":\"value\",\"value\":-2.091684882601296},\"x1\":{\"type\":\"value\",\"value\":2022.4},\"y1\":{\"type\":\"value\",\"value\":59.80970167331416},\"line_color\":{\"type\":\"value\",\"value\":\"#434244\"},\"line_width\":{\"type\":\"value\",\"value\":2},\"line_dash\":{\"type\":\"value\",\"value\":\"6 2\"}}},\"nonselection_glyph\":{\"type\":\"object\",\"name\":\"Segment\",\"id\":\"p1123\",\"attributes\":{\"x0\":{\"type\":\"value\",\"value\":2022.4},\"y0\":{\"type\":\"value\",\"value\":-2.091684882601296},\"x1\":{\"type\":\"value\",\"value\":2022.4},\"y1\":{\"type\":\"value\",\"value\":59.80970167331416},\"line_color\":{\"type\":\"value\",\"value\":\"#434244\"},\"line_alpha\":{\"type\":\"value\",\"value\":0.1},\"line_width\":{\"type\":\"value\",\"value\":2},\"line_dash\":{\"type\":\"value\",\"value\":\"6 2\"}}},\"muted_glyph\":{\"type\":\"object\",\"name\":\"Segment\",\"id\":\"p1124\",\"attributes\":{\"x0\":{\"type\":\"value\",\"value\":2022.4},\"y0\":{\"type\":\"value\",\"value\":-2.091684882601296},\"x1\":{\"type\":\"value\",\"value\":2022.4},\"y1\":{\"type\":\"value\",\"value\":59.80970167331416},\"line_color\":{\"type\":\"value\",\"value\":\"#434244\"},\"line_alpha\":{\"type\":\"value\",\"value\":0.2},\"line_width\":{\"type\":\"value\",\"value\":2},\"line_dash\":{\"type\":\"value\",\"value\":\"6 2\"}}}}}],\"toolbar\":{\"type\":\"object\",\"name\":\"Toolbar\",\"id\":\"p1021\",\"attributes\":{\"logo\":null,\"tools\":[{\"type\":\"object\",\"name\":\"SaveTool\",\"id\":\"p1036\"},{\"type\":\"object\",\"name\":\"HelpTool\",\"id\":\"p1037\"},{\"type\":\"object\",\"name\":\"HoverTool\",\"id\":\"p1133\",\"attributes\":{\"visible\":false,\"renderers\":\"auto\",\"tooltips\":[[\"Series:\",\"@series\"],[\"Year:\",\"@year\"],[\"Pct. of Gen. Fund Exps.:\",\"@percent{0.0%}\"]]}}],\"active_drag\":null,\"active_scroll\":null,\"active_tap\":null}},\"left\":[{\"type\":\"object\",\"name\":\"LinearAxis\",\"id\":\"p1031\",\"attributes\":{\"ticker\":{\"type\":\"object\",\"name\":\"SingleIntervalTicker\",\"id\":\"p1040\",\"attributes\":{\"interval\":10}},\"formatter\":{\"type\":\"object\",\"name\":\"BasicTickFormatter\",\"id\":\"p1033\"},\"axis_label\":\"Percent of general fund expenditures\",\"axis_label_text_font_size\":\"12pt\",\"major_label_policy\":{\"type\":\"object\",\"name\":\"AllLabels\",\"id\":\"p1034\"},\"major_label_text_color\":\"#434244\",\"major_label_text_font_size\":\"12pt\",\"axis_line_color\":\"#434244\",\"major_tick_line_color\":\"#434244\",\"minor_tick_line_color\":\"#434244\"}}],\"above\":[{\"type\":\"object\",\"name\":\"Title\",\"id\":\"p1129\",\"attributes\":{\"text\":\"of general fund expenditures: 2000-2023\",\"text_color\":\"#434244\",\"text_font_size\":\"15pt\",\"align\":\"center\"}},{\"type\":\"object\",\"name\":\"Title\",\"id\":\"p1130\",\"attributes\":{\"text\":\"Figure 4. Tennessee Rainy Day fund and total reserves as a percentage\",\"text_color\":\"#434244\",\"text_font_size\":\"15pt\",\"align\":\"center\"}}],\"below\":[{\"type\":\"object\",\"name\":\"LinearAxis\",\"id\":\"p1026\",\"attributes\":{\"ticker\":{\"type\":\"object\",\"name\":\"SingleIntervalTicker\",\"id\":\"p1038\",\"attributes\":{\"num_minor_ticks\":2,\"interval\":2}},\"formatter\":{\"type\":\"object\",\"name\":\"BasicTickFormatter\",\"id\":\"p1028\"},\"axis_label\":\"Year\",\"axis_label_text_font_size\":\"12pt\",\"major_label_policy\":{\"type\":\"object\",\"name\":\"AllLabels\",\"id\":\"p1029\"},\"major_label_text_color\":\"#434244\",\"major_label_text_font_size\":\"12pt\",\"axis_line_color\":\"#434244\",\"major_tick_line_color\":\"#434244\",\"minor_tick_line_color\":\"#434244\"}},{\"type\":\"object\",\"name\":\"Title\",\"id\":\"p1131\",\"attributes\":{\"text\":\"Source: Pew Charitable Trusts, \\\"Fiscal 50: State Trends and Analysis,\\\" Feb. 16, 2024,\",\"text_color\":\"#434244\",\"text_font_size\":\"11pt\",\"text_font_style\":\"italic\"}},{\"type\":\"object\",\"name\":\"Title\",\"id\":\"p1132\",\"attributes\":{\"text\":\"        accessed July 3, 2024.\",\"text_color\":\"#434244\",\"text_font_size\":\"11pt\",\"text_font_style\":\"italic\"}}],\"center\":[{\"type\":\"object\",\"name\":\"Grid\",\"id\":\"p1030\",\"attributes\":{\"axis\":{\"id\":\"p1026\"},\"ticker\":{\"type\":\"object\",\"name\":\"SingleIntervalTicker\",\"id\":\"p1039\",\"attributes\":{\"interval\":2}}}},{\"type\":\"object\",\"name\":\"Grid\",\"id\":\"p1035\",\"attributes\":{\"dimension\":1,\"axis\":{\"id\":\"p1031\"},\"ticker\":{\"type\":\"object\",\"name\":\"SingleIntervalTicker\",\"id\":\"p1041\",\"attributes\":{\"interval\":10}}}},{\"type\":\"object\",\"name\":\"Legend\",\"id\":\"p1060\",\"attributes\":{\"location\":\"top_center\",\"border_line_color\":\"#434244\",\"border_line_alpha\":1,\"label_text_color\":\"#434244\",\"label_text_font_size\":\"12pt\",\"items\":[{\"type\":\"object\",\"name\":\"LegendItem\",\"id\":\"p1061\",\"attributes\":{\"label\":{\"type\":\"value\",\"value\":\"Rainy day fund, Tennessee\"},\"renderers\":[{\"id\":\"p1057\"}]}},{\"type\":\"object\",\"name\":\"LegendItem\",\"id\":\"p1080\",\"attributes\":{\"label\":{\"type\":\"value\",\"value\":\"Rainy day fund, 50-state median\"},\"renderers\":[{\"id\":\"p1077\"}]}},{\"type\":\"object\",\"name\":\"LegendItem\",\"id\":\"p1099\",\"attributes\":{\"label\":{\"type\":\"value\",\"value\":\"Total balances, Tennessee\"},\"renderers\":[{\"id\":\"p1096\"}]}},{\"type\":\"object\",\"name\":\"LegendItem\",\"id\":\"p1118\",\"attributes\":{\"label\":{\"type\":\"value\",\"value\":\"Total balances, 50-state median\"},\"renderers\":[{\"id\":\"p1115\"}]}}]}},{\"type\":\"object\",\"name\":\"Label\",\"id\":\"p1128\",\"attributes\":{\"text\":\"Projected\",\"text_color\":\"#434244\",\"text_font_size\":\"9pt\",\"x\":2022.5,\"y\":17.0}}]}}]}};\n  const render_items = [{\"docid\":\"4a2108ff-b1dc-4c9a-8b80-85d444f2f2b5\",\"roots\":{\"p1013\":\"f0dacbed-0ee8-40d1-ae2b-c9621fc89569\"},\"root_ids\":[\"p1013\"]}];\n  void root.Bokeh.embed.embed_items_notebook(docs_json, render_items);\n  }\n  if (root.Bokeh !== undefined) {\n    embed_document(root);\n  } else {\n    let attempts = 0;\n    const timer = setInterval(function(root) {\n      if (root.Bokeh !== undefined) {\n        clearInterval(timer);\n        embed_document(root);\n      } else {\n        attempts++;\n        if (attempts > 100) {\n          clearInterval(timer);\n          console.log(\"Bokeh: ERROR: Unable to run BokehJS code because BokehJS library is missing\");\n        }\n      }\n    }, 10, root)\n  }\n})(window);",
      "application/vnd.bokehjs_exec.v0+json": ""
     },
     "metadata": {
      "application/vnd.bokehjs_exec.v0+json": {
       "id": "p1013"
      }
     },
     "output_type": "display_data"
    }
   ],
   "source": [
    "# Create Bokeh plot Fig 4: Tennessee Rainy Day fund and total reserves as a\n",
    "# percentage of general fund expenditures: 2000-2023\n",
    "fig4_title_lst = [\n",
    "    (\"Figure 4. Tennessee Rainy Day fund and total reserves as a percentage\"),\n",
    "    (\"of general fund expenditures: 2000-2023\"),\n",
    "]\n",
    "# fig4_title_lst = []\n",
    "fig4_title_short = \"Figure 4. TN Rainy Day fund and total reserves\"\n",
    "filename_fig4 = \"fig4_tn_raintotbal_tseries.html\"\n",
    "output_file(\n",
    "    os.path.join(image_dir, filename_fig4),\n",
    "    title=fig4_title_short,\n",
    "    mode=\"inline\",\n",
    ")\n",
    "output_notebook()\n",
    "\n",
    "# Format the tooltip\n",
    "tooltips_fig4 = [\n",
    "    (\"Series:\", \"@series\"),\n",
    "    (\"Year:\", \"@year\"),\n",
    "    (\"Pct. of Gen. Fund Exps.:\", \"@percent{0.0%}\")\n",
    "]\n",
    "\n",
    "min_year = 2000\n",
    "max_year = 2023\n",
    "min_pct = 2.0\n",
    "max_pct = 0.0\n",
    "pct_buffer = 0.05\n",
    "fig4_height = 500\n",
    "fig4_width = 800\n",
    "\n",
    "var_list = [rain_pct_tn_df, rain_pct_50_df, totbal_pct_tn_df, totbal_pct_50_df]\n",
    "color_list = [\"#3477A5\", \"#D5AB53\", \"#3477A5\", \"#D5AB53\"]\n",
    "marker_list = [\"circle\", \"circle\", \"square\", \"square\"]\n",
    "legend_label_list = [\n",
    "    \"Rainy day fund, Tennessee\",\n",
    "    \"Rainy day fund, 50-state median\",\n",
    "    \"Total balances, Tennessee\",\n",
    "    \"Total balances, 50-state median\"\n",
    "]\n",
    "cds_list = []\n",
    "\n",
    "for k, df in enumerate(var_list):\n",
    "    min_pct = np.minimum(min_pct, df[\"percent\"].min())\n",
    "    max_pct = np.maximum(max_pct, df[\"percent\"].max())\n",
    "    cds_list.append(ColumnDataSource(df))\n",
    "\n",
    "fig4 = figure(\n",
    "    height=fig4_height,\n",
    "    width=fig4_width,\n",
    "    x_axis_label='Year',\n",
    "    x_range=(min_year - 1, max_year + 1.6),\n",
    "    y_axis_label='Percent of general fund expenditures',\n",
    "    y_range=(min_pct - pct_buffer * (max_pct - min_pct),\n",
    "             max_pct + pct_buffer * (max_pct - min_pct)),\n",
    "    tools=[\"save\", \"help\"],\n",
    "    toolbar_location=\"right\"\n",
    ")\n",
    "fig4.toolbar.logo = None\n",
    "\n",
    "# Turn off any pan, drag, or scrolling ability\n",
    "fig4.toolbar.active_drag = None\n",
    "fig4.toolbar.active_scroll = None\n",
    "fig4.toolbar.active_tap = None\n",
    "\n",
    "# Set title font size and axes font sizes\n",
    "fig4.xaxis.axis_label_text_font_size = '12pt'\n",
    "fig4.xaxis.major_label_text_font_size = '12pt'\n",
    "fig4.xaxis.major_label_text_color = '#434244'\n",
    "fig4.yaxis.axis_label_text_font_size = '12pt'\n",
    "fig4.yaxis.major_label_text_font_size = '12pt'\n",
    "fig4.yaxis.major_label_text_color = '#434244'\n",
    "\n",
    "# Modify tick intervals for X-axis and Y-axis\n",
    "fig4.xaxis.ticker = SingleIntervalTicker(interval=2, num_minor_ticks=2)\n",
    "fig4.xaxis.axis_line_color = '#434244'\n",
    "fig4.xaxis.major_tick_line_color = '#434244'\n",
    "fig4.xaxis.minor_tick_line_color = '#434244'\n",
    "fig4.xgrid.ticker = SingleIntervalTicker(interval=2)\n",
    "fig4.yaxis.ticker = SingleIntervalTicker(interval=10, num_minor_ticks=5)\n",
    "fig4.yaxis.axis_line_color = '#434244'\n",
    "fig4.yaxis.major_tick_line_color = '#434244'\n",
    "fig4.yaxis.minor_tick_line_color = '#434244'\n",
    "fig4.ygrid.ticker = SingleIntervalTicker(interval=10)\n",
    "\n",
    "# Create lines and markers for time series\n",
    "for k, yvar in enumerate(var_list):\n",
    "    fig4.line(x='year', y='percent', source=cds_list[k], color=color_list[k],\n",
    "              line_width=4, alpha=0.7)\n",
    "    fig4.scatter(x='year', y='percent', source=cds_list[k], size=10,\n",
    "                 line_width=1, line_color='black', fill_color=color_list[k],\n",
    "                 marker=marker_list[k], line_alpha=0.7, fill_alpha=0.7,\n",
    "                 legend_label=legend_label_list[k])\n",
    "\n",
    "fig4.segment(x0=2022.4, y0=min_pct - pct_buffer * (max_pct - min_pct),\n",
    "             x1=2022.4, y1=max_pct + pct_buffer * (max_pct - min_pct),\n",
    "             color='#434244', line_dash='6 2', line_width=2)\n",
    "\n",
    "label_temp = Label(\n",
    "    x=2022.5, y=17.0, x_units='data', y_units='data', text='Projected',\n",
    "    text_font_size='9pt', text_color='#434244'\n",
    ")\n",
    "fig4.add_layout(label_temp)\n",
    "\n",
    "# Add legend\n",
    "fig4.legend.location = 'top_center'\n",
    "fig4.legend.border_line_width = 1\n",
    "fig4.legend.border_line_color = '#434244'\n",
    "fig4.legend.border_line_alpha = 1\n",
    "fig4.legend.label_text_font_size = '12pt'\n",
    "fig4.legend.label_text_color = '#434244'\n",
    "\n",
    "# Add title and subtitle to the plot doing reverse loop through items in\n",
    "# fig_title_lst\n",
    "for title_line_str in fig4_title_lst[::-1]:\n",
    "    fig4.add_layout(\n",
    "        Title(\n",
    "            text=title_line_str,\n",
    "            text_font_style=\"bold\",\n",
    "            text_color='#434244',\n",
    "            text_font_size=\"15pt\",\n",
    "            align=\"center\",\n",
    "        ),\n",
    "        \"above\",\n",
    "    )\n",
    "\n",
    "# Add notes below image\n",
    "note_text_list4 = [\n",
    "    (\n",
    "        'Source: Pew Charitable Trusts, \"Fiscal 50: State Trends and '+\n",
    "        'Analysis,\" Feb. 16, 2024,'\n",
    "    ),\n",
    "    ('        accessed July 3, 2024.')\n",
    "]\n",
    "for note_text in note_text_list4:\n",
    "    caption = Title(\n",
    "        text=note_text, align='left', text_font_size='11pt',\n",
    "        text_font_style='italic',\n",
    "        text_color='#434244',\n",
    "        # text_font='Open Sans'\n",
    "    )\n",
    "    fig4.add_layout(caption, 'below')\n",
    "\n",
    "# Add the HoverTool to the figure\n",
    "fig4.add_tools(\n",
    "    HoverTool(\n",
    "        tooltips=tooltips_fig4,\n",
    "        visible=False\n",
    "    )\n",
    ")\n",
    "\n",
    "show(fig4)"
   ]
  },
  {
   "cell_type": "markdown",
   "metadata": {},
   "source": [
    "### 1.2. Figure 5. Estimated 2023 Rainy Day Fund Balances and Total Reserves and Balances as Percentages of General-Fund Expenditures"
   ]
  },
  {
   "cell_type": "code",
   "execution_count": 7,
   "metadata": {},
   "outputs": [
    {
     "name": "stderr",
     "output_type": "stream",
     "text": [
      "/var/folders/d4/trj3dssd6s3g8kxvjmczz11w0000gn/T/ipykernel_51481/750146888.py:33: FutureWarning: ChainedAssignmentError: behaviour will change in pandas 3.0!\n",
      "You are setting values through chained assignment. Currently this works in certain cases, but when using Copy-on-Write (which will become the default behaviour in pandas 3.0) this will never work to update the original DataFrame or Series, because the intermediate object on which we are setting values will behave as a copy.\n",
      "A typical example is when you are setting values in a column of a DataFrame, like:\n",
      "\n",
      "df[\"col\"][row_indexer] = value\n",
      "\n",
      "Use `df.loc[row_indexer, \"col\"] = values` instead, to perform the assignment in a single step and ensure this keeps updating the original `df`.\n",
      "\n",
      "See the caveats in the documentation: https://pandas.pydata.org/pandas-docs/stable/user_guide/indexing.html#returning-a-view-versus-a-copy\n",
      "\n",
      "  rain_totbal_pct_dol_2023_df[\"rain_color\"][\n",
      "/var/folders/d4/trj3dssd6s3g8kxvjmczz11w0000gn/T/ipykernel_51481/750146888.py:33: SettingWithCopyWarning: \n",
      "A value is trying to be set on a copy of a slice from a DataFrame\n",
      "\n",
      "See the caveats in the documentation: https://pandas.pydata.org/pandas-docs/stable/user_guide/indexing.html#returning-a-view-versus-a-copy\n",
      "  rain_totbal_pct_dol_2023_df[\"rain_color\"][\n",
      "/var/folders/d4/trj3dssd6s3g8kxvjmczz11w0000gn/T/ipykernel_51481/750146888.py:43: FutureWarning: ChainedAssignmentError: behaviour will change in pandas 3.0!\n",
      "You are setting values through chained assignment. Currently this works in certain cases, but when using Copy-on-Write (which will become the default behaviour in pandas 3.0) this will never work to update the original DataFrame or Series, because the intermediate object on which we are setting values will behave as a copy.\n",
      "A typical example is when you are setting values in a column of a DataFrame, like:\n",
      "\n",
      "df[\"col\"][row_indexer] = value\n",
      "\n",
      "Use `df.loc[row_indexer, \"col\"] = values` instead, to perform the assignment in a single step and ensure this keeps updating the original `df`.\n",
      "\n",
      "See the caveats in the documentation: https://pandas.pydata.org/pandas-docs/stable/user_guide/indexing.html#returning-a-view-versus-a-copy\n",
      "\n",
      "  rain_totbal_pct_dol_2023_df[\"totbal_color\"][\n",
      "/var/folders/d4/trj3dssd6s3g8kxvjmczz11w0000gn/T/ipykernel_51481/750146888.py:43: SettingWithCopyWarning: \n",
      "A value is trying to be set on a copy of a slice from a DataFrame\n",
      "\n",
      "See the caveats in the documentation: https://pandas.pydata.org/pandas-docs/stable/user_guide/indexing.html#returning-a-view-versus-a-copy\n",
      "  rain_totbal_pct_dol_2023_df[\"totbal_color\"][\n"
     ]
    },
    {
     "data": {
      "text/html": [
       "<div>\n",
       "<style scoped>\n",
       "    .dataframe tbody tr th:only-of-type {\n",
       "        vertical-align: middle;\n",
       "    }\n",
       "\n",
       "    .dataframe tbody tr th {\n",
       "        vertical-align: top;\n",
       "    }\n",
       "\n",
       "    .dataframe thead th {\n",
       "        text-align: right;\n",
       "    }\n",
       "</style>\n",
       "<table border=\"1\" class=\"dataframe\">\n",
       "  <thead>\n",
       "    <tr style=\"text-align: right;\">\n",
       "      <th></th>\n",
       "      <th>state</th>\n",
       "      <th>rain_pct</th>\n",
       "      <th>rain_dol</th>\n",
       "      <th>rain_color</th>\n",
       "      <th>totbal_pct</th>\n",
       "      <th>2023</th>\n",
       "      <th>totbal_color</th>\n",
       "      <th>totbal_rain_pct_dif</th>\n",
       "    </tr>\n",
       "  </thead>\n",
       "  <tbody>\n",
       "    <tr>\n",
       "      <th>12</th>\n",
       "      <td>Illinois</td>\n",
       "      <td>3.780102</td>\n",
       "      <td>1926.000000</td>\n",
       "      <td>#D5AB53</td>\n",
       "      <td>4.133383</td>\n",
       "      <td>2106.000000</td>\n",
       "      <td>#3477A5</td>\n",
       "      <td>3.532806e-01</td>\n",
       "    </tr>\n",
       "    <tr>\n",
       "      <th>23</th>\n",
       "      <td>Mississippi</td>\n",
       "      <td>9.202522</td>\n",
       "      <td>579.400000</td>\n",
       "      <td>#D5AB53</td>\n",
       "      <td>9.202522</td>\n",
       "      <td>579.400000</td>\n",
       "      <td>#3477A5</td>\n",
       "      <td>-1.243450e-14</td>\n",
       "    </tr>\n",
       "    <tr>\n",
       "      <th>40</th>\n",
       "      <td>South Dakota</td>\n",
       "      <td>9.660563</td>\n",
       "      <td>220.000000</td>\n",
       "      <td>#D5AB53</td>\n",
       "      <td>9.660563</td>\n",
       "      <td>220.000000</td>\n",
       "      <td>#3477A5</td>\n",
       "      <td>0.000000e+00</td>\n",
       "    </tr>\n",
       "    <tr>\n",
       "      <th>38</th>\n",
       "      <td>Rhode Island</td>\n",
       "      <td>5.446792</td>\n",
       "      <td>271.045069</td>\n",
       "      <td>#D5AB53</td>\n",
       "      <td>10.478118</td>\n",
       "      <td>521.415610</td>\n",
       "      <td>#3477A5</td>\n",
       "      <td>5.031326e+00</td>\n",
       "    </tr>\n",
       "    <tr>\n",
       "      <th>25</th>\n",
       "      <td>Montana</td>\n",
       "      <td>2.345598</td>\n",
       "      <td>118.000000</td>\n",
       "      <td>#D5AB53</td>\n",
       "      <td>12.296499</td>\n",
       "      <td>618.600000</td>\n",
       "      <td>#3477A5</td>\n",
       "      <td>9.950901e+00</td>\n",
       "    </tr>\n",
       "    <tr>\n",
       "      <th>46</th>\n",
       "      <td>Washington</td>\n",
       "      <td>2.070403</td>\n",
       "      <td>650.800000</td>\n",
       "      <td>#D5AB53</td>\n",
       "      <td>12.912975</td>\n",
       "      <td>4059.000000</td>\n",
       "      <td>#3477A5</td>\n",
       "      <td>1.084257e+01</td>\n",
       "    </tr>\n",
       "    <tr>\n",
       "      <th>5</th>\n",
       "      <td>Colorado</td>\n",
       "      <td>11.136886</td>\n",
       "      <td>1992.400000</td>\n",
       "      <td>#D5AB53</td>\n",
       "      <td>13.753417</td>\n",
       "      <td>2460.500000</td>\n",
       "      <td>#3477A5</td>\n",
       "      <td>2.616531e+00</td>\n",
       "    </tr>\n",
       "    <tr>\n",
       "      <th>6</th>\n",
       "      <td>Connecticut</td>\n",
       "      <td>15.317656</td>\n",
       "      <td>3343.400000</td>\n",
       "      <td>#D5AB53</td>\n",
       "      <td>15.317656</td>\n",
       "      <td>3343.400000</td>\n",
       "      <td>#3477A5</td>\n",
       "      <td>0.000000e+00</td>\n",
       "    </tr>\n",
       "    <tr>\n",
       "      <th>28</th>\n",
       "      <td>New Hampshire</td>\n",
       "      <td>15.691243</td>\n",
       "      <td>253.900000</td>\n",
       "      <td>#D5AB53</td>\n",
       "      <td>15.691243</td>\n",
       "      <td>253.900000</td>\n",
       "      <td>#3477A5</td>\n",
       "      <td>0.000000e+00</td>\n",
       "    </tr>\n",
       "    <tr>\n",
       "      <th>45</th>\n",
       "      <td>Virginia</td>\n",
       "      <td>11.975850</td>\n",
       "      <td>3801.398350</td>\n",
       "      <td>#D5AB53</td>\n",
       "      <td>16.542641</td>\n",
       "      <td>5250.998350</td>\n",
       "      <td>#3477A5</td>\n",
       "      <td>4.566791e+00</td>\n",
       "    </tr>\n",
       "    <tr>\n",
       "      <th>29</th>\n",
       "      <td>New Jersey</td>\n",
       "      <td>2.970857</td>\n",
       "      <td>1603.300000</td>\n",
       "      <td>#D5AB53</td>\n",
       "      <td>17.651887</td>\n",
       "      <td>9526.300000</td>\n",
       "      <td>#3477A5</td>\n",
       "      <td>1.468103e+01</td>\n",
       "    </tr>\n",
       "    <tr>\n",
       "      <th>19</th>\n",
       "      <td>Maryland</td>\n",
       "      <td>10.284402</td>\n",
       "      <td>2915.700000</td>\n",
       "      <td>#D5AB53</td>\n",
       "      <td>18.451749</td>\n",
       "      <td>5231.200000</td>\n",
       "      <td>#3477A5</td>\n",
       "      <td>8.167347e+00</td>\n",
       "    </tr>\n",
       "    <tr>\n",
       "      <th>13</th>\n",
       "      <td>Indiana</td>\n",
       "      <td>11.415157</td>\n",
       "      <td>2263.500000</td>\n",
       "      <td>#D5AB53</td>\n",
       "      <td>20.538709</td>\n",
       "      <td>4072.600000</td>\n",
       "      <td>#3477A5</td>\n",
       "      <td>9.123552e+00</td>\n",
       "    </tr>\n",
       "    <tr>\n",
       "      <th>17</th>\n",
       "      <td>Louisiana</td>\n",
       "      <td>6.312432</td>\n",
       "      <td>722.207346</td>\n",
       "      <td>#D5AB53</td>\n",
       "      <td>20.778471</td>\n",
       "      <td>2377.271346</td>\n",
       "      <td>#3477A5</td>\n",
       "      <td>1.446604e+01</td>\n",
       "    </tr>\n",
       "    <tr>\n",
       "      <th>18</th>\n",
       "      <td>Maine</td>\n",
       "      <td>20.399397</td>\n",
       "      <td>907.100000</td>\n",
       "      <td>#D5AB53</td>\n",
       "      <td>20.894146</td>\n",
       "      <td>929.100000</td>\n",
       "      <td>#3477A5</td>\n",
       "      <td>4.947489e-01</td>\n",
       "    </tr>\n",
       "    <tr>\n",
       "      <th>4</th>\n",
       "      <td>California</td>\n",
       "      <td>19.885403</td>\n",
       "      <td>47740.000000</td>\n",
       "      <td>#D5AB53</td>\n",
       "      <td>21.666675</td>\n",
       "      <td>52016.400000</td>\n",
       "      <td>#3477A5</td>\n",
       "      <td>1.781272e+00</td>\n",
       "    </tr>\n",
       "    <tr>\n",
       "      <th>27</th>\n",
       "      <td>Nevada</td>\n",
       "      <td>14.231147</td>\n",
       "      <td>904.152507</td>\n",
       "      <td>#D5AB53</td>\n",
       "      <td>23.798456</td>\n",
       "      <td>1511.995741</td>\n",
       "      <td>#3477A5</td>\n",
       "      <td>9.567309e+00</td>\n",
       "    </tr>\n",
       "    <tr>\n",
       "      <th>8</th>\n",
       "      <td>Florida</td>\n",
       "      <td>5.835935</td>\n",
       "      <td>3140.200000</td>\n",
       "      <td>#D5AB53</td>\n",
       "      <td>25.851918</td>\n",
       "      <td>13910.400000</td>\n",
       "      <td>#3477A5</td>\n",
       "      <td>2.001598e+01</td>\n",
       "    </tr>\n",
       "    <tr>\n",
       "      <th>20</th>\n",
       "      <td>Massachusetts</td>\n",
       "      <td>16.935595</td>\n",
       "      <td>8513.100000</td>\n",
       "      <td>#D5AB53</td>\n",
       "      <td>26.657980</td>\n",
       "      <td>13400.300000</td>\n",
       "      <td>#3477A5</td>\n",
       "      <td>9.722385e+00</td>\n",
       "    </tr>\n",
       "    <tr>\n",
       "      <th>21</th>\n",
       "      <td>Michigan</td>\n",
       "      <td>10.768888</td>\n",
       "      <td>1887.700000</td>\n",
       "      <td>#D5AB53</td>\n",
       "      <td>27.327545</td>\n",
       "      <td>4790.300000</td>\n",
       "      <td>#3477A5</td>\n",
       "      <td>1.655866e+01</td>\n",
       "    </tr>\n",
       "    <tr>\n",
       "      <th>2</th>\n",
       "      <td>Arizona</td>\n",
       "      <td>9.200678</td>\n",
       "      <td>1427.200000</td>\n",
       "      <td>#D5AB53</td>\n",
       "      <td>28.114544</td>\n",
       "      <td>4361.100000</td>\n",
       "      <td>#3477A5</td>\n",
       "      <td>1.891387e+01</td>\n",
       "    </tr>\n",
       "    <tr>\n",
       "      <th>11</th>\n",
       "      <td>Idaho</td>\n",
       "      <td>23.639686</td>\n",
       "      <td>1099.600000</td>\n",
       "      <td>#D5AB53</td>\n",
       "      <td>28.165753</td>\n",
       "      <td>1310.130000</td>\n",
       "      <td>#3477A5</td>\n",
       "      <td>4.526067e+00</td>\n",
       "    </tr>\n",
       "    <tr>\n",
       "      <th>30</th>\n",
       "      <td>New Mexico</td>\n",
       "      <td>28.277909</td>\n",
       "      <td>2839.300000</td>\n",
       "      <td>#D5AB53</td>\n",
       "      <td>28.261974</td>\n",
       "      <td>2837.700000</td>\n",
       "      <td>#3477A5</td>\n",
       "      <td>-1.593514e-02</td>\n",
       "    </tr>\n",
       "    <tr>\n",
       "      <th>37</th>\n",
       "      <td>Pennsylvania</td>\n",
       "      <td>11.963993</td>\n",
       "      <td>5117.000000</td>\n",
       "      <td>#D5AB53</td>\n",
       "      <td>30.336685</td>\n",
       "      <td>12975.000000</td>\n",
       "      <td>#3477A5</td>\n",
       "      <td>1.837269e+01</td>\n",
       "    </tr>\n",
       "    <tr>\n",
       "      <th>14</th>\n",
       "      <td>Iowa</td>\n",
       "      <td>10.911617</td>\n",
       "      <td>895.200000</td>\n",
       "      <td>#D5AB53</td>\n",
       "      <td>30.446972</td>\n",
       "      <td>2497.900000</td>\n",
       "      <td>#3477A5</td>\n",
       "      <td>1.953535e+01</td>\n",
       "    </tr>\n",
       "    <tr>\n",
       "      <th>32</th>\n",
       "      <td>North Carolina</td>\n",
       "      <td>17.023625</td>\n",
       "      <td>4750.000000</td>\n",
       "      <td>#D5AB53</td>\n",
       "      <td>31.394790</td>\n",
       "      <td>8759.900000</td>\n",
       "      <td>#3477A5</td>\n",
       "      <td>1.437117e+01</td>\n",
       "    </tr>\n",
       "    <tr>\n",
       "      <th>15</th>\n",
       "      <td>Kansas</td>\n",
       "      <td>16.062597</td>\n",
       "      <td>1484.200000</td>\n",
       "      <td>#D5AB53</td>\n",
       "      <td>32.094891</td>\n",
       "      <td>2965.600000</td>\n",
       "      <td>#3477A5</td>\n",
       "      <td>1.603229e+01</td>\n",
       "    </tr>\n",
       "    <tr>\n",
       "      <th>44</th>\n",
       "      <td>Vermont</td>\n",
       "      <td>14.100885</td>\n",
       "      <td>288.490000</td>\n",
       "      <td>#D5AB53</td>\n",
       "      <td>32.439024</td>\n",
       "      <td>663.670000</td>\n",
       "      <td>#3477A5</td>\n",
       "      <td>1.833814e+01</td>\n",
       "    </tr>\n",
       "    <tr>\n",
       "      <th>10</th>\n",
       "      <td>Hawaii</td>\n",
       "      <td>9.141005</td>\n",
       "      <td>972.832900</td>\n",
       "      <td>#D5AB53</td>\n",
       "      <td>32.448866</td>\n",
       "      <td>3453.375623</td>\n",
       "      <td>#3477A5</td>\n",
       "      <td>2.330786e+01</td>\n",
       "    </tr>\n",
       "    <tr>\n",
       "      <th>34</th>\n",
       "      <td>Ohio</td>\n",
       "      <td>11.919078</td>\n",
       "      <td>3479.000000</td>\n",
       "      <td>#D5AB53</td>\n",
       "      <td>32.496360</td>\n",
       "      <td>9485.200000</td>\n",
       "      <td>#3477A5</td>\n",
       "      <td>2.057728e+01</td>\n",
       "    </tr>\n",
       "    <tr>\n",
       "      <th>3</th>\n",
       "      <td>Arkansas</td>\n",
       "      <td>22.626695</td>\n",
       "      <td>1363.100000</td>\n",
       "      <td>#D5AB53</td>\n",
       "      <td>32.554820</td>\n",
       "      <td>1961.200000</td>\n",
       "      <td>#3477A5</td>\n",
       "      <td>9.928124e+00</td>\n",
       "    </tr>\n",
       "    <tr>\n",
       "      <th>1</th>\n",
       "      <td>Alaska</td>\n",
       "      <td>36.478566</td>\n",
       "      <td>2060.200000</td>\n",
       "      <td>#D5AB53</td>\n",
       "      <td>32.618588</td>\n",
       "      <td>1842.200000</td>\n",
       "      <td>#3477A5</td>\n",
       "      <td>-3.859978e+00</td>\n",
       "    </tr>\n",
       "    <tr>\n",
       "      <th>41</th>\n",
       "      <td>Tennessee</td>\n",
       "      <td>8.583486</td>\n",
       "      <td>1800.000000</td>\n",
       "      <td>#EED17E</td>\n",
       "      <td>32.697837</td>\n",
       "      <td>6856.900000</td>\n",
       "      <td>#74AAC7</td>\n",
       "      <td>2.411435e+01</td>\n",
       "    </tr>\n",
       "    <tr>\n",
       "      <th>43</th>\n",
       "      <td>Utah</td>\n",
       "      <td>9.816594</td>\n",
       "      <td>1186.570093</td>\n",
       "      <td>#D5AB53</td>\n",
       "      <td>33.049157</td>\n",
       "      <td>3994.780693</td>\n",
       "      <td>#3477A5</td>\n",
       "      <td>2.323256e+01</td>\n",
       "    </tr>\n",
       "    <tr>\n",
       "      <th>39</th>\n",
       "      <td>South Carolina</td>\n",
       "      <td>15.165150</td>\n",
       "      <td>1998.600000</td>\n",
       "      <td>#D5AB53</td>\n",
       "      <td>36.294380</td>\n",
       "      <td>4783.200000</td>\n",
       "      <td>#3477A5</td>\n",
       "      <td>2.112923e+01</td>\n",
       "    </tr>\n",
       "    <tr>\n",
       "      <th>16</th>\n",
       "      <td>Kentucky</td>\n",
       "      <td>24.949927</td>\n",
       "      <td>3600.000000</td>\n",
       "      <td>#D5AB53</td>\n",
       "      <td>37.519146</td>\n",
       "      <td>5413.600000</td>\n",
       "      <td>#3477A5</td>\n",
       "      <td>1.256922e+01</td>\n",
       "    </tr>\n",
       "    <tr>\n",
       "      <th>9</th>\n",
       "      <td>Georgia</td>\n",
       "      <td>16.905725</td>\n",
       "      <td>5240.228297</td>\n",
       "      <td>#D5AB53</td>\n",
       "      <td>39.633173</td>\n",
       "      <td>12285.002846</td>\n",
       "      <td>#3477A5</td>\n",
       "      <td>2.272745e+01</td>\n",
       "    </tr>\n",
       "    <tr>\n",
       "      <th>31</th>\n",
       "      <td>New York</td>\n",
       "      <td>7.019676</td>\n",
       "      <td>6468.000000</td>\n",
       "      <td>#D5AB53</td>\n",
       "      <td>42.243952</td>\n",
       "      <td>38924.000000</td>\n",
       "      <td>#3477A5</td>\n",
       "      <td>3.522428e+01</td>\n",
       "    </tr>\n",
       "    <tr>\n",
       "      <th>48</th>\n",
       "      <td>Wisconsin</td>\n",
       "      <td>8.766927</td>\n",
       "      <td>1733.800000</td>\n",
       "      <td>#D5AB53</td>\n",
       "      <td>44.662057</td>\n",
       "      <td>8832.636300</td>\n",
       "      <td>#3477A5</td>\n",
       "      <td>3.589513e+01</td>\n",
       "    </tr>\n",
       "    <tr>\n",
       "      <th>24</th>\n",
       "      <td>Missouri</td>\n",
       "      <td>6.823374</td>\n",
       "      <td>887.100000</td>\n",
       "      <td>#D5AB53</td>\n",
       "      <td>46.190648</td>\n",
       "      <td>6005.200000</td>\n",
       "      <td>#3477A5</td>\n",
       "      <td>3.936727e+01</td>\n",
       "    </tr>\n",
       "    <tr>\n",
       "      <th>36</th>\n",
       "      <td>Oregon</td>\n",
       "      <td>14.434386</td>\n",
       "      <td>2051.000000</td>\n",
       "      <td>#D5AB53</td>\n",
       "      <td>47.002437</td>\n",
       "      <td>6678.635366</td>\n",
       "      <td>#3477A5</td>\n",
       "      <td>3.256805e+01</td>\n",
       "    </tr>\n",
       "    <tr>\n",
       "      <th>42</th>\n",
       "      <td>Texas</td>\n",
       "      <td>18.495055</td>\n",
       "      <td>13716.539000</td>\n",
       "      <td>#D5AB53</td>\n",
       "      <td>47.841105</td>\n",
       "      <td>35480.531845</td>\n",
       "      <td>#3477A5</td>\n",
       "      <td>2.934605e+01</td>\n",
       "    </tr>\n",
       "    <tr>\n",
       "      <th>35</th>\n",
       "      <td>Oklahoma</td>\n",
       "      <td>18.748461</td>\n",
       "      <td>1675.400000</td>\n",
       "      <td>#D5AB53</td>\n",
       "      <td>51.135830</td>\n",
       "      <td>4569.600000</td>\n",
       "      <td>#3477A5</td>\n",
       "      <td>3.238737e+01</td>\n",
       "    </tr>\n",
       "    <tr>\n",
       "      <th>7</th>\n",
       "      <td>Delaware</td>\n",
       "      <td>5.535727</td>\n",
       "      <td>316.400000</td>\n",
       "      <td>#D5AB53</td>\n",
       "      <td>54.748408</td>\n",
       "      <td>3129.200000</td>\n",
       "      <td>#3477A5</td>\n",
       "      <td>4.921268e+01</td>\n",
       "    </tr>\n",
       "    <tr>\n",
       "      <th>26</th>\n",
       "      <td>Nebraska</td>\n",
       "      <td>32.924284</td>\n",
       "      <td>1687.600000</td>\n",
       "      <td>#D5AB53</td>\n",
       "      <td>57.789180</td>\n",
       "      <td>2962.100000</td>\n",
       "      <td>#3477A5</td>\n",
       "      <td>2.486490e+01</td>\n",
       "    </tr>\n",
       "    <tr>\n",
       "      <th>22</th>\n",
       "      <td>Minnesota</td>\n",
       "      <td>13.231433</td>\n",
       "      <td>3568.277000</td>\n",
       "      <td>#D5AB53</td>\n",
       "      <td>59.524414</td>\n",
       "      <td>16052.653000</td>\n",
       "      <td>#3477A5</td>\n",
       "      <td>4.629298e+01</td>\n",
       "    </tr>\n",
       "    <tr>\n",
       "      <th>0</th>\n",
       "      <td>Alabama</td>\n",
       "      <td>13.967740</td>\n",
       "      <td>1586.400000</td>\n",
       "      <td>#D5AB53</td>\n",
       "      <td>61.360675</td>\n",
       "      <td>6969.100000</td>\n",
       "      <td>#3477A5</td>\n",
       "      <td>4.739294e+01</td>\n",
       "    </tr>\n",
       "    <tr>\n",
       "      <th>47</th>\n",
       "      <td>West Virginia</td>\n",
       "      <td>21.648253</td>\n",
       "      <td>1015.000000</td>\n",
       "      <td>#D5AB53</td>\n",
       "      <td>63.055432</td>\n",
       "      <td>2956.417000</td>\n",
       "      <td>#3477A5</td>\n",
       "      <td>4.140718e+01</td>\n",
       "    </tr>\n",
       "    <tr>\n",
       "      <th>33</th>\n",
       "      <td>North Dakota</td>\n",
       "      <td>26.744238</td>\n",
       "      <td>602.200000</td>\n",
       "      <td>#D5AB53</td>\n",
       "      <td>83.239330</td>\n",
       "      <td>1874.300000</td>\n",
       "      <td>#3477A5</td>\n",
       "      <td>5.649509e+01</td>\n",
       "    </tr>\n",
       "    <tr>\n",
       "      <th>49</th>\n",
       "      <td>Wyoming</td>\n",
       "      <td>84.000000</td>\n",
       "      <td>1491.000000</td>\n",
       "      <td>#D5AB53</td>\n",
       "      <td>84.000000</td>\n",
       "      <td>1491.000000</td>\n",
       "      <td>#3477A5</td>\n",
       "      <td>0.000000e+00</td>\n",
       "    </tr>\n",
       "  </tbody>\n",
       "</table>\n",
       "</div>"
      ],
      "text/plain": [
       "             state   rain_pct      rain_dol rain_color  totbal_pct  \\\n",
       "12        Illinois   3.780102   1926.000000    #D5AB53    4.133383   \n",
       "23     Mississippi   9.202522    579.400000    #D5AB53    9.202522   \n",
       "40    South Dakota   9.660563    220.000000    #D5AB53    9.660563   \n",
       "38    Rhode Island   5.446792    271.045069    #D5AB53   10.478118   \n",
       "25         Montana   2.345598    118.000000    #D5AB53   12.296499   \n",
       "46      Washington   2.070403    650.800000    #D5AB53   12.912975   \n",
       "5         Colorado  11.136886   1992.400000    #D5AB53   13.753417   \n",
       "6      Connecticut  15.317656   3343.400000    #D5AB53   15.317656   \n",
       "28   New Hampshire  15.691243    253.900000    #D5AB53   15.691243   \n",
       "45        Virginia  11.975850   3801.398350    #D5AB53   16.542641   \n",
       "29      New Jersey   2.970857   1603.300000    #D5AB53   17.651887   \n",
       "19        Maryland  10.284402   2915.700000    #D5AB53   18.451749   \n",
       "13         Indiana  11.415157   2263.500000    #D5AB53   20.538709   \n",
       "17       Louisiana   6.312432    722.207346    #D5AB53   20.778471   \n",
       "18           Maine  20.399397    907.100000    #D5AB53   20.894146   \n",
       "4       California  19.885403  47740.000000    #D5AB53   21.666675   \n",
       "27          Nevada  14.231147    904.152507    #D5AB53   23.798456   \n",
       "8          Florida   5.835935   3140.200000    #D5AB53   25.851918   \n",
       "20   Massachusetts  16.935595   8513.100000    #D5AB53   26.657980   \n",
       "21        Michigan  10.768888   1887.700000    #D5AB53   27.327545   \n",
       "2          Arizona   9.200678   1427.200000    #D5AB53   28.114544   \n",
       "11           Idaho  23.639686   1099.600000    #D5AB53   28.165753   \n",
       "30      New Mexico  28.277909   2839.300000    #D5AB53   28.261974   \n",
       "37    Pennsylvania  11.963993   5117.000000    #D5AB53   30.336685   \n",
       "14            Iowa  10.911617    895.200000    #D5AB53   30.446972   \n",
       "32  North Carolina  17.023625   4750.000000    #D5AB53   31.394790   \n",
       "15          Kansas  16.062597   1484.200000    #D5AB53   32.094891   \n",
       "44         Vermont  14.100885    288.490000    #D5AB53   32.439024   \n",
       "10          Hawaii   9.141005    972.832900    #D5AB53   32.448866   \n",
       "34            Ohio  11.919078   3479.000000    #D5AB53   32.496360   \n",
       "3         Arkansas  22.626695   1363.100000    #D5AB53   32.554820   \n",
       "1           Alaska  36.478566   2060.200000    #D5AB53   32.618588   \n",
       "41       Tennessee   8.583486   1800.000000    #EED17E   32.697837   \n",
       "43            Utah   9.816594   1186.570093    #D5AB53   33.049157   \n",
       "39  South Carolina  15.165150   1998.600000    #D5AB53   36.294380   \n",
       "16        Kentucky  24.949927   3600.000000    #D5AB53   37.519146   \n",
       "9          Georgia  16.905725   5240.228297    #D5AB53   39.633173   \n",
       "31        New York   7.019676   6468.000000    #D5AB53   42.243952   \n",
       "48       Wisconsin   8.766927   1733.800000    #D5AB53   44.662057   \n",
       "24        Missouri   6.823374    887.100000    #D5AB53   46.190648   \n",
       "36          Oregon  14.434386   2051.000000    #D5AB53   47.002437   \n",
       "42           Texas  18.495055  13716.539000    #D5AB53   47.841105   \n",
       "35        Oklahoma  18.748461   1675.400000    #D5AB53   51.135830   \n",
       "7         Delaware   5.535727    316.400000    #D5AB53   54.748408   \n",
       "26        Nebraska  32.924284   1687.600000    #D5AB53   57.789180   \n",
       "22       Minnesota  13.231433   3568.277000    #D5AB53   59.524414   \n",
       "0          Alabama  13.967740   1586.400000    #D5AB53   61.360675   \n",
       "47   West Virginia  21.648253   1015.000000    #D5AB53   63.055432   \n",
       "33    North Dakota  26.744238    602.200000    #D5AB53   83.239330   \n",
       "49         Wyoming  84.000000   1491.000000    #D5AB53   84.000000   \n",
       "\n",
       "            2023 totbal_color  totbal_rain_pct_dif  \n",
       "12   2106.000000      #3477A5         3.532806e-01  \n",
       "23    579.400000      #3477A5        -1.243450e-14  \n",
       "40    220.000000      #3477A5         0.000000e+00  \n",
       "38    521.415610      #3477A5         5.031326e+00  \n",
       "25    618.600000      #3477A5         9.950901e+00  \n",
       "46   4059.000000      #3477A5         1.084257e+01  \n",
       "5    2460.500000      #3477A5         2.616531e+00  \n",
       "6    3343.400000      #3477A5         0.000000e+00  \n",
       "28    253.900000      #3477A5         0.000000e+00  \n",
       "45   5250.998350      #3477A5         4.566791e+00  \n",
       "29   9526.300000      #3477A5         1.468103e+01  \n",
       "19   5231.200000      #3477A5         8.167347e+00  \n",
       "13   4072.600000      #3477A5         9.123552e+00  \n",
       "17   2377.271346      #3477A5         1.446604e+01  \n",
       "18    929.100000      #3477A5         4.947489e-01  \n",
       "4   52016.400000      #3477A5         1.781272e+00  \n",
       "27   1511.995741      #3477A5         9.567309e+00  \n",
       "8   13910.400000      #3477A5         2.001598e+01  \n",
       "20  13400.300000      #3477A5         9.722385e+00  \n",
       "21   4790.300000      #3477A5         1.655866e+01  \n",
       "2    4361.100000      #3477A5         1.891387e+01  \n",
       "11   1310.130000      #3477A5         4.526067e+00  \n",
       "30   2837.700000      #3477A5        -1.593514e-02  \n",
       "37  12975.000000      #3477A5         1.837269e+01  \n",
       "14   2497.900000      #3477A5         1.953535e+01  \n",
       "32   8759.900000      #3477A5         1.437117e+01  \n",
       "15   2965.600000      #3477A5         1.603229e+01  \n",
       "44    663.670000      #3477A5         1.833814e+01  \n",
       "10   3453.375623      #3477A5         2.330786e+01  \n",
       "34   9485.200000      #3477A5         2.057728e+01  \n",
       "3    1961.200000      #3477A5         9.928124e+00  \n",
       "1    1842.200000      #3477A5        -3.859978e+00  \n",
       "41   6856.900000      #74AAC7         2.411435e+01  \n",
       "43   3994.780693      #3477A5         2.323256e+01  \n",
       "39   4783.200000      #3477A5         2.112923e+01  \n",
       "16   5413.600000      #3477A5         1.256922e+01  \n",
       "9   12285.002846      #3477A5         2.272745e+01  \n",
       "31  38924.000000      #3477A5         3.522428e+01  \n",
       "48   8832.636300      #3477A5         3.589513e+01  \n",
       "24   6005.200000      #3477A5         3.936727e+01  \n",
       "36   6678.635366      #3477A5         3.256805e+01  \n",
       "42  35480.531845      #3477A5         2.934605e+01  \n",
       "35   4569.600000      #3477A5         3.238737e+01  \n",
       "7    3129.200000      #3477A5         4.921268e+01  \n",
       "26   2962.100000      #3477A5         2.486490e+01  \n",
       "22  16052.653000      #3477A5         4.629298e+01  \n",
       "0    6969.100000      #3477A5         4.739294e+01  \n",
       "47   2956.417000      #3477A5         4.140718e+01  \n",
       "33   1874.300000      #3477A5         5.649509e+01  \n",
       "49   1491.000000      #3477A5         0.000000e+00  "
      ]
     },
     "execution_count": 7,
     "metadata": {},
     "output_type": "execute_result"
    }
   ],
   "source": [
    "rain_pct_2023_df = rain_pct_df.loc[:'Wyoming', '2023'].to_frame().reset_index()\n",
    "rain_pct_2023_df = rain_pct_2023_df.rename(\n",
    "    columns = {\"index\": \"state\", \"2023\": \"rain_frac\"}\n",
    ")\n",
    "rain_pct_2023_df[\"rain_pct\"] = 100 * rain_pct_2023_df[\"rain_frac\"]\n",
    "rain_pct_2023_df = rain_pct_2023_df.drop('rain_frac', axis=1)\n",
    "\n",
    "rain_dol_2023_df = rain_dol_df.loc[:'Wyoming', '2023'].to_frame().reset_index()\n",
    "rain_dol_2023_df = rain_dol_2023_df.rename(\n",
    "    columns = {\"index\": \"state\", \"2023\": \"rain_dol\"}\n",
    ")\n",
    "\n",
    "totbal_pct_2023_df = \\\n",
    "    totbal_pct_df.loc[:'Wyoming', '2023'].to_frame().reset_index()\n",
    "totbal_pct_2023_df = totbal_pct_2023_df.rename(\n",
    "    columns = {\"index\": \"state\", \"2023\": \"totbal_frac\"}\n",
    ")\n",
    "totbal_pct_2023_df[\"totbal_pct\"] = 100 * totbal_pct_2023_df[\"totbal_frac\"]\n",
    "totbal_pct_2023_df = totbal_pct_2023_df.drop('totbal_frac', axis=1)\n",
    "\n",
    "totbal_dol_2023_df = \\\n",
    "    totbal_dol_df.loc[:'Wyoming', '2023'].to_frame().reset_index()\n",
    "totbal_dol_2023_df = totbal_dol_2023_df.rename(\n",
    "    columns = {\"index\": \"state\", \"2022\": \"totbal_dol\"}\n",
    ")\n",
    "\n",
    "# Merge the four DataFrames\n",
    "rain_totbal_pct_dol_2023_df = rain_pct_2023_df.copy()\n",
    "rain_totbal_pct_dol_2023_df = pd.merge(\n",
    "    rain_totbal_pct_dol_2023_df, rain_dol_2023_df, on='state', how='inner'\n",
    ")\n",
    "rain_totbal_pct_dol_2023_df[\"rain_color\"] = \"#D5AB53\"\n",
    "rain_totbal_pct_dol_2023_df[\"rain_color\"][\n",
    "    rain_totbal_pct_dol_2023_df[\"state\"]==\"Tennessee\"\n",
    "] = \"#EED17E\"\n",
    "rain_totbal_pct_dol_2023_df = pd.merge(\n",
    "    rain_totbal_pct_dol_2023_df, totbal_pct_2023_df, on='state', how='inner'\n",
    ")\n",
    "rain_totbal_pct_dol_2023_df = pd.merge(\n",
    "    rain_totbal_pct_dol_2023_df, totbal_dol_2023_df, on='state', how='inner'\n",
    ")\n",
    "rain_totbal_pct_dol_2023_df[\"totbal_color\"] = \"#3477A5\"\n",
    "rain_totbal_pct_dol_2023_df[\"totbal_color\"][\n",
    "    rain_totbal_pct_dol_2023_df[\"state\"]==\"Tennessee\"\n",
    "] = \"#74AAC7\"\n",
    "\n",
    "# Create a new variable that is totbal_pct - rain_pct\n",
    "rain_totbal_pct_dol_2023_df[\"totbal_rain_pct_dif\"] = (\n",
    "    rain_totbal_pct_dol_2023_df[\"totbal_pct\"] -\n",
    "    rain_totbal_pct_dol_2023_df[\"rain_pct\"]\n",
    ")\n",
    "\n",
    "# Sort by total reserves balances percent\n",
    "rain_totbal_pct_dol_2023_sorted_df = rain_totbal_pct_dol_2023_df.sort_values(\n",
    "    by=['totbal_pct', 'rain_pct', 'state'], ascending=[True, True, True]\n",
    ")\n",
    "\n",
    "rain_totbal_pct_dol_2023_sorted_df.to_csv(\n",
    "    os.path.join(data_dir, \"fig5_source.csv\"), index=False\n",
    ")\n",
    "rain_totbal_pct_dol_2023_sorted_df"
   ]
  },
  {
   "cell_type": "code",
   "execution_count": 8,
   "metadata": {},
   "outputs": [
    {
     "data": {
      "text/html": [
       "    <style>\n",
       "        .bk-notebook-logo {\n",
       "            display: block;\n",
       "            width: 20px;\n",
       "            height: 20px;\n",
       "            background-image: url(data:image/png;base64,iVBORw0KGgoAAAANSUhEUgAAABQAAAAUCAYAAACNiR0NAAAABHNCSVQICAgIfAhkiAAAAAlwSFlzAAALEgAACxIB0t1+/AAAABx0RVh0U29mdHdhcmUAQWRvYmUgRmlyZXdvcmtzIENTNui8sowAAAOkSURBVDiNjZRtaJVlGMd/1/08zzln5zjP1LWcU9N0NkN8m2CYjpgQYQXqSs0I84OLIC0hkEKoPtiH3gmKoiJDU7QpLgoLjLIQCpEsNJ1vqUOdO7ppbuec5+V+rj4ctwzd8IIbbi6u+8f1539dt3A78eXC7QizUF7gyV1fD1Yqg4JWz84yffhm0qkFqBogB9rM8tZdtwVsPUhWhGcFJngGeWrPzHm5oaMmkfEg1usvLFyc8jLRqDOMru7AyC8saQr7GG7f5fvDeH7Ej8CM66nIF+8yngt6HWaKh7k49Soy9nXurCi1o3qUbS3zWfrYeQDTB/Qj6kX6Ybhw4B+bOYoLKCC9H3Nu/leUTZ1JdRWkkn2ldcCamzrcf47KKXdAJllSlxAOkRgyHsGC/zRday5Qld9DyoM4/q/rUoy/CXh3jzOu3bHUVZeU+DEn8FInkPBFlu3+nW3Nw0mk6vCDiWg8CeJaxEwuHS3+z5RgY+YBR6V1Z1nxSOfoaPa4LASWxxdNp+VWTk7+4vzaou8v8PN+xo+KY2xsw6une2frhw05CTYOmQvsEhjhWjn0bmXPjpE1+kplmmkP3suftwTubK9Vq22qKmrBhpY4jvd5afdRA3wGjFAgcnTK2s4hY0/GPNIb0nErGMCRxWOOX64Z8RAC4oCXdklmEvcL8o0BfkNK4lUg9HTl+oPlQxdNo3Mg4Nv175e/1LDGzZen30MEjRUtmXSfiTVu1kK8W4txyV6BMKlbgk3lMwYCiusNy9fVfvvwMxv8Ynl6vxoByANLTWplvuj/nF9m2+PDtt1eiHPBr1oIfhCChQMBw6Aw0UulqTKZdfVvfG7VcfIqLG9bcldL/+pdWTLxLUy8Qq38heUIjh4XlzZxzQm19lLFlr8vdQ97rjZVOLf8nclzckbcD4wxXMidpX30sFd37Fv/GtwwhzhxGVAprjbg0gCAEeIgwCZyTV2Z1REEW8O4py0wsjeloKoMr6iCY6dP92H6Vw/oTyICIthibxjm/DfN9lVz8IqtqKYLUXfoKVMVQVVJOElGjrnnUt9T9wbgp8AyYKaGlqingHZU/uG2NTZSVqwHQTWkx9hxjkpWDaCg6Ckj5qebgBVbT3V3NNXMSiWSDdGV3hrtzla7J+duwPOToIg42ChPQOQjspnSlp1V+Gjdged7+8UN5CRAV7a5EdFNwCjEaBR27b3W890TE7g24NAP/mMDXRWrGoFPQI9ls/MWO2dWFAar/xcOIImbbpA3zgAAAABJRU5ErkJggg==);\n",
       "        }\n",
       "    </style>\n",
       "    <div>\n",
       "        <a href=\"https://bokeh.org\" target=\"_blank\" class=\"bk-notebook-logo\"></a>\n",
       "        <span id=\"e04f1e24-dcb4-459e-870f-c3c24626fd63\">Loading BokehJS ...</span>\n",
       "    </div>\n"
      ]
     },
     "metadata": {},
     "output_type": "display_data"
    },
    {
     "data": {
      "application/javascript": "'use strict';\n(function(root) {\n  function now() {\n    return new Date();\n  }\n\n  const force = true;\n\n  if (typeof root._bokeh_onload_callbacks === \"undefined\" || force === true) {\n    root._bokeh_onload_callbacks = [];\n    root._bokeh_is_loading = undefined;\n  }\n\nconst JS_MIME_TYPE = 'application/javascript';\n  const HTML_MIME_TYPE = 'text/html';\n  const EXEC_MIME_TYPE = 'application/vnd.bokehjs_exec.v0+json';\n  const CLASS_NAME = 'output_bokeh rendered_html';\n\n  /**\n   * Render data to the DOM node\n   */\n  function render(props, node) {\n    const script = document.createElement(\"script\");\n    node.appendChild(script);\n  }\n\n  /**\n   * Handle when an output is cleared or removed\n   */\n  function handleClearOutput(event, handle) {\n    function drop(id) {\n      const view = Bokeh.index.get_by_id(id)\n      if (view != null) {\n        view.model.document.clear()\n        Bokeh.index.delete(view)\n      }\n    }\n\n    const cell = handle.cell;\n\n    const id = cell.output_area._bokeh_element_id;\n    const server_id = cell.output_area._bokeh_server_id;\n\n    // Clean up Bokeh references\n    if (id != null) {\n      drop(id)\n    }\n\n    if (server_id !== undefined) {\n      // Clean up Bokeh references\n      const cmd_clean = \"from bokeh.io.state import curstate; print(curstate().uuid_to_server['\" + server_id + \"'].get_sessions()[0].document.roots[0]._id)\";\n      cell.notebook.kernel.execute(cmd_clean, {\n        iopub: {\n          output: function(msg) {\n            const id = msg.content.text.trim()\n            drop(id)\n          }\n        }\n      });\n      // Destroy server and session\n      const cmd_destroy = \"import bokeh.io.notebook as ion; ion.destroy_server('\" + server_id + \"')\";\n      cell.notebook.kernel.execute(cmd_destroy);\n    }\n  }\n\n  /**\n   * Handle when a new output is added\n   */\n  function handleAddOutput(event, handle) {\n    const output_area = handle.output_area;\n    const output = handle.output;\n\n    // limit handleAddOutput to display_data with EXEC_MIME_TYPE content only\n    if ((output.output_type != \"display_data\") || (!Object.prototype.hasOwnProperty.call(output.data, EXEC_MIME_TYPE))) {\n      return\n    }\n\n    const toinsert = output_area.element.find(\".\" + CLASS_NAME.split(' ')[0]);\n\n    if (output.metadata[EXEC_MIME_TYPE][\"id\"] !== undefined) {\n      toinsert[toinsert.length - 1].firstChild.textContent = output.data[JS_MIME_TYPE];\n      // store reference to embed id on output_area\n      output_area._bokeh_element_id = output.metadata[EXEC_MIME_TYPE][\"id\"];\n    }\n    if (output.metadata[EXEC_MIME_TYPE][\"server_id\"] !== undefined) {\n      const bk_div = document.createElement(\"div\");\n      bk_div.innerHTML = output.data[HTML_MIME_TYPE];\n      const script_attrs = bk_div.children[0].attributes;\n      for (let i = 0; i < script_attrs.length; i++) {\n        toinsert[toinsert.length - 1].firstChild.setAttribute(script_attrs[i].name, script_attrs[i].value);\n        toinsert[toinsert.length - 1].firstChild.textContent = bk_div.children[0].textContent\n      }\n      // store reference to server id on output_area\n      output_area._bokeh_server_id = output.metadata[EXEC_MIME_TYPE][\"server_id\"];\n    }\n  }\n\n  function register_renderer(events, OutputArea) {\n\n    function append_mime(data, metadata, element) {\n      // create a DOM node to render to\n      const toinsert = this.create_output_subarea(\n        metadata,\n        CLASS_NAME,\n        EXEC_MIME_TYPE\n      );\n      this.keyboard_manager.register_events(toinsert);\n      // Render to node\n      const props = {data: data, metadata: metadata[EXEC_MIME_TYPE]};\n      render(props, toinsert[toinsert.length - 1]);\n      element.append(toinsert);\n      return toinsert\n    }\n\n    /* Handle when an output is cleared or removed */\n    events.on('clear_output.CodeCell', handleClearOutput);\n    events.on('delete.Cell', handleClearOutput);\n\n    /* Handle when a new output is added */\n    events.on('output_added.OutputArea', handleAddOutput);\n\n    /**\n     * Register the mime type and append_mime function with output_area\n     */\n    OutputArea.prototype.register_mime_type(EXEC_MIME_TYPE, append_mime, {\n      /* Is output safe? */\n      safe: true,\n      /* Index of renderer in `output_area.display_order` */\n      index: 0\n    });\n  }\n\n  // register the mime type if in Jupyter Notebook environment and previously unregistered\n  if (root.Jupyter !== undefined) {\n    const events = require('base/js/events');\n    const OutputArea = require('notebook/js/outputarea').OutputArea;\n\n    if (OutputArea.prototype.mime_types().indexOf(EXEC_MIME_TYPE) == -1) {\n      register_renderer(events, OutputArea);\n    }\n  }\n  if (typeof (root._bokeh_timeout) === \"undefined\" || force === true) {\n    root._bokeh_timeout = Date.now() + 5000;\n    root._bokeh_failed_load = false;\n  }\n\n  const NB_LOAD_WARNING = {'data': {'text/html':\n     \"<div style='background-color: #fdd'>\\n\"+\n     \"<p>\\n\"+\n     \"BokehJS does not appear to have successfully loaded. If loading BokehJS from CDN, this \\n\"+\n     \"may be due to a slow or bad network connection. Possible fixes:\\n\"+\n     \"</p>\\n\"+\n     \"<ul>\\n\"+\n     \"<li>re-rerun `output_notebook()` to attempt to load from CDN again, or</li>\\n\"+\n     \"<li>use INLINE resources instead, as so:</li>\\n\"+\n     \"</ul>\\n\"+\n     \"<code>\\n\"+\n     \"from bokeh.resources import INLINE\\n\"+\n     \"output_notebook(resources=INLINE)\\n\"+\n     \"</code>\\n\"+\n     \"</div>\"}};\n\n  function display_loaded(error = null) {\n    const el = document.getElementById(\"e04f1e24-dcb4-459e-870f-c3c24626fd63\");\n    if (el != null) {\n      const html = (() => {\n        if (typeof root.Bokeh === \"undefined\") {\n          if (error == null) {\n            return \"BokehJS is loading ...\";\n          } else {\n            return \"BokehJS failed to load.\";\n          }\n        } else {\n          const prefix = `BokehJS ${root.Bokeh.version}`;\n          if (error == null) {\n            return `${prefix} successfully loaded.`;\n          } else {\n            return `${prefix} <b>encountered errors</b> while loading and may not function as expected.`;\n          }\n        }\n      })();\n      el.innerHTML = html;\n\n      if (error != null) {\n        const wrapper = document.createElement(\"div\");\n        wrapper.style.overflow = \"auto\";\n        wrapper.style.height = \"5em\";\n        wrapper.style.resize = \"vertical\";\n        const content = document.createElement(\"div\");\n        content.style.fontFamily = \"monospace\";\n        content.style.whiteSpace = \"pre-wrap\";\n        content.style.backgroundColor = \"rgb(255, 221, 221)\";\n        content.textContent = error.stack ?? error.toString();\n        wrapper.append(content);\n        el.append(wrapper);\n      }\n    } else if (Date.now() < root._bokeh_timeout) {\n      setTimeout(() => display_loaded(error), 100);\n    }\n  }\n\n  function run_callbacks() {\n    try {\n      root._bokeh_onload_callbacks.forEach(function(callback) {\n        if (callback != null)\n          callback();\n      });\n    } finally {\n      delete root._bokeh_onload_callbacks\n    }\n    console.debug(\"Bokeh: all callbacks have finished\");\n  }\n\n  function load_libs(css_urls, js_urls, callback) {\n    if (css_urls == null) css_urls = [];\n    if (js_urls == null) js_urls = [];\n\n    root._bokeh_onload_callbacks.push(callback);\n    if (root._bokeh_is_loading > 0) {\n      console.debug(\"Bokeh: BokehJS is being loaded, scheduling callback at\", now());\n      return null;\n    }\n    if (js_urls == null || js_urls.length === 0) {\n      run_callbacks();\n      return null;\n    }\n    console.debug(\"Bokeh: BokehJS not loaded, scheduling load and callback at\", now());\n    root._bokeh_is_loading = css_urls.length + js_urls.length;\n\n    function on_load() {\n      root._bokeh_is_loading--;\n      if (root._bokeh_is_loading === 0) {\n        console.debug(\"Bokeh: all BokehJS libraries/stylesheets loaded\");\n        run_callbacks()\n      }\n    }\n\n    function on_error(url) {\n      console.error(\"failed to load \" + url);\n    }\n\n    for (let i = 0; i < css_urls.length; i++) {\n      const url = css_urls[i];\n      const element = document.createElement(\"link\");\n      element.onload = on_load;\n      element.onerror = on_error.bind(null, url);\n      element.rel = \"stylesheet\";\n      element.type = \"text/css\";\n      element.href = url;\n      console.debug(\"Bokeh: injecting link tag for BokehJS stylesheet: \", url);\n      document.body.appendChild(element);\n    }\n\n    for (let i = 0; i < js_urls.length; i++) {\n      const url = js_urls[i];\n      const element = document.createElement('script');\n      element.onload = on_load;\n      element.onerror = on_error.bind(null, url);\n      element.async = false;\n      element.src = url;\n      console.debug(\"Bokeh: injecting script tag for BokehJS library: \", url);\n      document.head.appendChild(element);\n    }\n  };\n\n  function inject_raw_css(css) {\n    const element = document.createElement(\"style\");\n    element.appendChild(document.createTextNode(css));\n    document.body.appendChild(element);\n  }\n\n  const js_urls = [\"https://cdn.bokeh.org/bokeh/release/bokeh-3.4.2.min.js\", \"https://cdn.bokeh.org/bokeh/release/bokeh-gl-3.4.2.min.js\", \"https://cdn.bokeh.org/bokeh/release/bokeh-widgets-3.4.2.min.js\", \"https://cdn.bokeh.org/bokeh/release/bokeh-tables-3.4.2.min.js\", \"https://cdn.bokeh.org/bokeh/release/bokeh-mathjax-3.4.2.min.js\"];\n  const css_urls = [];\n\n  const inline_js = [    function(Bokeh) {\n      Bokeh.set_log_level(\"info\");\n    },\nfunction(Bokeh) {\n    }\n  ];\n\n  function run_inline_js() {\n    if (root.Bokeh !== undefined || force === true) {\n      try {\n            for (let i = 0; i < inline_js.length; i++) {\n      inline_js[i].call(root, root.Bokeh);\n    }\n\n      } catch (error) {display_loaded(error);throw error;\n      }if (force === true) {\n        display_loaded();\n      }} else if (Date.now() < root._bokeh_timeout) {\n      setTimeout(run_inline_js, 100);\n    } else if (!root._bokeh_failed_load) {\n      console.log(\"Bokeh: BokehJS failed to load within specified timeout.\");\n      root._bokeh_failed_load = true;\n    } else if (force !== true) {\n      const cell = $(document.getElementById(\"e04f1e24-dcb4-459e-870f-c3c24626fd63\")).parents('.cell').data().cell;\n      cell.output_area.append_execute_result(NB_LOAD_WARNING)\n    }\n  }\n\n  if (root._bokeh_is_loading === 0) {\n    console.debug(\"Bokeh: BokehJS loaded, going straight to plotting\");\n    run_inline_js();\n  } else {\n    load_libs(css_urls, js_urls, function() {\n      console.debug(\"Bokeh: BokehJS plotting callback run at\", now());\n      run_inline_js();\n    });\n  }\n}(window));",
      "application/vnd.bokehjs_load.v0+json": ""
     },
     "metadata": {},
     "output_type": "display_data"
    },
    {
     "data": {
      "text/html": [
       "\n",
       "  <div id=\"cdbb8b0e-a0df-4742-8241-8c67185ab72f\" data-root-id=\"p1161\" style=\"display: contents;\"></div>\n"
      ]
     },
     "metadata": {},
     "output_type": "display_data"
    },
    {
     "data": {
      "application/javascript": "(function(root) {\n  function embed_document(root) {\n  const docs_json = {\"cdc2882e-b85e-43b8-9d9a-00656ba5c69a\":{\"version\":\"3.4.2\",\"title\":\"Bokeh Application\",\"roots\":[{\"type\":\"object\",\"name\":\"Figure\",\"id\":\"p1161\",\"attributes\":{\"width\":550,\"height\":900,\"x_range\":{\"type\":\"object\",\"name\":\"Range1d\",\"id\":\"p1170\",\"attributes\":{\"start\":-2.0260772742456297,\"end\":88.09647987020217}},\"y_range\":{\"type\":\"object\",\"name\":\"FactorRange\",\"id\":\"p1171\",\"attributes\":{\"factors\":[\"Illinois\",\"Mississippi\",\"South Dakota\",\"Rhode Island\",\"Montana\",\"Washington\",\"Colorado\",\"Connecticut\",\"New Hampshire\",\"Virginia\",\"New Jersey\",\"Maryland\",\"Indiana\",\"Louisiana\",\"Maine\",\"California\",\"Nevada\",\"Florida\",\"Massachusetts\",\"Michigan\",\"Arizona\",\"Idaho\",\"New Mexico\",\"Pennsylvania\",\"Iowa\",\"North Carolina\",\"Kansas\",\"Vermont\",\"Hawaii\",\"Ohio\",\"Arkansas\",\"Alaska\",\"Tennessee\",\"Utah\",\"South Carolina\",\"Kentucky\",\"Georgia\",\"New York\",\"Wisconsin\",\"Missouri\",\"Oregon\",\"Texas\",\"Oklahoma\",\"Delaware\",\"Nebraska\",\"Minnesota\",\"Alabama\",\"West Virginia\",\"North Dakota\",\"Wyoming\"],\"range_padding\":0.02}},\"x_scale\":{\"type\":\"object\",\"name\":\"LinearScale\",\"id\":\"p1172\"},\"y_scale\":{\"type\":\"object\",\"name\":\"CategoricalScale\",\"id\":\"p1173\"},\"title\":{\"type\":\"object\",\"name\":\"Title\",\"id\":\"p1168\"},\"renderers\":[{\"type\":\"object\",\"name\":\"GlyphRenderer\",\"id\":\"p1198\",\"attributes\":{\"name\":\"rain_pct\",\"data_source\":{\"type\":\"object\",\"name\":\"ColumnDataSource\",\"id\":\"p1158\",\"attributes\":{\"selected\":{\"type\":\"object\",\"name\":\"Selection\",\"id\":\"p1159\",\"attributes\":{\"indices\":[],\"line_indices\":[]}},\"selection_policy\":{\"type\":\"object\",\"name\":\"UnionRenderers\",\"id\":\"p1160\"},\"data\":{\"type\":\"map\",\"entries\":[[\"index\",{\"type\":\"ndarray\",\"array\":{\"type\":\"bytes\",\"data\":\"DAAAABcAAAAoAAAAJgAAABkAAAAuAAAABQAAAAYAAAAcAAAALQAAAB0AAAATAAAADQAAABEAAAASAAAABAAAABsAAAAIAAAAFAAAABUAAAACAAAACwAAAB4AAAAlAAAADgAAACAAAAAPAAAALAAAAAoAAAAiAAAAAwAAAAEAAAApAAAAKwAAACcAAAAQAAAACQAAAB8AAAAwAAAAGAAAACQAAAAqAAAAIwAAAAcAAAAaAAAAFgAAAAAAAAAvAAAAIQAAADEAAAA=\"},\"shape\":[50],\"dtype\":\"int32\",\"order\":\"little\"}],[\"state\",{\"type\":\"ndarray\",\"array\":[\"Illinois\",\"Mississippi\",\"South Dakota\",\"Rhode Island\",\"Montana\",\"Washington\",\"Colorado\",\"Connecticut\",\"New Hampshire\",\"Virginia\",\"New Jersey\",\"Maryland\",\"Indiana\",\"Louisiana\",\"Maine\",\"California\",\"Nevada\",\"Florida\",\"Massachusetts\",\"Michigan\",\"Arizona\",\"Idaho\",\"New Mexico\",\"Pennsylvania\",\"Iowa\",\"North Carolina\",\"Kansas\",\"Vermont\",\"Hawaii\",\"Ohio\",\"Arkansas\",\"Alaska\",\"Tennessee\",\"Utah\",\"South Carolina\",\"Kentucky\",\"Georgia\",\"New York\",\"Wisconsin\",\"Missouri\",\"Oregon\",\"Texas\",\"Oklahoma\",\"Delaware\",\"Nebraska\",\"Minnesota\",\"Alabama\",\"West Virginia\",\"North Dakota\",\"Wyoming\"],\"shape\":[50],\"dtype\":\"object\",\"order\":\"little\"}],[\"rain_pct\",{\"type\":\"ndarray\",\"array\":{\"type\":\"bytes\",\"data\":\"rnmhWqY9DkC0eUP9sGciQHiif041UiNAa6eXwYPJFUCHRCLmyMMCQK5+eTwvkABAkDIM5BVGJkCvm2PAo6IuQCibDZTqYS9A7PIgpqLzJ0D/c3V1UMQHQGQFkCidkSRAOB0Yao/UJkC022tG7j8ZQHnP3uY+ZjRA9JVuwaniM0BF+/vuWHYsQLPhGWT/VxdAqGgsIIPvMEBaX1PAq4klQEeUpUq/ZiJAR/FAeMKjN0DX3dIJJUc8QN5vx4yQ7SdAa/LIgr/SJUDcJjdNDAYxQClUx1YGEDBA1+CtKKczLECbzUrRMUgiQPne0lqR1idAkJYIGW+gNkCm2LyqQT1CQEzrP7i+KiFAgZRLohiiI0B8fVKWjlQuQA9yf2gu8zhAzNinj93nMEALg4oKJhQcQNNQb5mqiCFA3NQcfiJLG0ADVXfHZ94sQIH5Zuu7fjJAOMEkKZu/MkAyjs+PlSQWQGszEexOdkBAxz3HWn52KkDi6LmSe+8rQOkaIOzzpTVAinZuXIa+OkAAAAAAAABVQA==\"},\"shape\":[50],\"dtype\":\"float64\",\"order\":\"little\"}],[\"rain_dol\",{\"type\":\"ndarray\",\"array\":{\"type\":\"bytes\",\"data\":\"AAAAAAAYnkAzMzMzMxuCQAAAAAAAgGtABJFFmrjwcEAAAAAAAIBdQGZmZmZmVoRAmpmZmZkhn0DNzMzMzB6qQM3MzMzMvG9ACj6L9MuyrUAzMzMzMw2ZQGZmZmZmx6ZAAAAAAACvoUCnBwWlqJGGQM3MzMzMWIxAAAAAAIBP50CgQbdVOEGMQGZmZmZmiKhAzczMzIygwEDNzMzMzH6dQM3MzMzMTJZAZmZmZmYukUCamZmZmS6mQAAAAAAA/bNAmpmZmZn5i0AAAAAAAI6yQM3MzMzMMJdApHA9CtcHckC1pnnHqWaOQAAAAAAALqtAZmZmZmZMlUBmZmZmZhigQAAAAAAAIJxAqM2TxkeKkkBmZmZmZjqfQAAAAAAAIKxAxhSscTp4tEAAAAAAAES5QDMzMzMzF5tAzczMzMy4i0AAAAAAAAagQEa28/1EyspAmpmZmZktmkBmZmZmZsZzQGZmZmZmXppA/Knx0o3gq0CamZmZmcmYQAAAAAAAuI9AmpmZmZnRgkAAAAAAAEyXQA==\"},\"shape\":[50],\"dtype\":\"float64\",\"order\":\"little\"}],[\"rain_color\",{\"type\":\"ndarray\",\"array\":[\"#D5AB53\",\"#D5AB53\",\"#D5AB53\",\"#D5AB53\",\"#D5AB53\",\"#D5AB53\",\"#D5AB53\",\"#D5AB53\",\"#D5AB53\",\"#D5AB53\",\"#D5AB53\",\"#D5AB53\",\"#D5AB53\",\"#D5AB53\",\"#D5AB53\",\"#D5AB53\",\"#D5AB53\",\"#D5AB53\",\"#D5AB53\",\"#D5AB53\",\"#D5AB53\",\"#D5AB53\",\"#D5AB53\",\"#D5AB53\",\"#D5AB53\",\"#D5AB53\",\"#D5AB53\",\"#D5AB53\",\"#D5AB53\",\"#D5AB53\",\"#D5AB53\",\"#D5AB53\",\"#EED17E\",\"#D5AB53\",\"#D5AB53\",\"#D5AB53\",\"#D5AB53\",\"#D5AB53\",\"#D5AB53\",\"#D5AB53\",\"#D5AB53\",\"#D5AB53\",\"#D5AB53\",\"#D5AB53\",\"#D5AB53\",\"#D5AB53\",\"#D5AB53\",\"#D5AB53\",\"#D5AB53\",\"#D5AB53\"],\"shape\":[50],\"dtype\":\"object\",\"order\":\"little\"}],[\"totbal_pct\",{\"type\":\"ndarray\",\"array\":{\"type\":\"bytes\",\"data\":\"pVtAkZWIEECteUP9sGciQHiif041UiNAASo24Mv0JEBTZRTIzpcoQG5c6nVx0ylAbEM71b+BK0Cvm2PAo6IuQCibDZTqYS9ADGKmjeqKMECEKzMY4qYxQOZLVNKlczJA1adsz+iJNEC2CaDlScc0QNYlSMTm5DRAQcpuNquqNUASPuijZ8w3QNkGIksX2jlAi+dcXXGoOkCFgXr72VM7QB/8wcZSHTxAtc6YyW4qPEAOr3i2EEM8QCK5H/YwVj5Acm6vu2xyPkAFlAX8EGU/QMqJSWElDEBANx+D8zE4QEDi6EhudDlAQKCHW7iIP0BARbqHVARHQEDR5BDlLU9AQIu5t7xSWUBAsZtKxEqGQEDrqoE7riVCQLex9lxzwkJA+IB9zgvRQ0AsUGjTOR9FQOZl50W+VEZA2BYwKmcYR0Dv9V7YT4BHQMgKyFWp60dAHprT3GKRSUDhrTbUy19LQP9UyNkD5UxAfWasAiDDTUD+u26XKq5OQPH3C2gYh09ATXP3L1HPVEAAAAAAAABVQA==\"},\"shape\":[50],\"dtype\":\"float64\",\"order\":\"little\"}],[\"2023\",{\"type\":\"ndarray\",\"array\":{\"type\":\"bytes\",\"data\":\"AAAAAAB0oEArMzMzMxuCQAAAAAAAgGtAIu9VK1NLgEDQzMzMzFSDQAoAAAAAtq9ACAAAAAA5o0DNzMzMzB6qQM3MzMzMvG9AoTjfk/+CtEBkZmZmJpvCQDczMzMzb7RAMDMzMzPRr0DK59ztipKiQNXMzMzMCI1AzczMzAxm6UBYrYaj+5+XQDIzMzMzK8tAYGZmZiYsykDPzMzMTLayQJWZmZkZCbFA6lG4HoV4lEBkZmZmZiumQAAAAACAV8lAyszMzMyDo0AwMzMz8xvBQDIzMzMzK6dAjsL1KFy9hEANda9RwPqqQJyZmZmZhsJAyszMzMyknkDMzMzMzMicQGhmZmbmyLpA5EcNt481r0A0MzMzM6+yQJiZmZmZJbVAfjdAXYD+x0AAAAAAgAHjQDlFR3JRQMFANDMzMzN1t0D6nlinoha6QMZZ4AQRU+FAmJmZmZnZsUBkZmZmZnKoQDUzMzMzJKdAIgaBlVNaz0CYmZmZGTm7QOAkBoHVGKdANTMzMzNJnUAAAAAAAEyXQA==\"},\"shape\":[50],\"dtype\":\"float64\",\"order\":\"little\"}],[\"totbal_color\",{\"type\":\"ndarray\",\"array\":[\"#3477A5\",\"#3477A5\",\"#3477A5\",\"#3477A5\",\"#3477A5\",\"#3477A5\",\"#3477A5\",\"#3477A5\",\"#3477A5\",\"#3477A5\",\"#3477A5\",\"#3477A5\",\"#3477A5\",\"#3477A5\",\"#3477A5\",\"#3477A5\",\"#3477A5\",\"#3477A5\",\"#3477A5\",\"#3477A5\",\"#3477A5\",\"#3477A5\",\"#3477A5\",\"#3477A5\",\"#3477A5\",\"#3477A5\",\"#3477A5\",\"#3477A5\",\"#3477A5\",\"#3477A5\",\"#3477A5\",\"#3477A5\",\"#74AAC7\",\"#3477A5\",\"#3477A5\",\"#3477A5\",\"#3477A5\",\"#3477A5\",\"#3477A5\",\"#3477A5\",\"#3477A5\",\"#3477A5\",\"#3477A5\",\"#3477A5\",\"#3477A5\",\"#3477A5\",\"#3477A5\",\"#3477A5\",\"#3477A5\",\"#3477A5\"],\"shape\":[50],\"dtype\":\"object\",\"order\":\"little\"}],[\"totbal_rain_pct_dif\",{\"type\":\"ndarray\",\"array\":{\"type\":\"bytes\",\"data\":\"4Oz5Piac1j8AAAAAAAAMvQAAAAAAAAAAl6zU/hMgFEAx1IuO3OYjQML8y6ZlryVAcEO8xKfuBEAAAAAAAAAAAAAAAAAAAAAAWKJX6mREEkAI+ggTsFwtQGiSGHyuVSBAcjLBNEI/IkCSJQqonO4sQECXVVr3qd8/0EQDUBeA/D/fgNRYdiIjQGyOG3IXBDRAxv1getxxI0DY0VAbBI8wQPwxbyHz6TJAuHVfRbEaEkAAJLtoTVGQvzMBvK9oXzJAPPVK+gyJM0BS2pxdCb4sQGu/y2tECDBAAk6vUpBWMkD2auzzz043QMSfTcPIkzRA9LsNIDPbI0BQPb9aPOEOwHB9Tx1GHThAIm1vN4k7N0AYF9orFSE1QL7i26JwIylAJClTDTq6NkDL/xYStZxBQLGRi5+T8kFAPHxs2gKvQ0CuIIHmtUhAQA8cKcCWWD1AgjlBSJUxQEAbvDwiOZtIQChDbttp3ThAC5f6a4AlR0DGQcCyS7JHQHzq+3EetERAVau3MV8/TEAAAAAAAAAAAA==\"},\"shape\":[50],\"dtype\":\"float64\",\"order\":\"little\"}]]}}},\"view\":{\"type\":\"object\",\"name\":\"CDSView\",\"id\":\"p1199\",\"attributes\":{\"filter\":{\"type\":\"object\",\"name\":\"AllIndices\",\"id\":\"p1200\"}}},\"glyph\":{\"type\":\"object\",\"name\":\"HBar\",\"id\":\"p1195\",\"attributes\":{\"y\":{\"type\":\"field\",\"field\":\"state\"},\"height\":{\"type\":\"value\",\"value\":0.9},\"left\":{\"type\":\"expr\",\"expr\":{\"type\":\"object\",\"name\":\"Stack\",\"id\":\"p1188\",\"attributes\":{\"fields\":[]}}},\"right\":{\"type\":\"expr\",\"expr\":{\"type\":\"object\",\"name\":\"Stack\",\"id\":\"p1189\",\"attributes\":{\"fields\":[\"rain_pct\"]}}},\"line_color\":{\"type\":\"field\",\"field\":\"rain_color\"},\"fill_color\":{\"type\":\"field\",\"field\":\"rain_color\"},\"hatch_color\":{\"type\":\"field\",\"field\":\"rain_color\"}}},\"nonselection_glyph\":{\"type\":\"object\",\"name\":\"HBar\",\"id\":\"p1196\",\"attributes\":{\"y\":{\"type\":\"field\",\"field\":\"state\"},\"height\":{\"type\":\"value\",\"value\":0.9},\"left\":{\"type\":\"expr\",\"expr\":{\"id\":\"p1188\"}},\"right\":{\"type\":\"expr\",\"expr\":{\"id\":\"p1189\"}},\"line_color\":{\"type\":\"field\",\"field\":\"rain_color\"},\"line_alpha\":{\"type\":\"value\",\"value\":0.1},\"fill_color\":{\"type\":\"field\",\"field\":\"rain_color\"},\"fill_alpha\":{\"type\":\"value\",\"value\":0.1},\"hatch_color\":{\"type\":\"field\",\"field\":\"rain_color\"},\"hatch_alpha\":{\"type\":\"value\",\"value\":0.1}}},\"muted_glyph\":{\"type\":\"object\",\"name\":\"HBar\",\"id\":\"p1197\",\"attributes\":{\"y\":{\"type\":\"field\",\"field\":\"state\"},\"height\":{\"type\":\"value\",\"value\":0.9},\"left\":{\"type\":\"expr\",\"expr\":{\"id\":\"p1188\"}},\"right\":{\"type\":\"expr\",\"expr\":{\"id\":\"p1189\"}},\"line_color\":{\"type\":\"field\",\"field\":\"rain_color\"},\"line_alpha\":{\"type\":\"value\",\"value\":0.2},\"fill_color\":{\"type\":\"field\",\"field\":\"rain_color\"},\"fill_alpha\":{\"type\":\"value\",\"value\":0.2},\"hatch_color\":{\"type\":\"field\",\"field\":\"rain_color\"},\"hatch_alpha\":{\"type\":\"value\",\"value\":0.2}}}}},{\"type\":\"object\",\"name\":\"GlyphRenderer\",\"id\":\"p1209\",\"attributes\":{\"name\":\"totbal_rain_pct_dif\",\"data_source\":{\"id\":\"p1158\"},\"view\":{\"type\":\"object\",\"name\":\"CDSView\",\"id\":\"p1210\",\"attributes\":{\"filter\":{\"type\":\"object\",\"name\":\"AllIndices\",\"id\":\"p1211\"}}},\"glyph\":{\"type\":\"object\",\"name\":\"HBar\",\"id\":\"p1206\",\"attributes\":{\"y\":{\"type\":\"field\",\"field\":\"state\"},\"height\":{\"type\":\"value\",\"value\":0.9},\"left\":{\"type\":\"expr\",\"expr\":{\"type\":\"object\",\"name\":\"Stack\",\"id\":\"p1190\",\"attributes\":{\"fields\":[\"rain_pct\"]}}},\"right\":{\"type\":\"expr\",\"expr\":{\"type\":\"object\",\"name\":\"Stack\",\"id\":\"p1191\",\"attributes\":{\"fields\":[\"rain_pct\",\"totbal_rain_pct_dif\"]}}},\"line_color\":{\"type\":\"field\",\"field\":\"totbal_color\"},\"fill_color\":{\"type\":\"field\",\"field\":\"totbal_color\"},\"hatch_color\":{\"type\":\"field\",\"field\":\"totbal_color\"}}},\"nonselection_glyph\":{\"type\":\"object\",\"name\":\"HBar\",\"id\":\"p1207\",\"attributes\":{\"y\":{\"type\":\"field\",\"field\":\"state\"},\"height\":{\"type\":\"value\",\"value\":0.9},\"left\":{\"type\":\"expr\",\"expr\":{\"id\":\"p1190\"}},\"right\":{\"type\":\"expr\",\"expr\":{\"id\":\"p1191\"}},\"line_color\":{\"type\":\"field\",\"field\":\"totbal_color\"},\"line_alpha\":{\"type\":\"value\",\"value\":0.1},\"fill_color\":{\"type\":\"field\",\"field\":\"totbal_color\"},\"fill_alpha\":{\"type\":\"value\",\"value\":0.1},\"hatch_color\":{\"type\":\"field\",\"field\":\"totbal_color\"},\"hatch_alpha\":{\"type\":\"value\",\"value\":0.1}}},\"muted_glyph\":{\"type\":\"object\",\"name\":\"HBar\",\"id\":\"p1208\",\"attributes\":{\"y\":{\"type\":\"field\",\"field\":\"state\"},\"height\":{\"type\":\"value\",\"value\":0.9},\"left\":{\"type\":\"expr\",\"expr\":{\"id\":\"p1190\"}},\"right\":{\"type\":\"expr\",\"expr\":{\"id\":\"p1191\"}},\"line_color\":{\"type\":\"field\",\"field\":\"totbal_color\"},\"line_alpha\":{\"type\":\"value\",\"value\":0.2},\"fill_color\":{\"type\":\"field\",\"field\":\"totbal_color\"},\"fill_alpha\":{\"type\":\"value\",\"value\":0.2},\"hatch_color\":{\"type\":\"field\",\"field\":\"totbal_color\"},\"hatch_alpha\":{\"type\":\"value\",\"value\":0.2}}}}}],\"toolbar\":{\"type\":\"object\",\"name\":\"Toolbar\",\"id\":\"p1169\",\"attributes\":{\"logo\":null,\"tools\":[{\"type\":\"object\",\"name\":\"SaveTool\",\"id\":\"p1184\"},{\"type\":\"object\",\"name\":\"HelpTool\",\"id\":\"p1185\"},{\"type\":\"object\",\"name\":\"HoverTool\",\"id\":\"p1213\",\"attributes\":{\"visible\":false,\"renderers\":\"auto\",\"tooltips\":[[\"State\",\"@state\"],[\"Rainy day fund % exps.\",\"@rain_pct{0.0}%\"],[\"Total balances % exps.\",\"@totbal_pct{0.0}%\"]]}}],\"active_drag\":null,\"active_scroll\":null,\"active_tap\":null}},\"left\":[{\"type\":\"object\",\"name\":\"CategoricalAxis\",\"id\":\"p1179\",\"attributes\":{\"ticker\":{\"type\":\"object\",\"name\":\"CategoricalTicker\",\"id\":\"p1180\"},\"formatter\":{\"type\":\"object\",\"name\":\"CategoricalTickFormatter\",\"id\":\"p1181\"},\"axis_label_text_font_size\":\"9pt\",\"major_label_policy\":{\"type\":\"object\",\"name\":\"AllLabels\",\"id\":\"p1182\"},\"major_label_text_color\":\"#434244\",\"major_label_text_font_size\":\"9pt\",\"axis_line_color\":\"#434244\",\"major_tick_line_color\":\"#434244\",\"minor_tick_line_color\":\"#434244\"}}],\"above\":[{\"type\":\"object\",\"name\":\"Title\",\"id\":\"p1214\",\"attributes\":{\"text\":\"as Percent of General Fund Expenditures\",\"text_color\":\"#434244\",\"text_font_size\":\"13pt\",\"align\":\"center\"}},{\"type\":\"object\",\"name\":\"Title\",\"id\":\"p1215\",\"attributes\":{\"text\":\"Figure 5. State 2023 Rainy day Fund Balances and Total Fund Balances\",\"text_color\":\"#434244\",\"text_font_size\":\"13pt\",\"align\":\"center\"}}],\"below\":[{\"type\":\"object\",\"name\":\"LinearAxis\",\"id\":\"p1174\",\"attributes\":{\"ticker\":{\"type\":\"object\",\"name\":\"SingleIntervalTicker\",\"id\":\"p1186\",\"attributes\":{\"interval\":10}},\"formatter\":{\"type\":\"object\",\"name\":\"BasicTickFormatter\",\"id\":\"p1176\"},\"axis_label\":\"Percentage of general fund expenditures\",\"axis_label_text_font_size\":\"11pt\",\"major_label_policy\":{\"type\":\"object\",\"name\":\"AllLabels\",\"id\":\"p1177\"},\"major_label_text_color\":\"#434244\",\"major_label_text_font_size\":\"11pt\",\"axis_line_color\":\"#434244\",\"major_tick_line_color\":\"#434244\",\"minor_tick_line_color\":\"#434244\"}},{\"type\":\"object\",\"name\":\"Title\",\"id\":\"p1216\",\"attributes\":{\"text\":\"Source: Pew Charitable Trusts, \\\"Fiscal 50: State Trends and Analysis,\\\"\",\"text_color\":\"#434244\",\"text_font_size\":\"10pt\",\"text_font_style\":\"italic\"}},{\"type\":\"object\",\"name\":\"Title\",\"id\":\"p1217\",\"attributes\":{\"text\":\"        Feb. 16, 2024, accessed July 3, 2024.\",\"text_color\":\"#434244\",\"text_font_size\":\"10pt\",\"text_font_style\":\"italic\"}},{\"type\":\"object\",\"name\":\"Title\",\"id\":\"p1218\",\"attributes\":{\"text\":\"Note: For states in which the blue bar is not visible for total balances\",\"text_color\":\"#434244\",\"text_font_size\":\"10pt\",\"text_font_style\":\"italic\"}},{\"type\":\"object\",\"name\":\"Title\",\"id\":\"p1219\",\"attributes\":{\"text\":\"        and reserves, the value equals the rainy day fund balance\",\"text_color\":\"#434244\",\"text_font_size\":\"10pt\",\"text_font_style\":\"italic\"}},{\"type\":\"object\",\"name\":\"Title\",\"id\":\"p1220\",\"attributes\":{\"text\":\"        percentage.\",\"text_color\":\"#434244\",\"text_font_size\":\"10pt\",\"text_font_style\":\"italic\"}}],\"center\":[{\"type\":\"object\",\"name\":\"Grid\",\"id\":\"p1178\",\"attributes\":{\"axis\":{\"id\":\"p1174\"},\"ticker\":{\"type\":\"object\",\"name\":\"SingleIntervalTicker\",\"id\":\"p1187\",\"attributes\":{\"interval\":10}}}},{\"type\":\"object\",\"name\":\"Grid\",\"id\":\"p1183\",\"attributes\":{\"dimension\":1,\"axis\":{\"id\":\"p1179\"}}},{\"type\":\"object\",\"name\":\"Legend\",\"id\":\"p1201\",\"attributes\":{\"location\":[190,240],\"border_line_color\":\"#434244\",\"border_line_alpha\":1,\"label_text_color\":\"#434244\",\"label_text_font_size\":\"11pt\",\"items\":[{\"type\":\"object\",\"name\":\"LegendItem\",\"id\":\"p1202\",\"attributes\":{\"label\":{\"type\":\"value\",\"value\":\"Rainy day fund\"},\"renderers\":[{\"id\":\"p1198\"}]}},{\"type\":\"object\",\"name\":\"LegendItem\",\"id\":\"p1212\",\"attributes\":{\"label\":{\"type\":\"value\",\"value\":\"Total reserves and balances\"},\"renderers\":[{\"id\":\"p1209\"}]}}]}}]}}]}};\n  const render_items = [{\"docid\":\"cdc2882e-b85e-43b8-9d9a-00656ba5c69a\",\"roots\":{\"p1161\":\"cdbb8b0e-a0df-4742-8241-8c67185ab72f\"},\"root_ids\":[\"p1161\"]}];\n  void root.Bokeh.embed.embed_items_notebook(docs_json, render_items);\n  }\n  if (root.Bokeh !== undefined) {\n    embed_document(root);\n  } else {\n    let attempts = 0;\n    const timer = setInterval(function(root) {\n      if (root.Bokeh !== undefined) {\n        clearInterval(timer);\n        embed_document(root);\n      } else {\n        attempts++;\n        if (attempts > 100) {\n          clearInterval(timer);\n          console.log(\"Bokeh: ERROR: Unable to run BokehJS code because BokehJS library is missing\");\n        }\n      }\n    }, 10, root)\n  }\n})(window);",
      "application/vnd.bokehjs_exec.v0+json": ""
     },
     "metadata": {
      "application/vnd.bokehjs_exec.v0+json": {
       "id": "p1161"
      }
     },
     "output_type": "display_data"
    }
   ],
   "source": [
    "# Create Bokeh plot Fig 5: State 2023 Rainy day Fund Balances and Total Fund\n",
    "# Balances as Percent of General Fund Expenditures\n",
    "fig5_title_lst = [\n",
    "    (\"Figure 5. State 2023 Rainy day Fund Balances and Total Fund Balances\"),\n",
    "    (\"as Percent of General Fund Expenditures\")\n",
    "]\n",
    "# fig5_title_lst = []\n",
    "fig5_title_short = \"Figure 5. State 2023 Rainy Day fund and Total Reserves\"\n",
    "filename_fig5 = \"fig5_rain_totbal_pct_2023.html\"\n",
    "output_file(\n",
    "    os.path.join(image_dir, filename_fig5),\n",
    "    title=fig5_title_short,\n",
    "    mode=\"inline\",\n",
    ")\n",
    "output_notebook()\n",
    "\n",
    "states = rain_totbal_pct_dol_2023_sorted_df['state'].tolist()\n",
    "legend_label_list_fig5 = [\"Rainy day fund\", \"Total reserves and balances\"]\n",
    "rain_totbal_pct_dol_2023_cds = \\\n",
    "    ColumnDataSource(rain_totbal_pct_dol_2023_sorted_df)\n",
    "\n",
    "min_pct = rain_totbal_pct_dol_2023_sorted_df['rain_pct'].min()\n",
    "max_pct = rain_totbal_pct_dol_2023_sorted_df['totbal_pct'].max()\n",
    "pct_buffer = 0.05\n",
    "fig5_height = 900\n",
    "fig5_width = 550\n",
    "\n",
    "fig5 = figure(\n",
    "    height=fig5_height,\n",
    "    width=fig5_width,\n",
    "    y_range=states,\n",
    "    x_axis_label='Percentage of general fund expenditures',\n",
    "    x_range=(min_pct - pct_buffer * (max_pct - min_pct),\n",
    "             max_pct + pct_buffer * (max_pct - min_pct)),\n",
    "    tools=[\"save\", \"help\"],\n",
    "    toolbar_location=\"right\"\n",
    ")\n",
    "fig5.toolbar.logo = None\n",
    "\n",
    "# Turn off any pan, drag, or scrolling ability\n",
    "fig5.toolbar.active_drag = None\n",
    "fig5.toolbar.active_scroll = None\n",
    "fig5.toolbar.active_tap = None\n",
    "\n",
    "# Set title font size and axes font sizes\n",
    "fig5.xaxis.axis_label_text_font_size = '11pt'\n",
    "fig5.xaxis.major_label_text_font_size = '11pt'\n",
    "fig5.xaxis.major_label_text_color = '#434244'\n",
    "fig5.yaxis.axis_label_text_font_size = '9pt'\n",
    "fig5.yaxis.major_label_text_font_size = '9pt'\n",
    "fig5.yaxis.major_label_text_color = '#434244'\n",
    "\n",
    "# Modify tick intervals for X-axis and Y-axis\n",
    "fig5.xaxis.ticker = SingleIntervalTicker(interval=10, num_minor_ticks=5)\n",
    "fig5.xaxis.axis_line_color = '#434244'\n",
    "fig5.xaxis.major_tick_line_color = '#434244'\n",
    "fig5.xaxis.minor_tick_line_color = '#434244'\n",
    "fig5.xgrid.ticker = SingleIntervalTicker(interval=10)\n",
    "fig5.yaxis.axis_line_color = '#434244'\n",
    "fig5.yaxis.major_tick_line_color = '#434244'\n",
    "fig5.yaxis.minor_tick_line_color = '#434244'\n",
    "\n",
    "fig5.hbar_stack(\n",
    "    ['rain_pct', 'totbal_rain_pct_dif'], y='state', height=0.9,\n",
    "    color=['rain_color', 'totbal_color'],\n",
    "    source=rain_totbal_pct_dol_2023_cds, legend_label=legend_label_list_fig5\n",
    ")\n",
    "\n",
    "# Add information on hover\n",
    "tooltips_fig5 = [\n",
    "    ('State', '@state'),\n",
    "    ('Rainy day fund % exps.','@rain_pct{0.0}' + '%'),\n",
    "    ('Total balances % exps.','@totbal_pct{0.0}' + '%'),\n",
    "]\n",
    "fig5.add_tools(HoverTool(tooltips=tooltips_fig5, visible=False))\n",
    "\n",
    "# Add legend\n",
    "fig5.legend.location = (190, 240)\n",
    "fig5.legend.border_line_width = 1\n",
    "fig5.legend.border_line_color = '#434244'\n",
    "fig5.legend.border_line_alpha = 1\n",
    "fig5.legend.label_text_color = '#434244'\n",
    "fig5.legend.label_text_font_size = '11pt'\n",
    "fig5.legend.label_text_color = '#434244'\n",
    "fig5.y_range.range_padding = 0.02\n",
    "\n",
    "# Add title and subtitle to the plot doing reverse loop through items in\n",
    "# figx_title_lst\n",
    "for title_line_str in fig5_title_lst[::-1]:\n",
    "    fig5.add_layout(\n",
    "        Title(\n",
    "            text=title_line_str,\n",
    "            text_font_style=\"bold\",\n",
    "            text_color='#434244',\n",
    "            text_font_size=\"13pt\",\n",
    "            align=\"center\",\n",
    "        ),\n",
    "        \"above\",\n",
    "    )\n",
    "\n",
    "# Add notes below image\n",
    "note_text_list5 = [\n",
    "    (\n",
    "        'Source: Pew Charitable Trusts, \"Fiscal 50: State Trends and '+\n",
    "        'Analysis,\"'\n",
    "    ),\n",
    "    ('        Feb. 16, 2024, accessed July 3, 2024.'),\n",
    "    (\n",
    "        'Note: For states in which the blue bar is not visible for total ' +\n",
    "        'balances'\n",
    "    ),\n",
    "    (\n",
    "        '        and reserves, the value equals the rainy day fund balance'\n",
    "    ),\n",
    "    (\n",
    "        '        percentage.'\n",
    "    )\n",
    "]\n",
    "for note_text in note_text_list5:\n",
    "    caption = Title(\n",
    "        text=note_text, align='left', text_font_size='10pt',\n",
    "        text_font_style='italic', text_color='#434244'\n",
    "    )\n",
    "    fig5.add_layout(caption, 'below')\n",
    "\n",
    "show(fig5)"
   ]
  },
  {
   "cell_type": "markdown",
   "metadata": {},
   "source": [
    "## 2. Tennessee Business Tax Landscape\n",
    "Important features of TN business tax system:\n",
    "* 4 main components:\n",
    "  1. \"Excise Tax\"\n",
    "    * Essentailly a CIT\n",
    "    * Rate is 6.5%\n",
    "    * Depreciation handled under same rules as IRC and follows federal bonus depreciation bonus depreciation.\n",
    "  2. Franchise tax\n",
    "    * Tax on the value of assets of the business\n",
    "    * Rate is 0.25%\n",
    "  3. Gross receipts tax\n",
    "    * TVA\n",
    "    * mixed drinks\n",
    "    * vending machines\n",
    "    * bottlers\n",
    "  4. Business tax\n",
    "    * Tax on the gross receipts of the business\n",
    "    * Some industries (e.g., utilities) handled differently\n",
    "    * Rate varies (see [here, p. 62](https://www.tn.gov/content/dam/tn/revenue/documents/tax_manuals/august-2022/Business-Tax.pdf))\n",
    "      * Varies between 0.02% and 0.1% (depends on industry)"
   ]
  },
  {
   "cell_type": "markdown",
   "metadata": {},
   "source": [
    "### Table 3. Tennessee business taxes: dollars and percent of total tax revenue"
   ]
  },
  {
   "attachments": {},
   "cell_type": "markdown",
   "metadata": {},
   "source": [
    "## 3. Investment Incentives using Cost of Capital Calculator\n",
    "Computing the cost-of-capital at the state-level:\n",
    "  * the statutory rate used will be the sum of the federal and state CIT\n",
    "    * But can deduct state taxes at federal level\n",
    "    * So maybe rate is Fed Rate + State rate - fed rate * state rate?\n",
    "  * franchise tax can use the wealth tax parameter in CCC\n",
    "  * The interaction of state and federal is not something I want to rush into CCC, so we'll do most of the calculations here by functions defined in this notebook (with a bit of assistance from a couple CCC functions.\n",
    "\n",
    "\n",
    "Equation for the cost of capital at when considering state taxes in TN:\n",
    "$$\n",
    "\\rho = \\left[\\frac{(r-\\pi+\\delta)(1-k-u^fz^f-u^sz^s + u^fu^sz^s)}{(1-u^f-u^s+u^fu^s)} + w \\right] / (1-\\tau^{GR}) - \\delta\n",
    "$$\n",
    "where:\n",
    "* $\\rho$ = cost of capital\n",
    "* $r$ = nominal discount rate\n",
    "* $\\pi$ = inflation rate\n",
    "* $k$ = investment tax credit rate\n",
    "* $u^f$ = statutory CIT rate at the federal level \n",
    "* $u^s$ = statutory CIT rate at the state level \n",
    "* $z^f$ = NPV of depreciation deduction under federal system\n",
    "* $z^s$ = NPV of depreciation deduction under state system\n",
    "* $w$ = property tax rate\n",
    "* $\\tau^{GR}$ = gross receipts tax rate\n",
    "\n",
    "Calibration:\n",
    "\n",
    "| Parameter     | Value | Source |\n",
    "| ----------- | ----------- |----------- |\n",
    "| $r$     | 0.06      | To give real return of 4\\%|\n",
    "| $\\pi$  | 0.02      | Fed target|\n",
    "| $k$  | 0.0        | No general invest tax credit at federal or state level|\n",
    "| $u^f$  | 0.21       | Federal IRC|\n",
    "| $u^s$  | 0.065       | Excise tax rate in TN law|\n",
    "| $z^f$  | Varies        | Federal IRC|\n",
    "| $z^s$  |   Varies      | Like Federal IRC, but no bonus deprec|\n",
    "| $w$  | 0.0025       | Franchise tax rate in TN law |\n",
    "| $\\tau^{GR}$  | 0.0002-0.001       | Bus tax rate in TN law|"
   ]
  },
  {
   "cell_type": "markdown",
   "metadata": {
    "id": "FPc-vbli8fsb"
   },
   "source": [
    "### Setup\n",
    "\n",
    "Create objects to work with"
   ]
  },
  {
   "cell_type": "code",
   "execution_count": 9,
   "metadata": {
    "id": "g-V3V27Rc4Bo"
   },
   "outputs": [],
   "source": [
    "# Creating an instance of the Assets class and call it \"assets\"\n",
    "assets = ccc.data.Assets()\n",
    "# Create an instance of the DepreciationParams\n",
    "# class object and call it dp\n",
    "dp = ccc.parameters.DepreciationParams()"
   ]
  },
  {
   "cell_type": "code",
   "execution_count": 10,
   "metadata": {
    "id": "7DDWmsRDowWK"
   },
   "outputs": [],
   "source": [
    "# define new cost of capital function to take into account state taxes\n",
    "def eq_coc_state(delta, z_f, z_s, w, u_f, u_s, tau_GR, inv_tax_credit, pi, r):\n",
    "    r'''\n",
    "    Compute the cost of capital\n",
    "    .. math::\n",
    "        \\rho = \\frac{\\frac{(r-\\pi+\\delta)}{1-u^f-u^s+u^fu^s}(1-u^fz^f-u^sz^s+u^fu^sz^s)+w}{(1-\\tau^GR)}-\\delta\n",
    "    Args:\n",
    "        delta (array_like): rate of economic depreciation\n",
    "        z_f (array_like): net present value of depreciation deductions for\n",
    "            $1 of investment under the federal system\n",
    "        z_s (array_like): net present value of depreciation deductions for\n",
    "            $1 of investment under the state system\n",
    "        w (scalar): property tax rate\n",
    "        u_f (scalar): statutory marginal tax rate for the first layer of\n",
    "            income taxes at the federal level\n",
    "        u_s (scalar): statutory marginal tax rate for the first layer of\n",
    "            income taxes at the state level\n",
    "        tau_GR (scalar): gross receipts tax\n",
    "        inv_tax_credit (scalar): investment tax credit rate\n",
    "        pi (scalar): inflation rate\n",
    "        r (scalar): discount rate\n",
    "    Returns:\n",
    "        rho (array_like): the cost of capital\n",
    "    '''\n",
    "    rho = (\n",
    "        ((((r - pi + delta) / (1 - u_f - u_s + u_f * u_s)) *\n",
    "          (1 - inv_tax_credit - u_f * z_f - u_s * z_s + u_f * u_s * z_s) + w) /\n",
    "         (1 - tau_GR)) - delta\n",
    "    )\n",
    "\n",
    "    return rho"
   ]
  },
  {
   "cell_type": "code",
   "execution_count": 11,
   "metadata": {
    "id": "gQahy5bAAuzv"
   },
   "outputs": [],
   "source": [
    "# Define model parameters\n",
    "inflation_rate = 0.02 # Inflation rate\n",
    "nominal_int_rate = 0.06\n",
    "fraction_financed_w_debt = 0.0\n",
    "federal_bonus_depreciation = {\"machines\": 0.4, \"buildings\": 0.0, \"intangibles\": 0.4}\n",
    "depreciation_rates = {\"machines\": 0.1031, \"buildings\": 0.0314, \"intangibles\": 0.33}\n",
    "# Example machine: EI40, example building: SI00, example intangible: ENS3\n",
    "depreciation_lives = {\"machines\": 7, \"buildings\": 39, \"intangibles\": 3}\n",
    "depreciation_methods = {\"machines\": \"dbsl\", \"buildings\": \"sl\", \"intangibles\": \"sl\"}\n",
    "E = 0.06  # Expected after-tax return on corporate equity\n",
    "profit_rate = 0.2 # 0.2 is a 20% profit rate\n",
    "int_haircut = 0.0\n",
    "u_f = 0.21\n",
    "u_s = 0.065\n",
    "franchise_tax_rate = 0.0025\n",
    "tau_GR = 0.001 # this is the higher end 0.0002-0.001 is what TF reports, varies by industry\n",
    "inv_tax_credit = 0.0\n",
    "bonus_s = {\"machines\": 1.0, \"buildings\": 0.0, \"intangibles\": 1.0}\n"
   ]
  },
  {
   "cell_type": "code",
   "execution_count": 12,
   "metadata": {
    "id": "O42yHQtvTU23"
   },
   "outputs": [],
   "source": [
    "# compute outputs\n",
    "def compute_outputs(u_s, bonus_s, franchise_tax_rate, tau_GR):\n",
    "    \"\"\"\n",
    "    This function computes the outputs of interest and allows one to change the\n",
    "    parameters of TN state law\n",
    "\n",
    "    Args:\n",
    "      u_s (scalar): statutory marginal tax rate for the first layer of\n",
    "            income taxes at the state level\n",
    "      bonus_s (dict): rates of bonus depreciation in TN by asset type\n",
    "      franchise_tax_rate (scalar): TN franchise tax rate\n",
    "      excise_tax_rate (scalar): TN excise tax rate\n",
    "      tau_GR (scalar): gross receipts tax\n",
    "    \"\"\"\n",
    "    out_dict = {\"machines\": {}, \"buildings\": {}, \"intangibles\": {}}\n",
    "    for k, v in depreciation_rates.items():\n",
    "        r = ccc.paramfunctions.calc_r(\n",
    "            u_f + u_s - u_f * u_s, nominal_int_rate, inflation_rate,\n",
    "            nominal_int_rate, fraction_financed_w_debt, int_haircut, E, 0.0)\n",
    "        r_prime = ccc.paramfunctions.calc_r_prime(\n",
    "            nominal_int_rate, inflation_rate, fraction_financed_w_debt, E)\n",
    "        if depreciation_methods[k] == \"dbsl\":\n",
    "            z_f = ccc.calcfunctions.dbsl(depreciation_lives[k], 2, federal_bonus_depreciation[k], r)\n",
    "            z_s = ccc.calcfunctions.dbsl(depreciation_lives[k], 2, bonus_s[k], r)\n",
    "        elif depreciation_methods[k] == \"sl\":\n",
    "            z_f = ccc.calcfunctions.sl(depreciation_lives[k], federal_bonus_depreciation[k], r)\n",
    "            z_s = ccc.calcfunctions.sl(depreciation_lives[k], bonus_s[k], r)\n",
    "        else:\n",
    "          print(\"Please enter one of: dbsl, sl\")\n",
    "          assert False\n",
    "        rho = eq_coc_state(\n",
    "            depreciation_rates[k], z_f, z_s, franchise_tax_rate, u_f, u_s,\n",
    "            tau_GR, inv_tax_credit, inflation_rate, r\n",
    "        )\n",
    "        metr = ccc.calcfunctions.eq_metr(rho, r_prime, inflation_rate)\n",
    "        eatr = ccc.calcfunctions.eq_eatr(\n",
    "            rho, metr, profit_rate, u_f + u_f - u_f * u_s\n",
    "        )\n",
    "        out_dict[k][\"rho\"] = rho\n",
    "        out_dict[k][\"metr\"] = metr\n",
    "        out_dict[k][\"eatr\"] = eatr\n",
    "    return out_dict"
   ]
  },
  {
   "cell_type": "code",
   "execution_count": 13,
   "metadata": {
    "id": "C37mzRCgUtav"
   },
   "outputs": [],
   "source": [
    "# Current law\n",
    "base_df = pd.DataFrame(compute_outputs(\n",
    "    u_s, federal_bonus_depreciation, franchise_tax_rate, tau_GR\n",
    "))\n",
    "# Set TN bonus depreciation to 100 percent\n",
    "tnbonus_df = pd.DataFrame(compute_outputs(\n",
    "    u_s, bonus_s, franchise_tax_rate, tau_GR\n",
    "))\n",
    "# Reduce the TN excise tax rate from 6.5 percent to 6.0 percent\n",
    "excise_df = pd.DataFrame(compute_outputs(\n",
    "    0.060, federal_bonus_depreciation, franchise_tax_rate, tau_GR\n",
    "))\n",
    "franchise_df = pd.DataFrame(compute_outputs(\n",
    "    u_s, federal_bonus_depreciation, 0.0020, tau_GR\n",
    "))\n",
    "# Repeal TN business tax and gross receipts tax\n",
    "repealBusGR_df = pd.DataFrame(compute_outputs(\n",
    "    u_s, federal_bonus_depreciation, franchise_tax_rate, 0.0\n",
    "))"
   ]
  },
  {
   "cell_type": "code",
   "execution_count": 14,
   "metadata": {
    "id": "S_sLTwn_XYZp"
   },
   "outputs": [],
   "source": [
    "# Create policy names and put in one dataframe\n",
    "base_df['Policy'] = \"Current Law\"\n",
    "repealBusGR_df['Policy'] = \"Repeal Business and Gross Receipts Tax\"\n",
    "tnbonus_df['Policy'] = \"Set TN bonus depreciation to 100 percent\"\n",
    "excise_df['Policy'] = \"Reduce excise tax rate from 0.065 to 0.060\"\n",
    "franchise_df['Policy'] = \"Reduce franchise tax rate from 0.0025 to 0.0020\"\n",
    "# append dataframes together\n",
    "df = pd.concat([base_df, repealBusGR_df, tnbonus_df, excise_df, franchise_df])\n",
    "df.reset_index(inplace=True)\n",
    "df.rename(columns={\"index\": \"output_var\"}, inplace=True)\n",
    "df = pd.melt(df, id_vars=[\"Policy\", \"output_var\"], var_name=\"asset_type\")"
   ]
  },
  {
   "cell_type": "code",
   "execution_count": 15,
   "metadata": {
    "colab": {
     "base_uri": "https://localhost:8080/",
     "height": 417
    },
    "id": "7CoFvIwXcIS6",
    "outputId": "7d047ebd-24ee-470f-d50d-c4838cf860ec"
   },
   "outputs": [
    {
     "data": {
      "application/vnd.plotly.v1+json": {
       "config": {
        "plotlyServerURL": "https://plot.ly"
       },
       "data": [
        {
         "alignmentgroup": "True",
         "hovertemplate": "Policy=%{x}<br>Marginal Effective Tax Rate=%{y}<extra></extra>",
         "legendgroup": "Current Law",
         "marker": {
          "color": "#636efa",
          "pattern": {
           "shape": ""
          }
         },
         "name": "Current Law",
         "offsetgroup": "Current Law",
         "orientation": "v",
         "showlegend": true,
         "textposition": "auto",
         "type": "bar",
         "x": [
          "Current Law"
         ],
         "xaxis": "x",
         "y": [
          0.1350863841998496
         ],
         "yaxis": "y"
        },
        {
         "alignmentgroup": "True",
         "hovertemplate": "Policy=%{x}<br>Marginal Effective Tax Rate=%{y}<extra></extra>",
         "legendgroup": "Repeal Business and Gross Receipts Tax",
         "marker": {
          "color": "#EF553B",
          "pattern": {
           "shape": ""
          }
         },
         "name": "Repeal Business and Gross Receipts Tax",
         "offsetgroup": "Repeal Business and Gross Receipts Tax",
         "orientation": "v",
         "showlegend": true,
         "textposition": "auto",
         "type": "bar",
         "x": [
          "Repeal Business and Gross Receipts Tax"
         ],
         "xaxis": "x",
         "y": [
          0.13293066784530966
         ],
         "yaxis": "y"
        },
        {
         "alignmentgroup": "True",
         "hovertemplate": "Policy=%{x}<br>Marginal Effective Tax Rate=%{y}<extra></extra>",
         "legendgroup": "Set TN bonus depreciation to 100 percent",
         "marker": {
          "color": "#00cc96",
          "pattern": {
           "shape": ""
          }
         },
         "name": "Set TN bonus depreciation to 100 percent",
         "offsetgroup": "Set TN bonus depreciation to 100 percent",
         "orientation": "v",
         "showlegend": true,
         "textposition": "auto",
         "type": "bar",
         "x": [
          "Set TN bonus depreciation to 100 percent"
         ],
         "xaxis": "x",
         "y": [
          0.11834238668636096
         ],
         "yaxis": "y"
        },
        {
         "alignmentgroup": "True",
         "hovertemplate": "Policy=%{x}<br>Marginal Effective Tax Rate=%{y}<extra></extra>",
         "legendgroup": "Reduce excise tax rate from 0.065 to 0.060",
         "marker": {
          "color": "#ab63fa",
          "pattern": {
           "shape": ""
          }
         },
         "name": "Reduce excise tax rate from 0.065 to 0.060",
         "offsetgroup": "Reduce excise tax rate from 0.065 to 0.060",
         "orientation": "v",
         "showlegend": true,
         "textposition": "auto",
         "type": "bar",
         "x": [
          "Reduce excise tax rate from 0.065 to 0.060"
         ],
         "xaxis": "x",
         "y": [
          0.1333815237517434
         ],
         "yaxis": "y"
        },
        {
         "alignmentgroup": "True",
         "hovertemplate": "Policy=%{x}<br>Marginal Effective Tax Rate=%{y}<extra></extra>",
         "legendgroup": "Reduce franchise tax rate from 0.0025 to 0.0020",
         "marker": {
          "color": "#FFA15A",
          "pattern": {
           "shape": ""
          }
         },
         "name": "Reduce franchise tax rate from 0.0025 to 0.0020",
         "offsetgroup": "Reduce franchise tax rate from 0.0025 to 0.0020",
         "orientation": "v",
         "showlegend": true,
         "textposition": "auto",
         "type": "bar",
         "x": [
          "Reduce franchise tax rate from 0.0025 to 0.0020"
         ],
         "xaxis": "x",
         "y": [
          0.12880083179196777
         ],
         "yaxis": "y"
        }
       ],
       "layout": {
        "barmode": "relative",
        "height": 400,
        "legend": {
         "title": {
          "text": "Policy"
         },
         "tracegroupgap": 0
        },
        "margin": {
         "t": 60
        },
        "template": {
         "data": {
          "bar": [
           {
            "error_x": {
             "color": "#2a3f5f"
            },
            "error_y": {
             "color": "#2a3f5f"
            },
            "marker": {
             "line": {
              "color": "white",
              "width": 0.5
             },
             "pattern": {
              "fillmode": "overlay",
              "size": 10,
              "solidity": 0.2
             }
            },
            "type": "bar"
           }
          ],
          "barpolar": [
           {
            "marker": {
             "line": {
              "color": "white",
              "width": 0.5
             },
             "pattern": {
              "fillmode": "overlay",
              "size": 10,
              "solidity": 0.2
             }
            },
            "type": "barpolar"
           }
          ],
          "carpet": [
           {
            "aaxis": {
             "endlinecolor": "#2a3f5f",
             "gridcolor": "#C8D4E3",
             "linecolor": "#C8D4E3",
             "minorgridcolor": "#C8D4E3",
             "startlinecolor": "#2a3f5f"
            },
            "baxis": {
             "endlinecolor": "#2a3f5f",
             "gridcolor": "#C8D4E3",
             "linecolor": "#C8D4E3",
             "minorgridcolor": "#C8D4E3",
             "startlinecolor": "#2a3f5f"
            },
            "type": "carpet"
           }
          ],
          "choropleth": [
           {
            "colorbar": {
             "outlinewidth": 0,
             "ticks": ""
            },
            "type": "choropleth"
           }
          ],
          "contour": [
           {
            "colorbar": {
             "outlinewidth": 0,
             "ticks": ""
            },
            "colorscale": [
             [
              0,
              "#0d0887"
             ],
             [
              0.1111111111111111,
              "#46039f"
             ],
             [
              0.2222222222222222,
              "#7201a8"
             ],
             [
              0.3333333333333333,
              "#9c179e"
             ],
             [
              0.4444444444444444,
              "#bd3786"
             ],
             [
              0.5555555555555556,
              "#d8576b"
             ],
             [
              0.6666666666666666,
              "#ed7953"
             ],
             [
              0.7777777777777778,
              "#fb9f3a"
             ],
             [
              0.8888888888888888,
              "#fdca26"
             ],
             [
              1,
              "#f0f921"
             ]
            ],
            "type": "contour"
           }
          ],
          "contourcarpet": [
           {
            "colorbar": {
             "outlinewidth": 0,
             "ticks": ""
            },
            "type": "contourcarpet"
           }
          ],
          "heatmap": [
           {
            "colorbar": {
             "outlinewidth": 0,
             "ticks": ""
            },
            "colorscale": [
             [
              0,
              "#0d0887"
             ],
             [
              0.1111111111111111,
              "#46039f"
             ],
             [
              0.2222222222222222,
              "#7201a8"
             ],
             [
              0.3333333333333333,
              "#9c179e"
             ],
             [
              0.4444444444444444,
              "#bd3786"
             ],
             [
              0.5555555555555556,
              "#d8576b"
             ],
             [
              0.6666666666666666,
              "#ed7953"
             ],
             [
              0.7777777777777778,
              "#fb9f3a"
             ],
             [
              0.8888888888888888,
              "#fdca26"
             ],
             [
              1,
              "#f0f921"
             ]
            ],
            "type": "heatmap"
           }
          ],
          "heatmapgl": [
           {
            "colorbar": {
             "outlinewidth": 0,
             "ticks": ""
            },
            "colorscale": [
             [
              0,
              "#0d0887"
             ],
             [
              0.1111111111111111,
              "#46039f"
             ],
             [
              0.2222222222222222,
              "#7201a8"
             ],
             [
              0.3333333333333333,
              "#9c179e"
             ],
             [
              0.4444444444444444,
              "#bd3786"
             ],
             [
              0.5555555555555556,
              "#d8576b"
             ],
             [
              0.6666666666666666,
              "#ed7953"
             ],
             [
              0.7777777777777778,
              "#fb9f3a"
             ],
             [
              0.8888888888888888,
              "#fdca26"
             ],
             [
              1,
              "#f0f921"
             ]
            ],
            "type": "heatmapgl"
           }
          ],
          "histogram": [
           {
            "marker": {
             "pattern": {
              "fillmode": "overlay",
              "size": 10,
              "solidity": 0.2
             }
            },
            "type": "histogram"
           }
          ],
          "histogram2d": [
           {
            "colorbar": {
             "outlinewidth": 0,
             "ticks": ""
            },
            "colorscale": [
             [
              0,
              "#0d0887"
             ],
             [
              0.1111111111111111,
              "#46039f"
             ],
             [
              0.2222222222222222,
              "#7201a8"
             ],
             [
              0.3333333333333333,
              "#9c179e"
             ],
             [
              0.4444444444444444,
              "#bd3786"
             ],
             [
              0.5555555555555556,
              "#d8576b"
             ],
             [
              0.6666666666666666,
              "#ed7953"
             ],
             [
              0.7777777777777778,
              "#fb9f3a"
             ],
             [
              0.8888888888888888,
              "#fdca26"
             ],
             [
              1,
              "#f0f921"
             ]
            ],
            "type": "histogram2d"
           }
          ],
          "histogram2dcontour": [
           {
            "colorbar": {
             "outlinewidth": 0,
             "ticks": ""
            },
            "colorscale": [
             [
              0,
              "#0d0887"
             ],
             [
              0.1111111111111111,
              "#46039f"
             ],
             [
              0.2222222222222222,
              "#7201a8"
             ],
             [
              0.3333333333333333,
              "#9c179e"
             ],
             [
              0.4444444444444444,
              "#bd3786"
             ],
             [
              0.5555555555555556,
              "#d8576b"
             ],
             [
              0.6666666666666666,
              "#ed7953"
             ],
             [
              0.7777777777777778,
              "#fb9f3a"
             ],
             [
              0.8888888888888888,
              "#fdca26"
             ],
             [
              1,
              "#f0f921"
             ]
            ],
            "type": "histogram2dcontour"
           }
          ],
          "mesh3d": [
           {
            "colorbar": {
             "outlinewidth": 0,
             "ticks": ""
            },
            "type": "mesh3d"
           }
          ],
          "parcoords": [
           {
            "line": {
             "colorbar": {
              "outlinewidth": 0,
              "ticks": ""
             }
            },
            "type": "parcoords"
           }
          ],
          "pie": [
           {
            "automargin": true,
            "type": "pie"
           }
          ],
          "scatter": [
           {
            "fillpattern": {
             "fillmode": "overlay",
             "size": 10,
             "solidity": 0.2
            },
            "type": "scatter"
           }
          ],
          "scatter3d": [
           {
            "line": {
             "colorbar": {
              "outlinewidth": 0,
              "ticks": ""
             }
            },
            "marker": {
             "colorbar": {
              "outlinewidth": 0,
              "ticks": ""
             }
            },
            "type": "scatter3d"
           }
          ],
          "scattercarpet": [
           {
            "marker": {
             "colorbar": {
              "outlinewidth": 0,
              "ticks": ""
             }
            },
            "type": "scattercarpet"
           }
          ],
          "scattergeo": [
           {
            "marker": {
             "colorbar": {
              "outlinewidth": 0,
              "ticks": ""
             }
            },
            "type": "scattergeo"
           }
          ],
          "scattergl": [
           {
            "marker": {
             "colorbar": {
              "outlinewidth": 0,
              "ticks": ""
             }
            },
            "type": "scattergl"
           }
          ],
          "scattermapbox": [
           {
            "marker": {
             "colorbar": {
              "outlinewidth": 0,
              "ticks": ""
             }
            },
            "type": "scattermapbox"
           }
          ],
          "scatterpolar": [
           {
            "marker": {
             "colorbar": {
              "outlinewidth": 0,
              "ticks": ""
             }
            },
            "type": "scatterpolar"
           }
          ],
          "scatterpolargl": [
           {
            "marker": {
             "colorbar": {
              "outlinewidth": 0,
              "ticks": ""
             }
            },
            "type": "scatterpolargl"
           }
          ],
          "scatterternary": [
           {
            "marker": {
             "colorbar": {
              "outlinewidth": 0,
              "ticks": ""
             }
            },
            "type": "scatterternary"
           }
          ],
          "surface": [
           {
            "colorbar": {
             "outlinewidth": 0,
             "ticks": ""
            },
            "colorscale": [
             [
              0,
              "#0d0887"
             ],
             [
              0.1111111111111111,
              "#46039f"
             ],
             [
              0.2222222222222222,
              "#7201a8"
             ],
             [
              0.3333333333333333,
              "#9c179e"
             ],
             [
              0.4444444444444444,
              "#bd3786"
             ],
             [
              0.5555555555555556,
              "#d8576b"
             ],
             [
              0.6666666666666666,
              "#ed7953"
             ],
             [
              0.7777777777777778,
              "#fb9f3a"
             ],
             [
              0.8888888888888888,
              "#fdca26"
             ],
             [
              1,
              "#f0f921"
             ]
            ],
            "type": "surface"
           }
          ],
          "table": [
           {
            "cells": {
             "fill": {
              "color": "#EBF0F8"
             },
             "line": {
              "color": "white"
             }
            },
            "header": {
             "fill": {
              "color": "#C8D4E3"
             },
             "line": {
              "color": "white"
             }
            },
            "type": "table"
           }
          ]
         },
         "layout": {
          "annotationdefaults": {
           "arrowcolor": "#2a3f5f",
           "arrowhead": 0,
           "arrowwidth": 1
          },
          "autotypenumbers": "strict",
          "coloraxis": {
           "colorbar": {
            "outlinewidth": 0,
            "ticks": ""
           }
          },
          "colorscale": {
           "diverging": [
            [
             0,
             "#8e0152"
            ],
            [
             0.1,
             "#c51b7d"
            ],
            [
             0.2,
             "#de77ae"
            ],
            [
             0.3,
             "#f1b6da"
            ],
            [
             0.4,
             "#fde0ef"
            ],
            [
             0.5,
             "#f7f7f7"
            ],
            [
             0.6,
             "#e6f5d0"
            ],
            [
             0.7,
             "#b8e186"
            ],
            [
             0.8,
             "#7fbc41"
            ],
            [
             0.9,
             "#4d9221"
            ],
            [
             1,
             "#276419"
            ]
           ],
           "sequential": [
            [
             0,
             "#0d0887"
            ],
            [
             0.1111111111111111,
             "#46039f"
            ],
            [
             0.2222222222222222,
             "#7201a8"
            ],
            [
             0.3333333333333333,
             "#9c179e"
            ],
            [
             0.4444444444444444,
             "#bd3786"
            ],
            [
             0.5555555555555556,
             "#d8576b"
            ],
            [
             0.6666666666666666,
             "#ed7953"
            ],
            [
             0.7777777777777778,
             "#fb9f3a"
            ],
            [
             0.8888888888888888,
             "#fdca26"
            ],
            [
             1,
             "#f0f921"
            ]
           ],
           "sequentialminus": [
            [
             0,
             "#0d0887"
            ],
            [
             0.1111111111111111,
             "#46039f"
            ],
            [
             0.2222222222222222,
             "#7201a8"
            ],
            [
             0.3333333333333333,
             "#9c179e"
            ],
            [
             0.4444444444444444,
             "#bd3786"
            ],
            [
             0.5555555555555556,
             "#d8576b"
            ],
            [
             0.6666666666666666,
             "#ed7953"
            ],
            [
             0.7777777777777778,
             "#fb9f3a"
            ],
            [
             0.8888888888888888,
             "#fdca26"
            ],
            [
             1,
             "#f0f921"
            ]
           ]
          },
          "colorway": [
           "#636efa",
           "#EF553B",
           "#00cc96",
           "#ab63fa",
           "#FFA15A",
           "#19d3f3",
           "#FF6692",
           "#B6E880",
           "#FF97FF",
           "#FECB52"
          ],
          "font": {
           "color": "#2a3f5f"
          },
          "geo": {
           "bgcolor": "white",
           "lakecolor": "white",
           "landcolor": "white",
           "showlakes": true,
           "showland": true,
           "subunitcolor": "#C8D4E3"
          },
          "hoverlabel": {
           "align": "left"
          },
          "hovermode": "closest",
          "mapbox": {
           "style": "light"
          },
          "paper_bgcolor": "white",
          "plot_bgcolor": "white",
          "polar": {
           "angularaxis": {
            "gridcolor": "#EBF0F8",
            "linecolor": "#EBF0F8",
            "ticks": ""
           },
           "bgcolor": "white",
           "radialaxis": {
            "gridcolor": "#EBF0F8",
            "linecolor": "#EBF0F8",
            "ticks": ""
           }
          },
          "scene": {
           "xaxis": {
            "backgroundcolor": "white",
            "gridcolor": "#DFE8F3",
            "gridwidth": 2,
            "linecolor": "#EBF0F8",
            "showbackground": true,
            "ticks": "",
            "zerolinecolor": "#EBF0F8"
           },
           "yaxis": {
            "backgroundcolor": "white",
            "gridcolor": "#DFE8F3",
            "gridwidth": 2,
            "linecolor": "#EBF0F8",
            "showbackground": true,
            "ticks": "",
            "zerolinecolor": "#EBF0F8"
           },
           "zaxis": {
            "backgroundcolor": "white",
            "gridcolor": "#DFE8F3",
            "gridwidth": 2,
            "linecolor": "#EBF0F8",
            "showbackground": true,
            "ticks": "",
            "zerolinecolor": "#EBF0F8"
           }
          },
          "shapedefaults": {
           "line": {
            "color": "#2a3f5f"
           }
          },
          "ternary": {
           "aaxis": {
            "gridcolor": "#DFE8F3",
            "linecolor": "#A2B1C6",
            "ticks": ""
           },
           "baxis": {
            "gridcolor": "#DFE8F3",
            "linecolor": "#A2B1C6",
            "ticks": ""
           },
           "bgcolor": "white",
           "caxis": {
            "gridcolor": "#DFE8F3",
            "linecolor": "#A2B1C6",
            "ticks": ""
           }
          },
          "title": {
           "x": 0.05
          },
          "xaxis": {
           "automargin": true,
           "gridcolor": "#EBF0F8",
           "linecolor": "#EBF0F8",
           "ticks": "",
           "title": {
            "standoff": 15
           },
           "zerolinecolor": "#EBF0F8",
           "zerolinewidth": 2
          },
          "yaxis": {
           "automargin": true,
           "gridcolor": "#EBF0F8",
           "linecolor": "#EBF0F8",
           "ticks": "",
           "title": {
            "standoff": 15
           },
           "zerolinecolor": "#EBF0F8",
           "zerolinewidth": 2
          }
         }
        },
        "xaxis": {
         "anchor": "y",
         "categoryarray": [
          "Current Law",
          "Repeal Business and Gross Receipts Tax",
          "Set TN bonus depreciation to 100 percent",
          "Reduce excise tax rate from 0.065 to 0.060",
          "Reduce franchise tax rate from 0.0025 to 0.0020"
         ],
         "categoryorder": "array",
         "domain": [
          0,
          1
         ],
         "title": {
          "text": "Policy"
         }
        },
        "yaxis": {
         "anchor": "x",
         "domain": [
          0,
          1
         ],
         "title": {
          "text": "Marginal Effective Tax Rate"
         }
        }
       }
      }
     },
     "metadata": {},
     "output_type": "display_data"
    }
   ],
   "source": [
    "# Plot Table 4: Effects of Tennessee Business Tax Reforms in 2025 on Business\n",
    "# Incentives to Invest and on State Tax Revenue\n",
    "fig6 = px.bar(\n",
    "    df[(df[\"output_var\"]==\"metr\") & (df[\"asset_type\"]==\"machines\")],\n",
    "    x=\"Policy\", y=\"value\", color='Policy',\n",
    "    labels={'value':'Marginal Effective Tax Rate'}, height=400\n",
    ")\n",
    "fig6.show()"
   ]
  },
  {
   "cell_type": "code",
   "execution_count": 16,
   "metadata": {
    "colab": {
     "base_uri": "https://localhost:8080/",
     "height": 417
    },
    "id": "9vgBW0hO52CB",
    "outputId": "460145e3-71f4-403e-dc80-92ab500fb3f6"
   },
   "outputs": [
    {
     "data": {
      "application/vnd.plotly.v1+json": {
       "config": {
        "plotlyServerURL": "https://plot.ly"
       },
       "data": [
        {
         "alignmentgroup": "True",
         "hovertemplate": "Policy=%{x}<br>Cost of Capital=%{y}<extra></extra>",
         "legendgroup": "Current Law",
         "marker": {
          "color": "#636efa",
          "pattern": {
           "shape": ""
          }
         },
         "name": "Current Law",
         "offsetgroup": "Current Law",
         "orientation": "v",
         "showlegend": true,
         "textposition": "auto",
         "type": "bar",
         "x": [
          "Current Law"
         ],
         "xaxis": "x",
         "y": [
          0.06937108967176184
         ],
         "yaxis": "y"
        },
        {
         "alignmentgroup": "True",
         "hovertemplate": "Policy=%{x}<br>Cost of Capital=%{y}<extra></extra>",
         "legendgroup": "Repeal Business and Gross Receipts Tax",
         "marker": {
          "color": "#EF553B",
          "pattern": {
           "shape": ""
          }
         },
         "name": "Repeal Business and Gross Receipts Tax",
         "offsetgroup": "Repeal Business and Gross Receipts Tax",
         "orientation": "v",
         "showlegend": true,
         "textposition": "auto",
         "type": "bar",
         "x": [
          "Repeal Business and Gross Receipts Tax"
         ],
         "xaxis": "x",
         "y": [
          0.06919861858209009
         ],
         "yaxis": "y"
        },
        {
         "alignmentgroup": "True",
         "hovertemplate": "Policy=%{x}<br>Cost of Capital=%{y}<extra></extra>",
         "legendgroup": "Set TN bonus depreciation to 100 percent",
         "marker": {
          "color": "#00cc96",
          "pattern": {
           "shape": ""
          }
         },
         "name": "Set TN bonus depreciation to 100 percent",
         "offsetgroup": "Set TN bonus depreciation to 100 percent",
         "orientation": "v",
         "showlegend": true,
         "textposition": "auto",
         "type": "bar",
         "x": [
          "Set TN bonus depreciation to 100 percent"
         ],
         "xaxis": "x",
         "y": [
          0.06805362886222333
         ],
         "yaxis": "y"
        },
        {
         "alignmentgroup": "True",
         "hovertemplate": "Policy=%{x}<br>Cost of Capital=%{y}<extra></extra>",
         "legendgroup": "Reduce excise tax rate from 0.065 to 0.060",
         "marker": {
          "color": "#ab63fa",
          "pattern": {
           "shape": ""
          }
         },
         "name": "Reduce excise tax rate from 0.065 to 0.060",
         "offsetgroup": "Reduce excise tax rate from 0.065 to 0.060",
         "orientation": "v",
         "showlegend": true,
         "textposition": "auto",
         "type": "bar",
         "x": [
          "Reduce excise tax rate from 0.065 to 0.060"
         ],
         "xaxis": "x",
         "y": [
          0.0692346189752964
         ],
         "yaxis": "y"
        },
        {
         "alignmentgroup": "True",
         "hovertemplate": "Policy=%{x}<br>Cost of Capital=%{y}<extra></extra>",
         "legendgroup": "Reduce franchise tax rate from 0.0025 to 0.0020",
         "marker": {
          "color": "#FFA15A",
          "pattern": {
           "shape": ""
          }
         },
         "name": "Reduce franchise tax rate from 0.0025 to 0.0020",
         "offsetgroup": "Reduce franchise tax rate from 0.0025 to 0.0020",
         "orientation": "v",
         "showlegend": true,
         "textposition": "auto",
         "type": "bar",
         "x": [
          "Reduce franchise tax rate from 0.0025 to 0.0020"
         ],
         "xaxis": "x",
         "y": [
          0.06887058917126135
         ],
         "yaxis": "y"
        }
       ],
       "layout": {
        "barmode": "relative",
        "height": 400,
        "legend": {
         "title": {
          "text": "Policy"
         },
         "tracegroupgap": 0
        },
        "margin": {
         "t": 60
        },
        "template": {
         "data": {
          "bar": [
           {
            "error_x": {
             "color": "#2a3f5f"
            },
            "error_y": {
             "color": "#2a3f5f"
            },
            "marker": {
             "line": {
              "color": "white",
              "width": 0.5
             },
             "pattern": {
              "fillmode": "overlay",
              "size": 10,
              "solidity": 0.2
             }
            },
            "type": "bar"
           }
          ],
          "barpolar": [
           {
            "marker": {
             "line": {
              "color": "white",
              "width": 0.5
             },
             "pattern": {
              "fillmode": "overlay",
              "size": 10,
              "solidity": 0.2
             }
            },
            "type": "barpolar"
           }
          ],
          "carpet": [
           {
            "aaxis": {
             "endlinecolor": "#2a3f5f",
             "gridcolor": "#C8D4E3",
             "linecolor": "#C8D4E3",
             "minorgridcolor": "#C8D4E3",
             "startlinecolor": "#2a3f5f"
            },
            "baxis": {
             "endlinecolor": "#2a3f5f",
             "gridcolor": "#C8D4E3",
             "linecolor": "#C8D4E3",
             "minorgridcolor": "#C8D4E3",
             "startlinecolor": "#2a3f5f"
            },
            "type": "carpet"
           }
          ],
          "choropleth": [
           {
            "colorbar": {
             "outlinewidth": 0,
             "ticks": ""
            },
            "type": "choropleth"
           }
          ],
          "contour": [
           {
            "colorbar": {
             "outlinewidth": 0,
             "ticks": ""
            },
            "colorscale": [
             [
              0,
              "#0d0887"
             ],
             [
              0.1111111111111111,
              "#46039f"
             ],
             [
              0.2222222222222222,
              "#7201a8"
             ],
             [
              0.3333333333333333,
              "#9c179e"
             ],
             [
              0.4444444444444444,
              "#bd3786"
             ],
             [
              0.5555555555555556,
              "#d8576b"
             ],
             [
              0.6666666666666666,
              "#ed7953"
             ],
             [
              0.7777777777777778,
              "#fb9f3a"
             ],
             [
              0.8888888888888888,
              "#fdca26"
             ],
             [
              1,
              "#f0f921"
             ]
            ],
            "type": "contour"
           }
          ],
          "contourcarpet": [
           {
            "colorbar": {
             "outlinewidth": 0,
             "ticks": ""
            },
            "type": "contourcarpet"
           }
          ],
          "heatmap": [
           {
            "colorbar": {
             "outlinewidth": 0,
             "ticks": ""
            },
            "colorscale": [
             [
              0,
              "#0d0887"
             ],
             [
              0.1111111111111111,
              "#46039f"
             ],
             [
              0.2222222222222222,
              "#7201a8"
             ],
             [
              0.3333333333333333,
              "#9c179e"
             ],
             [
              0.4444444444444444,
              "#bd3786"
             ],
             [
              0.5555555555555556,
              "#d8576b"
             ],
             [
              0.6666666666666666,
              "#ed7953"
             ],
             [
              0.7777777777777778,
              "#fb9f3a"
             ],
             [
              0.8888888888888888,
              "#fdca26"
             ],
             [
              1,
              "#f0f921"
             ]
            ],
            "type": "heatmap"
           }
          ],
          "heatmapgl": [
           {
            "colorbar": {
             "outlinewidth": 0,
             "ticks": ""
            },
            "colorscale": [
             [
              0,
              "#0d0887"
             ],
             [
              0.1111111111111111,
              "#46039f"
             ],
             [
              0.2222222222222222,
              "#7201a8"
             ],
             [
              0.3333333333333333,
              "#9c179e"
             ],
             [
              0.4444444444444444,
              "#bd3786"
             ],
             [
              0.5555555555555556,
              "#d8576b"
             ],
             [
              0.6666666666666666,
              "#ed7953"
             ],
             [
              0.7777777777777778,
              "#fb9f3a"
             ],
             [
              0.8888888888888888,
              "#fdca26"
             ],
             [
              1,
              "#f0f921"
             ]
            ],
            "type": "heatmapgl"
           }
          ],
          "histogram": [
           {
            "marker": {
             "pattern": {
              "fillmode": "overlay",
              "size": 10,
              "solidity": 0.2
             }
            },
            "type": "histogram"
           }
          ],
          "histogram2d": [
           {
            "colorbar": {
             "outlinewidth": 0,
             "ticks": ""
            },
            "colorscale": [
             [
              0,
              "#0d0887"
             ],
             [
              0.1111111111111111,
              "#46039f"
             ],
             [
              0.2222222222222222,
              "#7201a8"
             ],
             [
              0.3333333333333333,
              "#9c179e"
             ],
             [
              0.4444444444444444,
              "#bd3786"
             ],
             [
              0.5555555555555556,
              "#d8576b"
             ],
             [
              0.6666666666666666,
              "#ed7953"
             ],
             [
              0.7777777777777778,
              "#fb9f3a"
             ],
             [
              0.8888888888888888,
              "#fdca26"
             ],
             [
              1,
              "#f0f921"
             ]
            ],
            "type": "histogram2d"
           }
          ],
          "histogram2dcontour": [
           {
            "colorbar": {
             "outlinewidth": 0,
             "ticks": ""
            },
            "colorscale": [
             [
              0,
              "#0d0887"
             ],
             [
              0.1111111111111111,
              "#46039f"
             ],
             [
              0.2222222222222222,
              "#7201a8"
             ],
             [
              0.3333333333333333,
              "#9c179e"
             ],
             [
              0.4444444444444444,
              "#bd3786"
             ],
             [
              0.5555555555555556,
              "#d8576b"
             ],
             [
              0.6666666666666666,
              "#ed7953"
             ],
             [
              0.7777777777777778,
              "#fb9f3a"
             ],
             [
              0.8888888888888888,
              "#fdca26"
             ],
             [
              1,
              "#f0f921"
             ]
            ],
            "type": "histogram2dcontour"
           }
          ],
          "mesh3d": [
           {
            "colorbar": {
             "outlinewidth": 0,
             "ticks": ""
            },
            "type": "mesh3d"
           }
          ],
          "parcoords": [
           {
            "line": {
             "colorbar": {
              "outlinewidth": 0,
              "ticks": ""
             }
            },
            "type": "parcoords"
           }
          ],
          "pie": [
           {
            "automargin": true,
            "type": "pie"
           }
          ],
          "scatter": [
           {
            "fillpattern": {
             "fillmode": "overlay",
             "size": 10,
             "solidity": 0.2
            },
            "type": "scatter"
           }
          ],
          "scatter3d": [
           {
            "line": {
             "colorbar": {
              "outlinewidth": 0,
              "ticks": ""
             }
            },
            "marker": {
             "colorbar": {
              "outlinewidth": 0,
              "ticks": ""
             }
            },
            "type": "scatter3d"
           }
          ],
          "scattercarpet": [
           {
            "marker": {
             "colorbar": {
              "outlinewidth": 0,
              "ticks": ""
             }
            },
            "type": "scattercarpet"
           }
          ],
          "scattergeo": [
           {
            "marker": {
             "colorbar": {
              "outlinewidth": 0,
              "ticks": ""
             }
            },
            "type": "scattergeo"
           }
          ],
          "scattergl": [
           {
            "marker": {
             "colorbar": {
              "outlinewidth": 0,
              "ticks": ""
             }
            },
            "type": "scattergl"
           }
          ],
          "scattermapbox": [
           {
            "marker": {
             "colorbar": {
              "outlinewidth": 0,
              "ticks": ""
             }
            },
            "type": "scattermapbox"
           }
          ],
          "scatterpolar": [
           {
            "marker": {
             "colorbar": {
              "outlinewidth": 0,
              "ticks": ""
             }
            },
            "type": "scatterpolar"
           }
          ],
          "scatterpolargl": [
           {
            "marker": {
             "colorbar": {
              "outlinewidth": 0,
              "ticks": ""
             }
            },
            "type": "scatterpolargl"
           }
          ],
          "scatterternary": [
           {
            "marker": {
             "colorbar": {
              "outlinewidth": 0,
              "ticks": ""
             }
            },
            "type": "scatterternary"
           }
          ],
          "surface": [
           {
            "colorbar": {
             "outlinewidth": 0,
             "ticks": ""
            },
            "colorscale": [
             [
              0,
              "#0d0887"
             ],
             [
              0.1111111111111111,
              "#46039f"
             ],
             [
              0.2222222222222222,
              "#7201a8"
             ],
             [
              0.3333333333333333,
              "#9c179e"
             ],
             [
              0.4444444444444444,
              "#bd3786"
             ],
             [
              0.5555555555555556,
              "#d8576b"
             ],
             [
              0.6666666666666666,
              "#ed7953"
             ],
             [
              0.7777777777777778,
              "#fb9f3a"
             ],
             [
              0.8888888888888888,
              "#fdca26"
             ],
             [
              1,
              "#f0f921"
             ]
            ],
            "type": "surface"
           }
          ],
          "table": [
           {
            "cells": {
             "fill": {
              "color": "#EBF0F8"
             },
             "line": {
              "color": "white"
             }
            },
            "header": {
             "fill": {
              "color": "#C8D4E3"
             },
             "line": {
              "color": "white"
             }
            },
            "type": "table"
           }
          ]
         },
         "layout": {
          "annotationdefaults": {
           "arrowcolor": "#2a3f5f",
           "arrowhead": 0,
           "arrowwidth": 1
          },
          "autotypenumbers": "strict",
          "coloraxis": {
           "colorbar": {
            "outlinewidth": 0,
            "ticks": ""
           }
          },
          "colorscale": {
           "diverging": [
            [
             0,
             "#8e0152"
            ],
            [
             0.1,
             "#c51b7d"
            ],
            [
             0.2,
             "#de77ae"
            ],
            [
             0.3,
             "#f1b6da"
            ],
            [
             0.4,
             "#fde0ef"
            ],
            [
             0.5,
             "#f7f7f7"
            ],
            [
             0.6,
             "#e6f5d0"
            ],
            [
             0.7,
             "#b8e186"
            ],
            [
             0.8,
             "#7fbc41"
            ],
            [
             0.9,
             "#4d9221"
            ],
            [
             1,
             "#276419"
            ]
           ],
           "sequential": [
            [
             0,
             "#0d0887"
            ],
            [
             0.1111111111111111,
             "#46039f"
            ],
            [
             0.2222222222222222,
             "#7201a8"
            ],
            [
             0.3333333333333333,
             "#9c179e"
            ],
            [
             0.4444444444444444,
             "#bd3786"
            ],
            [
             0.5555555555555556,
             "#d8576b"
            ],
            [
             0.6666666666666666,
             "#ed7953"
            ],
            [
             0.7777777777777778,
             "#fb9f3a"
            ],
            [
             0.8888888888888888,
             "#fdca26"
            ],
            [
             1,
             "#f0f921"
            ]
           ],
           "sequentialminus": [
            [
             0,
             "#0d0887"
            ],
            [
             0.1111111111111111,
             "#46039f"
            ],
            [
             0.2222222222222222,
             "#7201a8"
            ],
            [
             0.3333333333333333,
             "#9c179e"
            ],
            [
             0.4444444444444444,
             "#bd3786"
            ],
            [
             0.5555555555555556,
             "#d8576b"
            ],
            [
             0.6666666666666666,
             "#ed7953"
            ],
            [
             0.7777777777777778,
             "#fb9f3a"
            ],
            [
             0.8888888888888888,
             "#fdca26"
            ],
            [
             1,
             "#f0f921"
            ]
           ]
          },
          "colorway": [
           "#636efa",
           "#EF553B",
           "#00cc96",
           "#ab63fa",
           "#FFA15A",
           "#19d3f3",
           "#FF6692",
           "#B6E880",
           "#FF97FF",
           "#FECB52"
          ],
          "font": {
           "color": "#2a3f5f"
          },
          "geo": {
           "bgcolor": "white",
           "lakecolor": "white",
           "landcolor": "white",
           "showlakes": true,
           "showland": true,
           "subunitcolor": "#C8D4E3"
          },
          "hoverlabel": {
           "align": "left"
          },
          "hovermode": "closest",
          "mapbox": {
           "style": "light"
          },
          "paper_bgcolor": "white",
          "plot_bgcolor": "white",
          "polar": {
           "angularaxis": {
            "gridcolor": "#EBF0F8",
            "linecolor": "#EBF0F8",
            "ticks": ""
           },
           "bgcolor": "white",
           "radialaxis": {
            "gridcolor": "#EBF0F8",
            "linecolor": "#EBF0F8",
            "ticks": ""
           }
          },
          "scene": {
           "xaxis": {
            "backgroundcolor": "white",
            "gridcolor": "#DFE8F3",
            "gridwidth": 2,
            "linecolor": "#EBF0F8",
            "showbackground": true,
            "ticks": "",
            "zerolinecolor": "#EBF0F8"
           },
           "yaxis": {
            "backgroundcolor": "white",
            "gridcolor": "#DFE8F3",
            "gridwidth": 2,
            "linecolor": "#EBF0F8",
            "showbackground": true,
            "ticks": "",
            "zerolinecolor": "#EBF0F8"
           },
           "zaxis": {
            "backgroundcolor": "white",
            "gridcolor": "#DFE8F3",
            "gridwidth": 2,
            "linecolor": "#EBF0F8",
            "showbackground": true,
            "ticks": "",
            "zerolinecolor": "#EBF0F8"
           }
          },
          "shapedefaults": {
           "line": {
            "color": "#2a3f5f"
           }
          },
          "ternary": {
           "aaxis": {
            "gridcolor": "#DFE8F3",
            "linecolor": "#A2B1C6",
            "ticks": ""
           },
           "baxis": {
            "gridcolor": "#DFE8F3",
            "linecolor": "#A2B1C6",
            "ticks": ""
           },
           "bgcolor": "white",
           "caxis": {
            "gridcolor": "#DFE8F3",
            "linecolor": "#A2B1C6",
            "ticks": ""
           }
          },
          "title": {
           "x": 0.05
          },
          "xaxis": {
           "automargin": true,
           "gridcolor": "#EBF0F8",
           "linecolor": "#EBF0F8",
           "ticks": "",
           "title": {
            "standoff": 15
           },
           "zerolinecolor": "#EBF0F8",
           "zerolinewidth": 2
          },
          "yaxis": {
           "automargin": true,
           "gridcolor": "#EBF0F8",
           "linecolor": "#EBF0F8",
           "ticks": "",
           "title": {
            "standoff": 15
           },
           "zerolinecolor": "#EBF0F8",
           "zerolinewidth": 2
          }
         }
        },
        "xaxis": {
         "anchor": "y",
         "categoryarray": [
          "Current Law",
          "Repeal Business and Gross Receipts Tax",
          "Set TN bonus depreciation to 100 percent",
          "Reduce excise tax rate from 0.065 to 0.060",
          "Reduce franchise tax rate from 0.0025 to 0.0020"
         ],
         "categoryorder": "array",
         "domain": [
          0,
          1
         ],
         "title": {
          "text": "Policy"
         }
        },
        "yaxis": {
         "anchor": "x",
         "domain": [
          0,
          1
         ],
         "title": {
          "text": "Cost of Capital"
         }
        }
       }
      }
     },
     "metadata": {},
     "output_type": "display_data"
    }
   ],
   "source": [
    "# Other results\n",
    "fig7 = px.bar(\n",
    "    df[(df[\"output_var\"]==\"rho\") & (df[\"asset_type\"]==\"machines\")], x=\"Policy\",\n",
    "    y=\"value\", color='Policy', labels={'value':'Cost of Capital'}, height=400\n",
    ")\n",
    "fig7.show()"
   ]
  },
  {
   "cell_type": "code",
   "execution_count": 17,
   "metadata": {
    "colab": {
     "base_uri": "https://localhost:8080/",
     "height": 417
    },
    "id": "_VWDAimFZT0-",
    "outputId": "5b6f04c0-46b3-4b58-ac68-4e27e6cf59d9"
   },
   "outputs": [
    {
     "data": {
      "application/vnd.plotly.v1+json": {
       "config": {
        "plotlyServerURL": "https://plot.ly"
       },
       "data": [
        {
         "alignmentgroup": "True",
         "bingroup": "x",
         "histfunc": "sum",
         "hovertemplate": "Policy=Current Law<br>Asset Type=%{x}<br>sum of Marginal Effective Tax Rate=%{y}<extra></extra>",
         "legendgroup": "Current Law",
         "marker": {
          "color": "#636efa",
          "pattern": {
           "shape": ""
          }
         },
         "name": "Current Law",
         "offsetgroup": "Current Law",
         "orientation": "v",
         "showlegend": true,
         "type": "histogram",
         "x": [
          "machines",
          "buildings",
          "intangibles"
         ],
         "xaxis": "x",
         "y": [
          0.1350863841998496,
          0.2945181304119997,
          0.1676845333493398
         ],
         "yaxis": "y"
        }
       ],
       "layout": {
        "barmode": "group",
        "height": 400,
        "legend": {
         "title": {
          "text": "Policy"
         },
         "tracegroupgap": 0
        },
        "margin": {
         "t": 60
        },
        "template": {
         "data": {
          "bar": [
           {
            "error_x": {
             "color": "#2a3f5f"
            },
            "error_y": {
             "color": "#2a3f5f"
            },
            "marker": {
             "line": {
              "color": "white",
              "width": 0.5
             },
             "pattern": {
              "fillmode": "overlay",
              "size": 10,
              "solidity": 0.2
             }
            },
            "type": "bar"
           }
          ],
          "barpolar": [
           {
            "marker": {
             "line": {
              "color": "white",
              "width": 0.5
             },
             "pattern": {
              "fillmode": "overlay",
              "size": 10,
              "solidity": 0.2
             }
            },
            "type": "barpolar"
           }
          ],
          "carpet": [
           {
            "aaxis": {
             "endlinecolor": "#2a3f5f",
             "gridcolor": "#C8D4E3",
             "linecolor": "#C8D4E3",
             "minorgridcolor": "#C8D4E3",
             "startlinecolor": "#2a3f5f"
            },
            "baxis": {
             "endlinecolor": "#2a3f5f",
             "gridcolor": "#C8D4E3",
             "linecolor": "#C8D4E3",
             "minorgridcolor": "#C8D4E3",
             "startlinecolor": "#2a3f5f"
            },
            "type": "carpet"
           }
          ],
          "choropleth": [
           {
            "colorbar": {
             "outlinewidth": 0,
             "ticks": ""
            },
            "type": "choropleth"
           }
          ],
          "contour": [
           {
            "colorbar": {
             "outlinewidth": 0,
             "ticks": ""
            },
            "colorscale": [
             [
              0,
              "#0d0887"
             ],
             [
              0.1111111111111111,
              "#46039f"
             ],
             [
              0.2222222222222222,
              "#7201a8"
             ],
             [
              0.3333333333333333,
              "#9c179e"
             ],
             [
              0.4444444444444444,
              "#bd3786"
             ],
             [
              0.5555555555555556,
              "#d8576b"
             ],
             [
              0.6666666666666666,
              "#ed7953"
             ],
             [
              0.7777777777777778,
              "#fb9f3a"
             ],
             [
              0.8888888888888888,
              "#fdca26"
             ],
             [
              1,
              "#f0f921"
             ]
            ],
            "type": "contour"
           }
          ],
          "contourcarpet": [
           {
            "colorbar": {
             "outlinewidth": 0,
             "ticks": ""
            },
            "type": "contourcarpet"
           }
          ],
          "heatmap": [
           {
            "colorbar": {
             "outlinewidth": 0,
             "ticks": ""
            },
            "colorscale": [
             [
              0,
              "#0d0887"
             ],
             [
              0.1111111111111111,
              "#46039f"
             ],
             [
              0.2222222222222222,
              "#7201a8"
             ],
             [
              0.3333333333333333,
              "#9c179e"
             ],
             [
              0.4444444444444444,
              "#bd3786"
             ],
             [
              0.5555555555555556,
              "#d8576b"
             ],
             [
              0.6666666666666666,
              "#ed7953"
             ],
             [
              0.7777777777777778,
              "#fb9f3a"
             ],
             [
              0.8888888888888888,
              "#fdca26"
             ],
             [
              1,
              "#f0f921"
             ]
            ],
            "type": "heatmap"
           }
          ],
          "heatmapgl": [
           {
            "colorbar": {
             "outlinewidth": 0,
             "ticks": ""
            },
            "colorscale": [
             [
              0,
              "#0d0887"
             ],
             [
              0.1111111111111111,
              "#46039f"
             ],
             [
              0.2222222222222222,
              "#7201a8"
             ],
             [
              0.3333333333333333,
              "#9c179e"
             ],
             [
              0.4444444444444444,
              "#bd3786"
             ],
             [
              0.5555555555555556,
              "#d8576b"
             ],
             [
              0.6666666666666666,
              "#ed7953"
             ],
             [
              0.7777777777777778,
              "#fb9f3a"
             ],
             [
              0.8888888888888888,
              "#fdca26"
             ],
             [
              1,
              "#f0f921"
             ]
            ],
            "type": "heatmapgl"
           }
          ],
          "histogram": [
           {
            "marker": {
             "pattern": {
              "fillmode": "overlay",
              "size": 10,
              "solidity": 0.2
             }
            },
            "type": "histogram"
           }
          ],
          "histogram2d": [
           {
            "colorbar": {
             "outlinewidth": 0,
             "ticks": ""
            },
            "colorscale": [
             [
              0,
              "#0d0887"
             ],
             [
              0.1111111111111111,
              "#46039f"
             ],
             [
              0.2222222222222222,
              "#7201a8"
             ],
             [
              0.3333333333333333,
              "#9c179e"
             ],
             [
              0.4444444444444444,
              "#bd3786"
             ],
             [
              0.5555555555555556,
              "#d8576b"
             ],
             [
              0.6666666666666666,
              "#ed7953"
             ],
             [
              0.7777777777777778,
              "#fb9f3a"
             ],
             [
              0.8888888888888888,
              "#fdca26"
             ],
             [
              1,
              "#f0f921"
             ]
            ],
            "type": "histogram2d"
           }
          ],
          "histogram2dcontour": [
           {
            "colorbar": {
             "outlinewidth": 0,
             "ticks": ""
            },
            "colorscale": [
             [
              0,
              "#0d0887"
             ],
             [
              0.1111111111111111,
              "#46039f"
             ],
             [
              0.2222222222222222,
              "#7201a8"
             ],
             [
              0.3333333333333333,
              "#9c179e"
             ],
             [
              0.4444444444444444,
              "#bd3786"
             ],
             [
              0.5555555555555556,
              "#d8576b"
             ],
             [
              0.6666666666666666,
              "#ed7953"
             ],
             [
              0.7777777777777778,
              "#fb9f3a"
             ],
             [
              0.8888888888888888,
              "#fdca26"
             ],
             [
              1,
              "#f0f921"
             ]
            ],
            "type": "histogram2dcontour"
           }
          ],
          "mesh3d": [
           {
            "colorbar": {
             "outlinewidth": 0,
             "ticks": ""
            },
            "type": "mesh3d"
           }
          ],
          "parcoords": [
           {
            "line": {
             "colorbar": {
              "outlinewidth": 0,
              "ticks": ""
             }
            },
            "type": "parcoords"
           }
          ],
          "pie": [
           {
            "automargin": true,
            "type": "pie"
           }
          ],
          "scatter": [
           {
            "fillpattern": {
             "fillmode": "overlay",
             "size": 10,
             "solidity": 0.2
            },
            "type": "scatter"
           }
          ],
          "scatter3d": [
           {
            "line": {
             "colorbar": {
              "outlinewidth": 0,
              "ticks": ""
             }
            },
            "marker": {
             "colorbar": {
              "outlinewidth": 0,
              "ticks": ""
             }
            },
            "type": "scatter3d"
           }
          ],
          "scattercarpet": [
           {
            "marker": {
             "colorbar": {
              "outlinewidth": 0,
              "ticks": ""
             }
            },
            "type": "scattercarpet"
           }
          ],
          "scattergeo": [
           {
            "marker": {
             "colorbar": {
              "outlinewidth": 0,
              "ticks": ""
             }
            },
            "type": "scattergeo"
           }
          ],
          "scattergl": [
           {
            "marker": {
             "colorbar": {
              "outlinewidth": 0,
              "ticks": ""
             }
            },
            "type": "scattergl"
           }
          ],
          "scattermapbox": [
           {
            "marker": {
             "colorbar": {
              "outlinewidth": 0,
              "ticks": ""
             }
            },
            "type": "scattermapbox"
           }
          ],
          "scatterpolar": [
           {
            "marker": {
             "colorbar": {
              "outlinewidth": 0,
              "ticks": ""
             }
            },
            "type": "scatterpolar"
           }
          ],
          "scatterpolargl": [
           {
            "marker": {
             "colorbar": {
              "outlinewidth": 0,
              "ticks": ""
             }
            },
            "type": "scatterpolargl"
           }
          ],
          "scatterternary": [
           {
            "marker": {
             "colorbar": {
              "outlinewidth": 0,
              "ticks": ""
             }
            },
            "type": "scatterternary"
           }
          ],
          "surface": [
           {
            "colorbar": {
             "outlinewidth": 0,
             "ticks": ""
            },
            "colorscale": [
             [
              0,
              "#0d0887"
             ],
             [
              0.1111111111111111,
              "#46039f"
             ],
             [
              0.2222222222222222,
              "#7201a8"
             ],
             [
              0.3333333333333333,
              "#9c179e"
             ],
             [
              0.4444444444444444,
              "#bd3786"
             ],
             [
              0.5555555555555556,
              "#d8576b"
             ],
             [
              0.6666666666666666,
              "#ed7953"
             ],
             [
              0.7777777777777778,
              "#fb9f3a"
             ],
             [
              0.8888888888888888,
              "#fdca26"
             ],
             [
              1,
              "#f0f921"
             ]
            ],
            "type": "surface"
           }
          ],
          "table": [
           {
            "cells": {
             "fill": {
              "color": "#EBF0F8"
             },
             "line": {
              "color": "white"
             }
            },
            "header": {
             "fill": {
              "color": "#C8D4E3"
             },
             "line": {
              "color": "white"
             }
            },
            "type": "table"
           }
          ]
         },
         "layout": {
          "annotationdefaults": {
           "arrowcolor": "#2a3f5f",
           "arrowhead": 0,
           "arrowwidth": 1
          },
          "autotypenumbers": "strict",
          "coloraxis": {
           "colorbar": {
            "outlinewidth": 0,
            "ticks": ""
           }
          },
          "colorscale": {
           "diverging": [
            [
             0,
             "#8e0152"
            ],
            [
             0.1,
             "#c51b7d"
            ],
            [
             0.2,
             "#de77ae"
            ],
            [
             0.3,
             "#f1b6da"
            ],
            [
             0.4,
             "#fde0ef"
            ],
            [
             0.5,
             "#f7f7f7"
            ],
            [
             0.6,
             "#e6f5d0"
            ],
            [
             0.7,
             "#b8e186"
            ],
            [
             0.8,
             "#7fbc41"
            ],
            [
             0.9,
             "#4d9221"
            ],
            [
             1,
             "#276419"
            ]
           ],
           "sequential": [
            [
             0,
             "#0d0887"
            ],
            [
             0.1111111111111111,
             "#46039f"
            ],
            [
             0.2222222222222222,
             "#7201a8"
            ],
            [
             0.3333333333333333,
             "#9c179e"
            ],
            [
             0.4444444444444444,
             "#bd3786"
            ],
            [
             0.5555555555555556,
             "#d8576b"
            ],
            [
             0.6666666666666666,
             "#ed7953"
            ],
            [
             0.7777777777777778,
             "#fb9f3a"
            ],
            [
             0.8888888888888888,
             "#fdca26"
            ],
            [
             1,
             "#f0f921"
            ]
           ],
           "sequentialminus": [
            [
             0,
             "#0d0887"
            ],
            [
             0.1111111111111111,
             "#46039f"
            ],
            [
             0.2222222222222222,
             "#7201a8"
            ],
            [
             0.3333333333333333,
             "#9c179e"
            ],
            [
             0.4444444444444444,
             "#bd3786"
            ],
            [
             0.5555555555555556,
             "#d8576b"
            ],
            [
             0.6666666666666666,
             "#ed7953"
            ],
            [
             0.7777777777777778,
             "#fb9f3a"
            ],
            [
             0.8888888888888888,
             "#fdca26"
            ],
            [
             1,
             "#f0f921"
            ]
           ]
          },
          "colorway": [
           "#636efa",
           "#EF553B",
           "#00cc96",
           "#ab63fa",
           "#FFA15A",
           "#19d3f3",
           "#FF6692",
           "#B6E880",
           "#FF97FF",
           "#FECB52"
          ],
          "font": {
           "color": "#2a3f5f"
          },
          "geo": {
           "bgcolor": "white",
           "lakecolor": "white",
           "landcolor": "white",
           "showlakes": true,
           "showland": true,
           "subunitcolor": "#C8D4E3"
          },
          "hoverlabel": {
           "align": "left"
          },
          "hovermode": "closest",
          "mapbox": {
           "style": "light"
          },
          "paper_bgcolor": "white",
          "plot_bgcolor": "white",
          "polar": {
           "angularaxis": {
            "gridcolor": "#EBF0F8",
            "linecolor": "#EBF0F8",
            "ticks": ""
           },
           "bgcolor": "white",
           "radialaxis": {
            "gridcolor": "#EBF0F8",
            "linecolor": "#EBF0F8",
            "ticks": ""
           }
          },
          "scene": {
           "xaxis": {
            "backgroundcolor": "white",
            "gridcolor": "#DFE8F3",
            "gridwidth": 2,
            "linecolor": "#EBF0F8",
            "showbackground": true,
            "ticks": "",
            "zerolinecolor": "#EBF0F8"
           },
           "yaxis": {
            "backgroundcolor": "white",
            "gridcolor": "#DFE8F3",
            "gridwidth": 2,
            "linecolor": "#EBF0F8",
            "showbackground": true,
            "ticks": "",
            "zerolinecolor": "#EBF0F8"
           },
           "zaxis": {
            "backgroundcolor": "white",
            "gridcolor": "#DFE8F3",
            "gridwidth": 2,
            "linecolor": "#EBF0F8",
            "showbackground": true,
            "ticks": "",
            "zerolinecolor": "#EBF0F8"
           }
          },
          "shapedefaults": {
           "line": {
            "color": "#2a3f5f"
           }
          },
          "ternary": {
           "aaxis": {
            "gridcolor": "#DFE8F3",
            "linecolor": "#A2B1C6",
            "ticks": ""
           },
           "baxis": {
            "gridcolor": "#DFE8F3",
            "linecolor": "#A2B1C6",
            "ticks": ""
           },
           "bgcolor": "white",
           "caxis": {
            "gridcolor": "#DFE8F3",
            "linecolor": "#A2B1C6",
            "ticks": ""
           }
          },
          "title": {
           "x": 0.05
          },
          "xaxis": {
           "automargin": true,
           "gridcolor": "#EBF0F8",
           "linecolor": "#EBF0F8",
           "ticks": "",
           "title": {
            "standoff": 15
           },
           "zerolinecolor": "#EBF0F8",
           "zerolinewidth": 2
          },
          "yaxis": {
           "automargin": true,
           "gridcolor": "#EBF0F8",
           "linecolor": "#EBF0F8",
           "ticks": "",
           "title": {
            "standoff": 15
           },
           "zerolinecolor": "#EBF0F8",
           "zerolinewidth": 2
          }
         }
        },
        "xaxis": {
         "anchor": "y",
         "domain": [
          0,
          1
         ],
         "title": {
          "text": "Asset Type"
         }
        },
        "yaxis": {
         "anchor": "x",
         "domain": [
          0,
          1
         ],
         "title": {
          "text": "sum of Marginal Effective Tax Rate"
         }
        }
       }
      }
     },
     "metadata": {},
     "output_type": "display_data"
    }
   ],
   "source": [
    "# Other results\n",
    "fig9 = px.histogram(\n",
    "    df[\n",
    "        (df[\"output_var\"]==\"metr\") &\n",
    "        (df['Policy'].isin([\n",
    "            \"Current Law\",\n",
    "            \"Repeal Business Tax\", \"Follow Federal Bonus Depreciation\",\n",
    "            \"Repeal Franchise Tax\"\n",
    "        ]))\n",
    "    ], x=\"asset_type\", y=\"value\", color='Policy', barmode='group',\n",
    "    labels={'asset_type':'Asset Type', 'value': 'Marginal Effective Tax Rate'},\n",
    "    height=400)\n",
    "fig9.show()"
   ]
  },
  {
   "cell_type": "code",
   "execution_count": 18,
   "metadata": {
    "colab": {
     "base_uri": "https://localhost:8080/"
    },
    "id": "j9TO10LbryyS",
    "outputId": "6250b37c-da56-4e48-9467-617c4431cf73"
   },
   "outputs": [
    {
     "name": "stdout",
     "output_type": "stream",
     "text": [
      "Machines: rho =  0.06565086927715877 , metr =  0.08607455376260828  and eatr =  0.30121819273192646\n"
     ]
    }
   ],
   "source": [
    "# compute example results for equipment\n",
    "r = ccc.paramfunctions.calc_r(\n",
    "        u_f + u_s - u_f * u_s, nominal_int_rate, inflation_rate,\n",
    "        nominal_int_rate, fraction_financed_w_debt, int_haircut, E, 0.0)\n",
    "r_prime = ccc.paramfunctions.calc_r_prime(\n",
    "    nominal_int_rate, inflation_rate, fraction_financed_w_debt, E)\n",
    "z_f = ccc.calcfunctions.dbsl(5, 2, 0.8, r)  # 5 year asset, double declining balance, 80% bonus\n",
    "z_s = ccc.calcfunctions.dbsl(5, 2, 0.0, r)  # 5 year asset, double declining balance, no bonus\n",
    "rho = eq_coc_state(\n",
    "        depreciation_rates['machines'], z_f, z_s, franchise_tax_rate,\n",
    "        u_f, u_s, tau_GR, inv_tax_credit, inflation_rate, r)\n",
    "metr = ccc.calcfunctions.eq_metr(rho, r_prime, inflation_rate)\n",
    "eatr = ccc.calcfunctions.eq_eatr(rho, metr, profit_rate, u_f + u_f - u_f * u_s)\n",
    "print('Machines: rho = ', rho, ', metr = ', metr, ' and eatr = ', eatr)"
   ]
  },
  {
   "cell_type": "code",
   "execution_count": 19,
   "metadata": {
    "colab": {
     "base_uri": "https://localhost:8080/"
    },
    "id": "A1PPzapJwHqU",
    "outputId": "c7123b69-c781-4fc9-da51-42b5b039e6f2"
   },
   "outputs": [
    {
     "name": "stdout",
     "output_type": "stream",
     "text": [
      "Machines: rho =  0.10335569620253163 , metr =  0.41948047176397096  and eatr =  0.41313554525316454\n"
     ]
    }
   ],
   "source": [
    "# compare to federal\n",
    "r = ccc.paramfunctions.calc_r(\n",
    "        u_f + u_s - u_f * u_s, nominal_int_rate, inflation_rate,\n",
    "        nominal_int_rate, fraction_financed_w_debt, int_haircut, E, 0.0)\n",
    "r_prime = ccc.paramfunctions.calc_r_prime(\n",
    "    nominal_int_rate, inflation_rate, fraction_financed_w_debt, E)\n",
    "z_f = ccc.calcfunctions.dbsl(5, 2, 0.8, r)  # 5 year asset, double declining balance, 80% bonus\n",
    "psi_f = 0.5\n",
    "nu_f = 0.05\n",
    "rho = ccc.calcfunctions.eq_coc(\n",
    "    depreciation_rates['machines'], z_f, 0.0, u_f, 0.0, inv_tax_credit, psi_f,\n",
    "    nu_f, inflation_rate, r\n",
    ")\n",
    "metr = ccc.calcfunctions.eq_metr(rho, r_prime, inflation_rate)\n",
    "eatr = ccc.calcfunctions.eq_eatr(rho, metr, profit_rate, u_f + u_f - u_f * u_s)\n",
    "print('Machines: rho = ', rho, ', metr = ', metr, ' and eatr = ', eatr)"
   ]
  }
 ],
 "metadata": {
  "colab": {
   "provenance": []
  },
  "kernelspec": {
   "display_name": "Python 3 (ipykernel)",
   "language": "python",
   "name": "python3"
  },
  "language_info": {
   "codemirror_mode": {
    "name": "ipython",
    "version": 3
   },
   "file_extension": ".py",
   "mimetype": "text/x-python",
   "name": "python",
   "nbconvert_exporter": "python",
   "pygments_lexer": "ipython3",
   "version": "3.11.9"
  },
  "vscode": {
   "interpreter": {
    "hash": "67a23e02aff97247db4b6ea3280bc4eb9dc056399c8462f977c82b8c5d20185f"
   }
  }
 },
 "nbformat": 4,
 "nbformat_minor": 1
}
