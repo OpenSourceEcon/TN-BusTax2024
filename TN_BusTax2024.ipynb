{
 "cells": [
  {
   "cell_type": "markdown",
   "metadata": {
    "id": "EIBsVBIXc7Q8"
   },
   "source": [
    "# Notebook for replicating the analyses in Tennessee Business Tax Reform 2024\n",
    "### Richard W. Evans, July 2024\n",
    "This notebook replicates the analyses in the article by [Richard W. Evans](https://sites.google.com/site/rickecon)."
   ]
  },
  {
   "cell_type": "markdown",
   "metadata": {},
   "source": [
    "## 1. Introduction\n",
    "Before opening and running this notebook, make sure that you have downloaded or cloned the [`TN-BusTax2024`](https://github.com/OpenSourceEcon/TN-BusTax2024) repository (https://github.com/OpenSourceEcon/TN-BusTax2024) and created and activated the associated conda environment `tn-bustax2024-dev` in the `environment.yml` file. You can also run this notebook easily in the cloud by going to this [Google Colab version](https://colab.research.google.com/drive/1dDKVTEAm4drvNXgHpm617j-82X4xzxKh?usp=sharing) of this notebook."
   ]
  },
  {
   "cell_type": "code",
   "execution_count": 2,
   "metadata": {},
   "outputs": [],
   "source": [
    "# import packages\n",
    "import pandas as pd\n",
    "import numpy as np\n",
    "import os\n",
    "import geopandas as gpd\n",
    "from bokeh.io import output_file, output_notebook\n",
    "from bokeh.plotting import figure, show\n",
    "from bokeh.models import (\n",
    "    ColumnDataSource, Title, Label, LabelSet, Legend, LegendItem,\n",
    "    CategoricalColorMapper, ColorBar, HoverTool, NumeralTickFormatter,\n",
    "    GeoJSONDataSource, FactorRange\n",
    ")\n",
    "from bokeh.models.tickers import SingleIntervalTicker\n",
    "from bokeh.transform import factor_cmap\n",
    "from bokeh.sampledata.us_states import data as states\n",
    "from bokeh.transform import cumsum\n",
    "from bokeh.palettes import Category20c\n",
    "\n",
    "import random\n",
    "import json"
   ]
  },
  {
   "cell_type": "markdown",
   "metadata": {},
   "source": [
    "### 1.1. Figure 1. Rainy Day Fund and Total Reserves as Percentages of General-Fund Expenditures, Tennessee and 50-State Median: 2000-2023\n",
    "\n",
    "Get the Pew state rainy day fund data. This does not include District of Columbia. The 2022 data is now final. The 2023 data is labeled as \"Enacted\" which means projected based on enacted legislation."
   ]
  },
  {
   "cell_type": "code",
   "execution_count": null,
   "metadata": {},
   "outputs": [],
   "source": [
    "# Read in the Pew data on rainy day funds by year and state from worksheet\n",
    "rain_totbal_path = (\n",
    "    \"https://github.com/OpenSourceEcon/TN-BusTax2024/blob/main/data/\" +\n",
    "    \"ReservesBalancesData.xlsx?raw=true\"\n",
    ")\n",
    "rain_df = pd.read_excel(\n",
    "    rain_totbal_path,\n",
    "    sheet_name=\"Rainy Day Fund Data\",\n",
    "    header=4,\n",
    "    index_col=0,\n",
    "    skipfooter=2\n",
    ")\n",
    "\n",
    "# Create a DataFrame of just the rainy day funds in $millions\n",
    "# by state and by year\n",
    "rain_dol_df = rain_df.loc[:'Wyoming', 'FY 2000.1':'FY 2023 Estimated']\n",
    "rain_dol_df = rain_dol_df.rename(columns = {\n",
    "    'FY 2000.1': '2000',\n",
    "    'FY 2001.1': '2001',\n",
    "    'FY 2002.1': '2002',\n",
    "    'FY 2003.1': '2003',\n",
    "    'FY 2004.1': '2004',\n",
    "    'FY 2005.1': '2005',\n",
    "    'FY 2006.1': '2006',\n",
    "    'FY 2007.1': '2007',\n",
    "    'FY 2008.1': '2008',\n",
    "    'FY 2009.1': '2009',\n",
    "    'FY 2010.1': '2010',\n",
    "    'FY 2011.1': '2011',\n",
    "    'FY 2012.1': '2012',\n",
    "    'FY 2013.1': '2013',\n",
    "    'FY 2014.1': '2014',\n",
    "    'FY 2015.1': '2015',\n",
    "    ' FY 2016': '2016',\n",
    "    ' FY 2017': '2017',\n",
    "    ' FY 2018': '2018',\n",
    "    'FY 2019.1': '2019',\n",
    "    'FY 2020.1': '2020',\n",
    "    'FY 2021.1': '2021',\n",
    "    'FY2022': '2022',\n",
    "    'FY 2023 Estimated': '2023'\n",
    "})\n",
    "rain_dol_df\n",
    "\n",
    "# Create a DataFrame of just the rainy day funds as a percent of\n",
    "# general fund expenditures by state and by year\n",
    "rain_pct_df = rain_df.loc[:, 'FY 2000.2':'FY 2023 Estimated.1']\n",
    "rain_pct_df = rain_pct_df.rename(columns = {\n",
    "    'FY 2000.2': '2000',\n",
    "    'FY 2001.2': '2001',\n",
    "    'FY 2002.2': '2002',\n",
    "    'FY 2003.2': '2003',\n",
    "    'FY 2004.2': '2004',\n",
    "    'FY 2005.2': '2005',\n",
    "    'FY 2006.2': '2006',\n",
    "    'FY 2007.2': '2007',\n",
    "    'FY 2008.2': '2008',\n",
    "    'FY 2009.2': '2009',\n",
    "    'FY 2010.2': '2010',\n",
    "    'FY 2011.2': '2011',\n",
    "    'FY 2012.2': '2012',\n",
    "    'FY 2013.2': '2013',\n",
    "    'FY 2014.2': '2014',\n",
    "    'FY 2015.2': '2015',\n",
    "    ' FY 2016.1': '2016',\n",
    "    ' FY 2017.1': '2017',\n",
    "    ' FY 2018.1': '2018',\n",
    "    'FY 2019.2': '2019',\n",
    "    'FY 2020.2': '2020',\n",
    "    'FY 2021.2': '2021',\n",
    "    'FY2022.1': '2022',\n",
    "    'FY 2023 Estimated.1': '2023'\n",
    "})"
   ]
  },
  {
   "cell_type": "code",
   "execution_count": null,
   "metadata": {},
   "outputs": [],
   "source": [
    "# Read in the PEW data on total reserves and balances by year and state from\n",
    "# worksheet\n",
    "totbal_df = pd.read_excel(\n",
    "    rain_totbal_path,\n",
    "    sheet_name=\"Total Balances Data\",\n",
    "    header=5,\n",
    "    index_col=0,\n",
    "    skipfooter=2\n",
    ")\n",
    "\n",
    "# Create a DataFrame of just the total reserves and balances funds in $millions\n",
    "# by state and by year\n",
    "totbal_dol_df = totbal_df.loc[:'Wyoming', 'FY 2000.1':'FY 2023 Estimated.1']\n",
    "totbal_dol_df = totbal_dol_df.rename(columns = {\n",
    "    'FY 2000.1': '2000',\n",
    "    'FY 2001.1': '2001',\n",
    "    'FY 2002.1': '2002',\n",
    "    'FY 2003.1': '2003',\n",
    "    'FY 2004.1': '2004',\n",
    "    'FY 2005.1': '2005',\n",
    "    'FY 2006.1': '2006',\n",
    "    'FY 2007.1': '2007',\n",
    "    'FY 2008.1': '2008',\n",
    "    'FY 2009.1': '2009',\n",
    "    'FY 2010.1': '2010',\n",
    "    'FY 2011.1': '2011',\n",
    "    'FY 2012.1': '2012',\n",
    "    'FY 2013.1': '2013',\n",
    "    'FY 2014.1': '2014',\n",
    "    'FY 2015.1': '2015',\n",
    "    ' FY 2016.1': '2016',\n",
    "    ' FY 2017.1': '2017',\n",
    "    ' FY 2018.1': '2018',\n",
    "    'FY 2019.1': '2019',\n",
    "    'FY 2020.1': '2020',\n",
    "    'FY 2021.1': '2021',\n",
    "    'FY2022.1': '2022',\n",
    "    'FY 2023 Estimated.1': '2023'\n",
    "})\n",
    "\n",
    "# Create a DataFrame of just the total reserves and balances funds as percent\n",
    "# of general fund expenditures by state and by year\n",
    "totbal_pct_df = totbal_df.loc[:, 'FY 2000.2':'FY 2023 Estimated.2']\n",
    "totbal_pct_df = totbal_pct_df.rename(columns = {\n",
    "    'FY 2000.2': '2000',\n",
    "    'FY 2001.2': '2001',\n",
    "    'FY 2002.2': '2002',\n",
    "    'FY 2003.2': '2003',\n",
    "    'FY 2004.2': '2004',\n",
    "    'FY 2005.2': '2005',\n",
    "    'FY 2006.2': '2006',\n",
    "    'FY 2007.2': '2007',\n",
    "    'FY 2008.2': '2008',\n",
    "    'FY 2009.2': '2009',\n",
    "    'FY 2010.2': '2010',\n",
    "    'FY 2011.2': '2011',\n",
    "    'FY 2012.2': '2012',\n",
    "    'FY 2013.2': '2013',\n",
    "    'FY 2014.2': '2014',\n",
    "    'FY 2015.2': '2015',\n",
    "    ' FY 2016.2': '2016',\n",
    "    ' FY 2017.2': '2017',\n",
    "    ' FY 2018.2': '2018',\n",
    "    'FY 2019.2': '2019',\n",
    "    'FY 2020.2': '2020',\n",
    "    'FY 2021.2': '2021',\n",
    "    'FY2022.2': '2022',\n",
    "    'FY 2023 Estimated.2': '2023'\n",
    "})"
   ]
  },
  {
   "cell_type": "code",
   "execution_count": null,
   "metadata": {},
   "outputs": [],
   "source": [
    "rain_pct_50_df = rain_pct_df.loc[\"50-state median\", :].to_frame().reset_index()\n",
    "rain_pct_50_df.rename(\n",
    "    columns = {\"index\":\"year\", \"50-state median\":\"fraction\"}, inplace = True\n",
    ")\n",
    "rain_pct_50_df[\"percent\"] = 100 * rain_pct_50_df[\"fraction\"]\n",
    "rain_pct_50_df[\"series\"] = \"50-state median Rainy Day Fund\"\n",
    "\n",
    "rain_pct_tn_df = rain_pct_df.loc[\"Tennessee\", :].to_frame().reset_index()\n",
    "rain_pct_tn_df = rain_pct_tn_df.rename(\n",
    "    columns = {\"index\":\"year\", \"Tennessee\":\"fraction\"}\n",
    ")\n",
    "rain_pct_tn_df[\"percent\"] = 100 * rain_pct_tn_df[\"fraction\"]\n",
    "rain_pct_tn_df[\"series\"] = \"Tennessee Rainy Day Fund\"\n",
    "\n",
    "totbal_pct_50_df = \\\n",
    "    totbal_pct_df.loc[\"50-state median\", :].to_frame().reset_index()\n",
    "totbal_pct_50_df = totbal_pct_50_df.rename(\n",
    "    columns = {\"index\":\"year\", \"50-state median\":\"fraction\"}\n",
    ")\n",
    "totbal_pct_50_df[\"percent\"] = 100 * totbal_pct_50_df[\"fraction\"]\n",
    "totbal_pct_50_df[\"series\"] = \"50-state median total reserve balances\"\n",
    "\n",
    "totbal_pct_tn_df = totbal_pct_df.loc[\"Tennessee\", :].to_frame().reset_index()\n",
    "totbal_pct_tn_df = totbal_pct_tn_df.rename(\n",
    "    columns = {'index':'year', \"Tennessee\":\"fraction\"}\n",
    ")\n",
    "totbal_pct_tn_df[\"percent\"] = 100 * totbal_pct_tn_df[\"fraction\"]\n",
    "totbal_pct_tn_df[\"series\"] = \"Tennessee total reserve balances\"\n",
    "\n",
    "# Merge the four DataFrames to save the joint dataframe as a .csv\n",
    "fig1_source_df = rain_pct_50_df[['year', 'percent']].rename(\n",
    "    columns={'percent':'rain_50m_pct'}\n",
    ")\n",
    "fig1_source_df = pd.merge(\n",
    "    fig1_source_df,\n",
    "    rain_pct_tn_df[['year', 'percent']].rename(\n",
    "        columns={'percent':'rain_tn_pct'}\n",
    "    ),\n",
    "    on='year', how='inner'\n",
    ")\n",
    "fig1_source_df = pd.merge(\n",
    "    fig1_source_df,\n",
    "    totbal_pct_50_df[['year', 'percent']].rename(\n",
    "        columns={'percent':'totbal_50m_pct'}\n",
    "    ),\n",
    "    on='year', how='inner'\n",
    ")\n",
    "fig1_source_df = pd.merge(\n",
    "    fig1_source_df,\n",
    "    totbal_pct_tn_df[['year', 'percent']].rename(\n",
    "        columns={'percent':'totbal_tn_pct'}\n",
    "    ),\n",
    "    on='year', how='inner'\n",
    ")\n",
    "fig1_source_df.to_csv('./data/fig1_source.csv', index=False)\n",
    "\n",
    "fig1_source_df"
   ]
  },
  {
   "cell_type": "markdown",
   "metadata": {},
   "source": [
    "### PEW state balances data: Rainy day fund balances"
   ]
  },
  {
   "cell_type": "code",
   "execution_count": 2,
   "metadata": {},
   "outputs": [
    {
     "name": "stderr",
     "output_type": "stream",
     "text": [
      "/var/folders/d4/trj3dssd6s3g8kxvjmczz11w0000gn/T/ipykernel_56874/3442603919.py:48: SettingWithCopyWarning: \n",
      "A value is trying to be set on a copy of a slice from a DataFrame\n",
      "\n",
      "See the caveats in the documentation: https://pandas.pydata.org/pandas-docs/stable/user_guide/indexing.html#returning-a-view-versus-a-copy\n",
      "  rain_pct_df.rename(columns = {\n"
     ]
    }
   ],
   "source": [
    "# Read in the PEW data on rainy day funds by year and\n",
    "# state from worksheet\n",
    "rain_totbal_path = (\n",
    "    \"https://github.com/TheCGO/TN-BusinessTax/blob/main/data/\" +\n",
    "    \"ReservesBalancesData.xlsx?raw=true\"\n",
    ")\n",
    "rain_df = pd.read_excel(\n",
    "    rain_totbal_path,\n",
    "    sheet_name=\"Rainy Day Fund Data\",\n",
    "    header=5,\n",
    "    index_col=0,\n",
    "    skipfooter=17\n",
    ")\n",
    "rain_df.replace(0, np.nan, inplace=True)\n",
    "\n",
    "# Create a DataFrame of just the rainy day funds in $millions\n",
    "# by state and by year\n",
    "rain_dol_df = rain_df.loc[:'Wyoming', 'FY 2000.1':'FY 2022 (estimated).1']\n",
    "rain_dol_df.rename(columns = {\n",
    "    'FY 2000.1': '2000',\n",
    "    'FY 2001.1': '2001',\n",
    "    'FY 2002.1': '2002',\n",
    "    'FY 2003.1': '2003',\n",
    "    'FY 2004.1': '2004',\n",
    "    'FY 2005.1': '2005',\n",
    "    'FY 2006.1': '2006',\n",
    "    'FY 2007.1': '2007',\n",
    "    'FY 2008.1': '2008',\n",
    "    'FY 2009.1': '2009',\n",
    "    'FY 2010.1': '2010',\n",
    "    'FY 2011.1': '2011',\n",
    "    'FY 2012.1': '2012',\n",
    "    'FY 2013.1': '2013',\n",
    "    'FY 2014.1': '2014',\n",
    "    'FY 2015.1': '2015',\n",
    "    ' FY 2016.1': '2016',\n",
    "    ' FY 2017.1': '2017',\n",
    "    ' FY 2018.1': '2018',\n",
    "    'FY 2019.1': '2019',\n",
    "    'FY 2020.1': '2020',\n",
    "    'FY 2021.1': '2021',\n",
    "    'FY 2022 (estimated).1': '2022',\n",
    "}, inplace = True)\n",
    "\n",
    "# Create a DataFrame of just the rainy day funds as a percent of\n",
    "# general fund expenditures by state and by year\n",
    "rain_pct_df = rain_df.loc[:, 'FY 2000.2':'FY 2022 (estimated).2']\n",
    "rain_pct_df.rename(columns = {\n",
    "    'FY 2000.2': '2000',\n",
    "    'FY 2001.2': '2001',\n",
    "    'FY 2002.2': '2002',\n",
    "    'FY 2003.2': '2003',\n",
    "    'FY 2004.2': '2004',\n",
    "    'FY 2005.2': '2005',\n",
    "    'FY 2006.2': '2006',\n",
    "    'FY 2007.2': '2007',\n",
    "    'FY 2008.2': '2008',\n",
    "    'FY 2009.2': '2009',\n",
    "    'FY 2010.2': '2010',\n",
    "    'FY 2011.2': '2011',\n",
    "    'FY 2012.2': '2012',\n",
    "    'FY 2013.2': '2013',\n",
    "    'FY 2014.2': '2014',\n",
    "    'FY 2015.2': '2015',\n",
    "    ' FY 2016.2': '2016',\n",
    "    ' FY 2017.2': '2017',\n",
    "    ' FY 2018.2': '2018',\n",
    "    'FY 2019.2': '2019',\n",
    "    'FY 2020.2': '2020',\n",
    "    'FY 2021.2': '2021',\n",
    "    'FY 2022 (estimated).2': '2022',\n",
    "}, inplace = True)"
   ]
  },
  {
   "cell_type": "markdown",
   "metadata": {},
   "source": [
    "### PEW state balances data: Total balances"
   ]
  },
  {
   "cell_type": "code",
   "execution_count": 3,
   "metadata": {},
   "outputs": [
    {
     "name": "stderr",
     "output_type": "stream",
     "text": [
      "/var/folders/d4/trj3dssd6s3g8kxvjmczz11w0000gn/T/ipykernel_56874/3735137075.py:44: SettingWithCopyWarning: \n",
      "A value is trying to be set on a copy of a slice from a DataFrame\n",
      "\n",
      "See the caveats in the documentation: https://pandas.pydata.org/pandas-docs/stable/user_guide/indexing.html#returning-a-view-versus-a-copy\n",
      "  totbal_pct_df.rename(columns = {\n"
     ]
    }
   ],
   "source": [
    "# Read in the PEW data on total reserves and balances\n",
    "# by year and state from worksheet\n",
    "totbal_df = pd.read_excel(\n",
    "    rain_totbal_path,\n",
    "    sheet_name=\"Total Balances Data\",\n",
    "    header=5,\n",
    "    index_col=0,\n",
    "    skipfooter=17\n",
    ")\n",
    "totbal_df.replace(0, np.nan, inplace=True)\n",
    "\n",
    "# Create a DataFrame of just the total reserves and balances\n",
    "# funds in $millions by state and by year\n",
    "totbal_dol_df = totbal_df.loc[:'Wyoming', 'FY 2000.1':'FY 2022 (estimated).1']\n",
    "totbal_dol_df.rename(columns = {\n",
    "    'FY 2000.1': '2000',\n",
    "    'FY 2001.1': '2001',\n",
    "    'FY 2002.1': '2002',\n",
    "    'FY 2003.1': '2003',\n",
    "    'FY 2004.1': '2004',\n",
    "    'FY 2005.1': '2005',\n",
    "    'FY 2006.1': '2006',\n",
    "    'FY 2007.1': '2007',\n",
    "    'FY 2008.1': '2008',\n",
    "    'FY 2009.1': '2009',\n",
    "    'FY 2010.1': '2010',\n",
    "    'FY 2011.1': '2011',\n",
    "    'FY 2012.1': '2012',\n",
    "    'FY 2013.1': '2013',\n",
    "    'FY 2014.1': '2014',\n",
    "    'FY 2015.1': '2015',\n",
    "    ' FY 2016.1': '2016',\n",
    "    ' FY 2017.1': '2017',\n",
    "    ' FY 2018.1': '2018',\n",
    "    'FY 2019.1': '2019',\n",
    "    'FY 2020.1': '2020',\n",
    "    'FY 2021.1': '2021',\n",
    "    'FY 2022 (estimated).1': '2022',\n",
    "}, inplace = True)\n",
    "\n",
    "# Create a DataFrame of just the total reserves and balances funds\n",
    "# as a percent of general fund expenditures by state and by year\n",
    "totbal_pct_df = totbal_df.loc[:, 'FY 2000.2':'FY 2022 (estimated).2']\n",
    "totbal_pct_df.rename(columns = {\n",
    "    'FY 2000.2': '2000',\n",
    "    'FY 2001.2': '2001',\n",
    "    'FY 2002.2': '2002',\n",
    "    'FY 2003.2': '2003',\n",
    "    'FY 2004.2': '2004',\n",
    "    'FY 2005.2': '2005',\n",
    "    'FY 2006.2': '2006',\n",
    "    'FY 2007.2': '2007',\n",
    "    'FY 2008.2': '2008',\n",
    "    'FY 2009.2': '2009',\n",
    "    'FY 2010.2': '2010',\n",
    "    'FY 2011.2': '2011',\n",
    "    'FY 2012.2': '2012',\n",
    "    'FY 2013.2': '2013',\n",
    "    'FY 2014.2': '2014',\n",
    "    'FY 2015.2': '2015',\n",
    "    ' FY 2016.2': '2016',\n",
    "    ' FY 2017.2': '2017',\n",
    "    ' FY 2018.2': '2018',\n",
    "    'FY 2019.2': '2019',\n",
    "    'FY 2020.2': '2020',\n",
    "    'FY 2021.2': '2021',\n",
    "    'FY 2022 (estimated).2': '2022',\n",
    "}, inplace = True)"
   ]
  },
  {
   "cell_type": "markdown",
   "metadata": {},
   "source": [
    "### Figure 1. Plot time series of rainy day funds and total balances as percent of general fund expenditures for both the 50-state median and for Tennessee\n",
    "Executing the cell below and the following cell will create the `rain_totbal_50_tn_timeseries.html` file in this notebook and in the `/images/` folder of this repository. The figure should also open in a browser window in your browser. I created the `.png` version of the file by just screenshotting the `.html` image."
   ]
  },
  {
   "cell_type": "code",
   "execution_count": 13,
   "metadata": {},
   "outputs": [
    {
     "data": {
      "text/html": [
       "<div>\n",
       "<style scoped>\n",
       "    .dataframe tbody tr th:only-of-type {\n",
       "        vertical-align: middle;\n",
       "    }\n",
       "\n",
       "    .dataframe tbody tr th {\n",
       "        vertical-align: top;\n",
       "    }\n",
       "\n",
       "    .dataframe thead th {\n",
       "        text-align: right;\n",
       "    }\n",
       "</style>\n",
       "<table border=\"1\" class=\"dataframe\">\n",
       "  <thead>\n",
       "    <tr style=\"text-align: right;\">\n",
       "      <th></th>\n",
       "      <th>year</th>\n",
       "      <th>rain_50m_pct</th>\n",
       "      <th>rain_tn_pct</th>\n",
       "      <th>totbal_50m_pct</th>\n",
       "      <th>totbal_tn_pct</th>\n",
       "    </tr>\n",
       "  </thead>\n",
       "  <tbody>\n",
       "    <tr>\n",
       "      <th>0</th>\n",
       "      <td>2000</td>\n",
       "      <td>4.127259</td>\n",
       "      <td>2.504361</td>\n",
       "      <td>8.766520</td>\n",
       "      <td>3.285552</td>\n",
       "    </tr>\n",
       "    <tr>\n",
       "      <th>1</th>\n",
       "      <td>2001</td>\n",
       "      <td>4.614270</td>\n",
       "      <td>2.537384</td>\n",
       "      <td>7.148315</td>\n",
       "      <td>2.983564</td>\n",
       "    </tr>\n",
       "    <tr>\n",
       "      <th>2</th>\n",
       "      <td>2002</td>\n",
       "      <td>1.655668</td>\n",
       "      <td>2.368375</td>\n",
       "      <td>2.887308</td>\n",
       "      <td>2.521389</td>\n",
       "    </tr>\n",
       "    <tr>\n",
       "      <th>3</th>\n",
       "      <td>2003</td>\n",
       "      <td>0.722015</td>\n",
       "      <td>2.249264</td>\n",
       "      <td>2.656212</td>\n",
       "      <td>3.059252</td>\n",
       "    </tr>\n",
       "    <tr>\n",
       "      <th>4</th>\n",
       "      <td>2004</td>\n",
       "      <td>1.844196</td>\n",
       "      <td>2.654402</td>\n",
       "      <td>5.246650</td>\n",
       "      <td>9.323433</td>\n",
       "    </tr>\n",
       "    <tr>\n",
       "      <th>5</th>\n",
       "      <td>2005</td>\n",
       "      <td>2.459819</td>\n",
       "      <td>3.022189</td>\n",
       "      <td>9.016673</td>\n",
       "      <td>8.094287</td>\n",
       "    </tr>\n",
       "    <tr>\n",
       "      <th>6</th>\n",
       "      <td>2006</td>\n",
       "      <td>4.553273</td>\n",
       "      <td>3.585613</td>\n",
       "      <td>11.801597</td>\n",
       "      <td>11.793910</td>\n",
       "    </tr>\n",
       "    <tr>\n",
       "      <th>7</th>\n",
       "      <td>2007</td>\n",
       "      <td>4.738918</td>\n",
       "      <td>5.553680</td>\n",
       "      <td>11.327766</td>\n",
       "      <td>15.849829</td>\n",
       "    </tr>\n",
       "    <tr>\n",
       "      <th>8</th>\n",
       "      <td>2008</td>\n",
       "      <td>4.834502</td>\n",
       "      <td>6.835208</td>\n",
       "      <td>8.292193</td>\n",
       "      <td>10.004921</td>\n",
       "    </tr>\n",
       "    <tr>\n",
       "      <th>9</th>\n",
       "      <td>2009</td>\n",
       "      <td>2.728263</td>\n",
       "      <td>5.212919</td>\n",
       "      <td>4.582794</td>\n",
       "      <td>5.936077</td>\n",
       "    </tr>\n",
       "    <tr>\n",
       "      <th>10</th>\n",
       "      <td>2010</td>\n",
       "      <td>1.638317</td>\n",
       "      <td>4.794405</td>\n",
       "      <td>4.488299</td>\n",
       "      <td>7.330752</td>\n",
       "    </tr>\n",
       "    <tr>\n",
       "      <th>11</th>\n",
       "      <td>2011</td>\n",
       "      <td>1.761059</td>\n",
       "      <td>2.837106</td>\n",
       "      <td>6.368404</td>\n",
       "      <td>8.791429</td>\n",
       "    </tr>\n",
       "    <tr>\n",
       "      <th>12</th>\n",
       "      <td>2012</td>\n",
       "      <td>2.436049</td>\n",
       "      <td>2.739849</td>\n",
       "      <td>7.907533</td>\n",
       "      <td>10.068496</td>\n",
       "    </tr>\n",
       "    <tr>\n",
       "      <th>13</th>\n",
       "      <td>2013</td>\n",
       "      <td>3.558071</td>\n",
       "      <td>3.106972</td>\n",
       "      <td>9.639226</td>\n",
       "      <td>10.086315</td>\n",
       "    </tr>\n",
       "    <tr>\n",
       "      <th>14</th>\n",
       "      <td>2014</td>\n",
       "      <td>4.524613</td>\n",
       "      <td>3.757416</td>\n",
       "      <td>7.292836</td>\n",
       "      <td>6.919908</td>\n",
       "    </tr>\n",
       "    <tr>\n",
       "      <th>15</th>\n",
       "      <td>2015</td>\n",
       "      <td>4.918311</td>\n",
       "      <td>3.986083</td>\n",
       "      <td>9.204278</td>\n",
       "      <td>11.062090</td>\n",
       "    </tr>\n",
       "    <tr>\n",
       "      <th>16</th>\n",
       "      <td>2016</td>\n",
       "      <td>5.339671</td>\n",
       "      <td>4.491894</td>\n",
       "      <td>9.739579</td>\n",
       "      <td>15.483590</td>\n",
       "    </tr>\n",
       "    <tr>\n",
       "      <th>17</th>\n",
       "      <td>2017</td>\n",
       "      <td>5.613689</td>\n",
       "      <td>5.046003</td>\n",
       "      <td>8.315685</td>\n",
       "      <td>17.484250</td>\n",
       "    </tr>\n",
       "    <tr>\n",
       "      <th>18</th>\n",
       "      <td>2018</td>\n",
       "      <td>6.547734</td>\n",
       "      <td>5.785447</td>\n",
       "      <td>11.724584</td>\n",
       "      <td>14.028985</td>\n",
       "    </tr>\n",
       "    <tr>\n",
       "      <th>19</th>\n",
       "      <td>2019</td>\n",
       "      <td>7.929661</td>\n",
       "      <td>6.133679</td>\n",
       "      <td>13.993790</td>\n",
       "      <td>17.642564</td>\n",
       "    </tr>\n",
       "    <tr>\n",
       "      <th>20</th>\n",
       "      <td>2020</td>\n",
       "      <td>8.439704</td>\n",
       "      <td>8.207990</td>\n",
       "      <td>12.711729</td>\n",
       "      <td>21.827099</td>\n",
       "    </tr>\n",
       "    <tr>\n",
       "      <th>21</th>\n",
       "      <td>2021</td>\n",
       "      <td>9.890083</td>\n",
       "      <td>10.035783</td>\n",
       "      <td>27.125529</td>\n",
       "      <td>41.306590</td>\n",
       "    </tr>\n",
       "    <tr>\n",
       "      <th>22</th>\n",
       "      <td>2022</td>\n",
       "      <td>11.642068</td>\n",
       "      <td>8.810923</td>\n",
       "      <td>24.368634</td>\n",
       "      <td>33.390557</td>\n",
       "    </tr>\n",
       "  </tbody>\n",
       "</table>\n",
       "</div>"
      ],
      "text/plain": [
       "    year  rain_50m_pct  rain_tn_pct  totbal_50m_pct  totbal_tn_pct\n",
       "0   2000      4.127259     2.504361        8.766520       3.285552\n",
       "1   2001      4.614270     2.537384        7.148315       2.983564\n",
       "2   2002      1.655668     2.368375        2.887308       2.521389\n",
       "3   2003      0.722015     2.249264        2.656212       3.059252\n",
       "4   2004      1.844196     2.654402        5.246650       9.323433\n",
       "5   2005      2.459819     3.022189        9.016673       8.094287\n",
       "6   2006      4.553273     3.585613       11.801597      11.793910\n",
       "7   2007      4.738918     5.553680       11.327766      15.849829\n",
       "8   2008      4.834502     6.835208        8.292193      10.004921\n",
       "9   2009      2.728263     5.212919        4.582794       5.936077\n",
       "10  2010      1.638317     4.794405        4.488299       7.330752\n",
       "11  2011      1.761059     2.837106        6.368404       8.791429\n",
       "12  2012      2.436049     2.739849        7.907533      10.068496\n",
       "13  2013      3.558071     3.106972        9.639226      10.086315\n",
       "14  2014      4.524613     3.757416        7.292836       6.919908\n",
       "15  2015      4.918311     3.986083        9.204278      11.062090\n",
       "16  2016      5.339671     4.491894        9.739579      15.483590\n",
       "17  2017      5.613689     5.046003        8.315685      17.484250\n",
       "18  2018      6.547734     5.785447       11.724584      14.028985\n",
       "19  2019      7.929661     6.133679       13.993790      17.642564\n",
       "20  2020      8.439704     8.207990       12.711729      21.827099\n",
       "21  2021      9.890083    10.035783       27.125529      41.306590\n",
       "22  2022     11.642068     8.810923       24.368634      33.390557"
      ]
     },
     "execution_count": 13,
     "metadata": {},
     "output_type": "execute_result"
    }
   ],
   "source": [
    "# Create source DataFrame for Figure 1 and save it as .csv\n",
    "rain_pct_50_df = rain_pct_df.loc[\"50-state median\", :].to_frame().reset_index()\n",
    "rain_pct_50_df.rename(\n",
    "    columns = {\"index\":\"year\", \"50-state median\":\"fraction\"}, inplace = True\n",
    ")\n",
    "rain_pct_50_df[\"percent\"] = 100 * rain_pct_50_df[\"fraction\"]\n",
    "\n",
    "rain_pct_tn_df = rain_pct_df.loc[\"Tennessee\", :].to_frame().reset_index()\n",
    "rain_pct_tn_df.rename(\n",
    "    columns = {\"index\":\"year\", \"Tennessee\":\"fraction\"}, inplace = True\n",
    ")\n",
    "rain_pct_tn_df[\"percent\"] = 100 * rain_pct_tn_df[\"fraction\"]\n",
    "\n",
    "totbal_pct_50_df = \\\n",
    "    totbal_pct_df.loc[\"50-state median\", :].to_frame().reset_index()\n",
    "totbal_pct_50_df.rename(\n",
    "    columns = {\"index\":\"year\", \"50-state median\":\"fraction\"}, inplace = True\n",
    ")\n",
    "totbal_pct_50_df[\"percent\"] = 100 * totbal_pct_50_df[\"fraction\"]\n",
    "\n",
    "totbal_pct_tn_df = totbal_pct_df.loc[\"Tennessee\", :].to_frame().reset_index()\n",
    "totbal_pct_tn_df.rename(\n",
    "    columns = {'index':'year', \"Tennessee\":\"fraction\"}, inplace = True\n",
    ")\n",
    "totbal_pct_tn_df[\"percent\"] = 100 * totbal_pct_tn_df[\"fraction\"]\n",
    "\n",
    "# Merge the four DataFrames to save the joint dataframe as a .csv\n",
    "fig1_source_df = rain_pct_50_df[['year', 'percent']].rename(\n",
    "    columns={'percent':'rain_50m_pct'}\n",
    ")\n",
    "fig1_source_df = pd.merge(\n",
    "    fig1_source_df,\n",
    "    rain_pct_tn_df[['year', 'percent']].rename(\n",
    "        columns={'percent':'rain_tn_pct'}\n",
    "    ),\n",
    "    on='year', how='inner'\n",
    ")\n",
    "fig1_source_df = pd.merge(\n",
    "    fig1_source_df,\n",
    "    totbal_pct_50_df[['year', 'percent']].rename(\n",
    "        columns={'percent':'totbal_50m_pct'}\n",
    "    ),\n",
    "    on='year', how='inner'\n",
    ")\n",
    "fig1_source_df = pd.merge(\n",
    "    fig1_source_df,\n",
    "    totbal_pct_tn_df[['year', 'percent']].rename(\n",
    "        columns={'percent':'totbal_tn_pct'}\n",
    "    ),\n",
    "    on='year', how='inner'\n",
    ")\n",
    "fig1_source_df.to_csv('data/fig1_source.csv', index=False)\n",
    "fig1_source_df"
   ]
  },
  {
   "cell_type": "code",
   "execution_count": 14,
   "metadata": {},
   "outputs": [
    {
     "data": {
      "text/html": [
       "<div class=\"bk-root\">\n",
       "        <a href=\"https://bokeh.org\" target=\"_blank\" class=\"bk-logo bk-logo-small bk-logo-notebook\"></a>\n",
       "        <span id=\"1002\">Loading BokehJS ...</span>\n",
       "    </div>\n"
      ]
     },
     "metadata": {},
     "output_type": "display_data"
    },
    {
     "data": {
      "application/javascript": "(function(root) {\n  function now() {\n    return new Date();\n  }\n\n  const force = true;\n\n  if (typeof root._bokeh_onload_callbacks === \"undefined\" || force === true) {\n    root._bokeh_onload_callbacks = [];\n    root._bokeh_is_loading = undefined;\n  }\n\nconst JS_MIME_TYPE = 'application/javascript';\n  const HTML_MIME_TYPE = 'text/html';\n  const EXEC_MIME_TYPE = 'application/vnd.bokehjs_exec.v0+json';\n  const CLASS_NAME = 'output_bokeh rendered_html';\n\n  /**\n   * Render data to the DOM node\n   */\n  function render(props, node) {\n    const script = document.createElement(\"script\");\n    node.appendChild(script);\n  }\n\n  /**\n   * Handle when an output is cleared or removed\n   */\n  function handleClearOutput(event, handle) {\n    const cell = handle.cell;\n\n    const id = cell.output_area._bokeh_element_id;\n    const server_id = cell.output_area._bokeh_server_id;\n    // Clean up Bokeh references\n    if (id != null && id in Bokeh.index) {\n      Bokeh.index[id].model.document.clear();\n      delete Bokeh.index[id];\n    }\n\n    if (server_id !== undefined) {\n      // Clean up Bokeh references\n      const cmd_clean = \"from bokeh.io.state import curstate; print(curstate().uuid_to_server['\" + server_id + \"'].get_sessions()[0].document.roots[0]._id)\";\n      cell.notebook.kernel.execute(cmd_clean, {\n        iopub: {\n          output: function(msg) {\n            const id = msg.content.text.trim();\n            if (id in Bokeh.index) {\n              Bokeh.index[id].model.document.clear();\n              delete Bokeh.index[id];\n            }\n          }\n        }\n      });\n      // Destroy server and session\n      const cmd_destroy = \"import bokeh.io.notebook as ion; ion.destroy_server('\" + server_id + \"')\";\n      cell.notebook.kernel.execute(cmd_destroy);\n    }\n  }\n\n  /**\n   * Handle when a new output is added\n   */\n  function handleAddOutput(event, handle) {\n    const output_area = handle.output_area;\n    const output = handle.output;\n\n    // limit handleAddOutput to display_data with EXEC_MIME_TYPE content only\n    if ((output.output_type != \"display_data\") || (!Object.prototype.hasOwnProperty.call(output.data, EXEC_MIME_TYPE))) {\n      return\n    }\n\n    const toinsert = output_area.element.find(\".\" + CLASS_NAME.split(' ')[0]);\n\n    if (output.metadata[EXEC_MIME_TYPE][\"id\"] !== undefined) {\n      toinsert[toinsert.length - 1].firstChild.textContent = output.data[JS_MIME_TYPE];\n      // store reference to embed id on output_area\n      output_area._bokeh_element_id = output.metadata[EXEC_MIME_TYPE][\"id\"];\n    }\n    if (output.metadata[EXEC_MIME_TYPE][\"server_id\"] !== undefined) {\n      const bk_div = document.createElement(\"div\");\n      bk_div.innerHTML = output.data[HTML_MIME_TYPE];\n      const script_attrs = bk_div.children[0].attributes;\n      for (let i = 0; i < script_attrs.length; i++) {\n        toinsert[toinsert.length - 1].firstChild.setAttribute(script_attrs[i].name, script_attrs[i].value);\n        toinsert[toinsert.length - 1].firstChild.textContent = bk_div.children[0].textContent\n      }\n      // store reference to server id on output_area\n      output_area._bokeh_server_id = output.metadata[EXEC_MIME_TYPE][\"server_id\"];\n    }\n  }\n\n  function register_renderer(events, OutputArea) {\n\n    function append_mime(data, metadata, element) {\n      // create a DOM node to render to\n      const toinsert = this.create_output_subarea(\n        metadata,\n        CLASS_NAME,\n        EXEC_MIME_TYPE\n      );\n      this.keyboard_manager.register_events(toinsert);\n      // Render to node\n      const props = {data: data, metadata: metadata[EXEC_MIME_TYPE]};\n      render(props, toinsert[toinsert.length - 1]);\n      element.append(toinsert);\n      return toinsert\n    }\n\n    /* Handle when an output is cleared or removed */\n    events.on('clear_output.CodeCell', handleClearOutput);\n    events.on('delete.Cell', handleClearOutput);\n\n    /* Handle when a new output is added */\n    events.on('output_added.OutputArea', handleAddOutput);\n\n    /**\n     * Register the mime type and append_mime function with output_area\n     */\n    OutputArea.prototype.register_mime_type(EXEC_MIME_TYPE, append_mime, {\n      /* Is output safe? */\n      safe: true,\n      /* Index of renderer in `output_area.display_order` */\n      index: 0\n    });\n  }\n\n  // register the mime type if in Jupyter Notebook environment and previously unregistered\n  if (root.Jupyter !== undefined) {\n    const events = require('base/js/events');\n    const OutputArea = require('notebook/js/outputarea').OutputArea;\n\n    if (OutputArea.prototype.mime_types().indexOf(EXEC_MIME_TYPE) == -1) {\n      register_renderer(events, OutputArea);\n    }\n  }\n  if (typeof (root._bokeh_timeout) === \"undefined\" || force === true) {\n    root._bokeh_timeout = Date.now() + 5000;\n    root._bokeh_failed_load = false;\n  }\n\n  const NB_LOAD_WARNING = {'data': {'text/html':\n     \"<div style='background-color: #fdd'>\\n\"+\n     \"<p>\\n\"+\n     \"BokehJS does not appear to have successfully loaded. If loading BokehJS from CDN, this \\n\"+\n     \"may be due to a slow or bad network connection. Possible fixes:\\n\"+\n     \"</p>\\n\"+\n     \"<ul>\\n\"+\n     \"<li>re-rerun `output_notebook()` to attempt to load from CDN again, or</li>\\n\"+\n     \"<li>use INLINE resources instead, as so:</li>\\n\"+\n     \"</ul>\\n\"+\n     \"<code>\\n\"+\n     \"from bokeh.resources import INLINE\\n\"+\n     \"output_notebook(resources=INLINE)\\n\"+\n     \"</code>\\n\"+\n     \"</div>\"}};\n\n  function display_loaded() {\n    const el = document.getElementById(\"1002\");\n    if (el != null) {\n      el.textContent = \"BokehJS is loading...\";\n    }\n    if (root.Bokeh !== undefined) {\n      if (el != null) {\n        el.textContent = \"BokehJS \" + root.Bokeh.version + \" successfully loaded.\";\n      }\n    } else if (Date.now() < root._bokeh_timeout) {\n      setTimeout(display_loaded, 100)\n    }\n  }\n\n  function run_callbacks() {\n    try {\n      root._bokeh_onload_callbacks.forEach(function(callback) {\n        if (callback != null)\n          callback();\n      });\n    } finally {\n      delete root._bokeh_onload_callbacks\n    }\n    console.debug(\"Bokeh: all callbacks have finished\");\n  }\n\n  function load_libs(css_urls, js_urls, callback) {\n    if (css_urls == null) css_urls = [];\n    if (js_urls == null) js_urls = [];\n\n    root._bokeh_onload_callbacks.push(callback);\n    if (root._bokeh_is_loading > 0) {\n      console.debug(\"Bokeh: BokehJS is being loaded, scheduling callback at\", now());\n      return null;\n    }\n    if (js_urls == null || js_urls.length === 0) {\n      run_callbacks();\n      return null;\n    }\n    console.debug(\"Bokeh: BokehJS not loaded, scheduling load and callback at\", now());\n    root._bokeh_is_loading = css_urls.length + js_urls.length;\n\n    function on_load() {\n      root._bokeh_is_loading--;\n      if (root._bokeh_is_loading === 0) {\n        console.debug(\"Bokeh: all BokehJS libraries/stylesheets loaded\");\n        run_callbacks()\n      }\n    }\n\n    function on_error(url) {\n      console.error(\"failed to load \" + url);\n    }\n\n    for (let i = 0; i < css_urls.length; i++) {\n      const url = css_urls[i];\n      const element = document.createElement(\"link\");\n      element.onload = on_load;\n      element.onerror = on_error.bind(null, url);\n      element.rel = \"stylesheet\";\n      element.type = \"text/css\";\n      element.href = url;\n      console.debug(\"Bokeh: injecting link tag for BokehJS stylesheet: \", url);\n      document.body.appendChild(element);\n    }\n\n    for (let i = 0; i < js_urls.length; i++) {\n      const url = js_urls[i];\n      const element = document.createElement('script');\n      element.onload = on_load;\n      element.onerror = on_error.bind(null, url);\n      element.async = false;\n      element.src = url;\n      console.debug(\"Bokeh: injecting script tag for BokehJS library: \", url);\n      document.head.appendChild(element);\n    }\n  };\n\n  function inject_raw_css(css) {\n    const element = document.createElement(\"style\");\n    element.appendChild(document.createTextNode(css));\n    document.body.appendChild(element);\n  }\n\n  const js_urls = [\"https://cdn.bokeh.org/bokeh/release/bokeh-2.4.3.min.js\", \"https://cdn.bokeh.org/bokeh/release/bokeh-gl-2.4.3.min.js\", \"https://cdn.bokeh.org/bokeh/release/bokeh-widgets-2.4.3.min.js\", \"https://cdn.bokeh.org/bokeh/release/bokeh-tables-2.4.3.min.js\", \"https://cdn.bokeh.org/bokeh/release/bokeh-mathjax-2.4.3.min.js\"];\n  const css_urls = [];\n\n  const inline_js = [    function(Bokeh) {\n      Bokeh.set_log_level(\"info\");\n    },\nfunction(Bokeh) {\n    }\n  ];\n\n  function run_inline_js() {\n    if (root.Bokeh !== undefined || force === true) {\n          for (let i = 0; i < inline_js.length; i++) {\n      inline_js[i].call(root, root.Bokeh);\n    }\nif (force === true) {\n        display_loaded();\n      }} else if (Date.now() < root._bokeh_timeout) {\n      setTimeout(run_inline_js, 100);\n    } else if (!root._bokeh_failed_load) {\n      console.log(\"Bokeh: BokehJS failed to load within specified timeout.\");\n      root._bokeh_failed_load = true;\n    } else if (force !== true) {\n      const cell = $(document.getElementById(\"1002\")).parents('.cell').data().cell;\n      cell.output_area.append_execute_result(NB_LOAD_WARNING)\n    }\n  }\n\n  if (root._bokeh_is_loading === 0) {\n    console.debug(\"Bokeh: BokehJS loaded, going straight to plotting\");\n    run_inline_js();\n  } else {\n    load_libs(css_urls, js_urls, function() {\n      console.debug(\"Bokeh: BokehJS plotting callback run at\", now());\n      run_inline_js();\n    });\n  }\n}(window));",
      "application/vnd.bokehjs_load.v0+json": ""
     },
     "metadata": {},
     "output_type": "display_data"
    }
   ],
   "source": [
    "# fig1_title = (\"Rainy Day fund and total reserves as a percentage of \" +\n",
    "#               \"general fund expenditures: 2000-2022\")\n",
    "fig1_title = \"\"\n",
    "output_file(\"images/rain_totbal_50_tn_timeseries.html\", title=fig1_title,\n",
    "            mode='inline')\n",
    "output_notebook()\n",
    "min_year = 2000\n",
    "max_year = 2022\n",
    "min_pct = 2.0\n",
    "max_pct = 0.0\n",
    "pct_buffer = 0.05\n",
    "\n",
    "var_list = [rain_pct_50_df, rain_pct_tn_df, totbal_pct_50_df, totbal_pct_tn_df]\n",
    "color_list = [\"#3477A5\", \"#D5AB53\", \"#3477A5\", \"#D5AB53\"]\n",
    "marker_list = [\"circle\", \"circle\", \"square\", \"square\"]\n",
    "legend_label_list = [\n",
    "    \"Rainy Day Fund, 50-state median\", \"Rainy Day Fund, Tennessee\",\n",
    "    \"Total balances, 50-state median\", \"Total balances, Tennessee\"\n",
    "]\n",
    "cds_list = []\n",
    "\n",
    "for k, df in enumerate(var_list):\n",
    "    min_pct = np.minimum(min_pct, df[\"percent\"].min())\n",
    "    max_pct = np.maximum(max_pct, df[\"percent\"].max())\n",
    "    cds_list.append(ColumnDataSource(df))\n",
    "\n",
    "fig1 = figure(title=fig1_title,\n",
    "              height=420,\n",
    "              width=700,\n",
    "              x_axis_label='Year',\n",
    "              x_range=(min_year - 1, max_year + 1.5),\n",
    "              y_axis_label='Percent of general fund expenditures',\n",
    "              y_range=(min_pct - pct_buffer * (max_pct - min_pct),\n",
    "                       max_pct + pct_buffer * (max_pct - min_pct)),\n",
    "              toolbar_location=None)\n",
    "\n",
    "# Turn off any pan, drag, or scrolling ability\n",
    "fig1.toolbar.active_drag = None\n",
    "fig1.toolbar.active_scroll = None\n",
    "fig1.toolbar.active_tap = None\n",
    "\n",
    "# Set title font size and axes font sizes\n",
    "fig1.title.text_font_size = '0pt'  # Hide title by setting font size to 0\n",
    "fig1.title.text_color = '#434244'\n",
    "fig1.xaxis.axis_label_text_font_size = '12pt'\n",
    "fig1.xaxis.major_label_text_font_size = '12pt'\n",
    "fig1.xaxis.major_label_text_color = '#434244'\n",
    "fig1.yaxis.axis_label_text_font_size = '12pt'\n",
    "fig1.yaxis.major_label_text_font_size = '12pt'\n",
    "fig1.yaxis.major_label_text_color = '#434244'\n",
    "\n",
    "# Modify tick intervals for X-axis and Y-axis\n",
    "fig1.xaxis.ticker = SingleIntervalTicker(interval=2, num_minor_ticks=2)\n",
    "fig1.xaxis.axis_line_color = '#434244'\n",
    "fig1.xaxis.major_tick_line_color = '#434244'\n",
    "fig1.xaxis.minor_tick_line_color = '#434244'\n",
    "fig1.xgrid.ticker = SingleIntervalTicker(interval=2)\n",
    "fig1.yaxis.ticker = SingleIntervalTicker(interval=10, num_minor_ticks=5)\n",
    "fig1.yaxis.axis_line_color = '#434244'\n",
    "fig1.yaxis.major_tick_line_color = '#434244'\n",
    "fig1.yaxis.minor_tick_line_color = '#434244'\n",
    "fig1.ygrid.ticker = SingleIntervalTicker(interval=10)\n",
    "\n",
    "# Create lines and markers for time series\n",
    "for k, yvar in enumerate(var_list):\n",
    "    fig1.line(x='year', y='percent', source=cds_list[k], color=color_list[k],\n",
    "              line_width=3, alpha=0.7)\n",
    "    fig1.scatter(x='year', y='percent', source=cds_list[k], size=8,\n",
    "                 line_width=1, line_color='black', fill_color=color_list[k],\n",
    "                 marker=marker_list[k], line_alpha=0.7, fill_alpha=0.7,\n",
    "                 legend_label=legend_label_list[k])\n",
    "\n",
    "fig1.segment(x0=2021.4, y0=min_pct - pct_buffer * (max_pct - min_pct),\n",
    "             x1=2021.4, y1=max_pct + pct_buffer * (max_pct - min_pct),\n",
    "             color='#434244', line_dash='6 2', line_width=2)\n",
    "\n",
    "label_temp = Label(x=2021.5, y=28.0, x_units='data', y_units='data',\n",
    "                   text='Projected', text_font_size='9pt',\n",
    "                   text_color='#434244')\n",
    "fig1.add_layout(label_temp)\n",
    "\n",
    "# Add information on hover\n",
    "tooltips = [('Year', '@year'),\n",
    "            ('Pct of gen. fund exps.','@percent{0.0}' + '%')]\n",
    "fig1.add_tools(HoverTool(tooltips=tooltips, toggleable=False))\n",
    "\n",
    "# Add legend\n",
    "fig1.legend.location = 'top_center'\n",
    "fig1.legend.border_line_width = 1\n",
    "fig1.legend.border_line_color = '#434244'\n",
    "fig1.legend.border_line_alpha = 1\n",
    "fig1.legend.label_text_font_size = '12pt'\n",
    "fig1.legend.label_text_color = '#434244'\n",
    "\n",
    "# Add notes below image\n",
    "note_text_list1 = [\n",
    "    (\n",
    "        'Source: Pew Charitable Trusts, \"Fiscal 50: State Trends and ' +\n",
    "        'Analysis,\" December 16, 2022,'\n",
    "    ),\n",
    "    ('        accessed December 31, 2022.')\n",
    "]\n",
    "for note_text in note_text_list1:\n",
    "    caption = Title(\n",
    "        text=note_text, align='left', text_font_size='11pt',\n",
    "        text_font_style='normal',\n",
    "        text_color='#434244',\n",
    "        # text_font='Open Sans'\n",
    "    )\n",
    "    fig1.add_layout(caption, 'below')\n",
    "\n",
    "# # This export_png() function requires selenium package as well as firefox\n",
    "# # and geckodriver packages\n",
    "# # (see https://docs.bokeh.org/en/3.0.3/docs/user_guide/output/export.html)\n",
    "# export_png(fig, filename=\"/images/rain_totbal_50_tn_timeseries.png\")"
   ]
  },
  {
   "cell_type": "code",
   "execution_count": 15,
   "metadata": {},
   "outputs": [
    {
     "data": {
      "text/html": [
       "\n",
       "  <div class=\"bk-root\" id=\"f57bdb91-e376-4522-9d26-bdb15b11f37a\" data-root-id=\"1007\"></div>\n"
      ]
     },
     "metadata": {},
     "output_type": "display_data"
    },
    {
     "data": {
      "application/javascript": "(function(root) {\n  function embed_document(root) {\n  const docs_json = {\"d6a41969-acce-4a51-9919-b54feed6c197\":{\"defs\":[],\"roots\":{\"references\":[{\"attributes\":{\"below\":[{\"id\":\"1018\"},{\"id\":\"1155\"},{\"id\":\"1156\"}],\"center\":[{\"id\":\"1021\"},{\"id\":\"1025\"},{\"id\":\"1069\"},{\"id\":\"1152\"}],\"height\":420,\"left\":[{\"id\":\"1022\"}],\"renderers\":[{\"id\":\"1053\"},{\"id\":\"1059\"},{\"id\":\"1075\"},{\"id\":\"1081\"},{\"id\":\"1098\"},{\"id\":\"1104\"},{\"id\":\"1123\"},{\"id\":\"1129\"},{\"id\":\"1150\"}],\"title\":{\"id\":\"1008\"},\"toolbar\":{\"id\":\"1033\"},\"toolbar_location\":null,\"width\":700,\"x_range\":{\"id\":\"1010\"},\"x_scale\":{\"id\":\"1014\"},\"y_range\":{\"id\":\"1012\"},\"y_scale\":{\"id\":\"1016\"}},\"id\":\"1007\",\"subtype\":\"Figure\",\"type\":\"Plot\"},{\"attributes\":{\"end\":43.335818460000006,\"start\":-1.30721426},\"id\":\"1012\",\"type\":\"Range1d\"},{\"attributes\":{\"interval\":10},\"id\":\"1046\",\"type\":\"SingleIntervalTicker\"},{\"attributes\":{\"line_alpha\":0.1,\"line_color\":\"#3477A5\",\"line_width\":3,\"x\":{\"field\":\"year\"},\"y\":{\"field\":\"percent\"}},\"id\":\"1096\",\"type\":\"Line\"},{\"attributes\":{\"source\":{\"id\":\"1005\"}},\"id\":\"1099\",\"type\":\"CDSView\"},{\"attributes\":{},\"id\":\"1116\",\"type\":\"Selection\"},{\"attributes\":{\"fill_alpha\":{\"value\":0.1},\"fill_color\":{\"value\":\"#3477A5\"},\"hatch_alpha\":{\"value\":0.1},\"line_alpha\":{\"value\":0.1},\"size\":{\"value\":8},\"x\":{\"field\":\"year\"},\"y\":{\"field\":\"percent\"}},\"id\":\"1057\",\"type\":\"Scatter\"},{\"attributes\":{},\"id\":\"1143\",\"type\":\"Selection\"},{\"attributes\":{\"fill_alpha\":{\"value\":0.7},\"fill_color\":{\"value\":\"#3477A5\"},\"line_alpha\":{\"value\":0.7},\"marker\":{\"value\":\"square\"},\"size\":{\"value\":8},\"x\":{\"field\":\"year\"},\"y\":{\"field\":\"percent\"}},\"id\":\"1101\",\"type\":\"Scatter\"},{\"attributes\":{\"fill_alpha\":{\"value\":0.1},\"fill_color\":{\"value\":\"#3477A5\"},\"hatch_alpha\":{\"value\":0.1},\"line_alpha\":{\"value\":0.1},\"marker\":{\"value\":\"square\"},\"size\":{\"value\":8},\"x\":{\"field\":\"year\"},\"y\":{\"field\":\"percent\"}},\"id\":\"1102\",\"type\":\"Scatter\"},{\"attributes\":{},\"id\":\"1016\",\"type\":\"LinearScale\"},{\"attributes\":{\"coordinates\":null,\"data_source\":{\"id\":\"1003\"},\"glyph\":{\"id\":\"1050\"},\"group\":null,\"hover_glyph\":null,\"muted_glyph\":{\"id\":\"1052\"},\"nonselection_glyph\":{\"id\":\"1051\"},\"view\":{\"id\":\"1054\"}},\"id\":\"1053\",\"type\":\"GlyphRenderer\"},{\"attributes\":{\"coordinates\":null,\"data_source\":{\"id\":\"1005\"},\"glyph\":{\"id\":\"1101\"},\"group\":null,\"hover_glyph\":null,\"muted_glyph\":{\"id\":\"1103\"},\"nonselection_glyph\":{\"id\":\"1102\"},\"view\":{\"id\":\"1105\"}},\"id\":\"1104\",\"type\":\"GlyphRenderer\"},{\"attributes\":{},\"id\":\"1064\",\"type\":\"BasicTickFormatter\"},{\"attributes\":{\"fill_alpha\":{\"value\":0.7},\"fill_color\":{\"value\":\"#3477A5\"},\"line_alpha\":{\"value\":0.7},\"size\":{\"value\":8},\"x\":{\"field\":\"year\"},\"y\":{\"field\":\"percent\"}},\"id\":\"1056\",\"type\":\"Scatter\"},{\"attributes\":{\"coordinates\":null,\"data_source\":{\"id\":\"1005\"},\"glyph\":{\"id\":\"1095\"},\"group\":null,\"hover_glyph\":null,\"muted_glyph\":{\"id\":\"1097\"},\"nonselection_glyph\":{\"id\":\"1096\"},\"view\":{\"id\":\"1099\"}},\"id\":\"1098\",\"type\":\"GlyphRenderer\"},{\"attributes\":{\"line_alpha\":0.2,\"line_color\":\"#3477A5\",\"line_width\":3,\"x\":{\"field\":\"year\"},\"y\":{\"field\":\"percent\"}},\"id\":\"1097\",\"type\":\"Line\"},{\"attributes\":{\"label\":{\"value\":\"Rainy Day Fund, 50-state median\"},\"renderers\":[{\"id\":\"1059\"}]},\"id\":\"1070\",\"type\":\"LegendItem\"},{\"attributes\":{\"coordinates\":null,\"data_source\":{\"id\":\"1003\"},\"glyph\":{\"id\":\"1056\"},\"group\":null,\"hover_glyph\":null,\"muted_glyph\":{\"id\":\"1058\"},\"nonselection_glyph\":{\"id\":\"1057\"},\"view\":{\"id\":\"1060\"}},\"id\":\"1059\",\"type\":\"GlyphRenderer\"},{\"attributes\":{\"border_line_alpha\":1,\"border_line_color\":\"#434244\",\"coordinates\":null,\"group\":null,\"items\":[{\"id\":\"1070\"},{\"id\":\"1093\"},{\"id\":\"1118\"},{\"id\":\"1145\"}],\"label_text_color\":\"#434244\",\"label_text_font_size\":\"12pt\",\"location\":\"top_center\"},\"id\":\"1069\",\"type\":\"Legend\"},{\"attributes\":{\"source\":{\"id\":\"1003\"}},\"id\":\"1054\",\"type\":\"CDSView\"},{\"attributes\":{\"interval\":2},\"id\":\"1045\",\"type\":\"SingleIntervalTicker\"},{\"attributes\":{\"data\":{},\"selected\":{\"id\":\"1171\"},\"selection_policy\":{\"id\":\"1170\"}},\"id\":\"1146\",\"type\":\"ColumnDataSource\"},{\"attributes\":{},\"id\":\"1065\",\"type\":\"AllLabels\"},{\"attributes\":{\"fill_alpha\":{\"value\":0.2},\"fill_color\":{\"value\":\"#3477A5\"},\"hatch_alpha\":{\"value\":0.2},\"line_alpha\":{\"value\":0.2},\"size\":{\"value\":8},\"x\":{\"field\":\"year\"},\"y\":{\"field\":\"percent\"}},\"id\":\"1058\",\"type\":\"Scatter\"},{\"attributes\":{\"source\":{\"id\":\"1003\"}},\"id\":\"1060\",\"type\":\"CDSView\"},{\"attributes\":{\"line_alpha\":0.1,\"line_color\":\"#3477A5\",\"line_width\":3,\"x\":{\"field\":\"year\"},\"y\":{\"field\":\"percent\"}},\"id\":\"1051\",\"type\":\"Line\"},{\"attributes\":{\"fill_alpha\":{\"value\":0.7},\"fill_color\":{\"value\":\"#D5AB53\"},\"line_alpha\":{\"value\":0.7},\"marker\":{\"value\":\"square\"},\"size\":{\"value\":8},\"x\":{\"field\":\"year\"},\"y\":{\"field\":\"percent\"}},\"id\":\"1126\",\"type\":\"Scatter\"},{\"attributes\":{\"coordinates\":null,\"data_source\":{\"id\":\"1006\"},\"glyph\":{\"id\":\"1126\"},\"group\":null,\"hover_glyph\":null,\"muted_glyph\":{\"id\":\"1128\"},\"nonselection_glyph\":{\"id\":\"1127\"},\"view\":{\"id\":\"1130\"}},\"id\":\"1129\",\"type\":\"GlyphRenderer\"},{\"attributes\":{\"interval\":2,\"num_minor_ticks\":2},\"id\":\"1043\",\"type\":\"SingleIntervalTicker\"},{\"attributes\":{\"label\":{\"value\":\"Total balances, Tennessee\"},\"renderers\":[{\"id\":\"1129\"}]},\"id\":\"1145\",\"type\":\"LegendItem\"},{\"attributes\":{\"axis\":{\"id\":\"1022\"},\"coordinates\":null,\"dimension\":1,\"group\":null,\"ticker\":{\"id\":\"1048\"}},\"id\":\"1025\",\"type\":\"Grid\"},{\"attributes\":{},\"id\":\"1062\",\"type\":\"BasicTickFormatter\"},{\"attributes\":{\"coordinates\":null,\"data_source\":{\"id\":\"1006\"},\"glyph\":{\"id\":\"1120\"},\"group\":null,\"hover_glyph\":null,\"muted_glyph\":{\"id\":\"1122\"},\"nonselection_glyph\":{\"id\":\"1121\"},\"view\":{\"id\":\"1124\"}},\"id\":\"1123\",\"type\":\"GlyphRenderer\"},{\"attributes\":{\"source\":{\"id\":\"1004\"}},\"id\":\"1082\",\"type\":\"CDSView\"},{\"attributes\":{\"line_alpha\":0.7,\"line_color\":\"#3477A5\",\"line_width\":3,\"x\":{\"field\":\"year\"},\"y\":{\"field\":\"percent\"}},\"id\":\"1095\",\"type\":\"Line\"},{\"attributes\":{\"data\":{\"fraction\":{\"__ndarray__\":\"xe5Paq4hpT/C3Yn0A6CnP4JHzbc79JA/86hb6t6SfT82A6gec+KSP+Mc58lEMJk/FdGs9RBQpz9bcjXiZEOoPzY4AtKtwKg/Jw6tCfrvmz+wascPwMaQP40HosGCCJI/NYRbJfXxmD8qEzqMojeiP4nGa0KAKqc/IHGza4cuqT+K2WAb0FarP0Vj4335vaw/rlo5fh/DsD/EcXtmyEy0P2XUf00Lm7U/ki8akpBRuT+8li3lvs29Pw==\",\"dtype\":\"float64\",\"order\":\"little\",\"shape\":[23]},\"index\":[0,1,2,3,4,5,6,7,8,9,10,11,12,13,14,15,16,17,18,19,20,21,22],\"percent\":{\"__ndarray__\":\"inIOQ1CCEEBAtQsXA3USQLu/ME+dffo//psXJ74a5z8Ehebf04H9P5GOvL21rQNAWAPvP402EkBXwbnQpvQSQOq7EcyHVhNADjOPV3vTBUCzlqcYjDb6P8wrjU5MLfw/SX8vhQd9A0DyvRr77XYMQBsz5DM0GRJAYTAkzFmsE0D0qWOV0lsVQI6lWepqdBZAsJ05NeEwGkDC4SAg+bcfQO/di9Qg4SBAKnUk8rjHI0DDnQsjvUgnQA==\",\"dtype\":\"float64\",\"order\":\"little\",\"shape\":[23]},\"year\":[\"2000\",\"2001\",\"2002\",\"2003\",\"2004\",\"2005\",\"2006\",\"2007\",\"2008\",\"2009\",\"2010\",\"2011\",\"2012\",\"2013\",\"2014\",\"2015\",\"2016\",\"2017\",\"2018\",\"2019\",\"2020\",\"2021\",\"2022\"]},\"selected\":{\"id\":\"1067\"},\"selection_policy\":{\"id\":\"1066\"}},\"id\":\"1003\",\"type\":\"ColumnDataSource\"},{\"attributes\":{\"line_alpha\":{\"value\":0.1},\"line_color\":{\"value\":\"#434244\"},\"line_dash\":{\"value\":\"6 2\"},\"line_width\":{\"value\":2},\"x0\":{\"value\":2021.4},\"x1\":{\"value\":2021.4},\"y0\":{\"value\":-1.30721426},\"y1\":{\"value\":43.335818460000006}},\"id\":\"1148\",\"type\":\"Segment\"},{\"attributes\":{},\"id\":\"1063\",\"type\":\"AllLabels\"},{\"attributes\":{\"coordinates\":null,\"group\":null,\"text_color\":\"#434244\",\"text_font_size\":\"0pt\"},\"id\":\"1008\",\"type\":\"Title\"},{\"attributes\":{\"fill_alpha\":{\"value\":0.2},\"fill_color\":{\"value\":\"#D5AB53\"},\"hatch_alpha\":{\"value\":0.2},\"line_alpha\":{\"value\":0.2},\"size\":{\"value\":8},\"x\":{\"field\":\"year\"},\"y\":{\"field\":\"percent\"}},\"id\":\"1080\",\"type\":\"Scatter\"},{\"attributes\":{\"source\":{\"id\":\"1146\"}},\"id\":\"1151\",\"type\":\"CDSView\"},{\"attributes\":{},\"id\":\"1031\",\"type\":\"HelpTool\"},{\"attributes\":{\"bottom_units\":\"screen\",\"coordinates\":null,\"fill_alpha\":0.5,\"fill_color\":\"lightgrey\",\"group\":null,\"left_units\":\"screen\",\"level\":\"overlay\",\"line_alpha\":1.0,\"line_color\":\"black\",\"line_dash\":[4,4],\"line_width\":2,\"right_units\":\"screen\",\"syncable\":false,\"top_units\":\"screen\"},\"id\":\"1032\",\"type\":\"BoxAnnotation\"},{\"attributes\":{\"interval\":10},\"id\":\"1048\",\"type\":\"SingleIntervalTicker\"},{\"attributes\":{\"active_drag\":null,\"active_scroll\":null,\"active_tap\":null,\"tools\":[{\"id\":\"1026\"},{\"id\":\"1027\"},{\"id\":\"1028\"},{\"id\":\"1029\"},{\"id\":\"1030\"},{\"id\":\"1031\"},{\"id\":\"1153\"}]},\"id\":\"1033\",\"type\":\"Toolbar\"},{\"attributes\":{\"source\":{\"id\":\"1006\"}},\"id\":\"1124\",\"type\":\"CDSView\"},{\"attributes\":{},\"id\":\"1027\",\"type\":\"WheelZoomTool\"},{\"attributes\":{\"line_alpha\":0.1,\"line_color\":\"#D5AB53\",\"line_width\":3,\"x\":{\"field\":\"year\"},\"y\":{\"field\":\"percent\"}},\"id\":\"1121\",\"type\":\"Line\"},{\"attributes\":{},\"id\":\"1026\",\"type\":\"PanTool\"},{\"attributes\":{\"fill_alpha\":{\"value\":0.2},\"fill_color\":{\"value\":\"#D5AB53\"},\"hatch_alpha\":{\"value\":0.2},\"line_alpha\":{\"value\":0.2},\"marker\":{\"value\":\"square\"},\"size\":{\"value\":8},\"x\":{\"field\":\"year\"},\"y\":{\"field\":\"percent\"}},\"id\":\"1128\",\"type\":\"Scatter\"},{\"attributes\":{\"data\":{\"fraction\":{\"__ndarray__\":\"+tFKAzpxtj9OkcJDuEyyP1r34MznkJ0/+VYhbhkzmz84cdyj49yqPwKKibQqFbc/hj33Yks2vj+uuC64w/+8P7gXlhRfOrU/6uwiVMJ2pz82tWQ85/qmP4I9yOCYTbA/iC0X00c+tD9op3fVKa24Pz6uVOpuq7I/IcjAiB2Qtz/T/EpK7u64P3g/x3fESbU/U9oYxNIDvj+03bosfOnBP11ugRthRcA/FS2PIT9c0T/3WtU0HTHPPw==\",\"dtype\":\"float64\",\"order\":\"little\",\"shape\":[23]},\"index\":[0,1,2,3,4,5,6,7,8,9,10,11,12,13,14,15,16,17,18,19,20,21,22],\"percent\":{\"__ndarray__\":\"C3SSUnWIIUAKA+Dp35ccQD7BDxg1GQdA8wsK3us/BUB0OATYkfwUQNJzC12JCCJAEShR5WqaJ0BIgOTn0KcmQIhCFUialSBAF0m70cdUEkCSrS6nBPQRQBvgON8+eRlAJDfUOVChH0DJesWuSEcjQEFQJE7dKx1AWpzWEpdoIkCFlQoqqnojQJapk32hoSBAkWozqfxyJ0Bp+uMF0vwrQHE8+rpnbClAcbZvpCIgO0ARr0bRXl44QA==\",\"dtype\":\"float64\",\"order\":\"little\",\"shape\":[23]},\"year\":[\"2000\",\"2001\",\"2002\",\"2003\",\"2004\",\"2005\",\"2006\",\"2007\",\"2008\",\"2009\",\"2010\",\"2011\",\"2012\",\"2013\",\"2014\",\"2015\",\"2016\",\"2017\",\"2018\",\"2019\",\"2020\",\"2021\",\"2022\"]},\"selected\":{\"id\":\"1116\"},\"selection_policy\":{\"id\":\"1115\"}},\"id\":\"1005\",\"type\":\"ColumnDataSource\"},{\"attributes\":{\"line_alpha\":0.2,\"line_color\":\"#3477A5\",\"line_width\":3,\"x\":{\"field\":\"year\"},\"y\":{\"field\":\"percent\"}},\"id\":\"1052\",\"type\":\"Line\"},{\"attributes\":{},\"id\":\"1067\",\"type\":\"Selection\"},{\"attributes\":{\"data\":{\"fraction\":{\"__ndarray__\":\"FDWbPnDSoD8RjjjoO42eP4usGT+r0Zk/ZL0REKVTnz+G82SPNN63P6iPfgOsuLQ/u29rwUExvj/viZH/q0nEP3ZW00HTnLk/E4tmBYlkrj8R3XkDSMSyP+0ihPuMgbY/SS/9Wn3GuT+FjiXFKtK5P+TdoNwHt7E/txfvzKZRvD+vmvazqdHDP+133zM9YcY/M7sAkQT1wT8CduSNHZXGP3NSar9N8Ms/T06t8atv2j8Ui8Z3tV7VPw==\",\"dtype\":\"float64\",\"order\":\"little\",\"shape\":[23]},\"index\":[0,1,2,3,4,5,6,7,8,9,10,11,12,13,14,15,16,17,18,19,20,21,22],\"percent\":{\"__ndarray__\":\"74LSYc9ICkD9LmzNVt4HQM0OTMnNKwRA9tuN9Fh5CEBB3gYQmaUiQDvgumJGMCBASu8bX3uWJ0CFZ1O/HLMvQIwbbQuFAiRApxw4DIu+F0BraW6FsFIdQEk7fyQ2lSFA8cwV7xEjJEBYVwVqMSwkQLRau0j8rRtAh8oaUMofJkCxUTEpmfcuQLGVhtD3ezFAgCSRItcOLEAyfNoWf6QxQGoQi7280zVALmXPVD6nRECoHJPF/bFAQA==\",\"dtype\":\"float64\",\"order\":\"little\",\"shape\":[23]},\"year\":[\"2000\",\"2001\",\"2002\",\"2003\",\"2004\",\"2005\",\"2006\",\"2007\",\"2008\",\"2009\",\"2010\",\"2011\",\"2012\",\"2013\",\"2014\",\"2015\",\"2016\",\"2017\",\"2018\",\"2019\",\"2020\",\"2021\",\"2022\"]},\"selected\":{\"id\":\"1143\"},\"selection_policy\":{\"id\":\"1142\"}},\"id\":\"1006\",\"type\":\"ColumnDataSource\"},{\"attributes\":{\"axis\":{\"id\":\"1018\"},\"coordinates\":null,\"group\":null,\"ticker\":{\"id\":\"1045\"}},\"id\":\"1021\",\"type\":\"Grid\"},{\"attributes\":{},\"id\":\"1030\",\"type\":\"ResetTool\"},{\"attributes\":{\"line_alpha\":0.7,\"line_color\":\"#3477A5\",\"line_width\":3,\"x\":{\"field\":\"year\"},\"y\":{\"field\":\"percent\"}},\"id\":\"1050\",\"type\":\"Line\"},{\"attributes\":{},\"id\":\"1066\",\"type\":\"UnionRenderers\"},{\"attributes\":{\"axis_label\":\"Percent of general fund expenditures\",\"axis_label_text_font_size\":\"12pt\",\"axis_line_color\":\"#434244\",\"coordinates\":null,\"formatter\":{\"id\":\"1062\"},\"group\":null,\"major_label_policy\":{\"id\":\"1063\"},\"major_label_text_color\":\"#434244\",\"major_label_text_font_size\":\"12pt\",\"major_tick_line_color\":\"#434244\",\"minor_tick_line_color\":\"#434244\",\"ticker\":{\"id\":\"1046\"}},\"id\":\"1022\",\"type\":\"LinearAxis\"},{\"attributes\":{\"coordinates\":null,\"data_source\":{\"id\":\"1004\"},\"glyph\":{\"id\":\"1078\"},\"group\":null,\"hover_glyph\":null,\"muted_glyph\":{\"id\":\"1080\"},\"nonselection_glyph\":{\"id\":\"1079\"},\"view\":{\"id\":\"1082\"}},\"id\":\"1081\",\"type\":\"GlyphRenderer\"},{\"attributes\":{\"source\":{\"id\":\"1004\"}},\"id\":\"1076\",\"type\":\"CDSView\"},{\"attributes\":{\"coordinates\":null,\"data_source\":{\"id\":\"1004\"},\"glyph\":{\"id\":\"1072\"},\"group\":null,\"hover_glyph\":null,\"muted_glyph\":{\"id\":\"1074\"},\"nonselection_glyph\":{\"id\":\"1073\"},\"view\":{\"id\":\"1076\"}},\"id\":\"1075\",\"type\":\"GlyphRenderer\"},{\"attributes\":{\"overlay\":{\"id\":\"1032\"}},\"id\":\"1028\",\"type\":\"BoxZoomTool\"},{\"attributes\":{\"label\":{\"value\":\"Rainy Day Fund, Tennessee\"},\"renderers\":[{\"id\":\"1081\"}]},\"id\":\"1093\",\"type\":\"LegendItem\"},{\"attributes\":{\"axis_label\":\"Year\",\"axis_label_text_font_size\":\"12pt\",\"axis_line_color\":\"#434244\",\"coordinates\":null,\"formatter\":{\"id\":\"1064\"},\"group\":null,\"major_label_policy\":{\"id\":\"1065\"},\"major_label_text_color\":\"#434244\",\"major_label_text_font_size\":\"12pt\",\"major_tick_line_color\":\"#434244\",\"minor_tick_line_color\":\"#434244\",\"ticker\":{\"id\":\"1043\"}},\"id\":\"1018\",\"type\":\"LinearAxis\"},{\"attributes\":{\"end\":2023.5,\"start\":1999},\"id\":\"1010\",\"type\":\"Range1d\"},{\"attributes\":{\"line_alpha\":0.7,\"line_color\":\"#D5AB53\",\"line_width\":3,\"x\":{\"field\":\"year\"},\"y\":{\"field\":\"percent\"}},\"id\":\"1120\",\"type\":\"Line\"},{\"attributes\":{\"fill_alpha\":{\"value\":0.1},\"fill_color\":{\"value\":\"#D5AB53\"},\"hatch_alpha\":{\"value\":0.1},\"line_alpha\":{\"value\":0.1},\"size\":{\"value\":8},\"x\":{\"field\":\"year\"},\"y\":{\"field\":\"percent\"}},\"id\":\"1079\",\"type\":\"Scatter\"},{\"attributes\":{},\"id\":\"1091\",\"type\":\"Selection\"},{\"attributes\":{\"line_alpha\":0.7,\"line_color\":\"#D5AB53\",\"line_width\":3,\"x\":{\"field\":\"year\"},\"y\":{\"field\":\"percent\"}},\"id\":\"1072\",\"type\":\"Line\"},{\"attributes\":{\"line_alpha\":0.2,\"line_color\":\"#D5AB53\",\"line_width\":3,\"x\":{\"field\":\"year\"},\"y\":{\"field\":\"percent\"}},\"id\":\"1074\",\"type\":\"Line\"},{\"attributes\":{\"source\":{\"id\":\"1006\"}},\"id\":\"1130\",\"type\":\"CDSView\"},{\"attributes\":{},\"id\":\"1090\",\"type\":\"UnionRenderers\"},{\"attributes\":{\"fill_alpha\":{\"value\":0.7},\"fill_color\":{\"value\":\"#D5AB53\"},\"line_alpha\":{\"value\":0.7},\"size\":{\"value\":8},\"x\":{\"field\":\"year\"},\"y\":{\"field\":\"percent\"}},\"id\":\"1078\",\"type\":\"Scatter\"},{\"attributes\":{},\"id\":\"1170\",\"type\":\"UnionRenderers\"},{\"attributes\":{\"line_alpha\":0.1,\"line_color\":\"#D5AB53\",\"line_width\":3,\"x\":{\"field\":\"year\"},\"y\":{\"field\":\"percent\"}},\"id\":\"1073\",\"type\":\"Line\"},{\"attributes\":{\"callback\":null,\"toggleable\":false,\"tooltips\":[[\"Year\",\"@year\"],[\"Pct of gen. fund exps.\",\"@percent{0.0}%\"]]},\"id\":\"1153\",\"type\":\"HoverTool\"},{\"attributes\":{\"line_alpha\":{\"value\":0.2},\"line_color\":{\"value\":\"#434244\"},\"line_dash\":{\"value\":\"6 2\"},\"line_width\":{\"value\":2},\"x0\":{\"value\":2021.4},\"x1\":{\"value\":2021.4},\"y0\":{\"value\":-1.30721426},\"y1\":{\"value\":43.335818460000006}},\"id\":\"1149\",\"type\":\"Segment\"},{\"attributes\":{\"line_alpha\":0.2,\"line_color\":\"#D5AB53\",\"line_width\":3,\"x\":{\"field\":\"year\"},\"y\":{\"field\":\"percent\"}},\"id\":\"1122\",\"type\":\"Line\"},{\"attributes\":{\"fill_alpha\":{\"value\":0.2},\"fill_color\":{\"value\":\"#3477A5\"},\"hatch_alpha\":{\"value\":0.2},\"line_alpha\":{\"value\":0.2},\"marker\":{\"value\":\"square\"},\"size\":{\"value\":8},\"x\":{\"field\":\"year\"},\"y\":{\"field\":\"percent\"}},\"id\":\"1103\",\"type\":\"Scatter\"},{\"attributes\":{\"coordinates\":null,\"data_source\":{\"id\":\"1146\"},\"glyph\":{\"id\":\"1147\"},\"group\":null,\"hover_glyph\":null,\"muted_glyph\":{\"id\":\"1149\"},\"nonselection_glyph\":{\"id\":\"1148\"},\"view\":{\"id\":\"1151\"}},\"id\":\"1150\",\"type\":\"GlyphRenderer\"},{\"attributes\":{\"coordinates\":null,\"group\":null,\"text\":\"        accessed December 31, 2022.\",\"text_color\":\"#434244\",\"text_font_size\":\"11pt\",\"text_font_style\":\"normal\"},\"id\":\"1156\",\"type\":\"Title\"},{\"attributes\":{\"fill_alpha\":{\"value\":0.1},\"fill_color\":{\"value\":\"#D5AB53\"},\"hatch_alpha\":{\"value\":0.1},\"line_alpha\":{\"value\":0.1},\"marker\":{\"value\":\"square\"},\"size\":{\"value\":8},\"x\":{\"field\":\"year\"},\"y\":{\"field\":\"percent\"}},\"id\":\"1127\",\"type\":\"Scatter\"},{\"attributes\":{\"coordinates\":null,\"group\":null,\"text\":\"Source: Pew Charitable Trusts, \\\"Fiscal 50: State Trends and Analysis,\\\" December 16, 2022,\",\"text_color\":\"#434244\",\"text_font_size\":\"11pt\",\"text_font_style\":\"normal\"},\"id\":\"1155\",\"type\":\"Title\"},{\"attributes\":{},\"id\":\"1115\",\"type\":\"UnionRenderers\"},{\"attributes\":{\"source\":{\"id\":\"1005\"}},\"id\":\"1105\",\"type\":\"CDSView\"},{\"attributes\":{\"label\":{\"value\":\"Total balances, 50-state median\"},\"renderers\":[{\"id\":\"1104\"}]},\"id\":\"1118\",\"type\":\"LegendItem\"},{\"attributes\":{},\"id\":\"1029\",\"type\":\"SaveTool\"},{\"attributes\":{\"data\":{\"fraction\":{\"__ndarray__\":\"AvOxNwilmT8FIC1PmfuZP4iXr+SNQJg/xXifc08Ilz/vlNvkWi6bP/CD38V88p4/UjDINbxboj+s9gnQUW+sP/cjVI+Ff7E/iS7Lfq2wqj89QTc7H4yoPwiOT/FNDZ0/2OB/VlkOnD8KKufhvdCfP+3Uv5jrPKM/vqapk6NopD+1voqEnf+mP+rlY7bl1ak/1ZBixxmfrT8Vg5UziWevP9s/okswA7U/BVgo9QyxuT/D7DWiU462Pw==\",\"dtype\":\"float64\",\"order\":\"little\",\"shape\":[23]},\"index\":[0,1,2,3,4,5,6,7,8,9,10,11,12,13,14,15,16,17,18,19,20,21,22],\"percent\":{\"__ndarray__\":\"2gWDa+4IBEAEQdvFj0wEQGIuqdpu8gJAWpZUEn7+AUBbjMsCNzwFQBSflnpxLQhAgMsIFFavDEC2yIfq9zYWQDJ4869AVxtAW7wOiwfaFED4KkNmeC0TQPYmhuRksgZAqeeTyzXrBUDYmHxYFNsIQLK8qx4wDw5AiRS5ln/jD0D9ZIwPs/cRQJ8LfnYbLxRAJgHFI0wkF0Bozkww44gYQOPBFrt9aiBAxISHH1ISJED4ILpWMZ8hQA==\",\"dtype\":\"float64\",\"order\":\"little\",\"shape\":[23]},\"year\":[\"2000\",\"2001\",\"2002\",\"2003\",\"2004\",\"2005\",\"2006\",\"2007\",\"2008\",\"2009\",\"2010\",\"2011\",\"2012\",\"2013\",\"2014\",\"2015\",\"2016\",\"2017\",\"2018\",\"2019\",\"2020\",\"2021\",\"2022\"]},\"selected\":{\"id\":\"1091\"},\"selection_policy\":{\"id\":\"1090\"}},\"id\":\"1004\",\"type\":\"ColumnDataSource\"},{\"attributes\":{},\"id\":\"1171\",\"type\":\"Selection\"},{\"attributes\":{},\"id\":\"1014\",\"type\":\"LinearScale\"},{\"attributes\":{\"coordinates\":null,\"group\":null,\"text\":\"Projected\",\"text_color\":\"#434244\",\"text_font_size\":\"9pt\",\"x\":2021.5,\"y\":28.0},\"id\":\"1152\",\"type\":\"Label\"},{\"attributes\":{\"line_color\":{\"value\":\"#434244\"},\"line_dash\":{\"value\":\"6 2\"},\"line_width\":{\"value\":2},\"x0\":{\"value\":2021.4},\"x1\":{\"value\":2021.4},\"y0\":{\"value\":-1.30721426},\"y1\":{\"value\":43.335818460000006}},\"id\":\"1147\",\"type\":\"Segment\"},{\"attributes\":{},\"id\":\"1142\",\"type\":\"UnionRenderers\"}],\"root_ids\":[\"1007\"]},\"title\":\"Bokeh Application\",\"version\":\"2.4.3\"}};\n  const render_items = [{\"docid\":\"d6a41969-acce-4a51-9919-b54feed6c197\",\"root_ids\":[\"1007\"],\"roots\":{\"1007\":\"f57bdb91-e376-4522-9d26-bdb15b11f37a\"}}];\n  root.Bokeh.embed.embed_items_notebook(docs_json, render_items);\n  }\n  if (root.Bokeh !== undefined) {\n    embed_document(root);\n  } else {\n    let attempts = 0;\n    const timer = setInterval(function(root) {\n      if (root.Bokeh !== undefined) {\n        clearInterval(timer);\n        embed_document(root);\n      } else {\n        attempts++;\n        if (attempts > 100) {\n          clearInterval(timer);\n          console.log(\"Bokeh: ERROR: Unable to run BokehJS code because BokehJS library is missing\");\n        }\n      }\n    }, 10, root)\n  }\n})(window);",
      "application/vnd.bokehjs_exec.v0+json": ""
     },
     "metadata": {
      "application/vnd.bokehjs_exec.v0+json": {
       "id": "1007"
      }
     },
     "output_type": "display_data"
    }
   ],
   "source": [
    "show(fig1)"
   ]
  },
  {
   "cell_type": "markdown",
   "metadata": {},
   "source": [
    "### Create Figure 1 without the source text underneath (for web publication) "
   ]
  },
  {
   "cell_type": "code",
   "execution_count": 16,
   "metadata": {},
   "outputs": [
    {
     "data": {
      "text/html": [
       "<div class=\"bk-root\">\n",
       "        <a href=\"https://bokeh.org\" target=\"_blank\" class=\"bk-logo bk-logo-small bk-logo-notebook\"></a>\n",
       "        <span id=\"1446\">Loading BokehJS ...</span>\n",
       "    </div>\n"
      ]
     },
     "metadata": {},
     "output_type": "display_data"
    },
    {
     "data": {
      "application/javascript": "(function(root) {\n  function now() {\n    return new Date();\n  }\n\n  const force = true;\n\n  if (typeof root._bokeh_onload_callbacks === \"undefined\" || force === true) {\n    root._bokeh_onload_callbacks = [];\n    root._bokeh_is_loading = undefined;\n  }\n\nconst JS_MIME_TYPE = 'application/javascript';\n  const HTML_MIME_TYPE = 'text/html';\n  const EXEC_MIME_TYPE = 'application/vnd.bokehjs_exec.v0+json';\n  const CLASS_NAME = 'output_bokeh rendered_html';\n\n  /**\n   * Render data to the DOM node\n   */\n  function render(props, node) {\n    const script = document.createElement(\"script\");\n    node.appendChild(script);\n  }\n\n  /**\n   * Handle when an output is cleared or removed\n   */\n  function handleClearOutput(event, handle) {\n    const cell = handle.cell;\n\n    const id = cell.output_area._bokeh_element_id;\n    const server_id = cell.output_area._bokeh_server_id;\n    // Clean up Bokeh references\n    if (id != null && id in Bokeh.index) {\n      Bokeh.index[id].model.document.clear();\n      delete Bokeh.index[id];\n    }\n\n    if (server_id !== undefined) {\n      // Clean up Bokeh references\n      const cmd_clean = \"from bokeh.io.state import curstate; print(curstate().uuid_to_server['\" + server_id + \"'].get_sessions()[0].document.roots[0]._id)\";\n      cell.notebook.kernel.execute(cmd_clean, {\n        iopub: {\n          output: function(msg) {\n            const id = msg.content.text.trim();\n            if (id in Bokeh.index) {\n              Bokeh.index[id].model.document.clear();\n              delete Bokeh.index[id];\n            }\n          }\n        }\n      });\n      // Destroy server and session\n      const cmd_destroy = \"import bokeh.io.notebook as ion; ion.destroy_server('\" + server_id + \"')\";\n      cell.notebook.kernel.execute(cmd_destroy);\n    }\n  }\n\n  /**\n   * Handle when a new output is added\n   */\n  function handleAddOutput(event, handle) {\n    const output_area = handle.output_area;\n    const output = handle.output;\n\n    // limit handleAddOutput to display_data with EXEC_MIME_TYPE content only\n    if ((output.output_type != \"display_data\") || (!Object.prototype.hasOwnProperty.call(output.data, EXEC_MIME_TYPE))) {\n      return\n    }\n\n    const toinsert = output_area.element.find(\".\" + CLASS_NAME.split(' ')[0]);\n\n    if (output.metadata[EXEC_MIME_TYPE][\"id\"] !== undefined) {\n      toinsert[toinsert.length - 1].firstChild.textContent = output.data[JS_MIME_TYPE];\n      // store reference to embed id on output_area\n      output_area._bokeh_element_id = output.metadata[EXEC_MIME_TYPE][\"id\"];\n    }\n    if (output.metadata[EXEC_MIME_TYPE][\"server_id\"] !== undefined) {\n      const bk_div = document.createElement(\"div\");\n      bk_div.innerHTML = output.data[HTML_MIME_TYPE];\n      const script_attrs = bk_div.children[0].attributes;\n      for (let i = 0; i < script_attrs.length; i++) {\n        toinsert[toinsert.length - 1].firstChild.setAttribute(script_attrs[i].name, script_attrs[i].value);\n        toinsert[toinsert.length - 1].firstChild.textContent = bk_div.children[0].textContent\n      }\n      // store reference to server id on output_area\n      output_area._bokeh_server_id = output.metadata[EXEC_MIME_TYPE][\"server_id\"];\n    }\n  }\n\n  function register_renderer(events, OutputArea) {\n\n    function append_mime(data, metadata, element) {\n      // create a DOM node to render to\n      const toinsert = this.create_output_subarea(\n        metadata,\n        CLASS_NAME,\n        EXEC_MIME_TYPE\n      );\n      this.keyboard_manager.register_events(toinsert);\n      // Render to node\n      const props = {data: data, metadata: metadata[EXEC_MIME_TYPE]};\n      render(props, toinsert[toinsert.length - 1]);\n      element.append(toinsert);\n      return toinsert\n    }\n\n    /* Handle when an output is cleared or removed */\n    events.on('clear_output.CodeCell', handleClearOutput);\n    events.on('delete.Cell', handleClearOutput);\n\n    /* Handle when a new output is added */\n    events.on('output_added.OutputArea', handleAddOutput);\n\n    /**\n     * Register the mime type and append_mime function with output_area\n     */\n    OutputArea.prototype.register_mime_type(EXEC_MIME_TYPE, append_mime, {\n      /* Is output safe? */\n      safe: true,\n      /* Index of renderer in `output_area.display_order` */\n      index: 0\n    });\n  }\n\n  // register the mime type if in Jupyter Notebook environment and previously unregistered\n  if (root.Jupyter !== undefined) {\n    const events = require('base/js/events');\n    const OutputArea = require('notebook/js/outputarea').OutputArea;\n\n    if (OutputArea.prototype.mime_types().indexOf(EXEC_MIME_TYPE) == -1) {\n      register_renderer(events, OutputArea);\n    }\n  }\n  if (typeof (root._bokeh_timeout) === \"undefined\" || force === true) {\n    root._bokeh_timeout = Date.now() + 5000;\n    root._bokeh_failed_load = false;\n  }\n\n  const NB_LOAD_WARNING = {'data': {'text/html':\n     \"<div style='background-color: #fdd'>\\n\"+\n     \"<p>\\n\"+\n     \"BokehJS does not appear to have successfully loaded. If loading BokehJS from CDN, this \\n\"+\n     \"may be due to a slow or bad network connection. Possible fixes:\\n\"+\n     \"</p>\\n\"+\n     \"<ul>\\n\"+\n     \"<li>re-rerun `output_notebook()` to attempt to load from CDN again, or</li>\\n\"+\n     \"<li>use INLINE resources instead, as so:</li>\\n\"+\n     \"</ul>\\n\"+\n     \"<code>\\n\"+\n     \"from bokeh.resources import INLINE\\n\"+\n     \"output_notebook(resources=INLINE)\\n\"+\n     \"</code>\\n\"+\n     \"</div>\"}};\n\n  function display_loaded() {\n    const el = document.getElementById(\"1446\");\n    if (el != null) {\n      el.textContent = \"BokehJS is loading...\";\n    }\n    if (root.Bokeh !== undefined) {\n      if (el != null) {\n        el.textContent = \"BokehJS \" + root.Bokeh.version + \" successfully loaded.\";\n      }\n    } else if (Date.now() < root._bokeh_timeout) {\n      setTimeout(display_loaded, 100)\n    }\n  }\n\n  function run_callbacks() {\n    try {\n      root._bokeh_onload_callbacks.forEach(function(callback) {\n        if (callback != null)\n          callback();\n      });\n    } finally {\n      delete root._bokeh_onload_callbacks\n    }\n    console.debug(\"Bokeh: all callbacks have finished\");\n  }\n\n  function load_libs(css_urls, js_urls, callback) {\n    if (css_urls == null) css_urls = [];\n    if (js_urls == null) js_urls = [];\n\n    root._bokeh_onload_callbacks.push(callback);\n    if (root._bokeh_is_loading > 0) {\n      console.debug(\"Bokeh: BokehJS is being loaded, scheduling callback at\", now());\n      return null;\n    }\n    if (js_urls == null || js_urls.length === 0) {\n      run_callbacks();\n      return null;\n    }\n    console.debug(\"Bokeh: BokehJS not loaded, scheduling load and callback at\", now());\n    root._bokeh_is_loading = css_urls.length + js_urls.length;\n\n    function on_load() {\n      root._bokeh_is_loading--;\n      if (root._bokeh_is_loading === 0) {\n        console.debug(\"Bokeh: all BokehJS libraries/stylesheets loaded\");\n        run_callbacks()\n      }\n    }\n\n    function on_error(url) {\n      console.error(\"failed to load \" + url);\n    }\n\n    for (let i = 0; i < css_urls.length; i++) {\n      const url = css_urls[i];\n      const element = document.createElement(\"link\");\n      element.onload = on_load;\n      element.onerror = on_error.bind(null, url);\n      element.rel = \"stylesheet\";\n      element.type = \"text/css\";\n      element.href = url;\n      console.debug(\"Bokeh: injecting link tag for BokehJS stylesheet: \", url);\n      document.body.appendChild(element);\n    }\n\n    for (let i = 0; i < js_urls.length; i++) {\n      const url = js_urls[i];\n      const element = document.createElement('script');\n      element.onload = on_load;\n      element.onerror = on_error.bind(null, url);\n      element.async = false;\n      element.src = url;\n      console.debug(\"Bokeh: injecting script tag for BokehJS library: \", url);\n      document.head.appendChild(element);\n    }\n  };\n\n  function inject_raw_css(css) {\n    const element = document.createElement(\"style\");\n    element.appendChild(document.createTextNode(css));\n    document.body.appendChild(element);\n  }\n\n  const js_urls = [\"https://cdn.bokeh.org/bokeh/release/bokeh-2.4.3.min.js\", \"https://cdn.bokeh.org/bokeh/release/bokeh-gl-2.4.3.min.js\", \"https://cdn.bokeh.org/bokeh/release/bokeh-widgets-2.4.3.min.js\", \"https://cdn.bokeh.org/bokeh/release/bokeh-tables-2.4.3.min.js\", \"https://cdn.bokeh.org/bokeh/release/bokeh-mathjax-2.4.3.min.js\"];\n  const css_urls = [];\n\n  const inline_js = [    function(Bokeh) {\n      Bokeh.set_log_level(\"info\");\n    },\nfunction(Bokeh) {\n    }\n  ];\n\n  function run_inline_js() {\n    if (root.Bokeh !== undefined || force === true) {\n          for (let i = 0; i < inline_js.length; i++) {\n      inline_js[i].call(root, root.Bokeh);\n    }\nif (force === true) {\n        display_loaded();\n      }} else if (Date.now() < root._bokeh_timeout) {\n      setTimeout(run_inline_js, 100);\n    } else if (!root._bokeh_failed_load) {\n      console.log(\"Bokeh: BokehJS failed to load within specified timeout.\");\n      root._bokeh_failed_load = true;\n    } else if (force !== true) {\n      const cell = $(document.getElementById(\"1446\")).parents('.cell').data().cell;\n      cell.output_area.append_execute_result(NB_LOAD_WARNING)\n    }\n  }\n\n  if (root._bokeh_is_loading === 0) {\n    console.debug(\"Bokeh: BokehJS loaded, going straight to plotting\");\n    run_inline_js();\n  } else {\n    load_libs(css_urls, js_urls, function() {\n      console.debug(\"Bokeh: BokehJS plotting callback run at\", now());\n      run_inline_js();\n    });\n  }\n}(window));",
      "application/vnd.bokehjs_load.v0+json": ""
     },
     "metadata": {},
     "output_type": "display_data"
    }
   ],
   "source": [
    "output_file(\"images/rain_totbal_50_tn_timeseries_nosubtxt.html\",\n",
    "            title=fig1_title, mode='inline')\n",
    "output_notebook()\n",
    "min_year = 2000\n",
    "max_year = 2022\n",
    "min_pct = 2.0\n",
    "max_pct = 0.0\n",
    "pct_buffer = 0.05\n",
    "\n",
    "var_list = [rain_pct_50_df, rain_pct_tn_df, totbal_pct_50_df, totbal_pct_tn_df]\n",
    "color_list = [\"#3477A5\", \"#D5AB53\", \"#3477A5\", \"#D5AB53\"]\n",
    "marker_list = [\"circle\", \"circle\", \"square\", \"square\"]\n",
    "legend_label_list = [\n",
    "    \"Rainy Day Fund, 50-state median\", \"Rainy Day Fund, Tennessee\",\n",
    "    \"Total balances, 50-state median\", \"Total balances, Tennessee\"\n",
    "]\n",
    "cds_list = []\n",
    "\n",
    "for k, df in enumerate(var_list):\n",
    "    min_pct = np.minimum(min_pct, df[\"percent\"].min())\n",
    "    max_pct = np.maximum(max_pct, df[\"percent\"].max())\n",
    "    cds_list.append(ColumnDataSource(df))\n",
    "\n",
    "fig1_nosubtxt = figure(title=fig1_title,\n",
    "                       height=420,\n",
    "                       width=700,\n",
    "                       x_axis_label='Year',\n",
    "                       x_range=(min_year - 1, max_year + 1.5),\n",
    "                       y_axis_label='Percent of general fund expenditures',\n",
    "                       y_range=(min_pct - pct_buffer * (max_pct - min_pct),\n",
    "                                max_pct + pct_buffer * (max_pct - min_pct)),\n",
    "                       toolbar_location=None)\n",
    "\n",
    "# Turn off any pan, drag, or scrolling ability\n",
    "fig1_nosubtxt.toolbar.active_drag = None\n",
    "fig1_nosubtxt.toolbar.active_scroll = None\n",
    "fig1_nosubtxt.toolbar.active_tap = None\n",
    "\n",
    "# Set title font size and axes font sizes\n",
    "fig1_nosubtxt.title.text_font_size = '0pt'  # Hide title by setting font size to 0\n",
    "fig1_nosubtxt.title.text_color = '#434244'\n",
    "fig1_nosubtxt.xaxis.axis_label_text_font_size = '12pt'\n",
    "fig1_nosubtxt.xaxis.major_label_text_font_size = '12pt'\n",
    "fig1_nosubtxt.xaxis.major_label_text_color = '#434244'\n",
    "fig1_nosubtxt.yaxis.axis_label_text_font_size = '12pt'\n",
    "fig1_nosubtxt.yaxis.major_label_text_font_size = '12pt'\n",
    "fig1_nosubtxt.yaxis.major_label_text_color = '#434244'\n",
    "\n",
    "# Modify tick intervals for X-axis and Y-axis\n",
    "fig1_nosubtxt.xaxis.ticker = SingleIntervalTicker(interval=2, num_minor_ticks=2)\n",
    "fig1_nosubtxt.xaxis.axis_line_color = '#434244'\n",
    "fig1_nosubtxt.xaxis.major_tick_line_color = '#434244'\n",
    "fig1_nosubtxt.xaxis.minor_tick_line_color = '#434244'\n",
    "fig1_nosubtxt.xgrid.ticker = SingleIntervalTicker(interval=2)\n",
    "fig1_nosubtxt.yaxis.ticker = SingleIntervalTicker(interval=10, num_minor_ticks=5)\n",
    "fig1_nosubtxt.yaxis.axis_line_color = '#434244'\n",
    "fig1_nosubtxt.yaxis.major_tick_line_color = '#434244'\n",
    "fig1_nosubtxt.yaxis.minor_tick_line_color = '#434244'\n",
    "fig1_nosubtxt.ygrid.ticker = SingleIntervalTicker(interval=10)\n",
    "\n",
    "# Create lines and markers for time series\n",
    "for k, yvar in enumerate(var_list):\n",
    "    fig1_nosubtxt.line(x='year', y='percent', source=cds_list[k], color=color_list[k],\n",
    "                       line_width=3, alpha=0.7)\n",
    "    fig1_nosubtxt.scatter(x='year', y='percent', source=cds_list[k], size=8,\n",
    "                          line_width=1, line_color='black', fill_color=color_list[k],\n",
    "                          marker=marker_list[k], line_alpha=0.7, fill_alpha=0.7,\n",
    "                          legend_label=legend_label_list[k])\n",
    "\n",
    "fig1_nosubtxt.segment(x0=2021.4, y0=min_pct - pct_buffer * (max_pct - min_pct),\n",
    "                      x1=2021.4, y1=max_pct + pct_buffer * (max_pct - min_pct),\n",
    "                      color='#434244', line_dash='6 2', line_width=2)\n",
    "\n",
    "label_temp = Label(x=2021.5, y=28.0, x_units='data', y_units='data',\n",
    "                   text='Projected', text_font_size='9pt', text_color='#434244')\n",
    "fig1_nosubtxt.add_layout(label_temp)\n",
    "\n",
    "# Add information on hover\n",
    "tooltips = [('Year', '@year'),\n",
    "            ('Pct of gen. fund exps.','@percent{0.0}' + '%')]\n",
    "fig1_nosubtxt.add_tools(HoverTool(tooltips=tooltips, toggleable=False))\n",
    "\n",
    "# Add legend\n",
    "fig1_nosubtxt.legend.location = 'top_center'\n",
    "fig1_nosubtxt.legend.border_line_width = 1\n",
    "fig1_nosubtxt.legend.border_line_color = '#434244'\n",
    "fig1_nosubtxt.legend.border_line_alpha = 1\n",
    "fig1_nosubtxt.legend.label_text_font_size = '12pt'\n",
    "fig1_nosubtxt.legend.label_text_color = '#434244'\n",
    "\n",
    "# # Add notes below image\n",
    "# for note_text in note_text_list1:\n",
    "#     caption = Title(\n",
    "#         text=note_text, align='left', text_font_size='11pt',\n",
    "#         text_font_style='normal',\n",
    "#         text_color='#434244',\n",
    "#         # text_font='Open Sans'\n",
    "#     )\n",
    "#     fig1_nosubtxt.add_layout(caption, 'below')\n",
    "\n",
    "# # This export_png() function requires selenium package as well as firefox\n",
    "# # and geckodriver packages\n",
    "# # (see https://docs.bokeh.org/en/3.0.3/docs/user_guide/output/export.html)\n",
    "# export_png(fig, filename=\"/images/rain_totbal_50_tn_timeseries.png\")"
   ]
  },
  {
   "cell_type": "code",
   "execution_count": 17,
   "metadata": {},
   "outputs": [
    {
     "data": {
      "text/html": [
       "\n",
       "  <div class=\"bk-root\" id=\"bccd7e85-1277-4305-a815-c54e1edd066b\" data-root-id=\"1451\"></div>\n"
      ]
     },
     "metadata": {},
     "output_type": "display_data"
    },
    {
     "data": {
      "application/javascript": "(function(root) {\n  function embed_document(root) {\n  const docs_json = {\"7bdfab06-34aa-4f6c-816f-5b0b7612de51\":{\"defs\":[],\"roots\":{\"references\":[{\"attributes\":{\"below\":[{\"id\":\"1462\"}],\"center\":[{\"id\":\"1465\"},{\"id\":\"1469\"},{\"id\":\"1513\"},{\"id\":\"1596\"}],\"height\":420,\"left\":[{\"id\":\"1466\"}],\"renderers\":[{\"id\":\"1497\"},{\"id\":\"1503\"},{\"id\":\"1519\"},{\"id\":\"1525\"},{\"id\":\"1542\"},{\"id\":\"1548\"},{\"id\":\"1567\"},{\"id\":\"1573\"},{\"id\":\"1594\"}],\"title\":{\"id\":\"1452\"},\"toolbar\":{\"id\":\"1477\"},\"toolbar_location\":null,\"width\":700,\"x_range\":{\"id\":\"1454\"},\"x_scale\":{\"id\":\"1458\"},\"y_range\":{\"id\":\"1456\"},\"y_scale\":{\"id\":\"1460\"}},\"id\":\"1451\",\"subtype\":\"Figure\",\"type\":\"Plot\"},{\"attributes\":{\"overlay\":{\"id\":\"1476\"}},\"id\":\"1472\",\"type\":\"BoxZoomTool\"},{\"attributes\":{\"coordinates\":null,\"data_source\":{\"id\":\"1449\"},\"glyph\":{\"id\":\"1545\"},\"group\":null,\"hover_glyph\":null,\"muted_glyph\":{\"id\":\"1547\"},\"nonselection_glyph\":{\"id\":\"1546\"},\"view\":{\"id\":\"1549\"}},\"id\":\"1548\",\"type\":\"GlyphRenderer\"},{\"attributes\":{},\"id\":\"1511\",\"type\":\"Selection\"},{\"attributes\":{\"end\":2023.5,\"start\":1999},\"id\":\"1454\",\"type\":\"Range1d\"},{\"attributes\":{\"source\":{\"id\":\"1447\"}},\"id\":\"1504\",\"type\":\"CDSView\"},{\"attributes\":{\"fill_alpha\":{\"value\":0.1},\"fill_color\":{\"value\":\"#D5AB53\"},\"hatch_alpha\":{\"value\":0.1},\"line_alpha\":{\"value\":0.1},\"marker\":{\"value\":\"square\"},\"size\":{\"value\":8},\"x\":{\"field\":\"year\"},\"y\":{\"field\":\"percent\"}},\"id\":\"1571\",\"type\":\"Scatter\"},{\"attributes\":{\"end\":43.335818460000006,\"start\":-1.30721426},\"id\":\"1456\",\"type\":\"Range1d\"},{\"attributes\":{\"source\":{\"id\":\"1449\"}},\"id\":\"1549\",\"type\":\"CDSView\"},{\"attributes\":{\"label\":{\"value\":\"Total balances, 50-state median\"},\"renderers\":[{\"id\":\"1548\"}]},\"id\":\"1562\",\"type\":\"LegendItem\"},{\"attributes\":{},\"id\":\"1510\",\"type\":\"UnionRenderers\"},{\"attributes\":{\"active_drag\":null,\"active_scroll\":null,\"active_tap\":null,\"tools\":[{\"id\":\"1470\"},{\"id\":\"1471\"},{\"id\":\"1472\"},{\"id\":\"1473\"},{\"id\":\"1474\"},{\"id\":\"1475\"},{\"id\":\"1597\"}]},\"id\":\"1477\",\"type\":\"Toolbar\"},{\"attributes\":{},\"id\":\"1509\",\"type\":\"AllLabels\"},{\"attributes\":{},\"id\":\"1629\",\"type\":\"Selection\"},{\"attributes\":{},\"id\":\"1475\",\"type\":\"HelpTool\"},{\"attributes\":{\"data\":{\"fraction\":{\"__ndarray__\":\"FDWbPnDSoD8RjjjoO42eP4usGT+r0Zk/ZL0REKVTnz+G82SPNN63P6iPfgOsuLQ/u29rwUExvj/viZH/q0nEP3ZW00HTnLk/E4tmBYlkrj8R3XkDSMSyP+0ihPuMgbY/SS/9Wn3GuT+FjiXFKtK5P+TdoNwHt7E/txfvzKZRvD+vmvazqdHDP+133zM9YcY/M7sAkQT1wT8CduSNHZXGP3NSar9N8Ms/T06t8atv2j8Ui8Z3tV7VPw==\",\"dtype\":\"float64\",\"order\":\"little\",\"shape\":[23]},\"index\":[0,1,2,3,4,5,6,7,8,9,10,11,12,13,14,15,16,17,18,19,20,21,22],\"percent\":{\"__ndarray__\":\"74LSYc9ICkD9LmzNVt4HQM0OTMnNKwRA9tuN9Fh5CEBB3gYQmaUiQDvgumJGMCBASu8bX3uWJ0CFZ1O/HLMvQIwbbQuFAiRApxw4DIu+F0BraW6FsFIdQEk7fyQ2lSFA8cwV7xEjJEBYVwVqMSwkQLRau0j8rRtAh8oaUMofJkCxUTEpmfcuQLGVhtD3ezFAgCSRItcOLEAyfNoWf6QxQGoQi7280zVALmXPVD6nRECoHJPF/bFAQA==\",\"dtype\":\"float64\",\"order\":\"little\",\"shape\":[23]},\"year\":[\"2000\",\"2001\",\"2002\",\"2003\",\"2004\",\"2005\",\"2006\",\"2007\",\"2008\",\"2009\",\"2010\",\"2011\",\"2012\",\"2013\",\"2014\",\"2015\",\"2016\",\"2017\",\"2018\",\"2019\",\"2020\",\"2021\",\"2022\"]},\"selected\":{\"id\":\"1587\"},\"selection_policy\":{\"id\":\"1586\"}},\"id\":\"1450\",\"type\":\"ColumnDataSource\"},{\"attributes\":{\"axis\":{\"id\":\"1466\"},\"coordinates\":null,\"dimension\":1,\"group\":null,\"ticker\":{\"id\":\"1492\"}},\"id\":\"1469\",\"type\":\"Grid\"},{\"attributes\":{\"interval\":2},\"id\":\"1489\",\"type\":\"SingleIntervalTicker\"},{\"attributes\":{},\"id\":\"1471\",\"type\":\"WheelZoomTool\"},{\"attributes\":{},\"id\":\"1506\",\"type\":\"BasicTickFormatter\"},{\"attributes\":{\"coordinates\":null,\"data_source\":{\"id\":\"1447\"},\"glyph\":{\"id\":\"1500\"},\"group\":null,\"hover_glyph\":null,\"muted_glyph\":{\"id\":\"1502\"},\"nonselection_glyph\":{\"id\":\"1501\"},\"view\":{\"id\":\"1504\"}},\"id\":\"1503\",\"type\":\"GlyphRenderer\"},{\"attributes\":{\"line_alpha\":0.2,\"line_color\":\"#3477A5\",\"line_width\":3,\"x\":{\"field\":\"year\"},\"y\":{\"field\":\"percent\"}},\"id\":\"1541\",\"type\":\"Line\"},{\"attributes\":{\"line_alpha\":0.7,\"line_color\":\"#3477A5\",\"line_width\":3,\"x\":{\"field\":\"year\"},\"y\":{\"field\":\"percent\"}},\"id\":\"1494\",\"type\":\"Line\"},{\"attributes\":{\"bottom_units\":\"screen\",\"coordinates\":null,\"fill_alpha\":0.5,\"fill_color\":\"lightgrey\",\"group\":null,\"left_units\":\"screen\",\"level\":\"overlay\",\"line_alpha\":1.0,\"line_color\":\"black\",\"line_dash\":[4,4],\"line_width\":2,\"right_units\":\"screen\",\"syncable\":false,\"top_units\":\"screen\"},\"id\":\"1476\",\"type\":\"BoxAnnotation\"},{\"attributes\":{},\"id\":\"1508\",\"type\":\"BasicTickFormatter\"},{\"attributes\":{\"line_color\":{\"value\":\"#434244\"},\"line_dash\":{\"value\":\"6 2\"},\"line_width\":{\"value\":2},\"x0\":{\"value\":2021.4},\"x1\":{\"value\":2021.4},\"y0\":{\"value\":-1.30721426},\"y1\":{\"value\":43.335818460000006}},\"id\":\"1591\",\"type\":\"Segment\"},{\"attributes\":{\"fill_alpha\":{\"value\":0.7},\"fill_color\":{\"value\":\"#3477A5\"},\"line_alpha\":{\"value\":0.7},\"size\":{\"value\":8},\"x\":{\"field\":\"year\"},\"y\":{\"field\":\"percent\"}},\"id\":\"1500\",\"type\":\"Scatter\"},{\"attributes\":{\"line_alpha\":0.2,\"line_color\":\"#D5AB53\",\"line_width\":3,\"x\":{\"field\":\"year\"},\"y\":{\"field\":\"percent\"}},\"id\":\"1566\",\"type\":\"Line\"},{\"attributes\":{\"line_alpha\":0.7,\"line_color\":\"#D5AB53\",\"line_width\":3,\"x\":{\"field\":\"year\"},\"y\":{\"field\":\"percent\"}},\"id\":\"1564\",\"type\":\"Line\"},{\"attributes\":{\"fill_alpha\":{\"value\":0.2},\"fill_color\":{\"value\":\"#D5AB53\"},\"hatch_alpha\":{\"value\":0.2},\"line_alpha\":{\"value\":0.2},\"marker\":{\"value\":\"square\"},\"size\":{\"value\":8},\"x\":{\"field\":\"year\"},\"y\":{\"field\":\"percent\"}},\"id\":\"1572\",\"type\":\"Scatter\"},{\"attributes\":{\"line_alpha\":0.1,\"line_color\":\"#D5AB53\",\"line_width\":3,\"x\":{\"field\":\"year\"},\"y\":{\"field\":\"percent\"}},\"id\":\"1565\",\"type\":\"Line\"},{\"attributes\":{\"source\":{\"id\":\"1450\"}},\"id\":\"1568\",\"type\":\"CDSView\"},{\"attributes\":{\"coordinates\":null,\"data_source\":{\"id\":\"1450\"},\"glyph\":{\"id\":\"1564\"},\"group\":null,\"hover_glyph\":null,\"muted_glyph\":{\"id\":\"1566\"},\"nonselection_glyph\":{\"id\":\"1565\"},\"view\":{\"id\":\"1568\"}},\"id\":\"1567\",\"type\":\"GlyphRenderer\"},{\"attributes\":{},\"id\":\"1507\",\"type\":\"AllLabels\"},{\"attributes\":{\"coordinates\":null,\"data_source\":{\"id\":\"1450\"},\"glyph\":{\"id\":\"1570\"},\"group\":null,\"hover_glyph\":null,\"muted_glyph\":{\"id\":\"1572\"},\"nonselection_glyph\":{\"id\":\"1571\"},\"view\":{\"id\":\"1574\"}},\"id\":\"1573\",\"type\":\"GlyphRenderer\"},{\"attributes\":{\"fill_alpha\":{\"value\":0.7},\"fill_color\":{\"value\":\"#D5AB53\"},\"line_alpha\":{\"value\":0.7},\"marker\":{\"value\":\"square\"},\"size\":{\"value\":8},\"x\":{\"field\":\"year\"},\"y\":{\"field\":\"percent\"}},\"id\":\"1570\",\"type\":\"Scatter\"},{\"attributes\":{\"label\":{\"value\":\"Total balances, Tennessee\"},\"renderers\":[{\"id\":\"1573\"}]},\"id\":\"1589\",\"type\":\"LegendItem\"},{\"attributes\":{\"coordinates\":null,\"group\":null,\"text\":\"Projected\",\"text_color\":\"#434244\",\"text_font_size\":\"9pt\",\"x\":2021.5,\"y\":28.0},\"id\":\"1596\",\"type\":\"Label\"},{\"attributes\":{\"source\":{\"id\":\"1450\"}},\"id\":\"1574\",\"type\":\"CDSView\"},{\"attributes\":{},\"id\":\"1587\",\"type\":\"Selection\"},{\"attributes\":{},\"id\":\"1586\",\"type\":\"UnionRenderers\"},{\"attributes\":{\"line_alpha\":0.2,\"line_color\":\"#3477A5\",\"line_width\":3,\"x\":{\"field\":\"year\"},\"y\":{\"field\":\"percent\"}},\"id\":\"1496\",\"type\":\"Line\"},{\"attributes\":{},\"id\":\"1470\",\"type\":\"PanTool\"},{\"attributes\":{\"interval\":10},\"id\":\"1492\",\"type\":\"SingleIntervalTicker\"},{\"attributes\":{\"axis_label\":\"Percent of general fund expenditures\",\"axis_label_text_font_size\":\"12pt\",\"axis_line_color\":\"#434244\",\"coordinates\":null,\"formatter\":{\"id\":\"1506\"},\"group\":null,\"major_label_policy\":{\"id\":\"1507\"},\"major_label_text_color\":\"#434244\",\"major_label_text_font_size\":\"12pt\",\"major_tick_line_color\":\"#434244\",\"minor_tick_line_color\":\"#434244\",\"ticker\":{\"id\":\"1490\"}},\"id\":\"1466\",\"type\":\"LinearAxis\"},{\"attributes\":{\"coordinates\":null,\"data_source\":{\"id\":\"1447\"},\"glyph\":{\"id\":\"1494\"},\"group\":null,\"hover_glyph\":null,\"muted_glyph\":{\"id\":\"1496\"},\"nonselection_glyph\":{\"id\":\"1495\"},\"view\":{\"id\":\"1498\"}},\"id\":\"1497\",\"type\":\"GlyphRenderer\"},{\"attributes\":{},\"id\":\"1535\",\"type\":\"Selection\"},{\"attributes\":{\"fill_alpha\":{\"value\":0.2},\"fill_color\":{\"value\":\"#3477A5\"},\"hatch_alpha\":{\"value\":0.2},\"line_alpha\":{\"value\":0.2},\"marker\":{\"value\":\"square\"},\"size\":{\"value\":8},\"x\":{\"field\":\"year\"},\"y\":{\"field\":\"percent\"}},\"id\":\"1547\",\"type\":\"Scatter\"},{\"attributes\":{},\"id\":\"1458\",\"type\":\"LinearScale\"},{\"attributes\":{\"coordinates\":null,\"data_source\":{\"id\":\"1590\"},\"glyph\":{\"id\":\"1591\"},\"group\":null,\"hover_glyph\":null,\"muted_glyph\":{\"id\":\"1593\"},\"nonselection_glyph\":{\"id\":\"1592\"},\"view\":{\"id\":\"1595\"}},\"id\":\"1594\",\"type\":\"GlyphRenderer\"},{\"attributes\":{\"coordinates\":null,\"group\":null,\"text_color\":\"#434244\",\"text_font_size\":\"0pt\"},\"id\":\"1452\",\"type\":\"Title\"},{\"attributes\":{},\"id\":\"1460\",\"type\":\"LinearScale\"},{\"attributes\":{\"source\":{\"id\":\"1448\"}},\"id\":\"1526\",\"type\":\"CDSView\"},{\"attributes\":{\"source\":{\"id\":\"1449\"}},\"id\":\"1543\",\"type\":\"CDSView\"},{\"attributes\":{\"fill_alpha\":{\"value\":0.2},\"fill_color\":{\"value\":\"#D5AB53\"},\"hatch_alpha\":{\"value\":0.2},\"line_alpha\":{\"value\":0.2},\"size\":{\"value\":8},\"x\":{\"field\":\"year\"},\"y\":{\"field\":\"percent\"}},\"id\":\"1524\",\"type\":\"Scatter\"},{\"attributes\":{\"coordinates\":null,\"data_source\":{\"id\":\"1448\"},\"glyph\":{\"id\":\"1522\"},\"group\":null,\"hover_glyph\":null,\"muted_glyph\":{\"id\":\"1524\"},\"nonselection_glyph\":{\"id\":\"1523\"},\"view\":{\"id\":\"1526\"}},\"id\":\"1525\",\"type\":\"GlyphRenderer\"},{\"attributes\":{\"fill_alpha\":{\"value\":0.2},\"fill_color\":{\"value\":\"#3477A5\"},\"hatch_alpha\":{\"value\":0.2},\"line_alpha\":{\"value\":0.2},\"size\":{\"value\":8},\"x\":{\"field\":\"year\"},\"y\":{\"field\":\"percent\"}},\"id\":\"1502\",\"type\":\"Scatter\"},{\"attributes\":{\"line_alpha\":0.1,\"line_color\":\"#3477A5\",\"line_width\":3,\"x\":{\"field\":\"year\"},\"y\":{\"field\":\"percent\"}},\"id\":\"1540\",\"type\":\"Line\"},{\"attributes\":{\"line_alpha\":{\"value\":0.1},\"line_color\":{\"value\":\"#434244\"},\"line_dash\":{\"value\":\"6 2\"},\"line_width\":{\"value\":2},\"x0\":{\"value\":2021.4},\"x1\":{\"value\":2021.4},\"y0\":{\"value\":-1.30721426},\"y1\":{\"value\":43.335818460000006}},\"id\":\"1592\",\"type\":\"Segment\"},{\"attributes\":{\"label\":{\"value\":\"Rainy Day Fund, Tennessee\"},\"renderers\":[{\"id\":\"1525\"}]},\"id\":\"1537\",\"type\":\"LegendItem\"},{\"attributes\":{\"source\":{\"id\":\"1590\"}},\"id\":\"1595\",\"type\":\"CDSView\"},{\"attributes\":{\"callback\":null,\"toggleable\":false,\"tooltips\":[[\"Year\",\"@year\"],[\"Pct of gen. fund exps.\",\"@percent{0.0}%\"]]},\"id\":\"1597\",\"type\":\"HoverTool\"},{\"attributes\":{\"line_alpha\":{\"value\":0.2},\"line_color\":{\"value\":\"#434244\"},\"line_dash\":{\"value\":\"6 2\"},\"line_width\":{\"value\":2},\"x0\":{\"value\":2021.4},\"x1\":{\"value\":2021.4},\"y0\":{\"value\":-1.30721426},\"y1\":{\"value\":43.335818460000006}},\"id\":\"1593\",\"type\":\"Segment\"},{\"attributes\":{\"fill_alpha\":{\"value\":0.1},\"fill_color\":{\"value\":\"#3477A5\"},\"hatch_alpha\":{\"value\":0.1},\"line_alpha\":{\"value\":0.1},\"size\":{\"value\":8},\"x\":{\"field\":\"year\"},\"y\":{\"field\":\"percent\"}},\"id\":\"1501\",\"type\":\"Scatter\"},{\"attributes\":{},\"id\":\"1534\",\"type\":\"UnionRenderers\"},{\"attributes\":{\"coordinates\":null,\"data_source\":{\"id\":\"1449\"},\"glyph\":{\"id\":\"1539\"},\"group\":null,\"hover_glyph\":null,\"muted_glyph\":{\"id\":\"1541\"},\"nonselection_glyph\":{\"id\":\"1540\"},\"view\":{\"id\":\"1543\"}},\"id\":\"1542\",\"type\":\"GlyphRenderer\"},{\"attributes\":{\"fill_alpha\":{\"value\":0.7},\"fill_color\":{\"value\":\"#3477A5\"},\"line_alpha\":{\"value\":0.7},\"marker\":{\"value\":\"square\"},\"size\":{\"value\":8},\"x\":{\"field\":\"year\"},\"y\":{\"field\":\"percent\"}},\"id\":\"1545\",\"type\":\"Scatter\"},{\"attributes\":{\"coordinates\":null,\"data_source\":{\"id\":\"1448\"},\"glyph\":{\"id\":\"1516\"},\"group\":null,\"hover_glyph\":null,\"muted_glyph\":{\"id\":\"1518\"},\"nonselection_glyph\":{\"id\":\"1517\"},\"view\":{\"id\":\"1520\"}},\"id\":\"1519\",\"type\":\"GlyphRenderer\"},{\"attributes\":{\"fill_alpha\":{\"value\":0.1},\"fill_color\":{\"value\":\"#D5AB53\"},\"hatch_alpha\":{\"value\":0.1},\"line_alpha\":{\"value\":0.1},\"size\":{\"value\":8},\"x\":{\"field\":\"year\"},\"y\":{\"field\":\"percent\"}},\"id\":\"1523\",\"type\":\"Scatter\"},{\"attributes\":{\"axis\":{\"id\":\"1462\"},\"coordinates\":null,\"group\":null,\"ticker\":{\"id\":\"1489\"}},\"id\":\"1465\",\"type\":\"Grid\"},{\"attributes\":{\"fill_alpha\":{\"value\":0.1},\"fill_color\":{\"value\":\"#3477A5\"},\"hatch_alpha\":{\"value\":0.1},\"line_alpha\":{\"value\":0.1},\"marker\":{\"value\":\"square\"},\"size\":{\"value\":8},\"x\":{\"field\":\"year\"},\"y\":{\"field\":\"percent\"}},\"id\":\"1546\",\"type\":\"Scatter\"},{\"attributes\":{},\"id\":\"1473\",\"type\":\"SaveTool\"},{\"attributes\":{},\"id\":\"1474\",\"type\":\"ResetTool\"},{\"attributes\":{\"label\":{\"value\":\"Rainy Day Fund, 50-state median\"},\"renderers\":[{\"id\":\"1503\"}]},\"id\":\"1514\",\"type\":\"LegendItem\"},{\"attributes\":{\"line_alpha\":0.1,\"line_color\":\"#3477A5\",\"line_width\":3,\"x\":{\"field\":\"year\"},\"y\":{\"field\":\"percent\"}},\"id\":\"1495\",\"type\":\"Line\"},{\"attributes\":{\"line_alpha\":0.2,\"line_color\":\"#D5AB53\",\"line_width\":3,\"x\":{\"field\":\"year\"},\"y\":{\"field\":\"percent\"}},\"id\":\"1518\",\"type\":\"Line\"},{\"attributes\":{\"border_line_alpha\":1,\"border_line_color\":\"#434244\",\"coordinates\":null,\"group\":null,\"items\":[{\"id\":\"1514\"},{\"id\":\"1537\"},{\"id\":\"1562\"},{\"id\":\"1589\"}],\"label_text_color\":\"#434244\",\"label_text_font_size\":\"12pt\",\"location\":\"top_center\"},\"id\":\"1513\",\"type\":\"Legend\"},{\"attributes\":{},\"id\":\"1559\",\"type\":\"UnionRenderers\"},{\"attributes\":{\"axis_label\":\"Year\",\"axis_label_text_font_size\":\"12pt\",\"axis_line_color\":\"#434244\",\"coordinates\":null,\"formatter\":{\"id\":\"1508\"},\"group\":null,\"major_label_policy\":{\"id\":\"1509\"},\"major_label_text_color\":\"#434244\",\"major_label_text_font_size\":\"12pt\",\"major_tick_line_color\":\"#434244\",\"minor_tick_line_color\":\"#434244\",\"ticker\":{\"id\":\"1487\"}},\"id\":\"1462\",\"type\":\"LinearAxis\"},{\"attributes\":{\"data\":{\"fraction\":{\"__ndarray__\":\"xe5Paq4hpT/C3Yn0A6CnP4JHzbc79JA/86hb6t6SfT82A6gec+KSP+Mc58lEMJk/FdGs9RBQpz9bcjXiZEOoPzY4AtKtwKg/Jw6tCfrvmz+wascPwMaQP40HosGCCJI/NYRbJfXxmD8qEzqMojeiP4nGa0KAKqc/IHGza4cuqT+K2WAb0FarP0Vj4335vaw/rlo5fh/DsD/EcXtmyEy0P2XUf00Lm7U/ki8akpBRuT+8li3lvs29Pw==\",\"dtype\":\"float64\",\"order\":\"little\",\"shape\":[23]},\"index\":[0,1,2,3,4,5,6,7,8,9,10,11,12,13,14,15,16,17,18,19,20,21,22],\"percent\":{\"__ndarray__\":\"inIOQ1CCEEBAtQsXA3USQLu/ME+dffo//psXJ74a5z8Ehebf04H9P5GOvL21rQNAWAPvP402EkBXwbnQpvQSQOq7EcyHVhNADjOPV3vTBUCzlqcYjDb6P8wrjU5MLfw/SX8vhQd9A0DyvRr77XYMQBsz5DM0GRJAYTAkzFmsE0D0qWOV0lsVQI6lWepqdBZAsJ05NeEwGkDC4SAg+bcfQO/di9Qg4SBAKnUk8rjHI0DDnQsjvUgnQA==\",\"dtype\":\"float64\",\"order\":\"little\",\"shape\":[23]},\"year\":[\"2000\",\"2001\",\"2002\",\"2003\",\"2004\",\"2005\",\"2006\",\"2007\",\"2008\",\"2009\",\"2010\",\"2011\",\"2012\",\"2013\",\"2014\",\"2015\",\"2016\",\"2017\",\"2018\",\"2019\",\"2020\",\"2021\",\"2022\"]},\"selected\":{\"id\":\"1511\"},\"selection_policy\":{\"id\":\"1510\"}},\"id\":\"1447\",\"type\":\"ColumnDataSource\"},{\"attributes\":{\"data\":{\"fraction\":{\"__ndarray__\":\"+tFKAzpxtj9OkcJDuEyyP1r34MznkJ0/+VYhbhkzmz84cdyj49yqPwKKibQqFbc/hj33Yks2vj+uuC64w/+8P7gXlhRfOrU/6uwiVMJ2pz82tWQ85/qmP4I9yOCYTbA/iC0X00c+tD9op3fVKa24Pz6uVOpuq7I/IcjAiB2Qtz/T/EpK7u64P3g/x3fESbU/U9oYxNIDvj+03bosfOnBP11ugRthRcA/FS2PIT9c0T/3WtU0HTHPPw==\",\"dtype\":\"float64\",\"order\":\"little\",\"shape\":[23]},\"index\":[0,1,2,3,4,5,6,7,8,9,10,11,12,13,14,15,16,17,18,19,20,21,22],\"percent\":{\"__ndarray__\":\"C3SSUnWIIUAKA+Dp35ccQD7BDxg1GQdA8wsK3us/BUB0OATYkfwUQNJzC12JCCJAEShR5WqaJ0BIgOTn0KcmQIhCFUialSBAF0m70cdUEkCSrS6nBPQRQBvgON8+eRlAJDfUOVChH0DJesWuSEcjQEFQJE7dKx1AWpzWEpdoIkCFlQoqqnojQJapk32hoSBAkWozqfxyJ0Bp+uMF0vwrQHE8+rpnbClAcbZvpCIgO0ARr0bRXl44QA==\",\"dtype\":\"float64\",\"order\":\"little\",\"shape\":[23]},\"year\":[\"2000\",\"2001\",\"2002\",\"2003\",\"2004\",\"2005\",\"2006\",\"2007\",\"2008\",\"2009\",\"2010\",\"2011\",\"2012\",\"2013\",\"2014\",\"2015\",\"2016\",\"2017\",\"2018\",\"2019\",\"2020\",\"2021\",\"2022\"]},\"selected\":{\"id\":\"1560\"},\"selection_policy\":{\"id\":\"1559\"}},\"id\":\"1449\",\"type\":\"ColumnDataSource\"},{\"attributes\":{\"line_alpha\":0.7,\"line_color\":\"#D5AB53\",\"line_width\":3,\"x\":{\"field\":\"year\"},\"y\":{\"field\":\"percent\"}},\"id\":\"1516\",\"type\":\"Line\"},{\"attributes\":{},\"id\":\"1560\",\"type\":\"Selection\"},{\"attributes\":{\"fill_alpha\":{\"value\":0.7},\"fill_color\":{\"value\":\"#D5AB53\"},\"line_alpha\":{\"value\":0.7},\"size\":{\"value\":8},\"x\":{\"field\":\"year\"},\"y\":{\"field\":\"percent\"}},\"id\":\"1522\",\"type\":\"Scatter\"},{\"attributes\":{\"line_alpha\":0.1,\"line_color\":\"#D5AB53\",\"line_width\":3,\"x\":{\"field\":\"year\"},\"y\":{\"field\":\"percent\"}},\"id\":\"1517\",\"type\":\"Line\"},{\"attributes\":{\"source\":{\"id\":\"1448\"}},\"id\":\"1520\",\"type\":\"CDSView\"},{\"attributes\":{\"interval\":10},\"id\":\"1490\",\"type\":\"SingleIntervalTicker\"},{\"attributes\":{\"data\":{\"fraction\":{\"__ndarray__\":\"AvOxNwilmT8FIC1PmfuZP4iXr+SNQJg/xXifc08Ilz/vlNvkWi6bP/CD38V88p4/UjDINbxboj+s9gnQUW+sP/cjVI+Ff7E/iS7Lfq2wqj89QTc7H4yoPwiOT/FNDZ0/2OB/VlkOnD8KKufhvdCfP+3Uv5jrPKM/vqapk6NopD+1voqEnf+mP+rlY7bl1ak/1ZBixxmfrT8Vg5UziWevP9s/okswA7U/BVgo9QyxuT/D7DWiU462Pw==\",\"dtype\":\"float64\",\"order\":\"little\",\"shape\":[23]},\"index\":[0,1,2,3,4,5,6,7,8,9,10,11,12,13,14,15,16,17,18,19,20,21,22],\"percent\":{\"__ndarray__\":\"2gWDa+4IBEAEQdvFj0wEQGIuqdpu8gJAWpZUEn7+AUBbjMsCNzwFQBSflnpxLQhAgMsIFFavDEC2yIfq9zYWQDJ4869AVxtAW7wOiwfaFED4KkNmeC0TQPYmhuRksgZAqeeTyzXrBUDYmHxYFNsIQLK8qx4wDw5AiRS5ln/jD0D9ZIwPs/cRQJ8LfnYbLxRAJgHFI0wkF0Bozkww44gYQOPBFrt9aiBAxISHH1ISJED4ILpWMZ8hQA==\",\"dtype\":\"float64\",\"order\":\"little\",\"shape\":[23]},\"year\":[\"2000\",\"2001\",\"2002\",\"2003\",\"2004\",\"2005\",\"2006\",\"2007\",\"2008\",\"2009\",\"2010\",\"2011\",\"2012\",\"2013\",\"2014\",\"2015\",\"2016\",\"2017\",\"2018\",\"2019\",\"2020\",\"2021\",\"2022\"]},\"selected\":{\"id\":\"1535\"},\"selection_policy\":{\"id\":\"1534\"}},\"id\":\"1448\",\"type\":\"ColumnDataSource\"},{\"attributes\":{\"interval\":2,\"num_minor_ticks\":2},\"id\":\"1487\",\"type\":\"SingleIntervalTicker\"},{\"attributes\":{\"data\":{},\"selected\":{\"id\":\"1629\"},\"selection_policy\":{\"id\":\"1628\"}},\"id\":\"1590\",\"type\":\"ColumnDataSource\"},{\"attributes\":{\"source\":{\"id\":\"1447\"}},\"id\":\"1498\",\"type\":\"CDSView\"},{\"attributes\":{\"line_alpha\":0.7,\"line_color\":\"#3477A5\",\"line_width\":3,\"x\":{\"field\":\"year\"},\"y\":{\"field\":\"percent\"}},\"id\":\"1539\",\"type\":\"Line\"},{\"attributes\":{},\"id\":\"1628\",\"type\":\"UnionRenderers\"}],\"root_ids\":[\"1451\"]},\"title\":\"Bokeh Application\",\"version\":\"2.4.3\"}};\n  const render_items = [{\"docid\":\"7bdfab06-34aa-4f6c-816f-5b0b7612de51\",\"root_ids\":[\"1451\"],\"roots\":{\"1451\":\"bccd7e85-1277-4305-a815-c54e1edd066b\"}}];\n  root.Bokeh.embed.embed_items_notebook(docs_json, render_items);\n  }\n  if (root.Bokeh !== undefined) {\n    embed_document(root);\n  } else {\n    let attempts = 0;\n    const timer = setInterval(function(root) {\n      if (root.Bokeh !== undefined) {\n        clearInterval(timer);\n        embed_document(root);\n      } else {\n        attempts++;\n        if (attempts > 100) {\n          clearInterval(timer);\n          console.log(\"Bokeh: ERROR: Unable to run BokehJS code because BokehJS library is missing\");\n        }\n      }\n    }, 10, root)\n  }\n})(window);",
      "application/vnd.bokehjs_exec.v0+json": ""
     },
     "metadata": {
      "application/vnd.bokehjs_exec.v0+json": {
       "id": "1451"
      }
     },
     "output_type": "display_data"
    }
   ],
   "source": [
    "show(fig1_nosubtxt)"
   ]
  },
  {
   "cell_type": "markdown",
   "metadata": {},
   "source": [
    "### Figure 2. Estimated 2022 rainy day fund and total balances as percent of general fund expenditure by state in order of rainy day fund balances, highlighting Tennessee"
   ]
  },
  {
   "cell_type": "code",
   "execution_count": 18,
   "metadata": {},
   "outputs": [
    {
     "name": "stderr",
     "output_type": "stream",
     "text": [
      "/var/folders/d4/trj3dssd6s3g8kxvjmczz11w0000gn/T/ipykernel_56874/2255531318.py:21: SettingWithCopyWarning: \n",
      "A value is trying to be set on a copy of a slice from a DataFrame\n",
      "\n",
      "See the caveats in the documentation: https://pandas.pydata.org/pandas-docs/stable/user_guide/indexing.html#returning-a-view-versus-a-copy\n",
      "  rain_totbal_pct_dol_2022_df[\"rain_color\"][rain_totbal_pct_dol_2022_df[\"state\"]==\"Tennessee\"] = \"#EED17E\"\n",
      "/var/folders/d4/trj3dssd6s3g8kxvjmczz11w0000gn/T/ipykernel_56874/2255531318.py:25: SettingWithCopyWarning: \n",
      "A value is trying to be set on a copy of a slice from a DataFrame\n",
      "\n",
      "See the caveats in the documentation: https://pandas.pydata.org/pandas-docs/stable/user_guide/indexing.html#returning-a-view-versus-a-copy\n",
      "  rain_totbal_pct_dol_2022_df[\"totbal_color\"][rain_totbal_pct_dol_2022_df[\"state\"]==\"Tennessee\"] = \"#74AAC7\"\n"
     ]
    },
    {
     "data": {
      "text/html": [
       "<div>\n",
       "<style scoped>\n",
       "    .dataframe tbody tr th:only-of-type {\n",
       "        vertical-align: middle;\n",
       "    }\n",
       "\n",
       "    .dataframe tbody tr th {\n",
       "        vertical-align: top;\n",
       "    }\n",
       "\n",
       "    .dataframe thead th {\n",
       "        text-align: right;\n",
       "    }\n",
       "</style>\n",
       "<table border=\"1\" class=\"dataframe\">\n",
       "  <thead>\n",
       "    <tr style=\"text-align: right;\">\n",
       "      <th></th>\n",
       "      <th>state</th>\n",
       "      <th>rain_pct</th>\n",
       "      <th>rain_dol</th>\n",
       "      <th>rain_color</th>\n",
       "      <th>totbal_pct</th>\n",
       "      <th>totbal_dol</th>\n",
       "      <th>totbal_color</th>\n",
       "      <th>totbal_rain_pct_dif</th>\n",
       "    </tr>\n",
       "  </thead>\n",
       "  <tbody>\n",
       "    <tr>\n",
       "      <th>46</th>\n",
       "      <td>Washington</td>\n",
       "      <td>1.139188</td>\n",
       "      <td>305.300000</td>\n",
       "      <td>#D5AB53</td>\n",
       "      <td>23.588609</td>\n",
       "      <td>6321.700000</td>\n",
       "      <td>#3477A5</td>\n",
       "      <td>22.449421</td>\n",
       "    </tr>\n",
       "    <tr>\n",
       "      <th>12</th>\n",
       "      <td>Illinois</td>\n",
       "      <td>1.348466</td>\n",
       "      <td>600.000000</td>\n",
       "      <td>#D5AB53</td>\n",
       "      <td>3.371165</td>\n",
       "      <td>1500.000000</td>\n",
       "      <td>#3477A5</td>\n",
       "      <td>2.022699</td>\n",
       "    </tr>\n",
       "    <tr>\n",
       "      <th>31</th>\n",
       "      <td>New York</td>\n",
       "      <td>3.887742</td>\n",
       "      <td>3351.000000</td>\n",
       "      <td>#D5AB53</td>\n",
       "      <td>35.400376</td>\n",
       "      <td>30513.000000</td>\n",
       "      <td>#3477A5</td>\n",
       "      <td>31.512634</td>\n",
       "    </tr>\n",
       "    <tr>\n",
       "      <th>25</th>\n",
       "      <td>Montana</td>\n",
       "      <td>4.395113</td>\n",
       "      <td>118.000000</td>\n",
       "      <td>#D5AB53</td>\n",
       "      <td>28.933476</td>\n",
       "      <td>776.805971</td>\n",
       "      <td>#3477A5</td>\n",
       "      <td>24.538363</td>\n",
       "    </tr>\n",
       "    <tr>\n",
       "      <th>19</th>\n",
       "      <td>Maryland</td>\n",
       "      <td>5.474238</td>\n",
       "      <td>1160.226358</td>\n",
       "      <td>#D5AB53</td>\n",
       "      <td>23.045000</td>\n",
       "      <td>4884.230000</td>\n",
       "      <td>#3477A5</td>\n",
       "      <td>17.570762</td>\n",
       "    </tr>\n",
       "    <tr>\n",
       "      <th>7</th>\n",
       "      <td>Delaware</td>\n",
       "      <td>5.504065</td>\n",
       "      <td>280.300000</td>\n",
       "      <td>#D5AB53</td>\n",
       "      <td>44.594117</td>\n",
       "      <td>2271.000000</td>\n",
       "      <td>#3477A5</td>\n",
       "      <td>39.090052</td>\n",
       "    </tr>\n",
       "    <tr>\n",
       "      <th>38</th>\n",
       "      <td>Rhode Island</td>\n",
       "      <td>5.565183</td>\n",
       "      <td>253.260983</td>\n",
       "      <td>#D5AB53</td>\n",
       "      <td>8.542891</td>\n",
       "      <td>388.770886</td>\n",
       "      <td>#3477A5</td>\n",
       "      <td>2.977708</td>\n",
       "    </tr>\n",
       "    <tr>\n",
       "      <th>8</th>\n",
       "      <td>Florida</td>\n",
       "      <td>6.344123</td>\n",
       "      <td>2729.800000</td>\n",
       "      <td>#D5AB53</td>\n",
       "      <td>32.600723</td>\n",
       "      <td>14027.700000</td>\n",
       "      <td>#3477A5</td>\n",
       "      <td>26.256600</td>\n",
       "    </tr>\n",
       "    <tr>\n",
       "      <th>15</th>\n",
       "      <td>Kansas</td>\n",
       "      <td>6.430386</td>\n",
       "      <td>600.000000</td>\n",
       "      <td>#D5AB53</td>\n",
       "      <td>17.553881</td>\n",
       "      <td>1637.900000</td>\n",
       "      <td>#3477A5</td>\n",
       "      <td>11.123496</td>\n",
       "    </tr>\n",
       "    <tr>\n",
       "      <th>17</th>\n",
       "      <td>Louisiana</td>\n",
       "      <td>7.160229</td>\n",
       "      <td>720.816069</td>\n",
       "      <td>#D5AB53</td>\n",
       "      <td>22.566079</td>\n",
       "      <td>2271.710000</td>\n",
       "      <td>#3477A5</td>\n",
       "      <td>15.405850</td>\n",
       "    </tr>\n",
       "    <tr>\n",
       "      <th>24</th>\n",
       "      <td>Missouri</td>\n",
       "      <td>7.291539</td>\n",
       "      <td>772.400000</td>\n",
       "      <td>#D5AB53</td>\n",
       "      <td>36.333085</td>\n",
       "      <td>3848.800000</td>\n",
       "      <td>#3477A5</td>\n",
       "      <td>29.041546</td>\n",
       "    </tr>\n",
       "    <tr>\n",
       "      <th>27</th>\n",
       "      <td>Nevada</td>\n",
       "      <td>7.315709</td>\n",
       "      <td>340.100000</td>\n",
       "      <td>#D5AB53</td>\n",
       "      <td>20.721031</td>\n",
       "      <td>963.300000</td>\n",
       "      <td>#3477A5</td>\n",
       "      <td>13.405322</td>\n",
       "    </tr>\n",
       "    <tr>\n",
       "      <th>37</th>\n",
       "      <td>Pennsylvania</td>\n",
       "      <td>7.427179</td>\n",
       "      <td>2866.000000</td>\n",
       "      <td>#D5AB53</td>\n",
       "      <td>24.155178</td>\n",
       "      <td>9321.000000</td>\n",
       "      <td>#3477A5</td>\n",
       "      <td>16.727998</td>\n",
       "    </tr>\n",
       "    <tr>\n",
       "      <th>2</th>\n",
       "      <td>Arizona</td>\n",
       "      <td>7.464062</td>\n",
       "      <td>979.800000</td>\n",
       "      <td>#D5AB53</td>\n",
       "      <td>22.565876</td>\n",
       "      <td>2962.200000</td>\n",
       "      <td>#3477A5</td>\n",
       "      <td>15.101814</td>\n",
       "    </tr>\n",
       "    <tr>\n",
       "      <th>41</th>\n",
       "      <td>Tennessee</td>\n",
       "      <td>8.810923</td>\n",
       "      <td>1550.000000</td>\n",
       "      <td>#EED17E</td>\n",
       "      <td>33.390557</td>\n",
       "      <td>5874.000000</td>\n",
       "      <td>#74AAC7</td>\n",
       "      <td>24.579634</td>\n",
       "    </tr>\n",
       "    <tr>\n",
       "      <th>48</th>\n",
       "      <td>Wisconsin</td>\n",
       "      <td>8.960241</td>\n",
       "      <td>1729.900000</td>\n",
       "      <td>#D5AB53</td>\n",
       "      <td>23.660548</td>\n",
       "      <td>4568.000000</td>\n",
       "      <td>#3477A5</td>\n",
       "      <td>14.700307</td>\n",
       "    </tr>\n",
       "    <tr>\n",
       "      <th>13</th>\n",
       "      <td>Indiana</td>\n",
       "      <td>9.029197</td>\n",
       "      <td>1644.000000</td>\n",
       "      <td>#D5AB53</td>\n",
       "      <td>28.056965</td>\n",
       "      <td>5108.500000</td>\n",
       "      <td>#3477A5</td>\n",
       "      <td>19.027769</td>\n",
       "    </tr>\n",
       "    <tr>\n",
       "      <th>45</th>\n",
       "      <td>Virginia</td>\n",
       "      <td>9.131794</td>\n",
       "      <td>2138.100000</td>\n",
       "      <td>#D5AB53</td>\n",
       "      <td>18.164928</td>\n",
       "      <td>4253.100000</td>\n",
       "      <td>#3477A5</td>\n",
       "      <td>9.033134</td>\n",
       "    </tr>\n",
       "    <tr>\n",
       "      <th>29</th>\n",
       "      <td>New Jersey</td>\n",
       "      <td>9.252584</td>\n",
       "      <td>4463.400000</td>\n",
       "      <td>#D5AB53</td>\n",
       "      <td>12.940225</td>\n",
       "      <td>6242.300000</td>\n",
       "      <td>#3477A5</td>\n",
       "      <td>3.687642</td>\n",
       "    </tr>\n",
       "    <tr>\n",
       "      <th>23</th>\n",
       "      <td>Mississippi</td>\n",
       "      <td>9.556625</td>\n",
       "      <td>556.100000</td>\n",
       "      <td>#D5AB53</td>\n",
       "      <td>9.556625</td>\n",
       "      <td>556.100000</td>\n",
       "      <td>#3477A5</td>\n",
       "      <td>0.000000</td>\n",
       "    </tr>\n",
       "    <tr>\n",
       "      <th>34</th>\n",
       "      <td>Ohio</td>\n",
       "      <td>9.677676</td>\n",
       "      <td>2700.468452</td>\n",
       "      <td>#D5AB53</td>\n",
       "      <td>19.538593</td>\n",
       "      <td>5452.070000</td>\n",
       "      <td>#3477A5</td>\n",
       "      <td>9.860916</td>\n",
       "    </tr>\n",
       "    <tr>\n",
       "      <th>43</th>\n",
       "      <td>Utah</td>\n",
       "      <td>10.005132</td>\n",
       "      <td>1033.200000</td>\n",
       "      <td>#D5AB53</td>\n",
       "      <td>20.848858</td>\n",
       "      <td>2153.000000</td>\n",
       "      <td>#3477A5</td>\n",
       "      <td>10.843726</td>\n",
       "    </tr>\n",
       "    <tr>\n",
       "      <th>14</th>\n",
       "      <td>Iowa</td>\n",
       "      <td>10.059237</td>\n",
       "      <td>816.800000</td>\n",
       "      <td>#D5AB53</td>\n",
       "      <td>24.523701</td>\n",
       "      <td>1991.300000</td>\n",
       "      <td>#3477A5</td>\n",
       "      <td>14.464464</td>\n",
       "    </tr>\n",
       "    <tr>\n",
       "      <th>21</th>\n",
       "      <td>Michigan</td>\n",
       "      <td>10.779302</td>\n",
       "      <td>1457.200000</td>\n",
       "      <td>#D5AB53</td>\n",
       "      <td>31.329659</td>\n",
       "      <td>4235.300000</td>\n",
       "      <td>#3477A5</td>\n",
       "      <td>20.550357</td>\n",
       "    </tr>\n",
       "    <tr>\n",
       "      <th>16</th>\n",
       "      <td>Kentucky</td>\n",
       "      <td>11.614768</td>\n",
       "      <td>1506.900000</td>\n",
       "      <td>#D5AB53</td>\n",
       "      <td>24.093572</td>\n",
       "      <td>3125.900000</td>\n",
       "      <td>#3477A5</td>\n",
       "      <td>12.478804</td>\n",
       "    </tr>\n",
       "    <tr>\n",
       "      <th>39</th>\n",
       "      <td>South Carolina</td>\n",
       "      <td>11.669368</td>\n",
       "      <td>1209.600000</td>\n",
       "      <td>#D5AB53</td>\n",
       "      <td>32.959018</td>\n",
       "      <td>3416.400000</td>\n",
       "      <td>#3477A5</td>\n",
       "      <td>21.289650</td>\n",
       "    </tr>\n",
       "    <tr>\n",
       "      <th>32</th>\n",
       "      <td>North Carolina</td>\n",
       "      <td>11.971631</td>\n",
       "      <td>3116.000000</td>\n",
       "      <td>#D5AB53</td>\n",
       "      <td>21.049093</td>\n",
       "      <td>5478.700000</td>\n",
       "      <td>#3477A5</td>\n",
       "      <td>9.077462</td>\n",
       "    </tr>\n",
       "    <tr>\n",
       "      <th>22</th>\n",
       "      <td>Minnesota</td>\n",
       "      <td>12.091131</td>\n",
       "      <td>3005.745000</td>\n",
       "      <td>#D5AB53</td>\n",
       "      <td>38.638292</td>\n",
       "      <td>9605.130000</td>\n",
       "      <td>#3477A5</td>\n",
       "      <td>26.547161</td>\n",
       "    </tr>\n",
       "    <tr>\n",
       "      <th>18</th>\n",
       "      <td>Maine</td>\n",
       "      <td>12.466863</td>\n",
       "      <td>507.900000</td>\n",
       "      <td>#D5AB53</td>\n",
       "      <td>12.619048</td>\n",
       "      <td>514.100000</td>\n",
       "      <td>#3477A5</td>\n",
       "      <td>0.152185</td>\n",
       "    </tr>\n",
       "    <tr>\n",
       "      <th>36</th>\n",
       "      <td>Oregon</td>\n",
       "      <td>12.725299</td>\n",
       "      <td>1597.522881</td>\n",
       "      <td>#D5AB53</td>\n",
       "      <td>44.293832</td>\n",
       "      <td>5560.610000</td>\n",
       "      <td>#3477A5</td>\n",
       "      <td>31.568533</td>\n",
       "    </tr>\n",
       "    <tr>\n",
       "      <th>0</th>\n",
       "      <td>Alabama</td>\n",
       "      <td>13.414786</td>\n",
       "      <td>1404.300000</td>\n",
       "      <td>#D5AB53</td>\n",
       "      <td>31.252448</td>\n",
       "      <td>3271.600000</td>\n",
       "      <td>#3477A5</td>\n",
       "      <td>17.837662</td>\n",
       "    </tr>\n",
       "    <tr>\n",
       "      <th>9</th>\n",
       "      <td>Georgia</td>\n",
       "      <td>14.860685</td>\n",
       "      <td>4288.774541</td>\n",
       "      <td>#D5AB53</td>\n",
       "      <td>14.998336</td>\n",
       "      <td>4328.500000</td>\n",
       "      <td>#3477A5</td>\n",
       "      <td>0.137652</td>\n",
       "    </tr>\n",
       "    <tr>\n",
       "      <th>40</th>\n",
       "      <td>South Dakota</td>\n",
       "      <td>15.099071</td>\n",
       "      <td>307.100000</td>\n",
       "      <td>#D5AB53</td>\n",
       "      <td>15.099071</td>\n",
       "      <td>307.100000</td>\n",
       "      <td>#3477A5</td>\n",
       "      <td>0.000000</td>\n",
       "    </tr>\n",
       "    <tr>\n",
       "      <th>20</th>\n",
       "      <td>Massachusetts</td>\n",
       "      <td>15.285286</td>\n",
       "      <td>5902.971882</td>\n",
       "      <td>#D5AB53</td>\n",
       "      <td>16.601881</td>\n",
       "      <td>6411.420000</td>\n",
       "      <td>#3477A5</td>\n",
       "      <td>1.316595</td>\n",
       "    </tr>\n",
       "    <tr>\n",
       "      <th>42</th>\n",
       "      <td>Texas</td>\n",
       "      <td>15.561054</td>\n",
       "      <td>10057.000000</td>\n",
       "      <td>#D5AB53</td>\n",
       "      <td>27.770686</td>\n",
       "      <td>17948.000000</td>\n",
       "      <td>#3477A5</td>\n",
       "      <td>12.209633</td>\n",
       "    </tr>\n",
       "    <tr>\n",
       "      <th>35</th>\n",
       "      <td>Oklahoma</td>\n",
       "      <td>15.850907</td>\n",
       "      <td>1180.100000</td>\n",
       "      <td>#D5AB53</td>\n",
       "      <td>45.351242</td>\n",
       "      <td>3376.400000</td>\n",
       "      <td>#3477A5</td>\n",
       "      <td>29.500336</td>\n",
       "    </tr>\n",
       "    <tr>\n",
       "      <th>28</th>\n",
       "      <td>New Hampshire</td>\n",
       "      <td>16.136705</td>\n",
       "      <td>257.800000</td>\n",
       "      <td>#D5AB53</td>\n",
       "      <td>26.840260</td>\n",
       "      <td>428.800000</td>\n",
       "      <td>#3477A5</td>\n",
       "      <td>10.703555</td>\n",
       "    </tr>\n",
       "    <tr>\n",
       "      <th>10</th>\n",
       "      <td>Hawaii</td>\n",
       "      <td>16.963347</td>\n",
       "      <td>1324.700000</td>\n",
       "      <td>#D5AB53</td>\n",
       "      <td>27.864093</td>\n",
       "      <td>2175.960000</td>\n",
       "      <td>#3477A5</td>\n",
       "      <td>10.900746</td>\n",
       "    </tr>\n",
       "    <tr>\n",
       "      <th>44</th>\n",
       "      <td>Vermont</td>\n",
       "      <td>19.632320</td>\n",
       "      <td>415.200000</td>\n",
       "      <td>#D5AB53</td>\n",
       "      <td>23.281699</td>\n",
       "      <td>492.380000</td>\n",
       "      <td>#3477A5</td>\n",
       "      <td>3.649380</td>\n",
       "    </tr>\n",
       "    <tr>\n",
       "      <th>3</th>\n",
       "      <td>Arkansas</td>\n",
       "      <td>19.693291</td>\n",
       "      <td>1151.900000</td>\n",
       "      <td>#D5AB53</td>\n",
       "      <td>24.213568</td>\n",
       "      <td>1416.300000</td>\n",
       "      <td>#3477A5</td>\n",
       "      <td>4.520276</td>\n",
       "    </tr>\n",
       "    <tr>\n",
       "      <th>26</th>\n",
       "      <td>Nebraska</td>\n",
       "      <td>20.714790</td>\n",
       "      <td>997.500000</td>\n",
       "      <td>#D5AB53</td>\n",
       "      <td>40.237571</td>\n",
       "      <td>1937.600000</td>\n",
       "      <td>#3477A5</td>\n",
       "      <td>19.522781</td>\n",
       "    </tr>\n",
       "    <tr>\n",
       "      <th>11</th>\n",
       "      <td>Idaho</td>\n",
       "      <td>20.903366</td>\n",
       "      <td>883.000000</td>\n",
       "      <td>#D5AB53</td>\n",
       "      <td>25.974149</td>\n",
       "      <td>1097.200000</td>\n",
       "      <td>#3477A5</td>\n",
       "      <td>5.070783</td>\n",
       "    </tr>\n",
       "    <tr>\n",
       "      <th>47</th>\n",
       "      <td>West Virginia</td>\n",
       "      <td>21.422831</td>\n",
       "      <td>1013.000000</td>\n",
       "      <td>#D5AB53</td>\n",
       "      <td>35.695618</td>\n",
       "      <td>1687.900000</td>\n",
       "      <td>#3477A5</td>\n",
       "      <td>14.272787</td>\n",
       "    </tr>\n",
       "    <tr>\n",
       "      <th>5</th>\n",
       "      <td>Colorado</td>\n",
       "      <td>22.388022</td>\n",
       "      <td>3510.800000</td>\n",
       "      <td>#D5AB53</td>\n",
       "      <td>22.388022</td>\n",
       "      <td>3510.800000</td>\n",
       "      <td>#3477A5</td>\n",
       "      <td>0.000000</td>\n",
       "    </tr>\n",
       "    <tr>\n",
       "      <th>4</th>\n",
       "      <td>California</td>\n",
       "      <td>22.540611</td>\n",
       "      <td>47342.000000</td>\n",
       "      <td>#D5AB53</td>\n",
       "      <td>24.052349</td>\n",
       "      <td>50517.100000</td>\n",
       "      <td>#3477A5</td>\n",
       "      <td>1.511738</td>\n",
       "    </tr>\n",
       "    <tr>\n",
       "      <th>6</th>\n",
       "      <td>Connecticut</td>\n",
       "      <td>27.407030</td>\n",
       "      <td>5591.500000</td>\n",
       "      <td>#D5AB53</td>\n",
       "      <td>27.407030</td>\n",
       "      <td>5591.500000</td>\n",
       "      <td>#3477A5</td>\n",
       "      <td>0.000000</td>\n",
       "    </tr>\n",
       "    <tr>\n",
       "      <th>30</th>\n",
       "      <td>New Mexico</td>\n",
       "      <td>27.607163</td>\n",
       "      <td>2557.500000</td>\n",
       "      <td>#D5AB53</td>\n",
       "      <td>30.575675</td>\n",
       "      <td>2832.500000</td>\n",
       "      <td>#3477A5</td>\n",
       "      <td>2.968512</td>\n",
       "    </tr>\n",
       "    <tr>\n",
       "      <th>33</th>\n",
       "      <td>North Dakota</td>\n",
       "      <td>30.721439</td>\n",
       "      <td>751.600000</td>\n",
       "      <td>#D5AB53</td>\n",
       "      <td>70.018394</td>\n",
       "      <td>1713.000000</td>\n",
       "      <td>#3477A5</td>\n",
       "      <td>39.296955</td>\n",
       "    </tr>\n",
       "    <tr>\n",
       "      <th>1</th>\n",
       "      <td>Alaska</td>\n",
       "      <td>41.274547</td>\n",
       "      <td>1963.100000</td>\n",
       "      <td>#D5AB53</td>\n",
       "      <td>41.274547</td>\n",
       "      <td>1963.100000</td>\n",
       "      <td>#3477A5</td>\n",
       "      <td>0.000000</td>\n",
       "    </tr>\n",
       "    <tr>\n",
       "      <th>49</th>\n",
       "      <td>Wyoming</td>\n",
       "      <td>95.787427</td>\n",
       "      <td>1478.000000</td>\n",
       "      <td>#D5AB53</td>\n",
       "      <td>95.787427</td>\n",
       "      <td>1478.000000</td>\n",
       "      <td>#3477A5</td>\n",
       "      <td>0.000000</td>\n",
       "    </tr>\n",
       "  </tbody>\n",
       "</table>\n",
       "</div>"
      ],
      "text/plain": [
       "             state   rain_pct      rain_dol rain_color  totbal_pct  \\\n",
       "46      Washington   1.139188    305.300000    #D5AB53   23.588609   \n",
       "12        Illinois   1.348466    600.000000    #D5AB53    3.371165   \n",
       "31        New York   3.887742   3351.000000    #D5AB53   35.400376   \n",
       "25         Montana   4.395113    118.000000    #D5AB53   28.933476   \n",
       "19        Maryland   5.474238   1160.226358    #D5AB53   23.045000   \n",
       "7         Delaware   5.504065    280.300000    #D5AB53   44.594117   \n",
       "38    Rhode Island   5.565183    253.260983    #D5AB53    8.542891   \n",
       "8          Florida   6.344123   2729.800000    #D5AB53   32.600723   \n",
       "15          Kansas   6.430386    600.000000    #D5AB53   17.553881   \n",
       "17       Louisiana   7.160229    720.816069    #D5AB53   22.566079   \n",
       "24        Missouri   7.291539    772.400000    #D5AB53   36.333085   \n",
       "27          Nevada   7.315709    340.100000    #D5AB53   20.721031   \n",
       "37    Pennsylvania   7.427179   2866.000000    #D5AB53   24.155178   \n",
       "2          Arizona   7.464062    979.800000    #D5AB53   22.565876   \n",
       "41       Tennessee   8.810923   1550.000000    #EED17E   33.390557   \n",
       "48       Wisconsin   8.960241   1729.900000    #D5AB53   23.660548   \n",
       "13         Indiana   9.029197   1644.000000    #D5AB53   28.056965   \n",
       "45        Virginia   9.131794   2138.100000    #D5AB53   18.164928   \n",
       "29      New Jersey   9.252584   4463.400000    #D5AB53   12.940225   \n",
       "23     Mississippi   9.556625    556.100000    #D5AB53    9.556625   \n",
       "34            Ohio   9.677676   2700.468452    #D5AB53   19.538593   \n",
       "43            Utah  10.005132   1033.200000    #D5AB53   20.848858   \n",
       "14            Iowa  10.059237    816.800000    #D5AB53   24.523701   \n",
       "21        Michigan  10.779302   1457.200000    #D5AB53   31.329659   \n",
       "16        Kentucky  11.614768   1506.900000    #D5AB53   24.093572   \n",
       "39  South Carolina  11.669368   1209.600000    #D5AB53   32.959018   \n",
       "32  North Carolina  11.971631   3116.000000    #D5AB53   21.049093   \n",
       "22       Minnesota  12.091131   3005.745000    #D5AB53   38.638292   \n",
       "18           Maine  12.466863    507.900000    #D5AB53   12.619048   \n",
       "36          Oregon  12.725299   1597.522881    #D5AB53   44.293832   \n",
       "0          Alabama  13.414786   1404.300000    #D5AB53   31.252448   \n",
       "9          Georgia  14.860685   4288.774541    #D5AB53   14.998336   \n",
       "40    South Dakota  15.099071    307.100000    #D5AB53   15.099071   \n",
       "20   Massachusetts  15.285286   5902.971882    #D5AB53   16.601881   \n",
       "42           Texas  15.561054  10057.000000    #D5AB53   27.770686   \n",
       "35        Oklahoma  15.850907   1180.100000    #D5AB53   45.351242   \n",
       "28   New Hampshire  16.136705    257.800000    #D5AB53   26.840260   \n",
       "10          Hawaii  16.963347   1324.700000    #D5AB53   27.864093   \n",
       "44         Vermont  19.632320    415.200000    #D5AB53   23.281699   \n",
       "3         Arkansas  19.693291   1151.900000    #D5AB53   24.213568   \n",
       "26        Nebraska  20.714790    997.500000    #D5AB53   40.237571   \n",
       "11           Idaho  20.903366    883.000000    #D5AB53   25.974149   \n",
       "47   West Virginia  21.422831   1013.000000    #D5AB53   35.695618   \n",
       "5         Colorado  22.388022   3510.800000    #D5AB53   22.388022   \n",
       "4       California  22.540611  47342.000000    #D5AB53   24.052349   \n",
       "6      Connecticut  27.407030   5591.500000    #D5AB53   27.407030   \n",
       "30      New Mexico  27.607163   2557.500000    #D5AB53   30.575675   \n",
       "33    North Dakota  30.721439    751.600000    #D5AB53   70.018394   \n",
       "1           Alaska  41.274547   1963.100000    #D5AB53   41.274547   \n",
       "49         Wyoming  95.787427   1478.000000    #D5AB53   95.787427   \n",
       "\n",
       "      totbal_dol totbal_color  totbal_rain_pct_dif  \n",
       "46   6321.700000      #3477A5            22.449421  \n",
       "12   1500.000000      #3477A5             2.022699  \n",
       "31  30513.000000      #3477A5            31.512634  \n",
       "25    776.805971      #3477A5            24.538363  \n",
       "19   4884.230000      #3477A5            17.570762  \n",
       "7    2271.000000      #3477A5            39.090052  \n",
       "38    388.770886      #3477A5             2.977708  \n",
       "8   14027.700000      #3477A5            26.256600  \n",
       "15   1637.900000      #3477A5            11.123496  \n",
       "17   2271.710000      #3477A5            15.405850  \n",
       "24   3848.800000      #3477A5            29.041546  \n",
       "27    963.300000      #3477A5            13.405322  \n",
       "37   9321.000000      #3477A5            16.727998  \n",
       "2    2962.200000      #3477A5            15.101814  \n",
       "41   5874.000000      #74AAC7            24.579634  \n",
       "48   4568.000000      #3477A5            14.700307  \n",
       "13   5108.500000      #3477A5            19.027769  \n",
       "45   4253.100000      #3477A5             9.033134  \n",
       "29   6242.300000      #3477A5             3.687642  \n",
       "23    556.100000      #3477A5             0.000000  \n",
       "34   5452.070000      #3477A5             9.860916  \n",
       "43   2153.000000      #3477A5            10.843726  \n",
       "14   1991.300000      #3477A5            14.464464  \n",
       "21   4235.300000      #3477A5            20.550357  \n",
       "16   3125.900000      #3477A5            12.478804  \n",
       "39   3416.400000      #3477A5            21.289650  \n",
       "32   5478.700000      #3477A5             9.077462  \n",
       "22   9605.130000      #3477A5            26.547161  \n",
       "18    514.100000      #3477A5             0.152185  \n",
       "36   5560.610000      #3477A5            31.568533  \n",
       "0    3271.600000      #3477A5            17.837662  \n",
       "9    4328.500000      #3477A5             0.137652  \n",
       "40    307.100000      #3477A5             0.000000  \n",
       "20   6411.420000      #3477A5             1.316595  \n",
       "42  17948.000000      #3477A5            12.209633  \n",
       "35   3376.400000      #3477A5            29.500336  \n",
       "28    428.800000      #3477A5            10.703555  \n",
       "10   2175.960000      #3477A5            10.900746  \n",
       "44    492.380000      #3477A5             3.649380  \n",
       "3    1416.300000      #3477A5             4.520276  \n",
       "26   1937.600000      #3477A5            19.522781  \n",
       "11   1097.200000      #3477A5             5.070783  \n",
       "47   1687.900000      #3477A5            14.272787  \n",
       "5    3510.800000      #3477A5             0.000000  \n",
       "4   50517.100000      #3477A5             1.511738  \n",
       "6    5591.500000      #3477A5             0.000000  \n",
       "30   2832.500000      #3477A5             2.968512  \n",
       "33   1713.000000      #3477A5            39.296955  \n",
       "1    1963.100000      #3477A5             0.000000  \n",
       "49   1478.000000      #3477A5             0.000000  "
      ]
     },
     "execution_count": 18,
     "metadata": {},
     "output_type": "execute_result"
    }
   ],
   "source": [
    "rain_pct_2022_df = rain_pct_df.loc[:'Wyoming', '2022'].to_frame().reset_index()\n",
    "rain_pct_2022_df.rename(columns = {\"index\": \"state\", \"2022\": \"rain_frac\"}, inplace = True)\n",
    "rain_pct_2022_df[\"rain_pct\"] = 100 * rain_pct_2022_df[\"rain_frac\"]\n",
    "rain_pct_2022_df.drop('rain_frac', axis=1, inplace=True)\n",
    "\n",
    "rain_dol_2022_df = rain_dol_df.loc[:'Wyoming', '2022'].to_frame().reset_index()\n",
    "rain_dol_2022_df.rename(columns = {\"index\": \"state\", \"2022\": \"rain_dol\"}, inplace = True)\n",
    "\n",
    "totbal_pct_2022_df = totbal_pct_df.loc[:'Wyoming', '2022'].to_frame().reset_index()\n",
    "totbal_pct_2022_df.rename(columns = {\"index\": \"state\", \"2022\": \"totbal_frac\"}, inplace = True)\n",
    "totbal_pct_2022_df[\"totbal_pct\"] = 100 * totbal_pct_2022_df[\"totbal_frac\"]\n",
    "totbal_pct_2022_df.drop('totbal_frac', axis=1, inplace=True)\n",
    "\n",
    "totbal_dol_2022_df = totbal_dol_df.loc[:'Wyoming', '2022'].to_frame().reset_index()\n",
    "totbal_dol_2022_df.rename(columns = {\"index\": \"state\", \"2022\": \"totbal_dol\"}, inplace = True)\n",
    "\n",
    "# Merge the four DataFrames\n",
    "rain_totbal_pct_dol_2022_df = rain_pct_2022_df.copy()\n",
    "rain_totbal_pct_dol_2022_df = pd.merge(rain_totbal_pct_dol_2022_df, rain_dol_2022_df, on='state', how='inner')\n",
    "rain_totbal_pct_dol_2022_df[\"rain_color\"] = \"#D5AB53\"\n",
    "rain_totbal_pct_dol_2022_df[\"rain_color\"][rain_totbal_pct_dol_2022_df[\"state\"]==\"Tennessee\"] = \"#EED17E\"\n",
    "rain_totbal_pct_dol_2022_df = pd.merge(rain_totbal_pct_dol_2022_df, totbal_pct_2022_df, on='state', how='inner')\n",
    "rain_totbal_pct_dol_2022_df = pd.merge(rain_totbal_pct_dol_2022_df, totbal_dol_2022_df, on='state', how='inner')\n",
    "rain_totbal_pct_dol_2022_df[\"totbal_color\"] = \"#3477A5\"\n",
    "rain_totbal_pct_dol_2022_df[\"totbal_color\"][rain_totbal_pct_dol_2022_df[\"state\"]==\"Tennessee\"] = \"#74AAC7\"\n",
    "\n",
    "# Create a new variable that is totbal_pct - rain_pct\n",
    "rain_totbal_pct_dol_2022_df[\"totbal_rain_pct_dif\"] = (\n",
    "    rain_totbal_pct_dol_2022_df[\"totbal_pct\"] - rain_totbal_pct_dol_2022_df[\"rain_pct\"]\n",
    ")\n",
    "\n",
    "# Sort by rainy day fund percent\n",
    "rain_totbal_pct_dol_2022_sorted_df = rain_totbal_pct_dol_2022_df.sort_values(\n",
    "    by=['rain_pct', 'totbal_pct'], ascending=[True, True]\n",
    ")\n",
    "\n",
    "rain_totbal_pct_dol_2022_sorted_df.to_csv('data/fig2_source.csv', index=False)\n",
    "rain_totbal_pct_dol_2022_sorted_df"
   ]
  },
  {
   "cell_type": "code",
   "execution_count": 9,
   "metadata": {},
   "outputs": [
    {
     "data": {
      "text/html": [
       "<div class=\"bk-root\">\n",
       "        <a href=\"https://bokeh.org\" target=\"_blank\" class=\"bk-logo bk-logo-small bk-logo-notebook\"></a>\n",
       "        <span id=\"1936\">Loading BokehJS ...</span>\n",
       "    </div>\n"
      ]
     },
     "metadata": {},
     "output_type": "display_data"
    },
    {
     "data": {
      "application/javascript": "(function(root) {\n  function now() {\n    return new Date();\n  }\n\n  const force = true;\n\n  if (typeof root._bokeh_onload_callbacks === \"undefined\" || force === true) {\n    root._bokeh_onload_callbacks = [];\n    root._bokeh_is_loading = undefined;\n  }\n\nconst JS_MIME_TYPE = 'application/javascript';\n  const HTML_MIME_TYPE = 'text/html';\n  const EXEC_MIME_TYPE = 'application/vnd.bokehjs_exec.v0+json';\n  const CLASS_NAME = 'output_bokeh rendered_html';\n\n  /**\n   * Render data to the DOM node\n   */\n  function render(props, node) {\n    const script = document.createElement(\"script\");\n    node.appendChild(script);\n  }\n\n  /**\n   * Handle when an output is cleared or removed\n   */\n  function handleClearOutput(event, handle) {\n    const cell = handle.cell;\n\n    const id = cell.output_area._bokeh_element_id;\n    const server_id = cell.output_area._bokeh_server_id;\n    // Clean up Bokeh references\n    if (id != null && id in Bokeh.index) {\n      Bokeh.index[id].model.document.clear();\n      delete Bokeh.index[id];\n    }\n\n    if (server_id !== undefined) {\n      // Clean up Bokeh references\n      const cmd_clean = \"from bokeh.io.state import curstate; print(curstate().uuid_to_server['\" + server_id + \"'].get_sessions()[0].document.roots[0]._id)\";\n      cell.notebook.kernel.execute(cmd_clean, {\n        iopub: {\n          output: function(msg) {\n            const id = msg.content.text.trim();\n            if (id in Bokeh.index) {\n              Bokeh.index[id].model.document.clear();\n              delete Bokeh.index[id];\n            }\n          }\n        }\n      });\n      // Destroy server and session\n      const cmd_destroy = \"import bokeh.io.notebook as ion; ion.destroy_server('\" + server_id + \"')\";\n      cell.notebook.kernel.execute(cmd_destroy);\n    }\n  }\n\n  /**\n   * Handle when a new output is added\n   */\n  function handleAddOutput(event, handle) {\n    const output_area = handle.output_area;\n    const output = handle.output;\n\n    // limit handleAddOutput to display_data with EXEC_MIME_TYPE content only\n    if ((output.output_type != \"display_data\") || (!Object.prototype.hasOwnProperty.call(output.data, EXEC_MIME_TYPE))) {\n      return\n    }\n\n    const toinsert = output_area.element.find(\".\" + CLASS_NAME.split(' ')[0]);\n\n    if (output.metadata[EXEC_MIME_TYPE][\"id\"] !== undefined) {\n      toinsert[toinsert.length - 1].firstChild.textContent = output.data[JS_MIME_TYPE];\n      // store reference to embed id on output_area\n      output_area._bokeh_element_id = output.metadata[EXEC_MIME_TYPE][\"id\"];\n    }\n    if (output.metadata[EXEC_MIME_TYPE][\"server_id\"] !== undefined) {\n      const bk_div = document.createElement(\"div\");\n      bk_div.innerHTML = output.data[HTML_MIME_TYPE];\n      const script_attrs = bk_div.children[0].attributes;\n      for (let i = 0; i < script_attrs.length; i++) {\n        toinsert[toinsert.length - 1].firstChild.setAttribute(script_attrs[i].name, script_attrs[i].value);\n        toinsert[toinsert.length - 1].firstChild.textContent = bk_div.children[0].textContent\n      }\n      // store reference to server id on output_area\n      output_area._bokeh_server_id = output.metadata[EXEC_MIME_TYPE][\"server_id\"];\n    }\n  }\n\n  function register_renderer(events, OutputArea) {\n\n    function append_mime(data, metadata, element) {\n      // create a DOM node to render to\n      const toinsert = this.create_output_subarea(\n        metadata,\n        CLASS_NAME,\n        EXEC_MIME_TYPE\n      );\n      this.keyboard_manager.register_events(toinsert);\n      // Render to node\n      const props = {data: data, metadata: metadata[EXEC_MIME_TYPE]};\n      render(props, toinsert[toinsert.length - 1]);\n      element.append(toinsert);\n      return toinsert\n    }\n\n    /* Handle when an output is cleared or removed */\n    events.on('clear_output.CodeCell', handleClearOutput);\n    events.on('delete.Cell', handleClearOutput);\n\n    /* Handle when a new output is added */\n    events.on('output_added.OutputArea', handleAddOutput);\n\n    /**\n     * Register the mime type and append_mime function with output_area\n     */\n    OutputArea.prototype.register_mime_type(EXEC_MIME_TYPE, append_mime, {\n      /* Is output safe? */\n      safe: true,\n      /* Index of renderer in `output_area.display_order` */\n      index: 0\n    });\n  }\n\n  // register the mime type if in Jupyter Notebook environment and previously unregistered\n  if (root.Jupyter !== undefined) {\n    const events = require('base/js/events');\n    const OutputArea = require('notebook/js/outputarea').OutputArea;\n\n    if (OutputArea.prototype.mime_types().indexOf(EXEC_MIME_TYPE) == -1) {\n      register_renderer(events, OutputArea);\n    }\n  }\n  if (typeof (root._bokeh_timeout) === \"undefined\" || force === true) {\n    root._bokeh_timeout = Date.now() + 5000;\n    root._bokeh_failed_load = false;\n  }\n\n  const NB_LOAD_WARNING = {'data': {'text/html':\n     \"<div style='background-color: #fdd'>\\n\"+\n     \"<p>\\n\"+\n     \"BokehJS does not appear to have successfully loaded. If loading BokehJS from CDN, this \\n\"+\n     \"may be due to a slow or bad network connection. Possible fixes:\\n\"+\n     \"</p>\\n\"+\n     \"<ul>\\n\"+\n     \"<li>re-rerun `output_notebook()` to attempt to load from CDN again, or</li>\\n\"+\n     \"<li>use INLINE resources instead, as so:</li>\\n\"+\n     \"</ul>\\n\"+\n     \"<code>\\n\"+\n     \"from bokeh.resources import INLINE\\n\"+\n     \"output_notebook(resources=INLINE)\\n\"+\n     \"</code>\\n\"+\n     \"</div>\"}};\n\n  function display_loaded() {\n    const el = document.getElementById(\"1936\");\n    if (el != null) {\n      el.textContent = \"BokehJS is loading...\";\n    }\n    if (root.Bokeh !== undefined) {\n      if (el != null) {\n        el.textContent = \"BokehJS \" + root.Bokeh.version + \" successfully loaded.\";\n      }\n    } else if (Date.now() < root._bokeh_timeout) {\n      setTimeout(display_loaded, 100)\n    }\n  }\n\n  function run_callbacks() {\n    try {\n      root._bokeh_onload_callbacks.forEach(function(callback) {\n        if (callback != null)\n          callback();\n      });\n    } finally {\n      delete root._bokeh_onload_callbacks\n    }\n    console.debug(\"Bokeh: all callbacks have finished\");\n  }\n\n  function load_libs(css_urls, js_urls, callback) {\n    if (css_urls == null) css_urls = [];\n    if (js_urls == null) js_urls = [];\n\n    root._bokeh_onload_callbacks.push(callback);\n    if (root._bokeh_is_loading > 0) {\n      console.debug(\"Bokeh: BokehJS is being loaded, scheduling callback at\", now());\n      return null;\n    }\n    if (js_urls == null || js_urls.length === 0) {\n      run_callbacks();\n      return null;\n    }\n    console.debug(\"Bokeh: BokehJS not loaded, scheduling load and callback at\", now());\n    root._bokeh_is_loading = css_urls.length + js_urls.length;\n\n    function on_load() {\n      root._bokeh_is_loading--;\n      if (root._bokeh_is_loading === 0) {\n        console.debug(\"Bokeh: all BokehJS libraries/stylesheets loaded\");\n        run_callbacks()\n      }\n    }\n\n    function on_error(url) {\n      console.error(\"failed to load \" + url);\n    }\n\n    for (let i = 0; i < css_urls.length; i++) {\n      const url = css_urls[i];\n      const element = document.createElement(\"link\");\n      element.onload = on_load;\n      element.onerror = on_error.bind(null, url);\n      element.rel = \"stylesheet\";\n      element.type = \"text/css\";\n      element.href = url;\n      console.debug(\"Bokeh: injecting link tag for BokehJS stylesheet: \", url);\n      document.body.appendChild(element);\n    }\n\n    for (let i = 0; i < js_urls.length; i++) {\n      const url = js_urls[i];\n      const element = document.createElement('script');\n      element.onload = on_load;\n      element.onerror = on_error.bind(null, url);\n      element.async = false;\n      element.src = url;\n      console.debug(\"Bokeh: injecting script tag for BokehJS library: \", url);\n      document.head.appendChild(element);\n    }\n  };\n\n  function inject_raw_css(css) {\n    const element = document.createElement(\"style\");\n    element.appendChild(document.createTextNode(css));\n    document.body.appendChild(element);\n  }\n\n  const js_urls = [\"https://cdn.bokeh.org/bokeh/release/bokeh-2.4.3.min.js\", \"https://cdn.bokeh.org/bokeh/release/bokeh-gl-2.4.3.min.js\", \"https://cdn.bokeh.org/bokeh/release/bokeh-widgets-2.4.3.min.js\", \"https://cdn.bokeh.org/bokeh/release/bokeh-tables-2.4.3.min.js\", \"https://cdn.bokeh.org/bokeh/release/bokeh-mathjax-2.4.3.min.js\"];\n  const css_urls = [];\n\n  const inline_js = [    function(Bokeh) {\n      Bokeh.set_log_level(\"info\");\n    },\nfunction(Bokeh) {\n    }\n  ];\n\n  function run_inline_js() {\n    if (root.Bokeh !== undefined || force === true) {\n          for (let i = 0; i < inline_js.length; i++) {\n      inline_js[i].call(root, root.Bokeh);\n    }\nif (force === true) {\n        display_loaded();\n      }} else if (Date.now() < root._bokeh_timeout) {\n      setTimeout(run_inline_js, 100);\n    } else if (!root._bokeh_failed_load) {\n      console.log(\"Bokeh: BokehJS failed to load within specified timeout.\");\n      root._bokeh_failed_load = true;\n    } else if (force !== true) {\n      const cell = $(document.getElementById(\"1936\")).parents('.cell').data().cell;\n      cell.output_area.append_execute_result(NB_LOAD_WARNING)\n    }\n  }\n\n  if (root._bokeh_is_loading === 0) {\n    console.debug(\"Bokeh: BokehJS loaded, going straight to plotting\");\n    run_inline_js();\n  } else {\n    load_libs(css_urls, js_urls, function() {\n      console.debug(\"Bokeh: BokehJS plotting callback run at\", now());\n      run_inline_js();\n    });\n  }\n}(window));",
      "application/vnd.bokehjs_load.v0+json": ""
     },
     "metadata": {},
     "output_type": "display_data"
    }
   ],
   "source": [
    "# fig2_title = ('Estimated 2022 Rainy day Fund Balances and Total Fund ' +\n",
    "#               'Balances as Percent of General Fund Expenditures')\n",
    "fig2_title = \"\"\n",
    "output_file(\"images/rain_totbal_pct_2022.html\", title=fig2_title, mode='inline')\n",
    "output_notebook()\n",
    "\n",
    "states = rain_totbal_pct_dol_2022_sorted_df['state'].tolist()\n",
    "legend_label_list = [\"Rainy day fund\", \"Total reserves and balances\"]\n",
    "rain_totbal_pct_dol_2022_cds = ColumnDataSource(rain_totbal_pct_dol_2022_sorted_df)\n",
    "\n",
    "min_pct = rain_totbal_pct_dol_2022_sorted_df['rain_pct'].min()\n",
    "max_pct = rain_totbal_pct_dol_2022_sorted_df['totbal_pct'].max()\n",
    "pct_buffer = 0.05\n",
    "\n",
    "fig2 = figure(title=fig2_title,\n",
    "              height=900,\n",
    "              width=550,\n",
    "              y_range=states,\n",
    "              x_axis_label='Percent of general fund expenditures',\n",
    "              x_range=(min_pct - pct_buffer * (max_pct - min_pct),\n",
    "                       max_pct + pct_buffer * (max_pct - min_pct)),\n",
    "              toolbar_location=None)\n",
    "\n",
    "# Turn off any pan, drag, or scrolling ability\n",
    "fig2.toolbar.active_drag = None\n",
    "fig2.toolbar.active_scroll = None\n",
    "fig2.toolbar.active_tap = None\n",
    "\n",
    "# Set title font size and axes font sizes\n",
    "fig2.title.text_font_size = '0pt'  # Hide title by setting font size to 0\n",
    "fig2.title.text_color = '#434244'\n",
    "fig2.xaxis.axis_label_text_font_size = '11pt'\n",
    "fig2.xaxis.major_label_text_font_size = '11pt'\n",
    "fig2.xaxis.major_label_text_color = '#434244'\n",
    "fig2.yaxis.axis_label_text_font_size = '9pt'\n",
    "fig2.yaxis.major_label_text_font_size = '9pt'\n",
    "fig2.yaxis.major_label_text_color = '#434244'\n",
    "\n",
    "# Modify tick intervals for X-axis and Y-axis\n",
    "fig2.xaxis.ticker = SingleIntervalTicker(interval=10, num_minor_ticks=5)\n",
    "fig2.xaxis.axis_line_color = '#434244'\n",
    "fig2.xaxis.major_tick_line_color = '#434244'\n",
    "fig2.xaxis.minor_tick_line_color = '#434244'\n",
    "fig2.xgrid.ticker = SingleIntervalTicker(interval=10)\n",
    "fig2.yaxis.axis_line_color = '#434244'\n",
    "fig2.yaxis.major_tick_line_color = '#434244'\n",
    "fig2.yaxis.minor_tick_line_color = '#434244'\n",
    "\n",
    "fig2.hbar_stack(\n",
    "    ['rain_pct', 'totbal_rain_pct_dif'], y='state', height=0.9,\n",
    "    color=['rain_color', 'totbal_color'],\n",
    "    source=rain_totbal_pct_dol_2022_cds, legend_label=legend_label_list\n",
    ")\n",
    "\n",
    "# Add information on hover\n",
    "tooltips = [('State', '@state'),\n",
    "            ('Rainy day fund % exps.','@rain_pct{0.0}' + '%'),\n",
    "            ('Total balances % exps.','@totbal_pct{0.0}' + '%'),\n",
    "           ]\n",
    "fig2.add_tools(HoverTool(tooltips=tooltips, toggleable=False))\n",
    "\n",
    "# Add legend\n",
    "fig2.legend.location = 'center_right'\n",
    "fig2.legend.border_line_width = 1\n",
    "fig2.legend.border_line_color = '#434244'\n",
    "fig2.legend.border_line_alpha = 1\n",
    "fig2.legend.label_text_font_size = '12pt'\n",
    "fig2.legend.label_text_color = '#434244'\n",
    "fig2.y_range.range_padding = 0.02\n",
    "\n",
    "# Add notes below image\n",
    "note_text_list2 = [\n",
    "    (\n",
    "        'Source: Pew Charitable Trusts, \"Fiscal 50: State Trends and'\n",
    "    ),\n",
    "    (\n",
    "        '        Analysis,\" December 16, 2022, accessed December 31, 2022.'\n",
    "    ),\n",
    "    (\n",
    "        'Note: For states in which the blue bar is not visible for total ' +\n",
    "        'balances'\n",
    "    ),\n",
    "    (\n",
    "        '         and reserves, the value equals the rainy day fund balance'\n",
    "    ),\n",
    "    (\n",
    "        '         percentage.'\n",
    "    )\n",
    "]\n",
    "for note_text in note_text_list2:\n",
    "    caption = Title(text=note_text, align='left', text_font_size='11pt',\n",
    "                    text_font_style='normal', text_color='#434244')\n",
    "    fig2.add_layout(caption, 'below')"
   ]
  },
  {
   "cell_type": "code",
   "execution_count": 10,
   "metadata": {},
   "outputs": [
    {
     "data": {
      "text/html": [
       "\n",
       "  <div class=\"bk-root\" id=\"5bbf0834-66c6-4f45-859e-992a233d5e57\" data-root-id=\"1938\"></div>\n"
      ]
     },
     "metadata": {},
     "output_type": "display_data"
    },
    {
     "data": {
      "application/javascript": "(function(root) {\n  function embed_document(root) {\n  const docs_json = {\"990f1821-5912-4a06-a8da-8b69e1f7ddf1\":{\"defs\":[],\"roots\":{\"references\":[{\"attributes\":{\"below\":[{\"id\":\"1949\"},{\"id\":\"2015\"},{\"id\":\"2016\"},{\"id\":\"2017\"},{\"id\":\"2018\"},{\"id\":\"2019\"}],\"center\":[{\"id\":\"1952\"},{\"id\":\"1955\"},{\"id\":\"1995\"}],\"height\":900,\"left\":[{\"id\":\"1953\"}],\"renderers\":[{\"id\":\"1984\"},{\"id\":\"2001\"}],\"title\":{\"id\":\"1939\"},\"toolbar\":{\"id\":\"1963\"},\"toolbar_location\":null,\"width\":550,\"x_range\":{\"id\":\"1941\"},\"x_scale\":{\"id\":\"1945\"},\"y_range\":{\"id\":\"1943\"},\"y_scale\":{\"id\":\"1947\"}},\"id\":\"1938\",\"subtype\":\"Figure\",\"type\":\"Plot\"},{\"attributes\":{\"axis\":{\"id\":\"1949\"},\"coordinates\":null,\"group\":null,\"ticker\":{\"id\":\"1975\"}},\"id\":\"1952\",\"type\":\"Grid\"},{\"attributes\":{\"axis\":{\"id\":\"1953\"},\"coordinates\":null,\"dimension\":1,\"group\":null,\"ticker\":null},\"id\":\"1955\",\"type\":\"Grid\"},{\"attributes\":{\"factors\":[\"Washington\",\"Illinois\",\"New York\",\"Montana\",\"Maryland\",\"Delaware\",\"Rhode Island\",\"Florida\",\"Kansas\",\"Louisiana\",\"Missouri\",\"Nevada\",\"Pennsylvania\",\"Arizona\",\"Tennessee\",\"Wisconsin\",\"Indiana\",\"Virginia\",\"New Jersey\",\"Mississippi\",\"Ohio\",\"Utah\",\"Iowa\",\"Michigan\",\"Kentucky\",\"South Carolina\",\"North Carolina\",\"Minnesota\",\"Maine\",\"Oregon\",\"Alabama\",\"Georgia\",\"South Dakota\",\"Massachusetts\",\"Texas\",\"Oklahoma\",\"New Hampshire\",\"Hawaii\",\"Vermont\",\"Arkansas\",\"Nebraska\",\"Idaho\",\"West Virginia\",\"Colorado\",\"California\",\"Connecticut\",\"New Mexico\",\"North Dakota\",\"Alaska\",\"Wyoming\"],\"range_padding\":0.02},\"id\":\"1943\",\"type\":\"FactorRange\"},{\"attributes\":{},\"id\":\"1947\",\"type\":\"CategoricalScale\"},{\"attributes\":{\"coordinates\":null,\"data_source\":{\"id\":\"1937\"},\"glyph\":{\"id\":\"1998\"},\"group\":null,\"hover_glyph\":null,\"muted_glyph\":{\"id\":\"2000\"},\"name\":\"totbal_rain_pct_dif\",\"nonselection_glyph\":{\"id\":\"1999\"},\"view\":{\"id\":\"2002\"}},\"id\":\"2001\",\"type\":\"GlyphRenderer\"},{\"attributes\":{\"axis_label\":\"Percent of general fund expenditures\",\"axis_label_text_font_size\":\"11pt\",\"axis_line_color\":\"#434244\",\"coordinates\":null,\"formatter\":{\"id\":\"1990\"},\"group\":null,\"major_label_policy\":{\"id\":\"1991\"},\"major_label_text_color\":\"#434244\",\"major_label_text_font_size\":\"11pt\",\"major_tick_line_color\":\"#434244\",\"minor_tick_line_color\":\"#434244\",\"ticker\":{\"id\":\"1973\"}},\"id\":\"1949\",\"type\":\"LinearAxis\"},{\"attributes\":{\"coordinates\":null,\"group\":null,\"text_color\":\"#434244\",\"text_font_size\":\"0pt\"},\"id\":\"1939\",\"type\":\"Title\"},{\"attributes\":{\"data\":{\"index\":[46,12,31,25,19,7,38,8,15,17,24,27,37,2,41,48,13,45,29,23,34,43,14,21,16,39,32,22,18,36,0,9,40,20,42,35,28,10,44,3,26,11,47,5,4,6,30,33,1,49],\"rain_color\":[\"#D5AB53\",\"#D5AB53\",\"#D5AB53\",\"#D5AB53\",\"#D5AB53\",\"#D5AB53\",\"#D5AB53\",\"#D5AB53\",\"#D5AB53\",\"#D5AB53\",\"#D5AB53\",\"#D5AB53\",\"#D5AB53\",\"#D5AB53\",\"#EED17E\",\"#D5AB53\",\"#D5AB53\",\"#D5AB53\",\"#D5AB53\",\"#D5AB53\",\"#D5AB53\",\"#D5AB53\",\"#D5AB53\",\"#D5AB53\",\"#D5AB53\",\"#D5AB53\",\"#D5AB53\",\"#D5AB53\",\"#D5AB53\",\"#D5AB53\",\"#D5AB53\",\"#D5AB53\",\"#D5AB53\",\"#D5AB53\",\"#D5AB53\",\"#D5AB53\",\"#D5AB53\",\"#D5AB53\",\"#D5AB53\",\"#D5AB53\",\"#D5AB53\",\"#D5AB53\",\"#D5AB53\",\"#D5AB53\",\"#D5AB53\",\"#D5AB53\",\"#D5AB53\",\"#D5AB53\",\"#D5AB53\",\"#D5AB53\"],\"rain_dol\":{\"__ndarray__\":\"zczMzMwUc0AAAAAAAMCCQAAAAAAALqpAAAAAAACAXUDAPGTK5yCSQM3MzMzMhHFA/DkF+Vmob0CamZmZmVOlQAAAAAAAwIJAPBIvT4eGhkAzMzMzMyOIQJqZmZmZQXVAAAAAAABkpkBmZmZmZp6OQAAAAAAAOJhAmpmZmZkHm0AAAAAAALCZQDMzMzMztKBAZmZmZmZvsUDNzMzMzGCBQH7H8NjvGKVAzczMzMwkkEBmZmZmZoaJQM3MzMzMxJZAmpmZmZmLl0BmZmZmZuaSQAAAAAAAWKhACtejcH17p0BmZmZmZr5/QM3qHW4X9phAMzMzMzPxlUBpqFFIxsCwQJqZmZmZMXNAkj1CzfgOt0AAAAAAgKTDQGZmZmZmcJJAzczMzMwccEDNzMzMzLKUQDMzMzMz83lAmpmZmZn/kUAAAAAAACyPQAAAAAAAmItAAAAAAACoj0CamZmZmW2rQAAAAADAHedAAAAAAIDXtUAAAAAAAPujQM3MzMzMfIdAZmZmZmasnkAAAAAAABiXQA==\",\"dtype\":\"float64\",\"order\":\"little\",\"shape\":[50]},\"rain_pct\":{\"__ndarray__\":\"wiPgxhw68j8SPHQwUZP1P8RjmkQYGg9AI98AjpiUEUD8HlCRnuUVQK9FZokpBBZAVw/zQL9CFkCkNJvHYWAZQA6qaAe3uBlAu4UJ/hKkHEByD64liSodQMgyDj9JQx1AgBlChG61HUDmOcclM9sdQPggulYxnyFAKYsMvKTrIUANT1Tb8g4iQIycKoR6QyJAuATgn1KBIkD7SADt/RwjQByO+F/4WiNAeE5ps6ACJEDJaZlWVB4kQH1jY7kAjyVAMUEN38I6J0AB/K5jt1YnQJiSm5d58SdAA0ddxqguKEDGbMmqCO8oQPanQ11acylAGLQ1x17UKkDLVT2qq7gtQCT6a2i5Mi5AvAELBRGSLkArm95qQh8vQK/mpQeqsy9ASLL9Gv8iMEAhs7PonfYwQKuegrLfoTNAGpmRi3uxM0ACgjl6/LY0QPzOigND5zRApDkNrD5sNUA/JDJiVWM2QD2f53llijZAV3/fGjNoO0DZ1NQNb5s7QMQQlDawuD5A7VtSWiSjRED8nqI0ZfJXQA==\",\"dtype\":\"float64\",\"order\":\"little\",\"shape\":[50]},\"state\":[\"Washington\",\"Illinois\",\"New York\",\"Montana\",\"Maryland\",\"Delaware\",\"Rhode Island\",\"Florida\",\"Kansas\",\"Louisiana\",\"Missouri\",\"Nevada\",\"Pennsylvania\",\"Arizona\",\"Tennessee\",\"Wisconsin\",\"Indiana\",\"Virginia\",\"New Jersey\",\"Mississippi\",\"Ohio\",\"Utah\",\"Iowa\",\"Michigan\",\"Kentucky\",\"South Carolina\",\"North Carolina\",\"Minnesota\",\"Maine\",\"Oregon\",\"Alabama\",\"Georgia\",\"South Dakota\",\"Massachusetts\",\"Texas\",\"Oklahoma\",\"New Hampshire\",\"Hawaii\",\"Vermont\",\"Arkansas\",\"Nebraska\",\"Idaho\",\"West Virginia\",\"Colorado\",\"California\",\"Connecticut\",\"New Mexico\",\"North Dakota\",\"Alaska\",\"Wyoming\"],\"totbal_color\":[\"#3477A5\",\"#3477A5\",\"#3477A5\",\"#3477A5\",\"#3477A5\",\"#3477A5\",\"#3477A5\",\"#3477A5\",\"#3477A5\",\"#3477A5\",\"#3477A5\",\"#3477A5\",\"#3477A5\",\"#3477A5\",\"#74AAC7\",\"#3477A5\",\"#3477A5\",\"#3477A5\",\"#3477A5\",\"#3477A5\",\"#3477A5\",\"#3477A5\",\"#3477A5\",\"#3477A5\",\"#3477A5\",\"#3477A5\",\"#3477A5\",\"#3477A5\",\"#3477A5\",\"#3477A5\",\"#3477A5\",\"#3477A5\",\"#3477A5\",\"#3477A5\",\"#3477A5\",\"#3477A5\",\"#3477A5\",\"#3477A5\",\"#3477A5\",\"#3477A5\",\"#3477A5\",\"#3477A5\",\"#3477A5\",\"#3477A5\",\"#3477A5\",\"#3477A5\",\"#3477A5\",\"#3477A5\",\"#3477A5\",\"#3477A5\"],\"totbal_dol\":{\"__ndarray__\":\"MzMzM7OxuEAAAAAAAHCXQAAAAABAzN1AJUwHoXJGiEAUrkfhOhSzQAAAAAAAvqFAHO+OjFVMeECamZmZ2WXLQJqZmZmZl5lAUrgehWu/oUCamZmZmRGuQGZmZmZmGo5AAAAAAIA0wkBmZmZmZiSnQAAAAAAA8rZAAAAAAADYsUAAAAAAgPSzQJqZmZkZnbBAzczMzExiuEDNzMzMzGCBQLgehesRTLVAAAAAAADSoEAzMzMzMx2fQM3MzMxMi7BAzczMzMxrqEDNzMzMzLCqQDMzMzOzZrVAPQrXo5DCwkDNzMzMzBCAQI/C9SicuLVAMzMzMzOPqUAAAAAAgOiwQJqZmZmZMXNAUrgehWsLuUAAAAAAAIfRQM3MzMzMYKpAzczMzMzMekBSuB6F6/+gQK5H4XoUxn5AMzMzMzMhlkBmZmZmZkaeQM3MzMzMJJFAmpmZmZlfmkCamZmZmW2rQDMzMzOjquhAAAAAAIDXtUAAAAAAACGmQAAAAAAAxJpAZmZmZmasnkAAAAAAABiXQA==\",\"dtype\":\"float64\",\"order\":\"little\",\"shape\":[50]},\"totbal_pct\":{\"__ndarray__\":\"caKnEq+WN0C9R0eDJfgKQKRNeoQ/s0FAUReETfjuPEBFVQIYhQs3QLJ/ngYMTEZAiJLa1fUVIUBn+XB/5ExAQLBdNSrLjTFAfPVMiuqQNkAkpvqEoipCQKJoeXmVuDRAsxB4u7knOECzlTxD3ZA2QKgck8X9sUBA23EeqRmpN0CWAndFlQ48QH4uZL84KjJAW77kNWXhKUD7SADt/RwjQEVdEDbhiTNAW/Spvk7ZNEDr4ctEEYY4QKjR9Y5kVD9A7tNMUvQXOED8YZUcwXpAQD73L1qRDDVAM6ZgjbNRQ0CnVZnO8zwpQC3DyUecJUZAo3HybKBAP0AR0NjyJf8tQCT6a2i5Mi5AchWL3xSaMEBX+yqvS8U7QPp7zoL1rEZAth86ThvXOkCpL0s7Nd07QDJPU3AdSDdAYPtuX6w2OEDFfNS6aB5EQF1uMNRh+TlATsBlBArZQUA/JDJiVWM2QB/8H7tmDThAV3/fGjNoO0DDmzV4X5M+QCqdWVwtgVFA7VtSWiSjRED8nqI0ZfJXQA==\",\"dtype\":\"float64\",\"order\":\"little\",\"shape\":[50]},\"totbal_rain_pct_dif\":{\"__ndarray__\":\"NaA5Rg1zNkC0KQ3rfC4AQNBOYQA8gz9AiN8DKtKJOECGTa5zHZIxQPy2cdWGi0NAciuE1VjSB0ClJfuMsEE6QFlmttA6PyZAGiiVlcvPLkBsyInAogo9QOC3a1OGzypAU4pnGl66MEBzjpXzIDQuQNQoyd9ilDhAjVgwlo5mLUAQ28zXGwczQHDAnfr2ECJAjOYSWEqADUAAAAAAAAAAAG4sKAzKuCNAPprqyfyvJUANWv4yzu0sQOofRDLkjDRAq2aMxSX1KED4RVOHJko1QORbxBypJyJA5KiStxKMOkBAOPrzyHrDP1+y8WCLkT9Al5dXCXHWMUCAkd4mkp7BPwAAAAAAAAAAQElZ0MUQ9T+DW3fzVGsoQJwEygEWgD1A3Np4ZjhoJUAQ+S6lLs0lQDiEhe7tMQ1AGIl1T8MUEkCId2/71IUzQIR9lkJ7SBRA8I18uaqLLEAAAAAAAAAAACDOhRMUMPg/AAAAAAAAAABQNwZTg78HQPIxaZ0CpkNAAAAAAAAAAAAAAAAAAAAAAA==\",\"dtype\":\"float64\",\"order\":\"little\",\"shape\":[50]}},\"selected\":{\"id\":\"1993\"},\"selection_policy\":{\"id\":\"1992\"}},\"id\":\"1937\",\"type\":\"ColumnDataSource\"},{\"attributes\":{\"fill_color\":{\"field\":\"totbal_color\"},\"hatch_color\":{\"field\":\"totbal_color\"},\"height\":{\"value\":0.9},\"left\":{\"expr\":{\"id\":\"1978\"}},\"line_color\":{\"field\":\"totbal_color\"},\"right\":{\"expr\":{\"id\":\"1979\"}},\"y\":{\"field\":\"state\"}},\"id\":\"1998\",\"type\":\"HBar\"},{\"attributes\":{\"coordinates\":null,\"group\":null,\"text\":\"Source: Pew Charitable Trusts, \\\"Fiscal 50: State Trends and\",\"text_color\":\"#434244\",\"text_font_size\":\"11pt\",\"text_font_style\":\"normal\"},\"id\":\"2015\",\"type\":\"Title\"},{\"attributes\":{\"fields\":[\"rain_pct\",\"totbal_rain_pct_dif\"]},\"id\":\"1979\",\"type\":\"Stack\"},{\"attributes\":{},\"id\":\"1954\",\"type\":\"CategoricalTicker\"},{\"attributes\":{\"interval\":10},\"id\":\"1973\",\"type\":\"SingleIntervalTicker\"},{\"attributes\":{\"fill_alpha\":{\"value\":0.1},\"fill_color\":{\"field\":\"totbal_color\"},\"hatch_alpha\":{\"value\":0.1},\"hatch_color\":{\"field\":\"totbal_color\"},\"height\":{\"value\":0.9},\"left\":{\"expr\":{\"id\":\"1978\"}},\"line_alpha\":{\"value\":0.1},\"line_color\":{\"field\":\"totbal_color\"},\"right\":{\"expr\":{\"id\":\"1979\"}},\"y\":{\"field\":\"state\"}},\"id\":\"1999\",\"type\":\"HBar\"},{\"attributes\":{\"coordinates\":null,\"data_source\":{\"id\":\"1937\"},\"glyph\":{\"id\":\"1981\"},\"group\":null,\"hover_glyph\":null,\"muted_glyph\":{\"id\":\"1983\"},\"name\":\"rain_pct\",\"nonselection_glyph\":{\"id\":\"1982\"},\"view\":{\"id\":\"1985\"}},\"id\":\"1984\",\"type\":\"GlyphRenderer\"},{\"attributes\":{\"coordinates\":null,\"group\":null,\"text\":\"        Analysis,\\\" December 16, 2022, accessed December 31, 2022.\",\"text_color\":\"#434244\",\"text_font_size\":\"11pt\",\"text_font_style\":\"normal\"},\"id\":\"2016\",\"type\":\"Title\"},{\"attributes\":{\"fill_color\":{\"field\":\"rain_color\"},\"hatch_color\":{\"field\":\"rain_color\"},\"height\":{\"value\":0.9},\"left\":{\"expr\":{\"id\":\"1976\"}},\"line_color\":{\"field\":\"rain_color\"},\"right\":{\"expr\":{\"id\":\"1977\"}},\"y\":{\"field\":\"state\"}},\"id\":\"1981\",\"type\":\"HBar\"},{\"attributes\":{\"fill_alpha\":{\"value\":0.2},\"fill_color\":{\"field\":\"totbal_color\"},\"hatch_alpha\":{\"value\":0.2},\"hatch_color\":{\"field\":\"totbal_color\"},\"height\":{\"value\":0.9},\"left\":{\"expr\":{\"id\":\"1978\"}},\"line_alpha\":{\"value\":0.2},\"line_color\":{\"field\":\"totbal_color\"},\"right\":{\"expr\":{\"id\":\"1979\"}},\"y\":{\"field\":\"state\"}},\"id\":\"2000\",\"type\":\"HBar\"},{\"attributes\":{\"coordinates\":null,\"group\":null,\"text\":\"Note: For states in which the blue bar is not visible for total balances\",\"text_color\":\"#434244\",\"text_font_size\":\"11pt\",\"text_font_style\":\"normal\"},\"id\":\"2017\",\"type\":\"Title\"},{\"attributes\":{},\"id\":\"1960\",\"type\":\"ResetTool\"},{\"attributes\":{},\"id\":\"1988\",\"type\":\"CategoricalTickFormatter\"},{\"attributes\":{\"coordinates\":null,\"group\":null,\"text\":\"         and reserves, the value equals the rainy day fund balance\",\"text_color\":\"#434244\",\"text_font_size\":\"11pt\",\"text_font_style\":\"normal\"},\"id\":\"2018\",\"type\":\"Title\"},{\"attributes\":{\"fields\":[]},\"id\":\"1976\",\"type\":\"Stack\"},{\"attributes\":{\"bottom_units\":\"screen\",\"coordinates\":null,\"fill_alpha\":0.5,\"fill_color\":\"lightgrey\",\"group\":null,\"left_units\":\"screen\",\"level\":\"overlay\",\"line_alpha\":1.0,\"line_color\":\"black\",\"line_dash\":[4,4],\"line_width\":2,\"right_units\":\"screen\",\"syncable\":false,\"top_units\":\"screen\"},\"id\":\"1962\",\"type\":\"BoxAnnotation\"},{\"attributes\":{\"coordinates\":null,\"group\":null,\"text\":\"         percentage.\",\"text_color\":\"#434244\",\"text_font_size\":\"11pt\",\"text_font_style\":\"normal\"},\"id\":\"2019\",\"type\":\"Title\"},{\"attributes\":{},\"id\":\"1989\",\"type\":\"AllLabels\"},{\"attributes\":{\"fill_alpha\":{\"value\":0.2},\"fill_color\":{\"field\":\"rain_color\"},\"hatch_alpha\":{\"value\":0.2},\"hatch_color\":{\"field\":\"rain_color\"},\"height\":{\"value\":0.9},\"left\":{\"expr\":{\"id\":\"1976\"}},\"line_alpha\":{\"value\":0.2},\"line_color\":{\"field\":\"rain_color\"},\"right\":{\"expr\":{\"id\":\"1977\"}},\"y\":{\"field\":\"state\"}},\"id\":\"1983\",\"type\":\"HBar\"},{\"attributes\":{\"end\":100.51983907500001,\"start\":-3.5932243750000006},\"id\":\"1941\",\"type\":\"Range1d\"},{\"attributes\":{\"axis_label_text_font_size\":\"9pt\",\"axis_line_color\":\"#434244\",\"coordinates\":null,\"formatter\":{\"id\":\"1988\"},\"group\":null,\"major_label_policy\":{\"id\":\"1989\"},\"major_label_text_color\":\"#434244\",\"major_label_text_font_size\":\"9pt\",\"major_tick_line_color\":\"#434244\",\"minor_tick_line_color\":\"#434244\",\"ticker\":{\"id\":\"1954\"}},\"id\":\"1953\",\"type\":\"CategoricalAxis\"},{\"attributes\":{},\"id\":\"1990\",\"type\":\"BasicTickFormatter\"},{\"attributes\":{\"source\":{\"id\":\"1937\"}},\"id\":\"2002\",\"type\":\"CDSView\"},{\"attributes\":{\"label\":{\"value\":\"Total reserves and balances\"},\"renderers\":[{\"id\":\"2001\"}]},\"id\":\"2012\",\"type\":\"LegendItem\"},{\"attributes\":{\"border_line_alpha\":1,\"border_line_color\":\"#434244\",\"coordinates\":null,\"group\":null,\"items\":[{\"id\":\"1996\"},{\"id\":\"2012\"}],\"label_text_color\":\"#434244\",\"label_text_font_size\":\"12pt\",\"location\":\"center_right\"},\"id\":\"1995\",\"type\":\"Legend\"},{\"attributes\":{},\"id\":\"1991\",\"type\":\"AllLabels\"},{\"attributes\":{\"source\":{\"id\":\"1937\"}},\"id\":\"1985\",\"type\":\"CDSView\"},{\"attributes\":{\"fields\":[\"rain_pct\"]},\"id\":\"1977\",\"type\":\"Stack\"},{\"attributes\":{},\"id\":\"1956\",\"type\":\"PanTool\"},{\"attributes\":{\"callback\":null,\"toggleable\":false,\"tooltips\":[[\"State\",\"@state\"],[\"Rainy day fund % exps.\",\"@rain_pct{0.0}%\"],[\"Total balances % exps.\",\"@totbal_pct{0.0}%\"]]},\"id\":\"2013\",\"type\":\"HoverTool\"},{\"attributes\":{},\"id\":\"1957\",\"type\":\"WheelZoomTool\"},{\"attributes\":{},\"id\":\"1992\",\"type\":\"UnionRenderers\"},{\"attributes\":{},\"id\":\"1961\",\"type\":\"HelpTool\"},{\"attributes\":{},\"id\":\"1959\",\"type\":\"SaveTool\"},{\"attributes\":{},\"id\":\"1993\",\"type\":\"Selection\"},{\"attributes\":{\"fields\":[\"rain_pct\"]},\"id\":\"1978\",\"type\":\"Stack\"},{\"attributes\":{},\"id\":\"1945\",\"type\":\"LinearScale\"},{\"attributes\":{\"label\":{\"value\":\"Rainy day fund\"},\"renderers\":[{\"id\":\"1984\"}]},\"id\":\"1996\",\"type\":\"LegendItem\"},{\"attributes\":{\"active_drag\":null,\"active_scroll\":null,\"active_tap\":null,\"tools\":[{\"id\":\"1956\"},{\"id\":\"1957\"},{\"id\":\"1958\"},{\"id\":\"1959\"},{\"id\":\"1960\"},{\"id\":\"1961\"},{\"id\":\"2013\"}]},\"id\":\"1963\",\"type\":\"Toolbar\"},{\"attributes\":{\"fill_alpha\":{\"value\":0.1},\"fill_color\":{\"field\":\"rain_color\"},\"hatch_alpha\":{\"value\":0.1},\"hatch_color\":{\"field\":\"rain_color\"},\"height\":{\"value\":0.9},\"left\":{\"expr\":{\"id\":\"1976\"}},\"line_alpha\":{\"value\":0.1},\"line_color\":{\"field\":\"rain_color\"},\"right\":{\"expr\":{\"id\":\"1977\"}},\"y\":{\"field\":\"state\"}},\"id\":\"1982\",\"type\":\"HBar\"},{\"attributes\":{\"interval\":10},\"id\":\"1975\",\"type\":\"SingleIntervalTicker\"},{\"attributes\":{\"overlay\":{\"id\":\"1962\"}},\"id\":\"1958\",\"type\":\"BoxZoomTool\"}],\"root_ids\":[\"1938\"]},\"title\":\"Bokeh Application\",\"version\":\"2.4.3\"}};\n  const render_items = [{\"docid\":\"990f1821-5912-4a06-a8da-8b69e1f7ddf1\",\"root_ids\":[\"1938\"],\"roots\":{\"1938\":\"5bbf0834-66c6-4f45-859e-992a233d5e57\"}}];\n  root.Bokeh.embed.embed_items_notebook(docs_json, render_items);\n  }\n  if (root.Bokeh !== undefined) {\n    embed_document(root);\n  } else {\n    let attempts = 0;\n    const timer = setInterval(function(root) {\n      if (root.Bokeh !== undefined) {\n        clearInterval(timer);\n        embed_document(root);\n      } else {\n        attempts++;\n        if (attempts > 100) {\n          clearInterval(timer);\n          console.log(\"Bokeh: ERROR: Unable to run BokehJS code because BokehJS library is missing\");\n        }\n      }\n    }, 10, root)\n  }\n})(window);",
      "application/vnd.bokehjs_exec.v0+json": ""
     },
     "metadata": {
      "application/vnd.bokehjs_exec.v0+json": {
       "id": "1938"
      }
     },
     "output_type": "display_data"
    }
   ],
   "source": [
    "show(fig2)"
   ]
  },
  {
   "cell_type": "markdown",
   "metadata": {},
   "source": [
    "### Create Figure 2 without the source text underneath (for web publication) "
   ]
  },
  {
   "cell_type": "code",
   "execution_count": 11,
   "metadata": {},
   "outputs": [
    {
     "data": {
      "text/html": [
       "<div class=\"bk-root\">\n",
       "        <a href=\"https://bokeh.org\" target=\"_blank\" class=\"bk-logo bk-logo-small bk-logo-notebook\"></a>\n",
       "        <span id=\"2233\">Loading BokehJS ...</span>\n",
       "    </div>\n"
      ]
     },
     "metadata": {},
     "output_type": "display_data"
    },
    {
     "data": {
      "application/javascript": "(function(root) {\n  function now() {\n    return new Date();\n  }\n\n  const force = true;\n\n  if (typeof root._bokeh_onload_callbacks === \"undefined\" || force === true) {\n    root._bokeh_onload_callbacks = [];\n    root._bokeh_is_loading = undefined;\n  }\n\nconst JS_MIME_TYPE = 'application/javascript';\n  const HTML_MIME_TYPE = 'text/html';\n  const EXEC_MIME_TYPE = 'application/vnd.bokehjs_exec.v0+json';\n  const CLASS_NAME = 'output_bokeh rendered_html';\n\n  /**\n   * Render data to the DOM node\n   */\n  function render(props, node) {\n    const script = document.createElement(\"script\");\n    node.appendChild(script);\n  }\n\n  /**\n   * Handle when an output is cleared or removed\n   */\n  function handleClearOutput(event, handle) {\n    const cell = handle.cell;\n\n    const id = cell.output_area._bokeh_element_id;\n    const server_id = cell.output_area._bokeh_server_id;\n    // Clean up Bokeh references\n    if (id != null && id in Bokeh.index) {\n      Bokeh.index[id].model.document.clear();\n      delete Bokeh.index[id];\n    }\n\n    if (server_id !== undefined) {\n      // Clean up Bokeh references\n      const cmd_clean = \"from bokeh.io.state import curstate; print(curstate().uuid_to_server['\" + server_id + \"'].get_sessions()[0].document.roots[0]._id)\";\n      cell.notebook.kernel.execute(cmd_clean, {\n        iopub: {\n          output: function(msg) {\n            const id = msg.content.text.trim();\n            if (id in Bokeh.index) {\n              Bokeh.index[id].model.document.clear();\n              delete Bokeh.index[id];\n            }\n          }\n        }\n      });\n      // Destroy server and session\n      const cmd_destroy = \"import bokeh.io.notebook as ion; ion.destroy_server('\" + server_id + \"')\";\n      cell.notebook.kernel.execute(cmd_destroy);\n    }\n  }\n\n  /**\n   * Handle when a new output is added\n   */\n  function handleAddOutput(event, handle) {\n    const output_area = handle.output_area;\n    const output = handle.output;\n\n    // limit handleAddOutput to display_data with EXEC_MIME_TYPE content only\n    if ((output.output_type != \"display_data\") || (!Object.prototype.hasOwnProperty.call(output.data, EXEC_MIME_TYPE))) {\n      return\n    }\n\n    const toinsert = output_area.element.find(\".\" + CLASS_NAME.split(' ')[0]);\n\n    if (output.metadata[EXEC_MIME_TYPE][\"id\"] !== undefined) {\n      toinsert[toinsert.length - 1].firstChild.textContent = output.data[JS_MIME_TYPE];\n      // store reference to embed id on output_area\n      output_area._bokeh_element_id = output.metadata[EXEC_MIME_TYPE][\"id\"];\n    }\n    if (output.metadata[EXEC_MIME_TYPE][\"server_id\"] !== undefined) {\n      const bk_div = document.createElement(\"div\");\n      bk_div.innerHTML = output.data[HTML_MIME_TYPE];\n      const script_attrs = bk_div.children[0].attributes;\n      for (let i = 0; i < script_attrs.length; i++) {\n        toinsert[toinsert.length - 1].firstChild.setAttribute(script_attrs[i].name, script_attrs[i].value);\n        toinsert[toinsert.length - 1].firstChild.textContent = bk_div.children[0].textContent\n      }\n      // store reference to server id on output_area\n      output_area._bokeh_server_id = output.metadata[EXEC_MIME_TYPE][\"server_id\"];\n    }\n  }\n\n  function register_renderer(events, OutputArea) {\n\n    function append_mime(data, metadata, element) {\n      // create a DOM node to render to\n      const toinsert = this.create_output_subarea(\n        metadata,\n        CLASS_NAME,\n        EXEC_MIME_TYPE\n      );\n      this.keyboard_manager.register_events(toinsert);\n      // Render to node\n      const props = {data: data, metadata: metadata[EXEC_MIME_TYPE]};\n      render(props, toinsert[toinsert.length - 1]);\n      element.append(toinsert);\n      return toinsert\n    }\n\n    /* Handle when an output is cleared or removed */\n    events.on('clear_output.CodeCell', handleClearOutput);\n    events.on('delete.Cell', handleClearOutput);\n\n    /* Handle when a new output is added */\n    events.on('output_added.OutputArea', handleAddOutput);\n\n    /**\n     * Register the mime type and append_mime function with output_area\n     */\n    OutputArea.prototype.register_mime_type(EXEC_MIME_TYPE, append_mime, {\n      /* Is output safe? */\n      safe: true,\n      /* Index of renderer in `output_area.display_order` */\n      index: 0\n    });\n  }\n\n  // register the mime type if in Jupyter Notebook environment and previously unregistered\n  if (root.Jupyter !== undefined) {\n    const events = require('base/js/events');\n    const OutputArea = require('notebook/js/outputarea').OutputArea;\n\n    if (OutputArea.prototype.mime_types().indexOf(EXEC_MIME_TYPE) == -1) {\n      register_renderer(events, OutputArea);\n    }\n  }\n  if (typeof (root._bokeh_timeout) === \"undefined\" || force === true) {\n    root._bokeh_timeout = Date.now() + 5000;\n    root._bokeh_failed_load = false;\n  }\n\n  const NB_LOAD_WARNING = {'data': {'text/html':\n     \"<div style='background-color: #fdd'>\\n\"+\n     \"<p>\\n\"+\n     \"BokehJS does not appear to have successfully loaded. If loading BokehJS from CDN, this \\n\"+\n     \"may be due to a slow or bad network connection. Possible fixes:\\n\"+\n     \"</p>\\n\"+\n     \"<ul>\\n\"+\n     \"<li>re-rerun `output_notebook()` to attempt to load from CDN again, or</li>\\n\"+\n     \"<li>use INLINE resources instead, as so:</li>\\n\"+\n     \"</ul>\\n\"+\n     \"<code>\\n\"+\n     \"from bokeh.resources import INLINE\\n\"+\n     \"output_notebook(resources=INLINE)\\n\"+\n     \"</code>\\n\"+\n     \"</div>\"}};\n\n  function display_loaded() {\n    const el = document.getElementById(\"2233\");\n    if (el != null) {\n      el.textContent = \"BokehJS is loading...\";\n    }\n    if (root.Bokeh !== undefined) {\n      if (el != null) {\n        el.textContent = \"BokehJS \" + root.Bokeh.version + \" successfully loaded.\";\n      }\n    } else if (Date.now() < root._bokeh_timeout) {\n      setTimeout(display_loaded, 100)\n    }\n  }\n\n  function run_callbacks() {\n    try {\n      root._bokeh_onload_callbacks.forEach(function(callback) {\n        if (callback != null)\n          callback();\n      });\n    } finally {\n      delete root._bokeh_onload_callbacks\n    }\n    console.debug(\"Bokeh: all callbacks have finished\");\n  }\n\n  function load_libs(css_urls, js_urls, callback) {\n    if (css_urls == null) css_urls = [];\n    if (js_urls == null) js_urls = [];\n\n    root._bokeh_onload_callbacks.push(callback);\n    if (root._bokeh_is_loading > 0) {\n      console.debug(\"Bokeh: BokehJS is being loaded, scheduling callback at\", now());\n      return null;\n    }\n    if (js_urls == null || js_urls.length === 0) {\n      run_callbacks();\n      return null;\n    }\n    console.debug(\"Bokeh: BokehJS not loaded, scheduling load and callback at\", now());\n    root._bokeh_is_loading = css_urls.length + js_urls.length;\n\n    function on_load() {\n      root._bokeh_is_loading--;\n      if (root._bokeh_is_loading === 0) {\n        console.debug(\"Bokeh: all BokehJS libraries/stylesheets loaded\");\n        run_callbacks()\n      }\n    }\n\n    function on_error(url) {\n      console.error(\"failed to load \" + url);\n    }\n\n    for (let i = 0; i < css_urls.length; i++) {\n      const url = css_urls[i];\n      const element = document.createElement(\"link\");\n      element.onload = on_load;\n      element.onerror = on_error.bind(null, url);\n      element.rel = \"stylesheet\";\n      element.type = \"text/css\";\n      element.href = url;\n      console.debug(\"Bokeh: injecting link tag for BokehJS stylesheet: \", url);\n      document.body.appendChild(element);\n    }\n\n    for (let i = 0; i < js_urls.length; i++) {\n      const url = js_urls[i];\n      const element = document.createElement('script');\n      element.onload = on_load;\n      element.onerror = on_error.bind(null, url);\n      element.async = false;\n      element.src = url;\n      console.debug(\"Bokeh: injecting script tag for BokehJS library: \", url);\n      document.head.appendChild(element);\n    }\n  };\n\n  function inject_raw_css(css) {\n    const element = document.createElement(\"style\");\n    element.appendChild(document.createTextNode(css));\n    document.body.appendChild(element);\n  }\n\n  const js_urls = [\"https://cdn.bokeh.org/bokeh/release/bokeh-2.4.3.min.js\", \"https://cdn.bokeh.org/bokeh/release/bokeh-gl-2.4.3.min.js\", \"https://cdn.bokeh.org/bokeh/release/bokeh-widgets-2.4.3.min.js\", \"https://cdn.bokeh.org/bokeh/release/bokeh-tables-2.4.3.min.js\", \"https://cdn.bokeh.org/bokeh/release/bokeh-mathjax-2.4.3.min.js\"];\n  const css_urls = [];\n\n  const inline_js = [    function(Bokeh) {\n      Bokeh.set_log_level(\"info\");\n    },\nfunction(Bokeh) {\n    }\n  ];\n\n  function run_inline_js() {\n    if (root.Bokeh !== undefined || force === true) {\n          for (let i = 0; i < inline_js.length; i++) {\n      inline_js[i].call(root, root.Bokeh);\n    }\nif (force === true) {\n        display_loaded();\n      }} else if (Date.now() < root._bokeh_timeout) {\n      setTimeout(run_inline_js, 100);\n    } else if (!root._bokeh_failed_load) {\n      console.log(\"Bokeh: BokehJS failed to load within specified timeout.\");\n      root._bokeh_failed_load = true;\n    } else if (force !== true) {\n      const cell = $(document.getElementById(\"2233\")).parents('.cell').data().cell;\n      cell.output_area.append_execute_result(NB_LOAD_WARNING)\n    }\n  }\n\n  if (root._bokeh_is_loading === 0) {\n    console.debug(\"Bokeh: BokehJS loaded, going straight to plotting\");\n    run_inline_js();\n  } else {\n    load_libs(css_urls, js_urls, function() {\n      console.debug(\"Bokeh: BokehJS plotting callback run at\", now());\n      run_inline_js();\n    });\n  }\n}(window));",
      "application/vnd.bokehjs_load.v0+json": ""
     },
     "metadata": {},
     "output_type": "display_data"
    }
   ],
   "source": [
    "output_file(\"images/rain_totbal_pct_2022_nosubtxt.html\", title=fig2_title, mode='inline')\n",
    "output_notebook()\n",
    "\n",
    "states = rain_totbal_pct_dol_2022_sorted_df['state'].tolist()\n",
    "legend_label_list = [\"Rainy day fund\", \"Total reserves and balances\"]\n",
    "rain_totbal_pct_dol_2022_cds = ColumnDataSource(rain_totbal_pct_dol_2022_sorted_df)\n",
    "\n",
    "min_pct = rain_totbal_pct_dol_2022_sorted_df['rain_pct'].min()\n",
    "max_pct = rain_totbal_pct_dol_2022_sorted_df['totbal_pct'].max()\n",
    "pct_buffer = 0.05\n",
    "\n",
    "fig2_nosubtxt = figure(title=fig2_title,\n",
    "                       height=900,\n",
    "                       width=550,\n",
    "                       y_range=states,\n",
    "                       x_axis_label='Percent of general fund expenditures',\n",
    "                       x_range=(min_pct - pct_buffer * (max_pct - min_pct),\n",
    "                                max_pct + pct_buffer * (max_pct - min_pct)),\n",
    "                       toolbar_location=None)\n",
    "\n",
    "# Turn off any pan, drag, or scrolling ability\n",
    "fig2_nosubtxt.toolbar.active_drag = None\n",
    "fig2_nosubtxt.toolbar.active_scroll = None\n",
    "fig2_nosubtxt.toolbar.active_tap = None\n",
    "\n",
    "fig2.toolbar.active_drag = None\n",
    "fig2.toolbar.active_scroll = None\n",
    "fig2.toolbar.active_tap = None\n",
    "\n",
    "# Set title font size and axes font sizes\n",
    "fig2_nosubtxt.title.text_font_size = '0pt'  # Hide title by setting font size to 0\n",
    "fig2_nosubtxt.title.text_color = '#434244'\n",
    "fig2_nosubtxt.xaxis.axis_label_text_font_size = '11pt'\n",
    "fig2_nosubtxt.xaxis.major_label_text_font_size = '11pt'\n",
    "fig2_nosubtxt.xaxis.major_label_text_color = '#434244'\n",
    "fig2_nosubtxt.yaxis.axis_label_text_font_size = '9pt'\n",
    "fig2_nosubtxt.yaxis.major_label_text_font_size = '9pt'\n",
    "fig2_nosubtxt.yaxis.major_label_text_color = '#434244'\n",
    "\n",
    "# Modify tick intervals for X-axis and Y-axis\n",
    "fig2_nosubtxt.xaxis.ticker = SingleIntervalTicker(interval=10, num_minor_ticks=5)\n",
    "fig2_nosubtxt.xaxis.axis_line_color = '#434244'\n",
    "fig2_nosubtxt.xaxis.major_tick_line_color = '#434244'\n",
    "fig2_nosubtxt.xaxis.minor_tick_line_color = '#434244'\n",
    "fig2_nosubtxt.xgrid.ticker = SingleIntervalTicker(interval=10)\n",
    "fig2_nosubtxt.yaxis.axis_line_color = '#434244'\n",
    "fig2_nosubtxt.yaxis.major_tick_line_color = '#434244'\n",
    "fig2_nosubtxt.yaxis.minor_tick_line_color = '#434244'\n",
    "\n",
    "fig2_nosubtxt.hbar_stack(\n",
    "    ['rain_pct', 'totbal_rain_pct_dif'], y='state', height=0.9,\n",
    "    color=['rain_color', 'totbal_color'],\n",
    "    source=rain_totbal_pct_dol_2022_cds, legend_label=legend_label_list\n",
    ")\n",
    "\n",
    "# Add information on hover\n",
    "tooltips = [('State', '@state'),\n",
    "            ('Rainy day fund % exps.','@rain_pct{0.0}' + '%'),\n",
    "            ('Total balances % exps.','@totbal_pct{0.0}' + '%'),\n",
    "           ]\n",
    "fig2_nosubtxt.add_tools(HoverTool(tooltips=tooltips, toggleable=False))\n",
    "\n",
    "# Add legend\n",
    "fig2_nosubtxt.legend.location = 'center_right'\n",
    "fig2_nosubtxt.legend.border_line_width = 1\n",
    "fig2_nosubtxt.legend.border_line_color = '#434244'\n",
    "fig2_nosubtxt.legend.border_line_alpha = 1\n",
    "fig2_nosubtxt.legend.label_text_font_size = '12pt'\n",
    "fig2_nosubtxt.legend.label_text_color = '#434244'\n",
    "fig2_nosubtxt.y_range.range_padding = 0.02\n",
    "\n",
    "# # Add notes below image\n",
    "# for note_text in note_text_list2:\n",
    "#     caption = Title(text=note_text, align='left', text_font_size='11pt',\n",
    "#                     text_font_style='normal', text_color='#434244')\n",
    "#     fig2_nosubtxt.add_layout(caption, 'below')"
   ]
  },
  {
   "cell_type": "code",
   "execution_count": 12,
   "metadata": {},
   "outputs": [
    {
     "data": {
      "text/html": [
       "\n",
       "  <div class=\"bk-root\" id=\"6b5813d6-7faa-4a5a-a2e3-d2e79a723b60\" data-root-id=\"2235\"></div>\n"
      ]
     },
     "metadata": {},
     "output_type": "display_data"
    },
    {
     "data": {
      "application/javascript": "(function(root) {\n  function embed_document(root) {\n  const docs_json = {\"e4d00325-64df-41d4-b6ba-463f033c4dbc\":{\"defs\":[],\"roots\":{\"references\":[{\"attributes\":{\"below\":[{\"id\":\"2246\"}],\"center\":[{\"id\":\"2249\"},{\"id\":\"2252\"},{\"id\":\"2295\"}],\"height\":900,\"left\":[{\"id\":\"2250\"}],\"renderers\":[{\"id\":\"2284\"},{\"id\":\"2301\"}],\"title\":{\"id\":\"2236\"},\"toolbar\":{\"id\":\"2260\"},\"toolbar_location\":null,\"width\":550,\"x_range\":{\"id\":\"2238\"},\"x_scale\":{\"id\":\"2242\"},\"y_range\":{\"id\":\"2240\"},\"y_scale\":{\"id\":\"2244\"}},\"id\":\"2235\",\"subtype\":\"Figure\",\"type\":\"Plot\"},{\"attributes\":{\"active_drag\":null,\"active_scroll\":null,\"active_tap\":null,\"tools\":[{\"id\":\"2253\"},{\"id\":\"2254\"},{\"id\":\"2255\"},{\"id\":\"2256\"},{\"id\":\"2257\"},{\"id\":\"2258\"},{\"id\":\"2313\"}]},\"id\":\"2260\",\"type\":\"Toolbar\"},{\"attributes\":{\"fields\":[\"rain_pct\",\"totbal_rain_pct_dif\"]},\"id\":\"2279\",\"type\":\"Stack\"},{\"attributes\":{},\"id\":\"2288\",\"type\":\"CategoricalTickFormatter\"},{\"attributes\":{\"source\":{\"id\":\"2234\"}},\"id\":\"2285\",\"type\":\"CDSView\"},{\"attributes\":{\"label\":{\"value\":\"Total reserves and balances\"},\"renderers\":[{\"id\":\"2301\"}]},\"id\":\"2312\",\"type\":\"LegendItem\"},{\"attributes\":{\"label\":{\"value\":\"Rainy day fund\"},\"renderers\":[{\"id\":\"2284\"}]},\"id\":\"2296\",\"type\":\"LegendItem\"},{\"attributes\":{\"interval\":10},\"id\":\"2273\",\"type\":\"SingleIntervalTicker\"},{\"attributes\":{\"coordinates\":null,\"data_source\":{\"id\":\"2234\"},\"glyph\":{\"id\":\"2281\"},\"group\":null,\"hover_glyph\":null,\"muted_glyph\":{\"id\":\"2283\"},\"name\":\"rain_pct\",\"nonselection_glyph\":{\"id\":\"2282\"},\"view\":{\"id\":\"2285\"}},\"id\":\"2284\",\"type\":\"GlyphRenderer\"},{\"attributes\":{\"source\":{\"id\":\"2234\"}},\"id\":\"2302\",\"type\":\"CDSView\"},{\"attributes\":{\"callback\":null,\"toggleable\":false,\"tooltips\":[[\"State\",\"@state\"],[\"Rainy day fund % exps.\",\"@rain_pct{0.0}%\"],[\"Total balances % exps.\",\"@totbal_pct{0.0}%\"]]},\"id\":\"2313\",\"type\":\"HoverTool\"},{\"attributes\":{\"coordinates\":null,\"data_source\":{\"id\":\"2234\"},\"glyph\":{\"id\":\"2298\"},\"group\":null,\"hover_glyph\":null,\"muted_glyph\":{\"id\":\"2300\"},\"name\":\"totbal_rain_pct_dif\",\"nonselection_glyph\":{\"id\":\"2299\"},\"view\":{\"id\":\"2302\"}},\"id\":\"2301\",\"type\":\"GlyphRenderer\"},{\"attributes\":{\"fill_alpha\":{\"value\":0.1},\"fill_color\":{\"field\":\"rain_color\"},\"hatch_alpha\":{\"value\":0.1},\"hatch_color\":{\"field\":\"rain_color\"},\"height\":{\"value\":0.9},\"left\":{\"expr\":{\"id\":\"2276\"}},\"line_alpha\":{\"value\":0.1},\"line_color\":{\"field\":\"rain_color\"},\"right\":{\"expr\":{\"id\":\"2277\"}},\"y\":{\"field\":\"state\"}},\"id\":\"2282\",\"type\":\"HBar\"},{\"attributes\":{},\"id\":\"2293\",\"type\":\"Selection\"},{\"attributes\":{\"fields\":[]},\"id\":\"2276\",\"type\":\"Stack\"},{\"attributes\":{\"bottom_units\":\"screen\",\"coordinates\":null,\"fill_alpha\":0.5,\"fill_color\":\"lightgrey\",\"group\":null,\"left_units\":\"screen\",\"level\":\"overlay\",\"line_alpha\":1.0,\"line_color\":\"black\",\"line_dash\":[4,4],\"line_width\":2,\"right_units\":\"screen\",\"syncable\":false,\"top_units\":\"screen\"},\"id\":\"2259\",\"type\":\"BoxAnnotation\"},{\"attributes\":{\"fill_alpha\":{\"value\":0.1},\"fill_color\":{\"field\":\"totbal_color\"},\"hatch_alpha\":{\"value\":0.1},\"hatch_color\":{\"field\":\"totbal_color\"},\"height\":{\"value\":0.9},\"left\":{\"expr\":{\"id\":\"2278\"}},\"line_alpha\":{\"value\":0.1},\"line_color\":{\"field\":\"totbal_color\"},\"right\":{\"expr\":{\"id\":\"2279\"}},\"y\":{\"field\":\"state\"}},\"id\":\"2299\",\"type\":\"HBar\"},{\"attributes\":{},\"id\":\"2256\",\"type\":\"SaveTool\"},{\"attributes\":{},\"id\":\"2289\",\"type\":\"AllLabels\"},{\"attributes\":{},\"id\":\"2253\",\"type\":\"PanTool\"},{\"attributes\":{\"fill_color\":{\"field\":\"rain_color\"},\"hatch_color\":{\"field\":\"rain_color\"},\"height\":{\"value\":0.9},\"left\":{\"expr\":{\"id\":\"2276\"}},\"line_color\":{\"field\":\"rain_color\"},\"right\":{\"expr\":{\"id\":\"2277\"}},\"y\":{\"field\":\"state\"}},\"id\":\"2281\",\"type\":\"HBar\"},{\"attributes\":{},\"id\":\"2257\",\"type\":\"ResetTool\"},{\"attributes\":{},\"id\":\"2290\",\"type\":\"BasicTickFormatter\"},{\"attributes\":{\"overlay\":{\"id\":\"2259\"}},\"id\":\"2255\",\"type\":\"BoxZoomTool\"},{\"attributes\":{\"fields\":[\"rain_pct\"]},\"id\":\"2278\",\"type\":\"Stack\"},{\"attributes\":{\"interval\":10},\"id\":\"2275\",\"type\":\"SingleIntervalTicker\"},{\"attributes\":{\"fill_alpha\":{\"value\":0.2},\"fill_color\":{\"field\":\"totbal_color\"},\"hatch_alpha\":{\"value\":0.2},\"hatch_color\":{\"field\":\"totbal_color\"},\"height\":{\"value\":0.9},\"left\":{\"expr\":{\"id\":\"2278\"}},\"line_alpha\":{\"value\":0.2},\"line_color\":{\"field\":\"totbal_color\"},\"right\":{\"expr\":{\"id\":\"2279\"}},\"y\":{\"field\":\"state\"}},\"id\":\"2300\",\"type\":\"HBar\"},{\"attributes\":{\"axis\":{\"id\":\"2250\"},\"coordinates\":null,\"dimension\":1,\"group\":null,\"ticker\":null},\"id\":\"2252\",\"type\":\"Grid\"},{\"attributes\":{},\"id\":\"2291\",\"type\":\"AllLabels\"},{\"attributes\":{},\"id\":\"2254\",\"type\":\"WheelZoomTool\"},{\"attributes\":{},\"id\":\"2251\",\"type\":\"CategoricalTicker\"},{\"attributes\":{\"fill_alpha\":{\"value\":0.2},\"fill_color\":{\"field\":\"rain_color\"},\"hatch_alpha\":{\"value\":0.2},\"hatch_color\":{\"field\":\"rain_color\"},\"height\":{\"value\":0.9},\"left\":{\"expr\":{\"id\":\"2276\"}},\"line_alpha\":{\"value\":0.2},\"line_color\":{\"field\":\"rain_color\"},\"right\":{\"expr\":{\"id\":\"2277\"}},\"y\":{\"field\":\"state\"}},\"id\":\"2283\",\"type\":\"HBar\"},{\"attributes\":{},\"id\":\"2258\",\"type\":\"HelpTool\"},{\"attributes\":{\"axis\":{\"id\":\"2246\"},\"coordinates\":null,\"group\":null,\"ticker\":{\"id\":\"2275\"}},\"id\":\"2249\",\"type\":\"Grid\"},{\"attributes\":{\"border_line_alpha\":1,\"border_line_color\":\"#434244\",\"coordinates\":null,\"group\":null,\"items\":[{\"id\":\"2296\"},{\"id\":\"2312\"}],\"label_text_color\":\"#434244\",\"label_text_font_size\":\"12pt\",\"location\":\"center_right\"},\"id\":\"2295\",\"type\":\"Legend\"},{\"attributes\":{\"coordinates\":null,\"group\":null,\"text_color\":\"#434244\",\"text_font_size\":\"0pt\"},\"id\":\"2236\",\"type\":\"Title\"},{\"attributes\":{\"factors\":[\"Washington\",\"Illinois\",\"New York\",\"Montana\",\"Maryland\",\"Delaware\",\"Rhode Island\",\"Florida\",\"Kansas\",\"Louisiana\",\"Missouri\",\"Nevada\",\"Pennsylvania\",\"Arizona\",\"Tennessee\",\"Wisconsin\",\"Indiana\",\"Virginia\",\"New Jersey\",\"Mississippi\",\"Ohio\",\"Utah\",\"Iowa\",\"Michigan\",\"Kentucky\",\"South Carolina\",\"North Carolina\",\"Minnesota\",\"Maine\",\"Oregon\",\"Alabama\",\"Georgia\",\"South Dakota\",\"Massachusetts\",\"Texas\",\"Oklahoma\",\"New Hampshire\",\"Hawaii\",\"Vermont\",\"Arkansas\",\"Nebraska\",\"Idaho\",\"West Virginia\",\"Colorado\",\"California\",\"Connecticut\",\"New Mexico\",\"North Dakota\",\"Alaska\",\"Wyoming\"],\"range_padding\":0.02},\"id\":\"2240\",\"type\":\"FactorRange\"},{\"attributes\":{\"axis_label_text_font_size\":\"9pt\",\"axis_line_color\":\"#434244\",\"coordinates\":null,\"formatter\":{\"id\":\"2288\"},\"group\":null,\"major_label_policy\":{\"id\":\"2289\"},\"major_label_text_color\":\"#434244\",\"major_label_text_font_size\":\"9pt\",\"major_tick_line_color\":\"#434244\",\"minor_tick_line_color\":\"#434244\",\"ticker\":{\"id\":\"2251\"}},\"id\":\"2250\",\"type\":\"CategoricalAxis\"},{\"attributes\":{\"fill_color\":{\"field\":\"totbal_color\"},\"hatch_color\":{\"field\":\"totbal_color\"},\"height\":{\"value\":0.9},\"left\":{\"expr\":{\"id\":\"2278\"}},\"line_color\":{\"field\":\"totbal_color\"},\"right\":{\"expr\":{\"id\":\"2279\"}},\"y\":{\"field\":\"state\"}},\"id\":\"2298\",\"type\":\"HBar\"},{\"attributes\":{},\"id\":\"2244\",\"type\":\"CategoricalScale\"},{\"attributes\":{},\"id\":\"2242\",\"type\":\"LinearScale\"},{\"attributes\":{\"axis_label\":\"Percent of general fund expenditures\",\"axis_label_text_font_size\":\"11pt\",\"axis_line_color\":\"#434244\",\"coordinates\":null,\"formatter\":{\"id\":\"2290\"},\"group\":null,\"major_label_policy\":{\"id\":\"2291\"},\"major_label_text_color\":\"#434244\",\"major_label_text_font_size\":\"11pt\",\"major_tick_line_color\":\"#434244\",\"minor_tick_line_color\":\"#434244\",\"ticker\":{\"id\":\"2273\"}},\"id\":\"2246\",\"type\":\"LinearAxis\"},{\"attributes\":{\"end\":100.51983907500001,\"start\":-3.5932243750000006},\"id\":\"2238\",\"type\":\"Range1d\"},{\"attributes\":{\"data\":{\"index\":[46,12,31,25,19,7,38,8,15,17,24,27,37,2,41,48,13,45,29,23,34,43,14,21,16,39,32,22,18,36,0,9,40,20,42,35,28,10,44,3,26,11,47,5,4,6,30,33,1,49],\"rain_color\":[\"#D5AB53\",\"#D5AB53\",\"#D5AB53\",\"#D5AB53\",\"#D5AB53\",\"#D5AB53\",\"#D5AB53\",\"#D5AB53\",\"#D5AB53\",\"#D5AB53\",\"#D5AB53\",\"#D5AB53\",\"#D5AB53\",\"#D5AB53\",\"#EED17E\",\"#D5AB53\",\"#D5AB53\",\"#D5AB53\",\"#D5AB53\",\"#D5AB53\",\"#D5AB53\",\"#D5AB53\",\"#D5AB53\",\"#D5AB53\",\"#D5AB53\",\"#D5AB53\",\"#D5AB53\",\"#D5AB53\",\"#D5AB53\",\"#D5AB53\",\"#D5AB53\",\"#D5AB53\",\"#D5AB53\",\"#D5AB53\",\"#D5AB53\",\"#D5AB53\",\"#D5AB53\",\"#D5AB53\",\"#D5AB53\",\"#D5AB53\",\"#D5AB53\",\"#D5AB53\",\"#D5AB53\",\"#D5AB53\",\"#D5AB53\",\"#D5AB53\",\"#D5AB53\",\"#D5AB53\",\"#D5AB53\",\"#D5AB53\"],\"rain_dol\":{\"__ndarray__\":\"zczMzMwUc0AAAAAAAMCCQAAAAAAALqpAAAAAAACAXUDAPGTK5yCSQM3MzMzMhHFA/DkF+Vmob0CamZmZmVOlQAAAAAAAwIJAPBIvT4eGhkAzMzMzMyOIQJqZmZmZQXVAAAAAAABkpkBmZmZmZp6OQAAAAAAAOJhAmpmZmZkHm0AAAAAAALCZQDMzMzMztKBAZmZmZmZvsUDNzMzMzGCBQH7H8NjvGKVAzczMzMwkkEBmZmZmZoaJQM3MzMzMxJZAmpmZmZmLl0BmZmZmZuaSQAAAAAAAWKhACtejcH17p0BmZmZmZr5/QM3qHW4X9phAMzMzMzPxlUBpqFFIxsCwQJqZmZmZMXNAkj1CzfgOt0AAAAAAgKTDQGZmZmZmcJJAzczMzMwccEDNzMzMzLKUQDMzMzMz83lAmpmZmZn/kUAAAAAAACyPQAAAAAAAmItAAAAAAACoj0CamZmZmW2rQAAAAADAHedAAAAAAIDXtUAAAAAAAPujQM3MzMzMfIdAZmZmZmasnkAAAAAAABiXQA==\",\"dtype\":\"float64\",\"order\":\"little\",\"shape\":[50]},\"rain_pct\":{\"__ndarray__\":\"wiPgxhw68j8SPHQwUZP1P8RjmkQYGg9AI98AjpiUEUD8HlCRnuUVQK9FZokpBBZAVw/zQL9CFkCkNJvHYWAZQA6qaAe3uBlAu4UJ/hKkHEByD64liSodQMgyDj9JQx1AgBlChG61HUDmOcclM9sdQPggulYxnyFAKYsMvKTrIUANT1Tb8g4iQIycKoR6QyJAuATgn1KBIkD7SADt/RwjQByO+F/4WiNAeE5ps6ACJEDJaZlWVB4kQH1jY7kAjyVAMUEN38I6J0AB/K5jt1YnQJiSm5d58SdAA0ddxqguKEDGbMmqCO8oQPanQ11acylAGLQ1x17UKkDLVT2qq7gtQCT6a2i5Mi5AvAELBRGSLkArm95qQh8vQK/mpQeqsy9ASLL9Gv8iMEAhs7PonfYwQKuegrLfoTNAGpmRi3uxM0ACgjl6/LY0QPzOigND5zRApDkNrD5sNUA/JDJiVWM2QD2f53llijZAV3/fGjNoO0DZ1NQNb5s7QMQQlDawuD5A7VtSWiSjRED8nqI0ZfJXQA==\",\"dtype\":\"float64\",\"order\":\"little\",\"shape\":[50]},\"state\":[\"Washington\",\"Illinois\",\"New York\",\"Montana\",\"Maryland\",\"Delaware\",\"Rhode Island\",\"Florida\",\"Kansas\",\"Louisiana\",\"Missouri\",\"Nevada\",\"Pennsylvania\",\"Arizona\",\"Tennessee\",\"Wisconsin\",\"Indiana\",\"Virginia\",\"New Jersey\",\"Mississippi\",\"Ohio\",\"Utah\",\"Iowa\",\"Michigan\",\"Kentucky\",\"South Carolina\",\"North Carolina\",\"Minnesota\",\"Maine\",\"Oregon\",\"Alabama\",\"Georgia\",\"South Dakota\",\"Massachusetts\",\"Texas\",\"Oklahoma\",\"New Hampshire\",\"Hawaii\",\"Vermont\",\"Arkansas\",\"Nebraska\",\"Idaho\",\"West Virginia\",\"Colorado\",\"California\",\"Connecticut\",\"New Mexico\",\"North Dakota\",\"Alaska\",\"Wyoming\"],\"totbal_color\":[\"#3477A5\",\"#3477A5\",\"#3477A5\",\"#3477A5\",\"#3477A5\",\"#3477A5\",\"#3477A5\",\"#3477A5\",\"#3477A5\",\"#3477A5\",\"#3477A5\",\"#3477A5\",\"#3477A5\",\"#3477A5\",\"#74AAC7\",\"#3477A5\",\"#3477A5\",\"#3477A5\",\"#3477A5\",\"#3477A5\",\"#3477A5\",\"#3477A5\",\"#3477A5\",\"#3477A5\",\"#3477A5\",\"#3477A5\",\"#3477A5\",\"#3477A5\",\"#3477A5\",\"#3477A5\",\"#3477A5\",\"#3477A5\",\"#3477A5\",\"#3477A5\",\"#3477A5\",\"#3477A5\",\"#3477A5\",\"#3477A5\",\"#3477A5\",\"#3477A5\",\"#3477A5\",\"#3477A5\",\"#3477A5\",\"#3477A5\",\"#3477A5\",\"#3477A5\",\"#3477A5\",\"#3477A5\",\"#3477A5\",\"#3477A5\"],\"totbal_dol\":{\"__ndarray__\":\"MzMzM7OxuEAAAAAAAHCXQAAAAABAzN1AJUwHoXJGiEAUrkfhOhSzQAAAAAAAvqFAHO+OjFVMeECamZmZ2WXLQJqZmZmZl5lAUrgehWu/oUCamZmZmRGuQGZmZmZmGo5AAAAAAIA0wkBmZmZmZiSnQAAAAAAA8rZAAAAAAADYsUAAAAAAgPSzQJqZmZkZnbBAzczMzExiuEDNzMzMzGCBQLgehesRTLVAAAAAAADSoEAzMzMzMx2fQM3MzMxMi7BAzczMzMxrqEDNzMzMzLCqQDMzMzOzZrVAPQrXo5DCwkDNzMzMzBCAQI/C9SicuLVAMzMzMzOPqUAAAAAAgOiwQJqZmZmZMXNAUrgehWsLuUAAAAAAAIfRQM3MzMzMYKpAzczMzMzMekBSuB6F6/+gQK5H4XoUxn5AMzMzMzMhlkBmZmZmZkaeQM3MzMzMJJFAmpmZmZlfmkCamZmZmW2rQDMzMzOjquhAAAAAAIDXtUAAAAAAACGmQAAAAAAAxJpAZmZmZmasnkAAAAAAABiXQA==\",\"dtype\":\"float64\",\"order\":\"little\",\"shape\":[50]},\"totbal_pct\":{\"__ndarray__\":\"caKnEq+WN0C9R0eDJfgKQKRNeoQ/s0FAUReETfjuPEBFVQIYhQs3QLJ/ngYMTEZAiJLa1fUVIUBn+XB/5ExAQLBdNSrLjTFAfPVMiuqQNkAkpvqEoipCQKJoeXmVuDRAsxB4u7knOECzlTxD3ZA2QKgck8X9sUBA23EeqRmpN0CWAndFlQ48QH4uZL84KjJAW77kNWXhKUD7SADt/RwjQEVdEDbhiTNAW/Spvk7ZNEDr4ctEEYY4QKjR9Y5kVD9A7tNMUvQXOED8YZUcwXpAQD73L1qRDDVAM6ZgjbNRQ0CnVZnO8zwpQC3DyUecJUZAo3HybKBAP0AR0NjyJf8tQCT6a2i5Mi5AchWL3xSaMEBX+yqvS8U7QPp7zoL1rEZAth86ThvXOkCpL0s7Nd07QDJPU3AdSDdAYPtuX6w2OEDFfNS6aB5EQF1uMNRh+TlATsBlBArZQUA/JDJiVWM2QB/8H7tmDThAV3/fGjNoO0DDmzV4X5M+QCqdWVwtgVFA7VtSWiSjRED8nqI0ZfJXQA==\",\"dtype\":\"float64\",\"order\":\"little\",\"shape\":[50]},\"totbal_rain_pct_dif\":{\"__ndarray__\":\"NaA5Rg1zNkC0KQ3rfC4AQNBOYQA8gz9AiN8DKtKJOECGTa5zHZIxQPy2cdWGi0NAciuE1VjSB0ClJfuMsEE6QFlmttA6PyZAGiiVlcvPLkBsyInAogo9QOC3a1OGzypAU4pnGl66MEBzjpXzIDQuQNQoyd9ilDhAjVgwlo5mLUAQ28zXGwczQHDAnfr2ECJAjOYSWEqADUAAAAAAAAAAAG4sKAzKuCNAPprqyfyvJUANWv4yzu0sQOofRDLkjDRAq2aMxSX1KED4RVOHJko1QORbxBypJyJA5KiStxKMOkBAOPrzyHrDP1+y8WCLkT9Al5dXCXHWMUCAkd4mkp7BPwAAAAAAAAAAQElZ0MUQ9T+DW3fzVGsoQJwEygEWgD1A3Np4ZjhoJUAQ+S6lLs0lQDiEhe7tMQ1AGIl1T8MUEkCId2/71IUzQIR9lkJ7SBRA8I18uaqLLEAAAAAAAAAAACDOhRMUMPg/AAAAAAAAAABQNwZTg78HQPIxaZ0CpkNAAAAAAAAAAAAAAAAAAAAAAA==\",\"dtype\":\"float64\",\"order\":\"little\",\"shape\":[50]}},\"selected\":{\"id\":\"2293\"},\"selection_policy\":{\"id\":\"2292\"}},\"id\":\"2234\",\"type\":\"ColumnDataSource\"},{\"attributes\":{},\"id\":\"2292\",\"type\":\"UnionRenderers\"},{\"attributes\":{\"fields\":[\"rain_pct\"]},\"id\":\"2277\",\"type\":\"Stack\"}],\"root_ids\":[\"2235\"]},\"title\":\"Bokeh Application\",\"version\":\"2.4.3\"}};\n  const render_items = [{\"docid\":\"e4d00325-64df-41d4-b6ba-463f033c4dbc\",\"root_ids\":[\"2235\"],\"roots\":{\"2235\":\"6b5813d6-7faa-4a5a-a2e3-d2e79a723b60\"}}];\n  root.Bokeh.embed.embed_items_notebook(docs_json, render_items);\n  }\n  if (root.Bokeh !== undefined) {\n    embed_document(root);\n  } else {\n    let attempts = 0;\n    const timer = setInterval(function(root) {\n      if (root.Bokeh !== undefined) {\n        clearInterval(timer);\n        embed_document(root);\n      } else {\n        attempts++;\n        if (attempts > 100) {\n          clearInterval(timer);\n          console.log(\"Bokeh: ERROR: Unable to run BokehJS code because BokehJS library is missing\");\n        }\n      }\n    }, 10, root)\n  }\n})(window);",
      "application/vnd.bokehjs_exec.v0+json": ""
     },
     "metadata": {
      "application/vnd.bokehjs_exec.v0+json": {
       "id": "2235"
      }
     },
     "output_type": "display_data"
    }
   ],
   "source": [
    "show(fig2_nosubtxt)"
   ]
  },
  {
   "cell_type": "markdown",
   "metadata": {},
   "source": [
    "### Table 1. Number of states for which estimated 2022 amounts represent 23-year high for select categories of rainy day fund and total balances and reserves statistics: 2000-2022"
   ]
  },
  {
   "cell_type": "code",
   "execution_count": 9,
   "metadata": {},
   "outputs": [
    {
     "name": "stdout",
     "output_type": "stream",
     "text": [
      "Number of states for which 2022 rainy day fund balances\n",
      "are 23-year high is 36 states.\n",
      "Number of states for which 2021 rainy day fund balances\n",
      "are 22-year high is 29 states.\n",
      "Tennessee 2022: True\n",
      "Tennessee 2021: True\n"
     ]
    },
    {
     "name": "stderr",
     "output_type": "stream",
     "text": [
      "/var/folders/d4/trj3dssd6s3g8kxvjmczz11w0000gn/T/ipykernel_39111/491360725.py:5: SettingWithCopyWarning: \n",
      "A value is trying to be set on a copy of a slice from a DataFrame\n",
      "\n",
      "See the caveats in the documentation: https://pandas.pydata.org/pandas-docs/stable/user_guide/indexing.html#returning-a-view-versus-a-copy\n",
      "  rain_dol_df[\"max_2021\"][\n",
      "/var/folders/d4/trj3dssd6s3g8kxvjmczz11w0000gn/T/ipykernel_39111/491360725.py:8: SettingWithCopyWarning: \n",
      "A value is trying to be set on a copy of a slice from a DataFrame\n",
      "\n",
      "See the caveats in the documentation: https://pandas.pydata.org/pandas-docs/stable/user_guide/indexing.html#returning-a-view-versus-a-copy\n",
      "  rain_dol_df[\"max_2022\"][\n"
     ]
    }
   ],
   "source": [
    "# Number of states for which estimated 2022 rainy day fund balances\n",
    "# represent a 23-year high\n",
    "rain_dol_df[\"max_2021\"] = False\n",
    "rain_dol_df[\"max_2022\"] = False\n",
    "rain_dol_df[\"max_2021\"][\n",
    "    rain_dol_df[\"2021\"] > rain_dol_df.loc[:, \"2000\":\"2020\"].max(axis=1)\n",
    "] = True\n",
    "rain_dol_df[\"max_2022\"][\n",
    "    rain_dol_df[\"2022\"] > rain_dol_df.loc[:, \"2000\":\"2021\"].max(axis=1)\n",
    "] = True\n",
    "rain_dol_22high = rain_dol_df[\"max_2021\"].sum()\n",
    "rain_dol_23high = rain_dol_df[\"max_2022\"].sum()\n",
    "print(\"Number of states for which 2022 rainy day fund balances\")\n",
    "print(\"are 23-year high is\", rain_dol_23high, \"states.\")\n",
    "print(\"Number of states for which 2021 rainy day fund balances\")\n",
    "print(\"are 22-year high is\", rain_dol_22high, \"states.\")\n",
    "print(\"Tennessee 2022:\", rain_dol_df.loc[\"Tennessee\",\"max_2022\"])\n",
    "print(\"Tennessee 2021:\", rain_dol_df.loc[\"Tennessee\",\"max_2021\"])"
   ]
  },
  {
   "cell_type": "code",
   "execution_count": 10,
   "metadata": {},
   "outputs": [
    {
     "name": "stdout",
     "output_type": "stream",
     "text": [
      "\n",
      "Number of states for which 2022 rainy day fund balances\n",
      "as percent of general fund expenditures are 23-year high\n",
      "is 20 states.\n",
      "Number of states for which 2021 rainy day fund balances\n",
      "as percent of general fund expenditures are 22-year high\n",
      "is 26 states.\n",
      "Tennessee 2022: False\n",
      "Tennessee 2021: True\n"
     ]
    },
    {
     "name": "stderr",
     "output_type": "stream",
     "text": [
      "/var/folders/d4/trj3dssd6s3g8kxvjmczz11w0000gn/T/ipykernel_39111/3481225494.py:3: SettingWithCopyWarning: \n",
      "A value is trying to be set on a copy of a slice from a DataFrame.\n",
      "Try using .loc[row_indexer,col_indexer] = value instead\n",
      "\n",
      "See the caveats in the documentation: https://pandas.pydata.org/pandas-docs/stable/user_guide/indexing.html#returning-a-view-versus-a-copy\n",
      "  rain_pct_df[\"max_2021\"] = False\n",
      "/var/folders/d4/trj3dssd6s3g8kxvjmczz11w0000gn/T/ipykernel_39111/3481225494.py:4: SettingWithCopyWarning: \n",
      "A value is trying to be set on a copy of a slice from a DataFrame.\n",
      "Try using .loc[row_indexer,col_indexer] = value instead\n",
      "\n",
      "See the caveats in the documentation: https://pandas.pydata.org/pandas-docs/stable/user_guide/indexing.html#returning-a-view-versus-a-copy\n",
      "  rain_pct_df[\"max_2022\"] = False\n",
      "/var/folders/d4/trj3dssd6s3g8kxvjmczz11w0000gn/T/ipykernel_39111/3481225494.py:5: SettingWithCopyWarning: \n",
      "A value is trying to be set on a copy of a slice from a DataFrame\n",
      "\n",
      "See the caveats in the documentation: https://pandas.pydata.org/pandas-docs/stable/user_guide/indexing.html#returning-a-view-versus-a-copy\n",
      "  rain_pct_df[\"max_2021\"][\n",
      "/var/folders/d4/trj3dssd6s3g8kxvjmczz11w0000gn/T/ipykernel_39111/3481225494.py:8: SettingWithCopyWarning: \n",
      "A value is trying to be set on a copy of a slice from a DataFrame\n",
      "\n",
      "See the caveats in the documentation: https://pandas.pydata.org/pandas-docs/stable/user_guide/indexing.html#returning-a-view-versus-a-copy\n",
      "  rain_pct_df[\"max_2022\"][\n"
     ]
    }
   ],
   "source": [
    "# Number of states for which estimated 2022 rainy day fund balances\n",
    "# as percent of general fund expenditures represent a 23-year high\n",
    "rain_pct_df[\"max_2021\"] = False\n",
    "rain_pct_df[\"max_2022\"] = False\n",
    "rain_pct_df[\"max_2021\"][\n",
    "    rain_pct_df[\"2021\"] > rain_pct_df.loc[:, \"2000\":\"2020\"].max(axis=1)\n",
    "] = True\n",
    "rain_pct_df[\"max_2022\"][\n",
    "    rain_pct_df[\"2022\"] > rain_pct_df.loc[:, \"2000\":\"2021\"].max(axis=1)\n",
    "] = True\n",
    "rain_pct_22high = rain_pct_df[\"max_2021\"].sum()\n",
    "rain_pct_23high = rain_pct_df[\"max_2022\"].sum()\n",
    "print(\"\")\n",
    "print(\"Number of states for which 2022 rainy day fund balances\")\n",
    "print(\"as percent of general fund expenditures are 23-year high\")\n",
    "print(\"is\", rain_pct_23high, \"states.\")\n",
    "print(\"Number of states for which 2021 rainy day fund balances\")\n",
    "print(\"as percent of general fund expenditures are 22-year high\")\n",
    "print(\"is\", rain_pct_22high, \"states.\")\n",
    "print(\"Tennessee 2022:\", rain_pct_df.loc[\"Tennessee\",\"max_2022\"])\n",
    "print(\"Tennessee 2021:\", rain_pct_df.loc[\"Tennessee\",\"max_2021\"])"
   ]
  },
  {
   "cell_type": "code",
   "execution_count": 11,
   "metadata": {},
   "outputs": [
    {
     "name": "stdout",
     "output_type": "stream",
     "text": [
      "\n",
      "Number of states for which 2022 total balances and reserves\n",
      "are 23-year high is 26 states.\n",
      "Number of states for which 2021 total balances and reserves\n",
      "are 22-year high is 42 states.\n",
      "Tennessee 2022: False\n",
      "Tennessee 2021: True\n"
     ]
    },
    {
     "name": "stderr",
     "output_type": "stream",
     "text": [
      "/var/folders/d4/trj3dssd6s3g8kxvjmczz11w0000gn/T/ipykernel_39111/503589125.py:5: SettingWithCopyWarning: \n",
      "A value is trying to be set on a copy of a slice from a DataFrame\n",
      "\n",
      "See the caveats in the documentation: https://pandas.pydata.org/pandas-docs/stable/user_guide/indexing.html#returning-a-view-versus-a-copy\n",
      "  totbal_dol_df[\"max_2021\"][\n",
      "/var/folders/d4/trj3dssd6s3g8kxvjmczz11w0000gn/T/ipykernel_39111/503589125.py:8: SettingWithCopyWarning: \n",
      "A value is trying to be set on a copy of a slice from a DataFrame\n",
      "\n",
      "See the caveats in the documentation: https://pandas.pydata.org/pandas-docs/stable/user_guide/indexing.html#returning-a-view-versus-a-copy\n",
      "  totbal_dol_df[\"max_2022\"][\n"
     ]
    }
   ],
   "source": [
    "# Number of states for which estimated 2022 total balances and reserves\n",
    "# represent a 23-year high\n",
    "totbal_dol_df[\"max_2021\"] = False\n",
    "totbal_dol_df[\"max_2022\"] = False\n",
    "totbal_dol_df[\"max_2021\"][\n",
    "    totbal_dol_df[\"2021\"] > totbal_dol_df.loc[:, \"2000\":\"2020\"].max(axis=1)\n",
    "] = True\n",
    "totbal_dol_df[\"max_2022\"][\n",
    "    totbal_dol_df[\"2022\"] > totbal_dol_df.loc[:, \"2000\":\"2021\"].max(axis=1)\n",
    "] = True\n",
    "totbal_dol_22high = totbal_dol_df[\"max_2021\"].sum()\n",
    "totbal_dol_23high = totbal_dol_df[\"max_2022\"].sum()\n",
    "print(\"\")\n",
    "print(\"Number of states for which 2022 total balances and reserves\")\n",
    "print(\"are 23-year high is\", totbal_dol_23high, \"states.\")\n",
    "print(\"Number of states for which 2021 total balances and reserves\")\n",
    "print(\"are 22-year high is\", totbal_dol_22high, \"states.\")\n",
    "print(\"Tennessee 2022:\", totbal_dol_df.loc[\"Tennessee\",\"max_2022\"])\n",
    "print(\"Tennessee 2021:\", totbal_dol_df.loc[\"Tennessee\",\"max_2021\"])"
   ]
  },
  {
   "cell_type": "code",
   "execution_count": 12,
   "metadata": {},
   "outputs": [
    {
     "name": "stdout",
     "output_type": "stream",
     "text": [
      "\n",
      "Number of states for which 2022 total balances and reserves\n",
      "as percent of general fund expenditures are 23-year high\n",
      "is 20 states.\n",
      "Number of states for which 2021 total balances and reserves\n",
      "as percent of general fund expenditures are 22-year high\n",
      "is 32 states.\n",
      "Tennessee 2022: False\n",
      "Tennessee 2021: True\n"
     ]
    },
    {
     "name": "stderr",
     "output_type": "stream",
     "text": [
      "/var/folders/d4/trj3dssd6s3g8kxvjmczz11w0000gn/T/ipykernel_39111/1554983929.py:3: SettingWithCopyWarning: \n",
      "A value is trying to be set on a copy of a slice from a DataFrame.\n",
      "Try using .loc[row_indexer,col_indexer] = value instead\n",
      "\n",
      "See the caveats in the documentation: https://pandas.pydata.org/pandas-docs/stable/user_guide/indexing.html#returning-a-view-versus-a-copy\n",
      "  totbal_pct_df[\"max_2021\"] = False\n",
      "/var/folders/d4/trj3dssd6s3g8kxvjmczz11w0000gn/T/ipykernel_39111/1554983929.py:4: SettingWithCopyWarning: \n",
      "A value is trying to be set on a copy of a slice from a DataFrame.\n",
      "Try using .loc[row_indexer,col_indexer] = value instead\n",
      "\n",
      "See the caveats in the documentation: https://pandas.pydata.org/pandas-docs/stable/user_guide/indexing.html#returning-a-view-versus-a-copy\n",
      "  totbal_pct_df[\"max_2022\"] = False\n",
      "/var/folders/d4/trj3dssd6s3g8kxvjmczz11w0000gn/T/ipykernel_39111/1554983929.py:5: SettingWithCopyWarning: \n",
      "A value is trying to be set on a copy of a slice from a DataFrame\n",
      "\n",
      "See the caveats in the documentation: https://pandas.pydata.org/pandas-docs/stable/user_guide/indexing.html#returning-a-view-versus-a-copy\n",
      "  totbal_pct_df[\"max_2021\"][\n",
      "/var/folders/d4/trj3dssd6s3g8kxvjmczz11w0000gn/T/ipykernel_39111/1554983929.py:8: SettingWithCopyWarning: \n",
      "A value is trying to be set on a copy of a slice from a DataFrame\n",
      "\n",
      "See the caveats in the documentation: https://pandas.pydata.org/pandas-docs/stable/user_guide/indexing.html#returning-a-view-versus-a-copy\n",
      "  totbal_pct_df[\"max_2022\"][\n"
     ]
    }
   ],
   "source": [
    "# Number of states for which estimated 2022 total balances and reserves\n",
    "# as percent of general fund expenditures represent a 23-year high\n",
    "totbal_pct_df[\"max_2021\"] = False\n",
    "totbal_pct_df[\"max_2022\"] = False\n",
    "totbal_pct_df[\"max_2021\"][\n",
    "    totbal_pct_df[\"2021\"] > totbal_pct_df.loc[:, \"2000\":\"2020\"].max(axis=1)\n",
    "] = True\n",
    "totbal_pct_df[\"max_2022\"][\n",
    "    totbal_pct_df[\"2022\"] > totbal_pct_df.loc[:, \"2000\":\"2021\"].max(axis=1)\n",
    "] = True\n",
    "totbal_pct_22high = totbal_pct_df[\"max_2021\"].sum()\n",
    "totbal_pct_23high = totbal_pct_df[\"max_2022\"].sum()\n",
    "print(\"\")\n",
    "print(\"Number of states for which 2022 total balances and reserves\")\n",
    "print(\"as percent of general fund expenditures are 23-year high\")\n",
    "print(\"is\", totbal_pct_23high, \"states.\")\n",
    "print(\"Number of states for which 2021 total balances and reserves\")\n",
    "print(\"as percent of general fund expenditures are 22-year high\")\n",
    "print(\"is\", totbal_pct_22high, \"states.\")\n",
    "print(\"Tennessee 2022:\", totbal_pct_df.loc[\"Tennessee\",\"max_2022\"])\n",
    "print(\"Tennessee 2021:\", totbal_pct_df.loc[\"Tennessee\",\"max_2021\"])"
   ]
  },
  {
   "cell_type": "markdown",
   "metadata": {},
   "source": [
    "## 2. Tennessee Business Tax Landscape\n",
    "Important features of TN business tax system:\n",
    "* 4 main components:\n",
    "  1. \"Excise Tax\"\n",
    "    * Essentailly a CIT\n",
    "    * Rate is 6.5%\n",
    "    * Depreciation handled under same rules as IRC *EXCEPT* no bonus depreciation.\n",
    "  2. Franchise tax\n",
    "    * Tax on the value of assets of the business\n",
    "    * Rate is 0.26%\n",
    "  3. Gross receipts tax\n",
    "    * TVA\n",
    "    * mixed drinks\n",
    "    * vending machines\n",
    "    * bottlers\n",
    "  4. Business tax\n",
    "    * Tax on the gross receipts of the business\n",
    "    * Some industries (e.g., utilities) handled differently\n",
    "    * Rate varies (see [here, p. 62](https://www.tn.gov/content/dam/tn/revenue/documents/tax_manuals/august-2022/Business-Tax.pdf))\n",
    "      * Varies between 0.02% and 0.3% (depends on industry)"
   ]
  },
  {
   "cell_type": "markdown",
   "metadata": {},
   "source": [
    "### Table 2. Tennessee business taxes: dollars and percent of total tax revenue"
   ]
  },
  {
   "cell_type": "code",
   "execution_count": 13,
   "metadata": {},
   "outputs": [
    {
     "name": "stdout",
     "output_type": "stream",
     "text": [
      "Tennessee excise tax 2021 $: 2564304204.311518\n",
      "Tennessee excise tax 2021 % tot revenue: 0.13953139426917469\n",
      "Tennessee excise tax 2022 $: 3016322556.778461\n",
      "Tennessee excise tax 2022 % tot revenue: 0.1443310576963863\n",
      "\n",
      "Tennessee franchise tax 2021 $: 1381839681.1384816\n",
      "Tennessee franchise tax 2021 % tot revenue: 0.07518999385546422\n",
      "Tennessee franchise tax 2022 $: 1518181589.8615394\n",
      "Tennessee franchise tax 2022 % tot revenue: 0.07264500082972758\n",
      "\n",
      "Tennessee gross receipts tax 2021 $: 374465076.61\n",
      "Tennessee gross receipts tax 2021 % tot revenue: 0.02037575501247324\n",
      "Tennessee gross receipts tax 2022 $: 368503143.53999996\n",
      "Tennessee gross receipts tax 2022 % tot revenue: 0.017632878271605163\n",
      "\n",
      "Tennessee business tax 2021 $: 263550852.28000003\n",
      "Tennessee business tax 2021 % tot revenue: 0.014340583234090565\n",
      "Tennessee business tax 2022 $: 282713361.26\n",
      "Tennessee business tax 2022 % tot revenue: 0.013527836525261017\n"
     ]
    }
   ],
   "source": [
    "# Read in the Tennessee Department of Revenue monthly receipts\n",
    "# data, June 2022, worksheets Pg6 and Pg8\n",
    "main_path = (\n",
    "    \"https://github.com/TheCGO/TN-BusinessTax/blob/main/data/\" +\n",
    "    \"Main202206.xlsx?raw=true\"\n",
    ")\n",
    "tn_Jun2022_Pg6_df = pd.read_excel(\n",
    "    main_path,\n",
    "    sheet_name=\"Pg6\",\n",
    "    header=3,\n",
    "    index_col=1,\n",
    ")\n",
    "tn_Jun2022_Pg6_df.drop(\n",
    "    ['Unnamed: 0', 'GAIN OR LOSS', 'PERCENT'], axis=1, inplace=True\n",
    ")\n",
    "tn_Jun2022_Pg6_df.rename(\n",
    "    columns={\" FY 2021\": \"FY 2021\", \" FY 2022\": \"FY 2022\"}, inplace=True\n",
    ")\n",
    "tn_Jun2022_Pg8_df = pd.read_excel(\n",
    "    main_path,\n",
    "    sheet_name=\"Pg8\",\n",
    "    header=3,\n",
    "    index_col=1,\n",
    ")\n",
    "tn_Jun2022_Pg8_df.drop(\n",
    "    ['Unnamed: 0', 'GAIN OR LOSS', 'PERCENT'], axis=1, inplace=True\n",
    ")\n",
    "tn_Jun2022_Pg8_df.rename(\n",
    "    columns={\" FY 2021\": \"FY 2021\"}, inplace=True\n",
    ")\n",
    "\n",
    "# Get statistics for Tennessee excise tax\n",
    "ex_2021 = tn_Jun2022_Pg6_df.loc[\"11501-11503 Excise\", \"FY 2021\"]\n",
    "fr_2021 = tn_Jun2022_Pg6_df.loc[\"11401-11403 Franchise\", \"FY 2021\"]\n",
    "FE_est_pmt_2021 = tn_Jun2022_Pg6_df.loc[\"12101 F&E Est Payments\", \"FY 2021\"]\n",
    "tot_rev_2021 = tn_Jun2022_Pg8_df.loc[\"GRAND TOTAL\", \"FY 2021\"]\n",
    "extax_2021_dol = ex_2021 + (ex_2021 / (ex_2021 + fr_2021)) * FE_est_pmt_2021\n",
    "extax_2021_pct = extax_2021_dol / tot_rev_2021\n",
    "\n",
    "ex_2022 = tn_Jun2022_Pg6_df.loc[\"11501-11503 Excise\", \"FY 2022\"]\n",
    "fr_2022 = tn_Jun2022_Pg6_df.loc[\"11401-11403 Franchise\", \"FY 2022\"]\n",
    "FE_est_pmt_2022 = tn_Jun2022_Pg6_df.loc[\"12101 F&E Est Payments\", \"FY 2022\"]\n",
    "tot_rev_2022 = tn_Jun2022_Pg8_df.loc[\"GRAND TOTAL\", \"FY 2022\"]\n",
    "extax_2022_dol = ex_2022 + (ex_2022 / (ex_2022 + fr_2022)) * FE_est_pmt_2022\n",
    "extax_2022_pct = extax_2022_dol / tot_rev_2022\n",
    "\n",
    "print(\"Tennessee excise tax 2021 $:\", extax_2021_dol)\n",
    "print(\"Tennessee excise tax 2021 % tot revenue:\", extax_2021_pct)\n",
    "print(\"Tennessee excise tax 2022 $:\", extax_2022_dol)\n",
    "print(\"Tennessee excise tax 2022 % tot revenue:\", extax_2022_pct)\n",
    "\n",
    "# Get statistics for Tennessee franchise tax\n",
    "frtax_2021_dol = fr_2021 + (fr_2021 / (ex_2021 + fr_2021)) * FE_est_pmt_2021\n",
    "frtax_2021_pct = frtax_2021_dol / tot_rev_2021\n",
    "\n",
    "frtax_2022_dol = fr_2022 + (fr_2022 / (ex_2022 + fr_2022)) * FE_est_pmt_2022\n",
    "frtax_2022_pct = frtax_2022_dol / tot_rev_2022\n",
    "\n",
    "print(\"\")\n",
    "print(\"Tennessee franchise tax 2021 $:\", frtax_2021_dol)\n",
    "print(\"Tennessee franchise tax 2021 % tot revenue:\", frtax_2021_pct)\n",
    "print(\"Tennessee franchise tax 2022 $:\", frtax_2022_dol)\n",
    "print(\"Tennessee franchise tax 2022 % tot revenue:\", frtax_2022_pct)\n",
    "\n",
    "# Get statistics for Tennessee gross receipts tax\n",
    "TVA_2021 = tn_Jun2022_Pg8_df.loc[\"TVA IN LIEU\", \"FY 2021\"]\n",
    "bot1_2021 = tn_Jun2022_Pg8_df.loc[\"10801 Bottlers\", \"FY 2021\"]\n",
    "gwpl_2021 = tn_Jun2022_Pg8_df.loc[\"10802 Gas, Water, Power & Light\", \"FY 2021\"]\n",
    "mbc_2021 = tn_Jun2022_Pg8_df.loc[\"10803 Mixing Bars, Clubs, etc.\", \"FY 2021\"]\n",
    "vm_2021 = tn_Jun2022_Pg8_df.loc[\"10809 Vending Machines\", \"FY 2021\"]\n",
    "bot2_2021 = tn_Jun2022_Pg8_df.loc[\"10810 Bottlers\", \"FY 2021\"]\n",
    "gr_other_2021 = bot1_2021 + gwpl_2021 + mbc_2021 + vm_2021 + bot2_2021\n",
    "grtax_2021_dol = TVA_2021 + gr_other_2021\n",
    "grtax_2021_pct = grtax_2021_dol / tot_rev_2021\n",
    "\n",
    "TVA_2022 = tn_Jun2022_Pg8_df.loc[\"TVA IN LIEU\", \"FY 2022\"]\n",
    "bot1_2022 = tn_Jun2022_Pg8_df.loc[\"10801 Bottlers\", \"FY 2022\"]\n",
    "gwpl_2022 = tn_Jun2022_Pg8_df.loc[\"10802 Gas, Water, Power & Light\", \"FY 2022\"]\n",
    "mbc_2022 = tn_Jun2022_Pg8_df.loc[\"10803 Mixing Bars, Clubs, etc.\", \"FY 2022\"]\n",
    "vm_2022 = tn_Jun2022_Pg8_df.loc[\"10809 Vending Machines\", \"FY 2022\"]\n",
    "bot2_2022 = tn_Jun2022_Pg8_df.loc[\"10810 Bottlers\", \"FY 2022\"]\n",
    "gr_other_2022 = bot1_2022 + gwpl_2022 + mbc_2022 + vm_2022 + bot2_2022\n",
    "grtax_2022_dol = TVA_2022 + gr_other_2022\n",
    "grtax_2022_pct = grtax_2022_dol / tot_rev_2022\n",
    "\n",
    "print(\"\")\n",
    "print(\"Tennessee gross receipts tax 2021 $:\", grtax_2021_dol)\n",
    "print(\"Tennessee gross receipts tax 2021 % tot revenue:\", grtax_2021_pct)\n",
    "print(\"Tennessee gross receipts tax 2022 $:\", grtax_2022_dol)\n",
    "print(\"Tennessee gross receipts tax 2022 % tot revenue:\", grtax_2022_pct)\n",
    "\n",
    "# Get statistics for Tennessee business tax (excluding city and county taxes)\n",
    "st_tax_2021 = tn_Jun2022_Pg6_df.loc[\"12003 State Tax\", \"FY 2021\"]\n",
    "cls_tax_2021 = tn_Jun2022_Pg6_df.loc[\"12006-12009-Class 1-4\", \"FY 2021\"]\n",
    "cls5_tax_2021 = tn_Jun2022_Pg6_df.loc[\"12010 Class 5 Industrial  Loan & Thrift\", \"FY 2021\"]\n",
    "trs_tax_2021 = tn_Jun2022_Pg6_df.loc[\"12011 Transient Vendor, Flea Mkt & Other\", \"FY 2021\"]\n",
    "aud_tax_2021 = tn_Jun2022_Pg6_df.loc[\"12012  Audit P & I\", \"FY 2021\"]\n",
    "vol_tax_2021 = tn_Jun2022_Pg6_df.loc[\"12013 Voluntary Disclosure State\", \"FY 2021\"]\n",
    "btax_2021_dol = (\n",
    "    st_tax_2021 + cls_tax_2021 + cls5_tax_2021 + trs_tax_2021 +\n",
    "    aud_tax_2021 + vol_tax_2021\n",
    ")\n",
    "btax_2021_pct = btax_2021_dol / tot_rev_2021\n",
    "\n",
    "st_tax_2022 = tn_Jun2022_Pg6_df.loc[\"12003 State Tax\", \"FY 2022\"]\n",
    "cls_tax_2022 = tn_Jun2022_Pg6_df.loc[\"12006-12009-Class 1-4\", \"FY 2022\"]\n",
    "cls5_tax_2022 = tn_Jun2022_Pg6_df.loc[\"12010 Class 5 Industrial  Loan & Thrift\", \"FY 2022\"]\n",
    "trs_tax_2022 = tn_Jun2022_Pg6_df.loc[\"12011 Transient Vendor, Flea Mkt & Other\", \"FY 2022\"]\n",
    "aud_tax_2022 = tn_Jun2022_Pg6_df.loc[\"12012  Audit P & I\", \"FY 2022\"]\n",
    "vol_tax_2022 = tn_Jun2022_Pg6_df.loc[\"12013 Voluntary Disclosure State\", \"FY 2022\"]\n",
    "btax_2022_dol = (\n",
    "    st_tax_2022 + cls_tax_2022 + cls5_tax_2022 + trs_tax_2022 +\n",
    "    aud_tax_2022 + vol_tax_2022\n",
    ")\n",
    "btax_2022_pct = btax_2022_dol / tot_rev_2022\n",
    "\n",
    "print(\"\")\n",
    "print(\"Tennessee business tax 2021 $:\", btax_2021_dol)\n",
    "print(\"Tennessee business tax 2021 % tot revenue:\", btax_2021_pct)\n",
    "print(\"Tennessee business tax 2022 $:\", btax_2022_dol)\n",
    "print(\"Tennessee business tax 2022 % tot revenue:\", btax_2022_pct)"
   ]
  },
  {
   "attachments": {},
   "cell_type": "markdown",
   "metadata": {},
   "source": [
    "## 3. Investment Incentives using Cost of Capital Calculator\n",
    "Computing the cost-of-capital at the state-level:\n",
    "  * the statutory rate used will be the sum of the federal and state CIT\n",
    "    * But can deduct state taxes at federal level\n",
    "    * So maybe rate is Fed Rate + State rate - fed rate * state rate?\n",
    "  * franchise tax can use the wealth tax parameter in CCC\n",
    "  * The interaction of state and federal is not something I want to rush into CCC, so we'll do most of the calculations here by functions defined in this notebook (with a bit of assistance from a couple CCC functions.\n",
    "\n",
    "\n",
    "Equation for the cost of capital at when considering state taxes in TN:\n",
    "$$\n",
    "\\rho = \\left[\\frac{(r-\\pi+\\delta)(1-k-u^fz^f-u^sz^s + u^fu^sz^s)}{(1-u^f-u^s+u^fu^s)} + w \\right] / (1-\\tau^{GR}) - \\delta\n",
    "$$\n",
    "where:\n",
    "* $\\rho$ = cost of capital\n",
    "* $r$ = nominal discount rate\n",
    "* $\\pi$ = inflation rate\n",
    "* $k$ = investment tax credit rate\n",
    "* $u^f$ = statutory CIT rate at the federal level \n",
    "* $u^s$ = statutory CIT rate at the state level \n",
    "* $z^f$ = NPV of depreciation deduction under federal system\n",
    "* $z^s$ = NPV of depreciation deduction under state system\n",
    "* $w$ = property tax rate\n",
    "* $\\tau^{GR}$ = gross receipts tax rate\n",
    "\n",
    "Calibration:\n",
    "\n",
    "| Parameter     | Value | Source |\n",
    "| ----------- | ----------- |----------- |\n",
    "| $r$     | 0.06      | To give real return of 4\\%|\n",
    "| $\\pi$  | 0.02      | Fed target|\n",
    "| $k$  | 0.0        | No general invest tax credit at federal or state level|\n",
    "| $u^f$  | 0.21       | Federal IRC|\n",
    "| $u^s$  | 0.065       | Excise tax rate in TN law|\n",
    "| $z^f$  | Varies        | Federal IRC|\n",
    "| $z^s$  |   Varies      | Like Federal IRC, but no bonus deprec|\n",
    "| $w$  | 0.0026       | Franchise tax rate in TN law |\n",
    "| $\\tau^{GR}$  | 0.0002-0.003       | Bus tax rate in TN law|"
   ]
  },
  {
   "cell_type": "code",
   "execution_count": 2,
   "metadata": {
    "id": "_t-_pFeOZCDR"
   },
   "outputs": [],
   "source": [
    "!pip install cost-of-capital-calculator &> /dev/null\n",
    "!pip install taxcalc &> /dev/null\n",
    "!pip install requests &> /dev/null"
   ]
  },
  {
   "cell_type": "markdown",
   "metadata": {
    "id": "2qmfg6kv8WHN"
   },
   "source": [
    "Now we'll import the Python packages and modules we'll work with:"
   ]
  },
  {
   "cell_type": "code",
   "execution_count": 3,
   "metadata": {
    "id": "Tas5ZFKxbgCA"
   },
   "outputs": [],
   "source": [
    "# imports\n",
    "import ccc\n",
    "import taxcalc as tc\n",
    "import numpy as np\n",
    "import pandas as pd\n",
    "import requests\n",
    "import plotly.express as px\n",
    "import plotly.io as pio\n",
    "# set template for plotting\n",
    "pio.templates.default = \"plotly_white\""
   ]
  },
  {
   "cell_type": "markdown",
   "metadata": {
    "id": "FPc-vbli8fsb"
   },
   "source": [
    "### Setup\n",
    "\n",
    "Create objects to work with"
   ]
  },
  {
   "cell_type": "code",
   "execution_count": 4,
   "metadata": {
    "id": "g-V3V27Rc4Bo"
   },
   "outputs": [],
   "source": [
    "# Creating an instance of the Assets class and call it \"assets\"\n",
    "assets = ccc.data.Assets()\n",
    "# Create an instance of the DepreciationParams\n",
    "# class object and call it dp\n",
    "dp = ccc.parameters.DepreciationParams()"
   ]
  },
  {
   "cell_type": "code",
   "execution_count": 5,
   "metadata": {
    "id": "7DDWmsRDowWK"
   },
   "outputs": [],
   "source": [
    "# define new cost of capital function to take into account state taxes\n",
    "def eq_coc_state(delta, z_f, z_s, w, u_f, u_s, tau_GR, inv_tax_credit, pi, r):\n",
    "    r'''\n",
    "    Compute the cost of capital\n",
    "    .. math::\n",
    "        \\rho = \\frac{\\frac{(r-\\pi+\\delta)}{1-u^f-u^s+u^fu^s}(1-u^fz^f-u^sz^s+u^fu^sz^s)+w}{(1-\\tau^GR)}-\\delta\n",
    "    Args:\n",
    "        delta (array_like): rate of economic depreciation\n",
    "        z_f (array_like): net present value of depreciation deductions for\n",
    "            $1 of investment under the federal system\n",
    "        z_s (array_like): net present value of depreciation deductions for\n",
    "            $1 of investment under the state system\n",
    "        w (scalar): property tax rate\n",
    "        u_f (scalar): statutory marginal tax rate for the first layer of\n",
    "            income taxes at the federal level\n",
    "        u_s (scalar): statutory marginal tax rate for the first layer of\n",
    "            income taxes at the state level\n",
    "        tau_GR (scalar): gross receipts tax\n",
    "        inv_tax_credit (scalar): investment tax credit rate\n",
    "        pi (scalar): inflation rate\n",
    "        r (scalar): discount rate\n",
    "    Returns:\n",
    "        rho (array_like): the cost of capital\n",
    "    '''\n",
    "    rho = (\n",
    "        ((((r - pi + delta) / (1 - u_f - u_s + u_f * u_s)) *\n",
    "          (1 - inv_tax_credit - u_f * z_f - u_s * z_s + u_f * u_s * z_s) + w) /\n",
    "         (1 - tau_GR)) - delta\n",
    "    )\n",
    "\n",
    "    return rho"
   ]
  },
  {
   "cell_type": "code",
   "execution_count": 6,
   "metadata": {
    "id": "gQahy5bAAuzv"
   },
   "outputs": [],
   "source": [
    "# Define model parameters\n",
    "inflation_rate = 0.02 # Inflation rate\n",
    "nominal_int_rate = 0.06\n",
    "fraction_financed_w_debt = 0.0\n",
    "federal_bonus_depreciation = {\"machines\": 0.8, \"buildings\": 0.0, \"intangibles\": 0.8}\n",
    "depreciation_rates = {\"machines\": 0.1031, \"buildings\": 0.0314, \"intangibles\": 0.33}\n",
    "# Example machine: EI40, example building: SI00, example intangible: ENS3\n",
    "depreciation_lives = {\"machines\": 7, \"buildings\": 39, \"intangibles\": 3}\n",
    "depreciation_methods = {\"machines\": \"dbsl\", \"buildings\": \"sl\", \"intangibles\": \"sl\"}\n",
    "E = 0.06  # Expected after-tax return on corporate equity\n",
    "profit_rate = 0.2 # 0.2 is a 20% profit rate\n",
    "int_haircut = 0.0\n",
    "u_f = 0.21\n",
    "u_s = 0.065\n",
    "franchise_tax_rate = 0.0026\n",
    "tau_GR = 0.003 # this is the higher end 0.0002-0.003 is what TF reports, varies by industry\n",
    "inv_tax_credit = 0.0\n",
    "bonus_s = {\"machines\": 0.0, \"buildings\": 0.0, \"intangibles\": 0.0}\n"
   ]
  },
  {
   "cell_type": "code",
   "execution_count": 7,
   "metadata": {
    "id": "O42yHQtvTU23"
   },
   "outputs": [],
   "source": [
    "# compute outputs\n",
    "def compute_outputs(u_s, bonus_s, franchise_tax_rate, tau_GR):\n",
    "    \"\"\"\n",
    "    This function computes the outputs of interest and allows one to change the\n",
    "    parameters of TN state law\n",
    "\n",
    "    Args:\n",
    "      u_s (scalar): statutory marginal tax rate for the first layer of\n",
    "            income taxes at the state level\n",
    "      bonus_s (dict): rates of bonus depreciation in TN by asset type\n",
    "      franchise_tax_rate (scalar): TN franchise tax\n",
    "      tau_GR (scalar): gross receipts tax\n",
    "    \"\"\"\n",
    "    out_dict = {\"machines\": {}, \"buildings\": {}, \"intangibles\": {}}\n",
    "    for k, v in depreciation_rates.items():\n",
    "        r = ccc.paramfunctions.calc_r(\n",
    "            u_f + u_s - u_f * u_s, nominal_int_rate, inflation_rate,\n",
    "            nominal_int_rate, fraction_financed_w_debt, int_haircut, E, 0.0)\n",
    "        r_prime = ccc.paramfunctions.calc_r_prime(\n",
    "            nominal_int_rate, inflation_rate, fraction_financed_w_debt, E)\n",
    "        if depreciation_methods[k] == \"dbsl\":\n",
    "            z_f = ccc.calcfunctions.dbsl(depreciation_lives[k], 2, federal_bonus_depreciation[k], r)\n",
    "            z_s = ccc.calcfunctions.dbsl(depreciation_lives[k], 2, bonus_s[k], r)\n",
    "        elif depreciation_methods[k] == \"sl\":\n",
    "            z_f = ccc.calcfunctions.sl(depreciation_lives[k], federal_bonus_depreciation[k], r)\n",
    "            z_s = ccc.calcfunctions.sl(depreciation_lives[k], bonus_s[k], r)\n",
    "        else:\n",
    "          print(\"Please enter one of: dbsl, sl\")\n",
    "          assert False\n",
    "        rho = eq_coc_state(\n",
    "                depreciation_rates[k], z_f, z_s, franchise_tax_rate,\n",
    "                u_f, u_s, tau_GR, inv_tax_credit, inflation_rate, r)\n",
    "        metr = ccc.calcfunctions.eq_metr(rho, r_prime, inflation_rate)\n",
    "        eatr = ccc.calcfunctions.eq_eatr(rho, metr, profit_rate, u_f + u_f - u_f * u_s)\n",
    "        out_dict[k][\"rho\"] = rho\n",
    "        out_dict[k][\"metr\"] = metr\n",
    "        out_dict[k][\"eatr\"] = eatr\n",
    "    return out_dict"
   ]
  },
  {
   "cell_type": "code",
   "execution_count": 8,
   "metadata": {
    "id": "C37mzRCgUtav"
   },
   "outputs": [],
   "source": [
    "base_df = pd.DataFrame(compute_outputs(u_s, bonus_s, franchise_tax_rate, tau_GR))\n",
    "repealGR_df = pd.DataFrame(compute_outputs(u_s, bonus_s, franchise_tax_rate, 0.0))\n",
    "fedbonus_df = pd.DataFrame(compute_outputs(u_s, federal_bonus_depreciation, franchise_tax_rate, tau_GR))\n",
    "repealFT_df = pd.DataFrame(compute_outputs(u_s, bonus_s, 0.0, tau_GR))"
   ]
  },
  {
   "cell_type": "code",
   "execution_count": 9,
   "metadata": {
    "id": "S_sLTwn_XYZp"
   },
   "outputs": [],
   "source": [
    "# Create policy names and put in one dataframe\n",
    "base_df['Policy'] = \"Current Law\"\n",
    "repealGR_df['Policy'] = \"Repeal Business Tax\"\n",
    "fedbonus_df['Policy'] = \"Follow Federal Bonus Depreciation\"\n",
    "repealFT_df['Policy'] = \"Repeal Franchise Tax\"\n",
    "# append dataframes together\n",
    "df = pd.concat([base_df, repealGR_df, fedbonus_df, repealFT_df])\n",
    "df.reset_index(inplace=True)\n",
    "df.rename(columns={\"index\": \"output_var\"}, inplace=True)\n",
    "df = pd.melt(df, id_vars=[\"Policy\", \"output_var\"], var_name=\"asset_type\")"
   ]
  },
  {
   "cell_type": "code",
   "execution_count": 10,
   "metadata": {
    "colab": {
     "base_uri": "https://localhost:8080/",
     "height": 417
    },
    "id": "7CoFvIwXcIS6",
    "outputId": "7d047ebd-24ee-470f-d50d-c4838cf860ec"
   },
   "outputs": [
    {
     "data": {
      "application/vnd.plotly.v1+json": {
       "config": {
        "plotlyServerURL": "https://plot.ly"
       },
       "data": [
        {
         "alignmentgroup": "True",
         "hovertemplate": "Policy=%{x}<br>Marginal Effective Tax Rate=%{y}<extra></extra>",
         "legendgroup": "Current Law",
         "marker": {
          "color": "#636efa",
          "pattern": {
           "shape": ""
          }
         },
         "name": "Current Law",
         "offsetgroup": "Current Law",
         "orientation": "v",
         "showlegend": true,
         "textposition": "auto",
         "type": "bar",
         "x": [
          "Current Law"
         ],
         "xaxis": "x",
         "y": [
          0.10578990710478837
         ],
         "yaxis": "y"
        },
        {
         "alignmentgroup": "True",
         "hovertemplate": "Policy=%{x}<br>Marginal Effective Tax Rate=%{y}<extra></extra>",
         "legendgroup": "Repeal Business Tax",
         "marker": {
          "color": "#EF553B",
          "pattern": {
           "shape": ""
          }
         },
         "name": "Repeal Business Tax",
         "offsetgroup": "Repeal Business Tax",
         "orientation": "v",
         "showlegend": true,
         "textposition": "auto",
         "type": "bar",
         "x": [
          "Repeal Business Tax"
         ],
         "xaxis": "x",
         "y": [
          0.098933100644892
         ],
         "yaxis": "y"
        },
        {
         "alignmentgroup": "True",
         "hovertemplate": "Policy=%{x}<br>Marginal Effective Tax Rate=%{y}<extra></extra>",
         "legendgroup": "Follow Federal Bonus Depreciation",
         "marker": {
          "color": "#00cc96",
          "pattern": {
           "shape": ""
          }
         },
         "name": "Follow Federal Bonus Depreciation",
         "offsetgroup": "Follow Federal Bonus Depreciation",
         "orientation": "v",
         "showlegend": true,
         "textposition": "auto",
         "type": "bar",
         "x": [
          "Follow Federal Bonus Depreciation"
         ],
         "xaxis": "x",
         "y": [
          0.08170088019750056
         ],
         "yaxis": "y"
        },
        {
         "alignmentgroup": "True",
         "hovertemplate": "Policy=%{x}<br>Marginal Effective Tax Rate=%{y}<extra></extra>",
         "legendgroup": "Repeal Franchise Tax",
         "marker": {
          "color": "#ab63fa",
          "pattern": {
           "shape": ""
          }
         },
         "name": "Repeal Franchise Tax",
         "offsetgroup": "Repeal Franchise Tax",
         "orientation": "v",
         "showlegend": true,
         "textposition": "auto",
         "type": "bar",
         "x": [
          "Repeal Franchise Tax"
         ],
         "xaxis": "x",
         "y": [
          0.0696304419211185
         ],
         "yaxis": "y"
        }
       ],
       "layout": {
        "barmode": "relative",
        "height": 400,
        "legend": {
         "title": {
          "text": "Policy"
         },
         "tracegroupgap": 0
        },
        "margin": {
         "t": 60
        },
        "template": {
         "data": {
          "bar": [
           {
            "error_x": {
             "color": "#2a3f5f"
            },
            "error_y": {
             "color": "#2a3f5f"
            },
            "marker": {
             "line": {
              "color": "white",
              "width": 0.5
             },
             "pattern": {
              "fillmode": "overlay",
              "size": 10,
              "solidity": 0.2
             }
            },
            "type": "bar"
           }
          ],
          "barpolar": [
           {
            "marker": {
             "line": {
              "color": "white",
              "width": 0.5
             },
             "pattern": {
              "fillmode": "overlay",
              "size": 10,
              "solidity": 0.2
             }
            },
            "type": "barpolar"
           }
          ],
          "carpet": [
           {
            "aaxis": {
             "endlinecolor": "#2a3f5f",
             "gridcolor": "#C8D4E3",
             "linecolor": "#C8D4E3",
             "minorgridcolor": "#C8D4E3",
             "startlinecolor": "#2a3f5f"
            },
            "baxis": {
             "endlinecolor": "#2a3f5f",
             "gridcolor": "#C8D4E3",
             "linecolor": "#C8D4E3",
             "minorgridcolor": "#C8D4E3",
             "startlinecolor": "#2a3f5f"
            },
            "type": "carpet"
           }
          ],
          "choropleth": [
           {
            "colorbar": {
             "outlinewidth": 0,
             "ticks": ""
            },
            "type": "choropleth"
           }
          ],
          "contour": [
           {
            "colorbar": {
             "outlinewidth": 0,
             "ticks": ""
            },
            "colorscale": [
             [
              0,
              "#0d0887"
             ],
             [
              0.1111111111111111,
              "#46039f"
             ],
             [
              0.2222222222222222,
              "#7201a8"
             ],
             [
              0.3333333333333333,
              "#9c179e"
             ],
             [
              0.4444444444444444,
              "#bd3786"
             ],
             [
              0.5555555555555556,
              "#d8576b"
             ],
             [
              0.6666666666666666,
              "#ed7953"
             ],
             [
              0.7777777777777778,
              "#fb9f3a"
             ],
             [
              0.8888888888888888,
              "#fdca26"
             ],
             [
              1,
              "#f0f921"
             ]
            ],
            "type": "contour"
           }
          ],
          "contourcarpet": [
           {
            "colorbar": {
             "outlinewidth": 0,
             "ticks": ""
            },
            "type": "contourcarpet"
           }
          ],
          "heatmap": [
           {
            "colorbar": {
             "outlinewidth": 0,
             "ticks": ""
            },
            "colorscale": [
             [
              0,
              "#0d0887"
             ],
             [
              0.1111111111111111,
              "#46039f"
             ],
             [
              0.2222222222222222,
              "#7201a8"
             ],
             [
              0.3333333333333333,
              "#9c179e"
             ],
             [
              0.4444444444444444,
              "#bd3786"
             ],
             [
              0.5555555555555556,
              "#d8576b"
             ],
             [
              0.6666666666666666,
              "#ed7953"
             ],
             [
              0.7777777777777778,
              "#fb9f3a"
             ],
             [
              0.8888888888888888,
              "#fdca26"
             ],
             [
              1,
              "#f0f921"
             ]
            ],
            "type": "heatmap"
           }
          ],
          "heatmapgl": [
           {
            "colorbar": {
             "outlinewidth": 0,
             "ticks": ""
            },
            "colorscale": [
             [
              0,
              "#0d0887"
             ],
             [
              0.1111111111111111,
              "#46039f"
             ],
             [
              0.2222222222222222,
              "#7201a8"
             ],
             [
              0.3333333333333333,
              "#9c179e"
             ],
             [
              0.4444444444444444,
              "#bd3786"
             ],
             [
              0.5555555555555556,
              "#d8576b"
             ],
             [
              0.6666666666666666,
              "#ed7953"
             ],
             [
              0.7777777777777778,
              "#fb9f3a"
             ],
             [
              0.8888888888888888,
              "#fdca26"
             ],
             [
              1,
              "#f0f921"
             ]
            ],
            "type": "heatmapgl"
           }
          ],
          "histogram": [
           {
            "marker": {
             "pattern": {
              "fillmode": "overlay",
              "size": 10,
              "solidity": 0.2
             }
            },
            "type": "histogram"
           }
          ],
          "histogram2d": [
           {
            "colorbar": {
             "outlinewidth": 0,
             "ticks": ""
            },
            "colorscale": [
             [
              0,
              "#0d0887"
             ],
             [
              0.1111111111111111,
              "#46039f"
             ],
             [
              0.2222222222222222,
              "#7201a8"
             ],
             [
              0.3333333333333333,
              "#9c179e"
             ],
             [
              0.4444444444444444,
              "#bd3786"
             ],
             [
              0.5555555555555556,
              "#d8576b"
             ],
             [
              0.6666666666666666,
              "#ed7953"
             ],
             [
              0.7777777777777778,
              "#fb9f3a"
             ],
             [
              0.8888888888888888,
              "#fdca26"
             ],
             [
              1,
              "#f0f921"
             ]
            ],
            "type": "histogram2d"
           }
          ],
          "histogram2dcontour": [
           {
            "colorbar": {
             "outlinewidth": 0,
             "ticks": ""
            },
            "colorscale": [
             [
              0,
              "#0d0887"
             ],
             [
              0.1111111111111111,
              "#46039f"
             ],
             [
              0.2222222222222222,
              "#7201a8"
             ],
             [
              0.3333333333333333,
              "#9c179e"
             ],
             [
              0.4444444444444444,
              "#bd3786"
             ],
             [
              0.5555555555555556,
              "#d8576b"
             ],
             [
              0.6666666666666666,
              "#ed7953"
             ],
             [
              0.7777777777777778,
              "#fb9f3a"
             ],
             [
              0.8888888888888888,
              "#fdca26"
             ],
             [
              1,
              "#f0f921"
             ]
            ],
            "type": "histogram2dcontour"
           }
          ],
          "mesh3d": [
           {
            "colorbar": {
             "outlinewidth": 0,
             "ticks": ""
            },
            "type": "mesh3d"
           }
          ],
          "parcoords": [
           {
            "line": {
             "colorbar": {
              "outlinewidth": 0,
              "ticks": ""
             }
            },
            "type": "parcoords"
           }
          ],
          "pie": [
           {
            "automargin": true,
            "type": "pie"
           }
          ],
          "scatter": [
           {
            "fillpattern": {
             "fillmode": "overlay",
             "size": 10,
             "solidity": 0.2
            },
            "type": "scatter"
           }
          ],
          "scatter3d": [
           {
            "line": {
             "colorbar": {
              "outlinewidth": 0,
              "ticks": ""
             }
            },
            "marker": {
             "colorbar": {
              "outlinewidth": 0,
              "ticks": ""
             }
            },
            "type": "scatter3d"
           }
          ],
          "scattercarpet": [
           {
            "marker": {
             "colorbar": {
              "outlinewidth": 0,
              "ticks": ""
             }
            },
            "type": "scattercarpet"
           }
          ],
          "scattergeo": [
           {
            "marker": {
             "colorbar": {
              "outlinewidth": 0,
              "ticks": ""
             }
            },
            "type": "scattergeo"
           }
          ],
          "scattergl": [
           {
            "marker": {
             "colorbar": {
              "outlinewidth": 0,
              "ticks": ""
             }
            },
            "type": "scattergl"
           }
          ],
          "scattermapbox": [
           {
            "marker": {
             "colorbar": {
              "outlinewidth": 0,
              "ticks": ""
             }
            },
            "type": "scattermapbox"
           }
          ],
          "scatterpolar": [
           {
            "marker": {
             "colorbar": {
              "outlinewidth": 0,
              "ticks": ""
             }
            },
            "type": "scatterpolar"
           }
          ],
          "scatterpolargl": [
           {
            "marker": {
             "colorbar": {
              "outlinewidth": 0,
              "ticks": ""
             }
            },
            "type": "scatterpolargl"
           }
          ],
          "scatterternary": [
           {
            "marker": {
             "colorbar": {
              "outlinewidth": 0,
              "ticks": ""
             }
            },
            "type": "scatterternary"
           }
          ],
          "surface": [
           {
            "colorbar": {
             "outlinewidth": 0,
             "ticks": ""
            },
            "colorscale": [
             [
              0,
              "#0d0887"
             ],
             [
              0.1111111111111111,
              "#46039f"
             ],
             [
              0.2222222222222222,
              "#7201a8"
             ],
             [
              0.3333333333333333,
              "#9c179e"
             ],
             [
              0.4444444444444444,
              "#bd3786"
             ],
             [
              0.5555555555555556,
              "#d8576b"
             ],
             [
              0.6666666666666666,
              "#ed7953"
             ],
             [
              0.7777777777777778,
              "#fb9f3a"
             ],
             [
              0.8888888888888888,
              "#fdca26"
             ],
             [
              1,
              "#f0f921"
             ]
            ],
            "type": "surface"
           }
          ],
          "table": [
           {
            "cells": {
             "fill": {
              "color": "#EBF0F8"
             },
             "line": {
              "color": "white"
             }
            },
            "header": {
             "fill": {
              "color": "#C8D4E3"
             },
             "line": {
              "color": "white"
             }
            },
            "type": "table"
           }
          ]
         },
         "layout": {
          "annotationdefaults": {
           "arrowcolor": "#2a3f5f",
           "arrowhead": 0,
           "arrowwidth": 1
          },
          "autotypenumbers": "strict",
          "coloraxis": {
           "colorbar": {
            "outlinewidth": 0,
            "ticks": ""
           }
          },
          "colorscale": {
           "diverging": [
            [
             0,
             "#8e0152"
            ],
            [
             0.1,
             "#c51b7d"
            ],
            [
             0.2,
             "#de77ae"
            ],
            [
             0.3,
             "#f1b6da"
            ],
            [
             0.4,
             "#fde0ef"
            ],
            [
             0.5,
             "#f7f7f7"
            ],
            [
             0.6,
             "#e6f5d0"
            ],
            [
             0.7,
             "#b8e186"
            ],
            [
             0.8,
             "#7fbc41"
            ],
            [
             0.9,
             "#4d9221"
            ],
            [
             1,
             "#276419"
            ]
           ],
           "sequential": [
            [
             0,
             "#0d0887"
            ],
            [
             0.1111111111111111,
             "#46039f"
            ],
            [
             0.2222222222222222,
             "#7201a8"
            ],
            [
             0.3333333333333333,
             "#9c179e"
            ],
            [
             0.4444444444444444,
             "#bd3786"
            ],
            [
             0.5555555555555556,
             "#d8576b"
            ],
            [
             0.6666666666666666,
             "#ed7953"
            ],
            [
             0.7777777777777778,
             "#fb9f3a"
            ],
            [
             0.8888888888888888,
             "#fdca26"
            ],
            [
             1,
             "#f0f921"
            ]
           ],
           "sequentialminus": [
            [
             0,
             "#0d0887"
            ],
            [
             0.1111111111111111,
             "#46039f"
            ],
            [
             0.2222222222222222,
             "#7201a8"
            ],
            [
             0.3333333333333333,
             "#9c179e"
            ],
            [
             0.4444444444444444,
             "#bd3786"
            ],
            [
             0.5555555555555556,
             "#d8576b"
            ],
            [
             0.6666666666666666,
             "#ed7953"
            ],
            [
             0.7777777777777778,
             "#fb9f3a"
            ],
            [
             0.8888888888888888,
             "#fdca26"
            ],
            [
             1,
             "#f0f921"
            ]
           ]
          },
          "colorway": [
           "#636efa",
           "#EF553B",
           "#00cc96",
           "#ab63fa",
           "#FFA15A",
           "#19d3f3",
           "#FF6692",
           "#B6E880",
           "#FF97FF",
           "#FECB52"
          ],
          "font": {
           "color": "#2a3f5f"
          },
          "geo": {
           "bgcolor": "white",
           "lakecolor": "white",
           "landcolor": "white",
           "showlakes": true,
           "showland": true,
           "subunitcolor": "#C8D4E3"
          },
          "hoverlabel": {
           "align": "left"
          },
          "hovermode": "closest",
          "mapbox": {
           "style": "light"
          },
          "paper_bgcolor": "white",
          "plot_bgcolor": "white",
          "polar": {
           "angularaxis": {
            "gridcolor": "#EBF0F8",
            "linecolor": "#EBF0F8",
            "ticks": ""
           },
           "bgcolor": "white",
           "radialaxis": {
            "gridcolor": "#EBF0F8",
            "linecolor": "#EBF0F8",
            "ticks": ""
           }
          },
          "scene": {
           "xaxis": {
            "backgroundcolor": "white",
            "gridcolor": "#DFE8F3",
            "gridwidth": 2,
            "linecolor": "#EBF0F8",
            "showbackground": true,
            "ticks": "",
            "zerolinecolor": "#EBF0F8"
           },
           "yaxis": {
            "backgroundcolor": "white",
            "gridcolor": "#DFE8F3",
            "gridwidth": 2,
            "linecolor": "#EBF0F8",
            "showbackground": true,
            "ticks": "",
            "zerolinecolor": "#EBF0F8"
           },
           "zaxis": {
            "backgroundcolor": "white",
            "gridcolor": "#DFE8F3",
            "gridwidth": 2,
            "linecolor": "#EBF0F8",
            "showbackground": true,
            "ticks": "",
            "zerolinecolor": "#EBF0F8"
           }
          },
          "shapedefaults": {
           "line": {
            "color": "#2a3f5f"
           }
          },
          "ternary": {
           "aaxis": {
            "gridcolor": "#DFE8F3",
            "linecolor": "#A2B1C6",
            "ticks": ""
           },
           "baxis": {
            "gridcolor": "#DFE8F3",
            "linecolor": "#A2B1C6",
            "ticks": ""
           },
           "bgcolor": "white",
           "caxis": {
            "gridcolor": "#DFE8F3",
            "linecolor": "#A2B1C6",
            "ticks": ""
           }
          },
          "title": {
           "x": 0.05
          },
          "xaxis": {
           "automargin": true,
           "gridcolor": "#EBF0F8",
           "linecolor": "#EBF0F8",
           "ticks": "",
           "title": {
            "standoff": 15
           },
           "zerolinecolor": "#EBF0F8",
           "zerolinewidth": 2
          },
          "yaxis": {
           "automargin": true,
           "gridcolor": "#EBF0F8",
           "linecolor": "#EBF0F8",
           "ticks": "",
           "title": {
            "standoff": 15
           },
           "zerolinecolor": "#EBF0F8",
           "zerolinewidth": 2
          }
         }
        },
        "xaxis": {
         "anchor": "y",
         "categoryarray": [
          "Current Law",
          "Repeal Business Tax",
          "Follow Federal Bonus Depreciation",
          "Repeal Franchise Tax"
         ],
         "categoryorder": "array",
         "domain": [
          0,
          1
         ],
         "title": {
          "text": "Policy"
         }
        },
        "yaxis": {
         "anchor": "x",
         "domain": [
          0,
          1
         ],
         "title": {
          "text": "Marginal Effective Tax Rate"
         }
        }
       }
      }
     },
     "metadata": {},
     "output_type": "display_data"
    }
   ],
   "source": [
    "# Plot results\n",
    "fig = px.bar(df[(df[\"output_var\"]==\"metr\") & (df[\"asset_type\"]==\"machines\")], x=\"Policy\", y=\"value\",\n",
    "             color='Policy', labels={'value':'Marginal Effective Tax Rate'}, height=400)\n",
    "fig.show()"
   ]
  },
  {
   "cell_type": "code",
   "execution_count": 11,
   "metadata": {
    "colab": {
     "base_uri": "https://localhost:8080/",
     "height": 417
    },
    "id": "9vgBW0hO52CB",
    "outputId": "460145e3-71f4-403e-dc80-92ab500fb3f6"
   },
   "outputs": [
    {
     "data": {
      "application/vnd.plotly.v1+json": {
       "config": {
        "plotlyServerURL": "https://plot.ly"
       },
       "data": [
        {
         "alignmentgroup": "True",
         "hovertemplate": "Policy=%{x}<br>Cost of Capital=%{y}<extra></extra>",
         "legendgroup": "Current Law",
         "marker": {
          "color": "#636efa",
          "pattern": {
           "shape": ""
          }
         },
         "name": "Current Law",
         "offsetgroup": "Current Law",
         "orientation": "v",
         "showlegend": true,
         "textposition": "auto",
         "type": "bar",
         "x": [
          "Current Law"
         ],
         "xaxis": "x",
         "y": [
          0.06709832563590973
         ],
         "yaxis": "y"
        },
        {
         "alignmentgroup": "True",
         "hovertemplate": "Policy=%{x}<br>Cost of Capital=%{y}<extra></extra>",
         "legendgroup": "Repeal Business Tax",
         "marker": {
          "color": "#EF553B",
          "pattern": {
           "shape": ""
          }
         },
         "name": "Repeal Business Tax",
         "offsetgroup": "Repeal Business Tax",
         "orientation": "v",
         "showlegend": true,
         "textposition": "auto",
         "type": "bar",
         "x": [
          "Repeal Business Tax"
         ],
         "xaxis": "x",
         "y": [
          0.066587730659002
         ],
         "yaxis": "y"
        },
        {
         "alignmentgroup": "True",
         "hovertemplate": "Policy=%{x}<br>Cost of Capital=%{y}<extra></extra>",
         "legendgroup": "Follow Federal Bonus Depreciation",
         "marker": {
          "color": "#00cc96",
          "pattern": {
           "shape": ""
          }
         },
         "name": "Follow Federal Bonus Depreciation",
         "offsetgroup": "Follow Federal Bonus Depreciation",
         "orientation": "v",
         "showlegend": true,
         "textposition": "auto",
         "type": "bar",
         "x": [
          "Follow Federal Bonus Depreciation"
         ],
         "xaxis": "x",
         "y": [
          0.06533818742296554
         ],
         "yaxis": "y"
        },
        {
         "alignmentgroup": "True",
         "hovertemplate": "Policy=%{x}<br>Cost of Capital=%{y}<extra></extra>",
         "legendgroup": "Repeal Franchise Tax",
         "marker": {
          "color": "#ab63fa",
          "pattern": {
           "shape": ""
          }
         },
         "name": "Repeal Franchise Tax",
         "offsetgroup": "Repeal Franchise Tax",
         "orientation": "v",
         "showlegend": true,
         "textposition": "auto",
         "type": "bar",
         "x": [
          "Repeal Franchise Tax"
         ],
         "xaxis": "x",
         "y": [
          0.06449050216549851
         ],
         "yaxis": "y"
        }
       ],
       "layout": {
        "barmode": "relative",
        "height": 400,
        "legend": {
         "title": {
          "text": "Policy"
         },
         "tracegroupgap": 0
        },
        "margin": {
         "t": 60
        },
        "template": {
         "data": {
          "bar": [
           {
            "error_x": {
             "color": "#2a3f5f"
            },
            "error_y": {
             "color": "#2a3f5f"
            },
            "marker": {
             "line": {
              "color": "white",
              "width": 0.5
             },
             "pattern": {
              "fillmode": "overlay",
              "size": 10,
              "solidity": 0.2
             }
            },
            "type": "bar"
           }
          ],
          "barpolar": [
           {
            "marker": {
             "line": {
              "color": "white",
              "width": 0.5
             },
             "pattern": {
              "fillmode": "overlay",
              "size": 10,
              "solidity": 0.2
             }
            },
            "type": "barpolar"
           }
          ],
          "carpet": [
           {
            "aaxis": {
             "endlinecolor": "#2a3f5f",
             "gridcolor": "#C8D4E3",
             "linecolor": "#C8D4E3",
             "minorgridcolor": "#C8D4E3",
             "startlinecolor": "#2a3f5f"
            },
            "baxis": {
             "endlinecolor": "#2a3f5f",
             "gridcolor": "#C8D4E3",
             "linecolor": "#C8D4E3",
             "minorgridcolor": "#C8D4E3",
             "startlinecolor": "#2a3f5f"
            },
            "type": "carpet"
           }
          ],
          "choropleth": [
           {
            "colorbar": {
             "outlinewidth": 0,
             "ticks": ""
            },
            "type": "choropleth"
           }
          ],
          "contour": [
           {
            "colorbar": {
             "outlinewidth": 0,
             "ticks": ""
            },
            "colorscale": [
             [
              0,
              "#0d0887"
             ],
             [
              0.1111111111111111,
              "#46039f"
             ],
             [
              0.2222222222222222,
              "#7201a8"
             ],
             [
              0.3333333333333333,
              "#9c179e"
             ],
             [
              0.4444444444444444,
              "#bd3786"
             ],
             [
              0.5555555555555556,
              "#d8576b"
             ],
             [
              0.6666666666666666,
              "#ed7953"
             ],
             [
              0.7777777777777778,
              "#fb9f3a"
             ],
             [
              0.8888888888888888,
              "#fdca26"
             ],
             [
              1,
              "#f0f921"
             ]
            ],
            "type": "contour"
           }
          ],
          "contourcarpet": [
           {
            "colorbar": {
             "outlinewidth": 0,
             "ticks": ""
            },
            "type": "contourcarpet"
           }
          ],
          "heatmap": [
           {
            "colorbar": {
             "outlinewidth": 0,
             "ticks": ""
            },
            "colorscale": [
             [
              0,
              "#0d0887"
             ],
             [
              0.1111111111111111,
              "#46039f"
             ],
             [
              0.2222222222222222,
              "#7201a8"
             ],
             [
              0.3333333333333333,
              "#9c179e"
             ],
             [
              0.4444444444444444,
              "#bd3786"
             ],
             [
              0.5555555555555556,
              "#d8576b"
             ],
             [
              0.6666666666666666,
              "#ed7953"
             ],
             [
              0.7777777777777778,
              "#fb9f3a"
             ],
             [
              0.8888888888888888,
              "#fdca26"
             ],
             [
              1,
              "#f0f921"
             ]
            ],
            "type": "heatmap"
           }
          ],
          "heatmapgl": [
           {
            "colorbar": {
             "outlinewidth": 0,
             "ticks": ""
            },
            "colorscale": [
             [
              0,
              "#0d0887"
             ],
             [
              0.1111111111111111,
              "#46039f"
             ],
             [
              0.2222222222222222,
              "#7201a8"
             ],
             [
              0.3333333333333333,
              "#9c179e"
             ],
             [
              0.4444444444444444,
              "#bd3786"
             ],
             [
              0.5555555555555556,
              "#d8576b"
             ],
             [
              0.6666666666666666,
              "#ed7953"
             ],
             [
              0.7777777777777778,
              "#fb9f3a"
             ],
             [
              0.8888888888888888,
              "#fdca26"
             ],
             [
              1,
              "#f0f921"
             ]
            ],
            "type": "heatmapgl"
           }
          ],
          "histogram": [
           {
            "marker": {
             "pattern": {
              "fillmode": "overlay",
              "size": 10,
              "solidity": 0.2
             }
            },
            "type": "histogram"
           }
          ],
          "histogram2d": [
           {
            "colorbar": {
             "outlinewidth": 0,
             "ticks": ""
            },
            "colorscale": [
             [
              0,
              "#0d0887"
             ],
             [
              0.1111111111111111,
              "#46039f"
             ],
             [
              0.2222222222222222,
              "#7201a8"
             ],
             [
              0.3333333333333333,
              "#9c179e"
             ],
             [
              0.4444444444444444,
              "#bd3786"
             ],
             [
              0.5555555555555556,
              "#d8576b"
             ],
             [
              0.6666666666666666,
              "#ed7953"
             ],
             [
              0.7777777777777778,
              "#fb9f3a"
             ],
             [
              0.8888888888888888,
              "#fdca26"
             ],
             [
              1,
              "#f0f921"
             ]
            ],
            "type": "histogram2d"
           }
          ],
          "histogram2dcontour": [
           {
            "colorbar": {
             "outlinewidth": 0,
             "ticks": ""
            },
            "colorscale": [
             [
              0,
              "#0d0887"
             ],
             [
              0.1111111111111111,
              "#46039f"
             ],
             [
              0.2222222222222222,
              "#7201a8"
             ],
             [
              0.3333333333333333,
              "#9c179e"
             ],
             [
              0.4444444444444444,
              "#bd3786"
             ],
             [
              0.5555555555555556,
              "#d8576b"
             ],
             [
              0.6666666666666666,
              "#ed7953"
             ],
             [
              0.7777777777777778,
              "#fb9f3a"
             ],
             [
              0.8888888888888888,
              "#fdca26"
             ],
             [
              1,
              "#f0f921"
             ]
            ],
            "type": "histogram2dcontour"
           }
          ],
          "mesh3d": [
           {
            "colorbar": {
             "outlinewidth": 0,
             "ticks": ""
            },
            "type": "mesh3d"
           }
          ],
          "parcoords": [
           {
            "line": {
             "colorbar": {
              "outlinewidth": 0,
              "ticks": ""
             }
            },
            "type": "parcoords"
           }
          ],
          "pie": [
           {
            "automargin": true,
            "type": "pie"
           }
          ],
          "scatter": [
           {
            "fillpattern": {
             "fillmode": "overlay",
             "size": 10,
             "solidity": 0.2
            },
            "type": "scatter"
           }
          ],
          "scatter3d": [
           {
            "line": {
             "colorbar": {
              "outlinewidth": 0,
              "ticks": ""
             }
            },
            "marker": {
             "colorbar": {
              "outlinewidth": 0,
              "ticks": ""
             }
            },
            "type": "scatter3d"
           }
          ],
          "scattercarpet": [
           {
            "marker": {
             "colorbar": {
              "outlinewidth": 0,
              "ticks": ""
             }
            },
            "type": "scattercarpet"
           }
          ],
          "scattergeo": [
           {
            "marker": {
             "colorbar": {
              "outlinewidth": 0,
              "ticks": ""
             }
            },
            "type": "scattergeo"
           }
          ],
          "scattergl": [
           {
            "marker": {
             "colorbar": {
              "outlinewidth": 0,
              "ticks": ""
             }
            },
            "type": "scattergl"
           }
          ],
          "scattermapbox": [
           {
            "marker": {
             "colorbar": {
              "outlinewidth": 0,
              "ticks": ""
             }
            },
            "type": "scattermapbox"
           }
          ],
          "scatterpolar": [
           {
            "marker": {
             "colorbar": {
              "outlinewidth": 0,
              "ticks": ""
             }
            },
            "type": "scatterpolar"
           }
          ],
          "scatterpolargl": [
           {
            "marker": {
             "colorbar": {
              "outlinewidth": 0,
              "ticks": ""
             }
            },
            "type": "scatterpolargl"
           }
          ],
          "scatterternary": [
           {
            "marker": {
             "colorbar": {
              "outlinewidth": 0,
              "ticks": ""
             }
            },
            "type": "scatterternary"
           }
          ],
          "surface": [
           {
            "colorbar": {
             "outlinewidth": 0,
             "ticks": ""
            },
            "colorscale": [
             [
              0,
              "#0d0887"
             ],
             [
              0.1111111111111111,
              "#46039f"
             ],
             [
              0.2222222222222222,
              "#7201a8"
             ],
             [
              0.3333333333333333,
              "#9c179e"
             ],
             [
              0.4444444444444444,
              "#bd3786"
             ],
             [
              0.5555555555555556,
              "#d8576b"
             ],
             [
              0.6666666666666666,
              "#ed7953"
             ],
             [
              0.7777777777777778,
              "#fb9f3a"
             ],
             [
              0.8888888888888888,
              "#fdca26"
             ],
             [
              1,
              "#f0f921"
             ]
            ],
            "type": "surface"
           }
          ],
          "table": [
           {
            "cells": {
             "fill": {
              "color": "#EBF0F8"
             },
             "line": {
              "color": "white"
             }
            },
            "header": {
             "fill": {
              "color": "#C8D4E3"
             },
             "line": {
              "color": "white"
             }
            },
            "type": "table"
           }
          ]
         },
         "layout": {
          "annotationdefaults": {
           "arrowcolor": "#2a3f5f",
           "arrowhead": 0,
           "arrowwidth": 1
          },
          "autotypenumbers": "strict",
          "coloraxis": {
           "colorbar": {
            "outlinewidth": 0,
            "ticks": ""
           }
          },
          "colorscale": {
           "diverging": [
            [
             0,
             "#8e0152"
            ],
            [
             0.1,
             "#c51b7d"
            ],
            [
             0.2,
             "#de77ae"
            ],
            [
             0.3,
             "#f1b6da"
            ],
            [
             0.4,
             "#fde0ef"
            ],
            [
             0.5,
             "#f7f7f7"
            ],
            [
             0.6,
             "#e6f5d0"
            ],
            [
             0.7,
             "#b8e186"
            ],
            [
             0.8,
             "#7fbc41"
            ],
            [
             0.9,
             "#4d9221"
            ],
            [
             1,
             "#276419"
            ]
           ],
           "sequential": [
            [
             0,
             "#0d0887"
            ],
            [
             0.1111111111111111,
             "#46039f"
            ],
            [
             0.2222222222222222,
             "#7201a8"
            ],
            [
             0.3333333333333333,
             "#9c179e"
            ],
            [
             0.4444444444444444,
             "#bd3786"
            ],
            [
             0.5555555555555556,
             "#d8576b"
            ],
            [
             0.6666666666666666,
             "#ed7953"
            ],
            [
             0.7777777777777778,
             "#fb9f3a"
            ],
            [
             0.8888888888888888,
             "#fdca26"
            ],
            [
             1,
             "#f0f921"
            ]
           ],
           "sequentialminus": [
            [
             0,
             "#0d0887"
            ],
            [
             0.1111111111111111,
             "#46039f"
            ],
            [
             0.2222222222222222,
             "#7201a8"
            ],
            [
             0.3333333333333333,
             "#9c179e"
            ],
            [
             0.4444444444444444,
             "#bd3786"
            ],
            [
             0.5555555555555556,
             "#d8576b"
            ],
            [
             0.6666666666666666,
             "#ed7953"
            ],
            [
             0.7777777777777778,
             "#fb9f3a"
            ],
            [
             0.8888888888888888,
             "#fdca26"
            ],
            [
             1,
             "#f0f921"
            ]
           ]
          },
          "colorway": [
           "#636efa",
           "#EF553B",
           "#00cc96",
           "#ab63fa",
           "#FFA15A",
           "#19d3f3",
           "#FF6692",
           "#B6E880",
           "#FF97FF",
           "#FECB52"
          ],
          "font": {
           "color": "#2a3f5f"
          },
          "geo": {
           "bgcolor": "white",
           "lakecolor": "white",
           "landcolor": "white",
           "showlakes": true,
           "showland": true,
           "subunitcolor": "#C8D4E3"
          },
          "hoverlabel": {
           "align": "left"
          },
          "hovermode": "closest",
          "mapbox": {
           "style": "light"
          },
          "paper_bgcolor": "white",
          "plot_bgcolor": "white",
          "polar": {
           "angularaxis": {
            "gridcolor": "#EBF0F8",
            "linecolor": "#EBF0F8",
            "ticks": ""
           },
           "bgcolor": "white",
           "radialaxis": {
            "gridcolor": "#EBF0F8",
            "linecolor": "#EBF0F8",
            "ticks": ""
           }
          },
          "scene": {
           "xaxis": {
            "backgroundcolor": "white",
            "gridcolor": "#DFE8F3",
            "gridwidth": 2,
            "linecolor": "#EBF0F8",
            "showbackground": true,
            "ticks": "",
            "zerolinecolor": "#EBF0F8"
           },
           "yaxis": {
            "backgroundcolor": "white",
            "gridcolor": "#DFE8F3",
            "gridwidth": 2,
            "linecolor": "#EBF0F8",
            "showbackground": true,
            "ticks": "",
            "zerolinecolor": "#EBF0F8"
           },
           "zaxis": {
            "backgroundcolor": "white",
            "gridcolor": "#DFE8F3",
            "gridwidth": 2,
            "linecolor": "#EBF0F8",
            "showbackground": true,
            "ticks": "",
            "zerolinecolor": "#EBF0F8"
           }
          },
          "shapedefaults": {
           "line": {
            "color": "#2a3f5f"
           }
          },
          "ternary": {
           "aaxis": {
            "gridcolor": "#DFE8F3",
            "linecolor": "#A2B1C6",
            "ticks": ""
           },
           "baxis": {
            "gridcolor": "#DFE8F3",
            "linecolor": "#A2B1C6",
            "ticks": ""
           },
           "bgcolor": "white",
           "caxis": {
            "gridcolor": "#DFE8F3",
            "linecolor": "#A2B1C6",
            "ticks": ""
           }
          },
          "title": {
           "x": 0.05
          },
          "xaxis": {
           "automargin": true,
           "gridcolor": "#EBF0F8",
           "linecolor": "#EBF0F8",
           "ticks": "",
           "title": {
            "standoff": 15
           },
           "zerolinecolor": "#EBF0F8",
           "zerolinewidth": 2
          },
          "yaxis": {
           "automargin": true,
           "gridcolor": "#EBF0F8",
           "linecolor": "#EBF0F8",
           "ticks": "",
           "title": {
            "standoff": 15
           },
           "zerolinecolor": "#EBF0F8",
           "zerolinewidth": 2
          }
         }
        },
        "xaxis": {
         "anchor": "y",
         "categoryarray": [
          "Current Law",
          "Repeal Business Tax",
          "Follow Federal Bonus Depreciation",
          "Repeal Franchise Tax"
         ],
         "categoryorder": "array",
         "domain": [
          0,
          1
         ],
         "title": {
          "text": "Policy"
         }
        },
        "yaxis": {
         "anchor": "x",
         "domain": [
          0,
          1
         ],
         "title": {
          "text": "Cost of Capital"
         }
        }
       }
      }
     },
     "metadata": {},
     "output_type": "display_data"
    }
   ],
   "source": [
    "# Plot results\n",
    "fig = px.bar(df[(df[\"output_var\"]==\"rho\") & (df[\"asset_type\"]==\"machines\")], x=\"Policy\", y=\"value\",\n",
    "             color='Policy', labels={'value':'Cost of Capital'}, height=400)\n",
    "fig.show()"
   ]
  },
  {
   "cell_type": "code",
   "execution_count": 12,
   "metadata": {
    "colab": {
     "base_uri": "https://localhost:8080/",
     "height": 417
    },
    "id": "Msb8FNavdHVV",
    "outputId": "3f682dc9-6edd-4387-8337-8f69102c0ff1"
   },
   "outputs": [
    {
     "data": {
      "application/vnd.plotly.v1+json": {
       "config": {
        "plotlyServerURL": "https://plot.ly"
       },
       "data": [
        {
         "alignmentgroup": "True",
         "hovertemplate": "Policy=%{y}<br>Marginal Effective Tax Rate=%{x}<extra></extra>",
         "legendgroup": "Current Law",
         "marker": {
          "color": "#636efa",
          "pattern": {
           "shape": ""
          }
         },
         "name": "Current Law",
         "offsetgroup": "Current Law",
         "orientation": "h",
         "showlegend": true,
         "textposition": "auto",
         "type": "bar",
         "x": [
          0.10578990710478837
         ],
         "xaxis": "x",
         "y": [
          "Current Law"
         ],
         "yaxis": "y"
        },
        {
         "alignmentgroup": "True",
         "hovertemplate": "Policy=%{y}<br>Marginal Effective Tax Rate=%{x}<extra></extra>",
         "legendgroup": "Repeal Business Tax",
         "marker": {
          "color": "#EF553B",
          "pattern": {
           "shape": ""
          }
         },
         "name": "Repeal Business Tax",
         "offsetgroup": "Repeal Business Tax",
         "orientation": "h",
         "showlegend": true,
         "textposition": "auto",
         "type": "bar",
         "x": [
          0.098933100644892
         ],
         "xaxis": "x",
         "y": [
          "Repeal Business Tax"
         ],
         "yaxis": "y"
        },
        {
         "alignmentgroup": "True",
         "hovertemplate": "Policy=%{y}<br>Marginal Effective Tax Rate=%{x}<extra></extra>",
         "legendgroup": "Follow Federal Bonus Depreciation",
         "marker": {
          "color": "#00cc96",
          "pattern": {
           "shape": ""
          }
         },
         "name": "Follow Federal Bonus Depreciation",
         "offsetgroup": "Follow Federal Bonus Depreciation",
         "orientation": "h",
         "showlegend": true,
         "textposition": "auto",
         "type": "bar",
         "x": [
          0.08170088019750056
         ],
         "xaxis": "x",
         "y": [
          "Follow Federal Bonus Depreciation"
         ],
         "yaxis": "y"
        },
        {
         "alignmentgroup": "True",
         "hovertemplate": "Policy=%{y}<br>Marginal Effective Tax Rate=%{x}<extra></extra>",
         "legendgroup": "Repeal Franchise Tax",
         "marker": {
          "color": "#ab63fa",
          "pattern": {
           "shape": ""
          }
         },
         "name": "Repeal Franchise Tax",
         "offsetgroup": "Repeal Franchise Tax",
         "orientation": "h",
         "showlegend": true,
         "textposition": "auto",
         "type": "bar",
         "x": [
          0.0696304419211185
         ],
         "xaxis": "x",
         "y": [
          "Repeal Franchise Tax"
         ],
         "yaxis": "y"
        }
       ],
       "layout": {
        "barmode": "relative",
        "height": 400,
        "legend": {
         "title": {
          "text": "Policy"
         },
         "tracegroupgap": 0
        },
        "margin": {
         "t": 60
        },
        "template": {
         "data": {
          "bar": [
           {
            "error_x": {
             "color": "#2a3f5f"
            },
            "error_y": {
             "color": "#2a3f5f"
            },
            "marker": {
             "line": {
              "color": "white",
              "width": 0.5
             },
             "pattern": {
              "fillmode": "overlay",
              "size": 10,
              "solidity": 0.2
             }
            },
            "type": "bar"
           }
          ],
          "barpolar": [
           {
            "marker": {
             "line": {
              "color": "white",
              "width": 0.5
             },
             "pattern": {
              "fillmode": "overlay",
              "size": 10,
              "solidity": 0.2
             }
            },
            "type": "barpolar"
           }
          ],
          "carpet": [
           {
            "aaxis": {
             "endlinecolor": "#2a3f5f",
             "gridcolor": "#C8D4E3",
             "linecolor": "#C8D4E3",
             "minorgridcolor": "#C8D4E3",
             "startlinecolor": "#2a3f5f"
            },
            "baxis": {
             "endlinecolor": "#2a3f5f",
             "gridcolor": "#C8D4E3",
             "linecolor": "#C8D4E3",
             "minorgridcolor": "#C8D4E3",
             "startlinecolor": "#2a3f5f"
            },
            "type": "carpet"
           }
          ],
          "choropleth": [
           {
            "colorbar": {
             "outlinewidth": 0,
             "ticks": ""
            },
            "type": "choropleth"
           }
          ],
          "contour": [
           {
            "colorbar": {
             "outlinewidth": 0,
             "ticks": ""
            },
            "colorscale": [
             [
              0,
              "#0d0887"
             ],
             [
              0.1111111111111111,
              "#46039f"
             ],
             [
              0.2222222222222222,
              "#7201a8"
             ],
             [
              0.3333333333333333,
              "#9c179e"
             ],
             [
              0.4444444444444444,
              "#bd3786"
             ],
             [
              0.5555555555555556,
              "#d8576b"
             ],
             [
              0.6666666666666666,
              "#ed7953"
             ],
             [
              0.7777777777777778,
              "#fb9f3a"
             ],
             [
              0.8888888888888888,
              "#fdca26"
             ],
             [
              1,
              "#f0f921"
             ]
            ],
            "type": "contour"
           }
          ],
          "contourcarpet": [
           {
            "colorbar": {
             "outlinewidth": 0,
             "ticks": ""
            },
            "type": "contourcarpet"
           }
          ],
          "heatmap": [
           {
            "colorbar": {
             "outlinewidth": 0,
             "ticks": ""
            },
            "colorscale": [
             [
              0,
              "#0d0887"
             ],
             [
              0.1111111111111111,
              "#46039f"
             ],
             [
              0.2222222222222222,
              "#7201a8"
             ],
             [
              0.3333333333333333,
              "#9c179e"
             ],
             [
              0.4444444444444444,
              "#bd3786"
             ],
             [
              0.5555555555555556,
              "#d8576b"
             ],
             [
              0.6666666666666666,
              "#ed7953"
             ],
             [
              0.7777777777777778,
              "#fb9f3a"
             ],
             [
              0.8888888888888888,
              "#fdca26"
             ],
             [
              1,
              "#f0f921"
             ]
            ],
            "type": "heatmap"
           }
          ],
          "heatmapgl": [
           {
            "colorbar": {
             "outlinewidth": 0,
             "ticks": ""
            },
            "colorscale": [
             [
              0,
              "#0d0887"
             ],
             [
              0.1111111111111111,
              "#46039f"
             ],
             [
              0.2222222222222222,
              "#7201a8"
             ],
             [
              0.3333333333333333,
              "#9c179e"
             ],
             [
              0.4444444444444444,
              "#bd3786"
             ],
             [
              0.5555555555555556,
              "#d8576b"
             ],
             [
              0.6666666666666666,
              "#ed7953"
             ],
             [
              0.7777777777777778,
              "#fb9f3a"
             ],
             [
              0.8888888888888888,
              "#fdca26"
             ],
             [
              1,
              "#f0f921"
             ]
            ],
            "type": "heatmapgl"
           }
          ],
          "histogram": [
           {
            "marker": {
             "pattern": {
              "fillmode": "overlay",
              "size": 10,
              "solidity": 0.2
             }
            },
            "type": "histogram"
           }
          ],
          "histogram2d": [
           {
            "colorbar": {
             "outlinewidth": 0,
             "ticks": ""
            },
            "colorscale": [
             [
              0,
              "#0d0887"
             ],
             [
              0.1111111111111111,
              "#46039f"
             ],
             [
              0.2222222222222222,
              "#7201a8"
             ],
             [
              0.3333333333333333,
              "#9c179e"
             ],
             [
              0.4444444444444444,
              "#bd3786"
             ],
             [
              0.5555555555555556,
              "#d8576b"
             ],
             [
              0.6666666666666666,
              "#ed7953"
             ],
             [
              0.7777777777777778,
              "#fb9f3a"
             ],
             [
              0.8888888888888888,
              "#fdca26"
             ],
             [
              1,
              "#f0f921"
             ]
            ],
            "type": "histogram2d"
           }
          ],
          "histogram2dcontour": [
           {
            "colorbar": {
             "outlinewidth": 0,
             "ticks": ""
            },
            "colorscale": [
             [
              0,
              "#0d0887"
             ],
             [
              0.1111111111111111,
              "#46039f"
             ],
             [
              0.2222222222222222,
              "#7201a8"
             ],
             [
              0.3333333333333333,
              "#9c179e"
             ],
             [
              0.4444444444444444,
              "#bd3786"
             ],
             [
              0.5555555555555556,
              "#d8576b"
             ],
             [
              0.6666666666666666,
              "#ed7953"
             ],
             [
              0.7777777777777778,
              "#fb9f3a"
             ],
             [
              0.8888888888888888,
              "#fdca26"
             ],
             [
              1,
              "#f0f921"
             ]
            ],
            "type": "histogram2dcontour"
           }
          ],
          "mesh3d": [
           {
            "colorbar": {
             "outlinewidth": 0,
             "ticks": ""
            },
            "type": "mesh3d"
           }
          ],
          "parcoords": [
           {
            "line": {
             "colorbar": {
              "outlinewidth": 0,
              "ticks": ""
             }
            },
            "type": "parcoords"
           }
          ],
          "pie": [
           {
            "automargin": true,
            "type": "pie"
           }
          ],
          "scatter": [
           {
            "fillpattern": {
             "fillmode": "overlay",
             "size": 10,
             "solidity": 0.2
            },
            "type": "scatter"
           }
          ],
          "scatter3d": [
           {
            "line": {
             "colorbar": {
              "outlinewidth": 0,
              "ticks": ""
             }
            },
            "marker": {
             "colorbar": {
              "outlinewidth": 0,
              "ticks": ""
             }
            },
            "type": "scatter3d"
           }
          ],
          "scattercarpet": [
           {
            "marker": {
             "colorbar": {
              "outlinewidth": 0,
              "ticks": ""
             }
            },
            "type": "scattercarpet"
           }
          ],
          "scattergeo": [
           {
            "marker": {
             "colorbar": {
              "outlinewidth": 0,
              "ticks": ""
             }
            },
            "type": "scattergeo"
           }
          ],
          "scattergl": [
           {
            "marker": {
             "colorbar": {
              "outlinewidth": 0,
              "ticks": ""
             }
            },
            "type": "scattergl"
           }
          ],
          "scattermapbox": [
           {
            "marker": {
             "colorbar": {
              "outlinewidth": 0,
              "ticks": ""
             }
            },
            "type": "scattermapbox"
           }
          ],
          "scatterpolar": [
           {
            "marker": {
             "colorbar": {
              "outlinewidth": 0,
              "ticks": ""
             }
            },
            "type": "scatterpolar"
           }
          ],
          "scatterpolargl": [
           {
            "marker": {
             "colorbar": {
              "outlinewidth": 0,
              "ticks": ""
             }
            },
            "type": "scatterpolargl"
           }
          ],
          "scatterternary": [
           {
            "marker": {
             "colorbar": {
              "outlinewidth": 0,
              "ticks": ""
             }
            },
            "type": "scatterternary"
           }
          ],
          "surface": [
           {
            "colorbar": {
             "outlinewidth": 0,
             "ticks": ""
            },
            "colorscale": [
             [
              0,
              "#0d0887"
             ],
             [
              0.1111111111111111,
              "#46039f"
             ],
             [
              0.2222222222222222,
              "#7201a8"
             ],
             [
              0.3333333333333333,
              "#9c179e"
             ],
             [
              0.4444444444444444,
              "#bd3786"
             ],
             [
              0.5555555555555556,
              "#d8576b"
             ],
             [
              0.6666666666666666,
              "#ed7953"
             ],
             [
              0.7777777777777778,
              "#fb9f3a"
             ],
             [
              0.8888888888888888,
              "#fdca26"
             ],
             [
              1,
              "#f0f921"
             ]
            ],
            "type": "surface"
           }
          ],
          "table": [
           {
            "cells": {
             "fill": {
              "color": "#EBF0F8"
             },
             "line": {
              "color": "white"
             }
            },
            "header": {
             "fill": {
              "color": "#C8D4E3"
             },
             "line": {
              "color": "white"
             }
            },
            "type": "table"
           }
          ]
         },
         "layout": {
          "annotationdefaults": {
           "arrowcolor": "#2a3f5f",
           "arrowhead": 0,
           "arrowwidth": 1
          },
          "autotypenumbers": "strict",
          "coloraxis": {
           "colorbar": {
            "outlinewidth": 0,
            "ticks": ""
           }
          },
          "colorscale": {
           "diverging": [
            [
             0,
             "#8e0152"
            ],
            [
             0.1,
             "#c51b7d"
            ],
            [
             0.2,
             "#de77ae"
            ],
            [
             0.3,
             "#f1b6da"
            ],
            [
             0.4,
             "#fde0ef"
            ],
            [
             0.5,
             "#f7f7f7"
            ],
            [
             0.6,
             "#e6f5d0"
            ],
            [
             0.7,
             "#b8e186"
            ],
            [
             0.8,
             "#7fbc41"
            ],
            [
             0.9,
             "#4d9221"
            ],
            [
             1,
             "#276419"
            ]
           ],
           "sequential": [
            [
             0,
             "#0d0887"
            ],
            [
             0.1111111111111111,
             "#46039f"
            ],
            [
             0.2222222222222222,
             "#7201a8"
            ],
            [
             0.3333333333333333,
             "#9c179e"
            ],
            [
             0.4444444444444444,
             "#bd3786"
            ],
            [
             0.5555555555555556,
             "#d8576b"
            ],
            [
             0.6666666666666666,
             "#ed7953"
            ],
            [
             0.7777777777777778,
             "#fb9f3a"
            ],
            [
             0.8888888888888888,
             "#fdca26"
            ],
            [
             1,
             "#f0f921"
            ]
           ],
           "sequentialminus": [
            [
             0,
             "#0d0887"
            ],
            [
             0.1111111111111111,
             "#46039f"
            ],
            [
             0.2222222222222222,
             "#7201a8"
            ],
            [
             0.3333333333333333,
             "#9c179e"
            ],
            [
             0.4444444444444444,
             "#bd3786"
            ],
            [
             0.5555555555555556,
             "#d8576b"
            ],
            [
             0.6666666666666666,
             "#ed7953"
            ],
            [
             0.7777777777777778,
             "#fb9f3a"
            ],
            [
             0.8888888888888888,
             "#fdca26"
            ],
            [
             1,
             "#f0f921"
            ]
           ]
          },
          "colorway": [
           "#636efa",
           "#EF553B",
           "#00cc96",
           "#ab63fa",
           "#FFA15A",
           "#19d3f3",
           "#FF6692",
           "#B6E880",
           "#FF97FF",
           "#FECB52"
          ],
          "font": {
           "color": "#2a3f5f"
          },
          "geo": {
           "bgcolor": "white",
           "lakecolor": "white",
           "landcolor": "white",
           "showlakes": true,
           "showland": true,
           "subunitcolor": "#C8D4E3"
          },
          "hoverlabel": {
           "align": "left"
          },
          "hovermode": "closest",
          "mapbox": {
           "style": "light"
          },
          "paper_bgcolor": "white",
          "plot_bgcolor": "white",
          "polar": {
           "angularaxis": {
            "gridcolor": "#EBF0F8",
            "linecolor": "#EBF0F8",
            "ticks": ""
           },
           "bgcolor": "white",
           "radialaxis": {
            "gridcolor": "#EBF0F8",
            "linecolor": "#EBF0F8",
            "ticks": ""
           }
          },
          "scene": {
           "xaxis": {
            "backgroundcolor": "white",
            "gridcolor": "#DFE8F3",
            "gridwidth": 2,
            "linecolor": "#EBF0F8",
            "showbackground": true,
            "ticks": "",
            "zerolinecolor": "#EBF0F8"
           },
           "yaxis": {
            "backgroundcolor": "white",
            "gridcolor": "#DFE8F3",
            "gridwidth": 2,
            "linecolor": "#EBF0F8",
            "showbackground": true,
            "ticks": "",
            "zerolinecolor": "#EBF0F8"
           },
           "zaxis": {
            "backgroundcolor": "white",
            "gridcolor": "#DFE8F3",
            "gridwidth": 2,
            "linecolor": "#EBF0F8",
            "showbackground": true,
            "ticks": "",
            "zerolinecolor": "#EBF0F8"
           }
          },
          "shapedefaults": {
           "line": {
            "color": "#2a3f5f"
           }
          },
          "ternary": {
           "aaxis": {
            "gridcolor": "#DFE8F3",
            "linecolor": "#A2B1C6",
            "ticks": ""
           },
           "baxis": {
            "gridcolor": "#DFE8F3",
            "linecolor": "#A2B1C6",
            "ticks": ""
           },
           "bgcolor": "white",
           "caxis": {
            "gridcolor": "#DFE8F3",
            "linecolor": "#A2B1C6",
            "ticks": ""
           }
          },
          "title": {
           "x": 0.05
          },
          "xaxis": {
           "automargin": true,
           "gridcolor": "#EBF0F8",
           "linecolor": "#EBF0F8",
           "ticks": "",
           "title": {
            "standoff": 15
           },
           "zerolinecolor": "#EBF0F8",
           "zerolinewidth": 2
          },
          "yaxis": {
           "automargin": true,
           "gridcolor": "#EBF0F8",
           "linecolor": "#EBF0F8",
           "ticks": "",
           "title": {
            "standoff": 15
           },
           "zerolinecolor": "#EBF0F8",
           "zerolinewidth": 2
          }
         }
        },
        "xaxis": {
         "anchor": "y",
         "domain": [
          0,
          1
         ],
         "title": {
          "text": "Marginal Effective Tax Rate"
         }
        },
        "yaxis": {
         "anchor": "x",
         "categoryarray": [
          "Repeal Franchise Tax",
          "Follow Federal Bonus Depreciation",
          "Repeal Business Tax",
          "Current Law"
         ],
         "categoryorder": "array",
         "domain": [
          0,
          1
         ],
         "title": {
          "text": "Policy"
         }
        }
       }
      }
     },
     "metadata": {},
     "output_type": "display_data"
    }
   ],
   "source": [
    "fig = px.bar(df[(df[\"output_var\"]==\"metr\") & (df[\"asset_type\"]==\"machines\")], x=\"value\", y=\"Policy\",\n",
    "             color='Policy', labels={'value':'Marginal Effective Tax Rate'}, height=400)\n",
    "fig.show()"
   ]
  },
  {
   "cell_type": "code",
   "execution_count": 13,
   "metadata": {
    "colab": {
     "base_uri": "https://localhost:8080/",
     "height": 417
    },
    "id": "fqP1sn6egrcq",
    "outputId": "e753d0d6-8e3c-4419-8fce-d085d4a1642c"
   },
   "outputs": [
    {
     "data": {
      "application/vnd.plotly.v1+json": {
       "config": {
        "plotlyServerURL": "https://plot.ly"
       },
       "data": [
        {
         "alignmentgroup": "True",
         "hovertemplate": "Policy=%{x}<br>Marginal Effective Tax Rate=%{y}<extra></extra>",
         "legendgroup": "Current Law",
         "marker": {
          "color": "#636efa",
          "pattern": {
           "shape": ""
          }
         },
         "name": "Current Law",
         "offsetgroup": "Current Law",
         "orientation": "v",
         "showlegend": true,
         "textposition": "auto",
         "type": "bar",
         "x": [
          "Current Law"
         ],
         "xaxis": "x",
         "y": [
          0.10578990710478837
         ],
         "yaxis": "y"
        },
        {
         "alignmentgroup": "True",
         "hovertemplate": "Policy=%{x}<br>Marginal Effective Tax Rate=%{y}<extra></extra>",
         "legendgroup": "Repeal Business Tax",
         "marker": {
          "color": "#EF553B",
          "pattern": {
           "shape": ""
          }
         },
         "name": "Repeal Business Tax",
         "offsetgroup": "Repeal Business Tax",
         "orientation": "v",
         "showlegend": true,
         "textposition": "auto",
         "type": "bar",
         "x": [
          "Repeal Business Tax"
         ],
         "xaxis": "x",
         "y": [
          0.098933100644892
         ],
         "yaxis": "y"
        },
        {
         "alignmentgroup": "True",
         "hovertemplate": "Policy=%{x}<br>Marginal Effective Tax Rate=%{y}<extra></extra>",
         "legendgroup": "Follow Federal Bonus Depreciation",
         "marker": {
          "color": "#00cc96",
          "pattern": {
           "shape": ""
          }
         },
         "name": "Follow Federal Bonus Depreciation",
         "offsetgroup": "Follow Federal Bonus Depreciation",
         "orientation": "v",
         "showlegend": true,
         "textposition": "auto",
         "type": "bar",
         "x": [
          "Follow Federal Bonus Depreciation"
         ],
         "xaxis": "x",
         "y": [
          0.08170088019750056
         ],
         "yaxis": "y"
        },
        {
         "alignmentgroup": "True",
         "hovertemplate": "Policy=%{x}<br>Marginal Effective Tax Rate=%{y}<extra></extra>",
         "legendgroup": "Repeal Franchise Tax",
         "marker": {
          "color": "#ab63fa",
          "pattern": {
           "shape": ""
          }
         },
         "name": "Repeal Franchise Tax",
         "offsetgroup": "Repeal Franchise Tax",
         "orientation": "v",
         "showlegend": true,
         "textposition": "auto",
         "type": "bar",
         "x": [
          "Repeal Franchise Tax"
         ],
         "xaxis": "x",
         "y": [
          0.0696304419211185
         ],
         "yaxis": "y"
        }
       ],
       "layout": {
        "barmode": "relative",
        "height": 400,
        "legend": {
         "title": {
          "text": "Policy"
         },
         "tracegroupgap": 0
        },
        "margin": {
         "t": 60
        },
        "template": {
         "data": {
          "bar": [
           {
            "error_x": {
             "color": "#2a3f5f"
            },
            "error_y": {
             "color": "#2a3f5f"
            },
            "marker": {
             "line": {
              "color": "white",
              "width": 0.5
             },
             "pattern": {
              "fillmode": "overlay",
              "size": 10,
              "solidity": 0.2
             }
            },
            "type": "bar"
           }
          ],
          "barpolar": [
           {
            "marker": {
             "line": {
              "color": "white",
              "width": 0.5
             },
             "pattern": {
              "fillmode": "overlay",
              "size": 10,
              "solidity": 0.2
             }
            },
            "type": "barpolar"
           }
          ],
          "carpet": [
           {
            "aaxis": {
             "endlinecolor": "#2a3f5f",
             "gridcolor": "#C8D4E3",
             "linecolor": "#C8D4E3",
             "minorgridcolor": "#C8D4E3",
             "startlinecolor": "#2a3f5f"
            },
            "baxis": {
             "endlinecolor": "#2a3f5f",
             "gridcolor": "#C8D4E3",
             "linecolor": "#C8D4E3",
             "minorgridcolor": "#C8D4E3",
             "startlinecolor": "#2a3f5f"
            },
            "type": "carpet"
           }
          ],
          "choropleth": [
           {
            "colorbar": {
             "outlinewidth": 0,
             "ticks": ""
            },
            "type": "choropleth"
           }
          ],
          "contour": [
           {
            "colorbar": {
             "outlinewidth": 0,
             "ticks": ""
            },
            "colorscale": [
             [
              0,
              "#0d0887"
             ],
             [
              0.1111111111111111,
              "#46039f"
             ],
             [
              0.2222222222222222,
              "#7201a8"
             ],
             [
              0.3333333333333333,
              "#9c179e"
             ],
             [
              0.4444444444444444,
              "#bd3786"
             ],
             [
              0.5555555555555556,
              "#d8576b"
             ],
             [
              0.6666666666666666,
              "#ed7953"
             ],
             [
              0.7777777777777778,
              "#fb9f3a"
             ],
             [
              0.8888888888888888,
              "#fdca26"
             ],
             [
              1,
              "#f0f921"
             ]
            ],
            "type": "contour"
           }
          ],
          "contourcarpet": [
           {
            "colorbar": {
             "outlinewidth": 0,
             "ticks": ""
            },
            "type": "contourcarpet"
           }
          ],
          "heatmap": [
           {
            "colorbar": {
             "outlinewidth": 0,
             "ticks": ""
            },
            "colorscale": [
             [
              0,
              "#0d0887"
             ],
             [
              0.1111111111111111,
              "#46039f"
             ],
             [
              0.2222222222222222,
              "#7201a8"
             ],
             [
              0.3333333333333333,
              "#9c179e"
             ],
             [
              0.4444444444444444,
              "#bd3786"
             ],
             [
              0.5555555555555556,
              "#d8576b"
             ],
             [
              0.6666666666666666,
              "#ed7953"
             ],
             [
              0.7777777777777778,
              "#fb9f3a"
             ],
             [
              0.8888888888888888,
              "#fdca26"
             ],
             [
              1,
              "#f0f921"
             ]
            ],
            "type": "heatmap"
           }
          ],
          "heatmapgl": [
           {
            "colorbar": {
             "outlinewidth": 0,
             "ticks": ""
            },
            "colorscale": [
             [
              0,
              "#0d0887"
             ],
             [
              0.1111111111111111,
              "#46039f"
             ],
             [
              0.2222222222222222,
              "#7201a8"
             ],
             [
              0.3333333333333333,
              "#9c179e"
             ],
             [
              0.4444444444444444,
              "#bd3786"
             ],
             [
              0.5555555555555556,
              "#d8576b"
             ],
             [
              0.6666666666666666,
              "#ed7953"
             ],
             [
              0.7777777777777778,
              "#fb9f3a"
             ],
             [
              0.8888888888888888,
              "#fdca26"
             ],
             [
              1,
              "#f0f921"
             ]
            ],
            "type": "heatmapgl"
           }
          ],
          "histogram": [
           {
            "marker": {
             "pattern": {
              "fillmode": "overlay",
              "size": 10,
              "solidity": 0.2
             }
            },
            "type": "histogram"
           }
          ],
          "histogram2d": [
           {
            "colorbar": {
             "outlinewidth": 0,
             "ticks": ""
            },
            "colorscale": [
             [
              0,
              "#0d0887"
             ],
             [
              0.1111111111111111,
              "#46039f"
             ],
             [
              0.2222222222222222,
              "#7201a8"
             ],
             [
              0.3333333333333333,
              "#9c179e"
             ],
             [
              0.4444444444444444,
              "#bd3786"
             ],
             [
              0.5555555555555556,
              "#d8576b"
             ],
             [
              0.6666666666666666,
              "#ed7953"
             ],
             [
              0.7777777777777778,
              "#fb9f3a"
             ],
             [
              0.8888888888888888,
              "#fdca26"
             ],
             [
              1,
              "#f0f921"
             ]
            ],
            "type": "histogram2d"
           }
          ],
          "histogram2dcontour": [
           {
            "colorbar": {
             "outlinewidth": 0,
             "ticks": ""
            },
            "colorscale": [
             [
              0,
              "#0d0887"
             ],
             [
              0.1111111111111111,
              "#46039f"
             ],
             [
              0.2222222222222222,
              "#7201a8"
             ],
             [
              0.3333333333333333,
              "#9c179e"
             ],
             [
              0.4444444444444444,
              "#bd3786"
             ],
             [
              0.5555555555555556,
              "#d8576b"
             ],
             [
              0.6666666666666666,
              "#ed7953"
             ],
             [
              0.7777777777777778,
              "#fb9f3a"
             ],
             [
              0.8888888888888888,
              "#fdca26"
             ],
             [
              1,
              "#f0f921"
             ]
            ],
            "type": "histogram2dcontour"
           }
          ],
          "mesh3d": [
           {
            "colorbar": {
             "outlinewidth": 0,
             "ticks": ""
            },
            "type": "mesh3d"
           }
          ],
          "parcoords": [
           {
            "line": {
             "colorbar": {
              "outlinewidth": 0,
              "ticks": ""
             }
            },
            "type": "parcoords"
           }
          ],
          "pie": [
           {
            "automargin": true,
            "type": "pie"
           }
          ],
          "scatter": [
           {
            "fillpattern": {
             "fillmode": "overlay",
             "size": 10,
             "solidity": 0.2
            },
            "type": "scatter"
           }
          ],
          "scatter3d": [
           {
            "line": {
             "colorbar": {
              "outlinewidth": 0,
              "ticks": ""
             }
            },
            "marker": {
             "colorbar": {
              "outlinewidth": 0,
              "ticks": ""
             }
            },
            "type": "scatter3d"
           }
          ],
          "scattercarpet": [
           {
            "marker": {
             "colorbar": {
              "outlinewidth": 0,
              "ticks": ""
             }
            },
            "type": "scattercarpet"
           }
          ],
          "scattergeo": [
           {
            "marker": {
             "colorbar": {
              "outlinewidth": 0,
              "ticks": ""
             }
            },
            "type": "scattergeo"
           }
          ],
          "scattergl": [
           {
            "marker": {
             "colorbar": {
              "outlinewidth": 0,
              "ticks": ""
             }
            },
            "type": "scattergl"
           }
          ],
          "scattermapbox": [
           {
            "marker": {
             "colorbar": {
              "outlinewidth": 0,
              "ticks": ""
             }
            },
            "type": "scattermapbox"
           }
          ],
          "scatterpolar": [
           {
            "marker": {
             "colorbar": {
              "outlinewidth": 0,
              "ticks": ""
             }
            },
            "type": "scatterpolar"
           }
          ],
          "scatterpolargl": [
           {
            "marker": {
             "colorbar": {
              "outlinewidth": 0,
              "ticks": ""
             }
            },
            "type": "scatterpolargl"
           }
          ],
          "scatterternary": [
           {
            "marker": {
             "colorbar": {
              "outlinewidth": 0,
              "ticks": ""
             }
            },
            "type": "scatterternary"
           }
          ],
          "surface": [
           {
            "colorbar": {
             "outlinewidth": 0,
             "ticks": ""
            },
            "colorscale": [
             [
              0,
              "#0d0887"
             ],
             [
              0.1111111111111111,
              "#46039f"
             ],
             [
              0.2222222222222222,
              "#7201a8"
             ],
             [
              0.3333333333333333,
              "#9c179e"
             ],
             [
              0.4444444444444444,
              "#bd3786"
             ],
             [
              0.5555555555555556,
              "#d8576b"
             ],
             [
              0.6666666666666666,
              "#ed7953"
             ],
             [
              0.7777777777777778,
              "#fb9f3a"
             ],
             [
              0.8888888888888888,
              "#fdca26"
             ],
             [
              1,
              "#f0f921"
             ]
            ],
            "type": "surface"
           }
          ],
          "table": [
           {
            "cells": {
             "fill": {
              "color": "#EBF0F8"
             },
             "line": {
              "color": "white"
             }
            },
            "header": {
             "fill": {
              "color": "#C8D4E3"
             },
             "line": {
              "color": "white"
             }
            },
            "type": "table"
           }
          ]
         },
         "layout": {
          "annotationdefaults": {
           "arrowcolor": "#2a3f5f",
           "arrowhead": 0,
           "arrowwidth": 1
          },
          "autotypenumbers": "strict",
          "coloraxis": {
           "colorbar": {
            "outlinewidth": 0,
            "ticks": ""
           }
          },
          "colorscale": {
           "diverging": [
            [
             0,
             "#8e0152"
            ],
            [
             0.1,
             "#c51b7d"
            ],
            [
             0.2,
             "#de77ae"
            ],
            [
             0.3,
             "#f1b6da"
            ],
            [
             0.4,
             "#fde0ef"
            ],
            [
             0.5,
             "#f7f7f7"
            ],
            [
             0.6,
             "#e6f5d0"
            ],
            [
             0.7,
             "#b8e186"
            ],
            [
             0.8,
             "#7fbc41"
            ],
            [
             0.9,
             "#4d9221"
            ],
            [
             1,
             "#276419"
            ]
           ],
           "sequential": [
            [
             0,
             "#0d0887"
            ],
            [
             0.1111111111111111,
             "#46039f"
            ],
            [
             0.2222222222222222,
             "#7201a8"
            ],
            [
             0.3333333333333333,
             "#9c179e"
            ],
            [
             0.4444444444444444,
             "#bd3786"
            ],
            [
             0.5555555555555556,
             "#d8576b"
            ],
            [
             0.6666666666666666,
             "#ed7953"
            ],
            [
             0.7777777777777778,
             "#fb9f3a"
            ],
            [
             0.8888888888888888,
             "#fdca26"
            ],
            [
             1,
             "#f0f921"
            ]
           ],
           "sequentialminus": [
            [
             0,
             "#0d0887"
            ],
            [
             0.1111111111111111,
             "#46039f"
            ],
            [
             0.2222222222222222,
             "#7201a8"
            ],
            [
             0.3333333333333333,
             "#9c179e"
            ],
            [
             0.4444444444444444,
             "#bd3786"
            ],
            [
             0.5555555555555556,
             "#d8576b"
            ],
            [
             0.6666666666666666,
             "#ed7953"
            ],
            [
             0.7777777777777778,
             "#fb9f3a"
            ],
            [
             0.8888888888888888,
             "#fdca26"
            ],
            [
             1,
             "#f0f921"
            ]
           ]
          },
          "colorway": [
           "#636efa",
           "#EF553B",
           "#00cc96",
           "#ab63fa",
           "#FFA15A",
           "#19d3f3",
           "#FF6692",
           "#B6E880",
           "#FF97FF",
           "#FECB52"
          ],
          "font": {
           "color": "#2a3f5f"
          },
          "geo": {
           "bgcolor": "white",
           "lakecolor": "white",
           "landcolor": "white",
           "showlakes": true,
           "showland": true,
           "subunitcolor": "#C8D4E3"
          },
          "hoverlabel": {
           "align": "left"
          },
          "hovermode": "closest",
          "mapbox": {
           "style": "light"
          },
          "paper_bgcolor": "white",
          "plot_bgcolor": "white",
          "polar": {
           "angularaxis": {
            "gridcolor": "#EBF0F8",
            "linecolor": "#EBF0F8",
            "ticks": ""
           },
           "bgcolor": "white",
           "radialaxis": {
            "gridcolor": "#EBF0F8",
            "linecolor": "#EBF0F8",
            "ticks": ""
           }
          },
          "scene": {
           "xaxis": {
            "backgroundcolor": "white",
            "gridcolor": "#DFE8F3",
            "gridwidth": 2,
            "linecolor": "#EBF0F8",
            "showbackground": true,
            "ticks": "",
            "zerolinecolor": "#EBF0F8"
           },
           "yaxis": {
            "backgroundcolor": "white",
            "gridcolor": "#DFE8F3",
            "gridwidth": 2,
            "linecolor": "#EBF0F8",
            "showbackground": true,
            "ticks": "",
            "zerolinecolor": "#EBF0F8"
           },
           "zaxis": {
            "backgroundcolor": "white",
            "gridcolor": "#DFE8F3",
            "gridwidth": 2,
            "linecolor": "#EBF0F8",
            "showbackground": true,
            "ticks": "",
            "zerolinecolor": "#EBF0F8"
           }
          },
          "shapedefaults": {
           "line": {
            "color": "#2a3f5f"
           }
          },
          "ternary": {
           "aaxis": {
            "gridcolor": "#DFE8F3",
            "linecolor": "#A2B1C6",
            "ticks": ""
           },
           "baxis": {
            "gridcolor": "#DFE8F3",
            "linecolor": "#A2B1C6",
            "ticks": ""
           },
           "bgcolor": "white",
           "caxis": {
            "gridcolor": "#DFE8F3",
            "linecolor": "#A2B1C6",
            "ticks": ""
           }
          },
          "title": {
           "x": 0.05
          },
          "xaxis": {
           "automargin": true,
           "gridcolor": "#EBF0F8",
           "linecolor": "#EBF0F8",
           "ticks": "",
           "title": {
            "standoff": 15
           },
           "zerolinecolor": "#EBF0F8",
           "zerolinewidth": 2
          },
          "yaxis": {
           "automargin": true,
           "gridcolor": "#EBF0F8",
           "linecolor": "#EBF0F8",
           "ticks": "",
           "title": {
            "standoff": 15
           },
           "zerolinecolor": "#EBF0F8",
           "zerolinewidth": 2
          }
         }
        },
        "xaxis": {
         "anchor": "y",
         "categoryarray": [
          "Current Law",
          "Repeal Business Tax",
          "Follow Federal Bonus Depreciation",
          "Repeal Franchise Tax"
         ],
         "categoryorder": "array",
         "domain": [
          0,
          1
         ],
         "title": {
          "text": "Policy"
         }
        },
        "yaxis": {
         "anchor": "x",
         "domain": [
          0,
          1
         ],
         "title": {
          "text": "Marginal Effective Tax Rate"
         }
        }
       }
      }
     },
     "metadata": {},
     "output_type": "display_data"
    }
   ],
   "source": [
    "fig = px.bar(df[(df[\"output_var\"]==\"metr\") & (df[\"asset_type\"]==\"machines\")], x=\"Policy\", y=\"value\",\n",
    "             color='Policy', labels={'value':'Marginal Effective Tax Rate'}, height=400)\n",
    "fig.show()"
   ]
  },
  {
   "cell_type": "code",
   "execution_count": 17,
   "metadata": {
    "colab": {
     "base_uri": "https://localhost:8080/",
     "height": 417
    },
    "id": "_VWDAimFZT0-",
    "outputId": "5b6f04c0-46b3-4b58-ac68-4e27e6cf59d9"
   },
   "outputs": [
    {
     "data": {
      "application/vnd.plotly.v1+json": {
       "config": {
        "plotlyServerURL": "https://plot.ly"
       },
       "data": [
        {
         "alignmentgroup": "True",
         "bingroup": "x",
         "histfunc": "sum",
         "hovertemplate": "Policy=Current Law<br>Asset Type=%{x}<br>sum of Marginal Effective Tax Rate=%{y}<extra></extra>",
         "legendgroup": "Current Law",
         "marker": {
          "color": "#636efa",
          "pattern": {
           "shape": ""
          }
         },
         "name": "Current Law",
         "offsetgroup": "Current Law",
         "orientation": "v",
         "showlegend": true,
         "type": "histogram",
         "x": [
          "machines",
          "buildings",
          "intangibles"
         ],
         "xaxis": "x",
         "y": [
          0.10578990710478837,
          0.297277010628966,
          0.1337774182471685
         ],
         "yaxis": "y"
        },
        {
         "alignmentgroup": "True",
         "bingroup": "x",
         "histfunc": "sum",
         "hovertemplate": "Policy=Repeal Business Tax<br>Asset Type=%{x}<br>sum of Marginal Effective Tax Rate=%{y}<extra></extra>",
         "legendgroup": "Repeal Business Tax",
         "marker": {
          "color": "#EF553B",
          "pattern": {
           "shape": ""
          }
         },
         "name": "Repeal Business Tax",
         "offsetgroup": "Repeal Business Tax",
         "orientation": "v",
         "showlegend": true,
         "type": "histogram",
         "x": [
          "machines",
          "buildings",
          "intangibles"
         ],
         "xaxis": "x",
         "y": [
          0.098933100644892,
          0.29438166448747277,
          0.11853452436984349
         ],
         "yaxis": "y"
        },
        {
         "alignmentgroup": "True",
         "bingroup": "x",
         "histfunc": "sum",
         "hovertemplate": "Policy=Follow Federal Bonus Depreciation<br>Asset Type=%{x}<br>sum of Marginal Effective Tax Rate=%{y}<extra></extra>",
         "legendgroup": "Follow Federal Bonus Depreciation",
         "marker": {
          "color": "#00cc96",
          "pattern": {
           "shape": ""
          }
         },
         "name": "Follow Federal Bonus Depreciation",
         "offsetgroup": "Follow Federal Bonus Depreciation",
         "orientation": "v",
         "showlegend": true,
         "type": "histogram",
         "x": [
          "machines",
          "buildings",
          "intangibles"
         ],
         "xaxis": "x",
         "y": [
          0.08170088019750056,
          0.297277010628966,
          0.1025023852929806
         ],
         "yaxis": "y"
        },
        {
         "alignmentgroup": "True",
         "bingroup": "x",
         "histfunc": "sum",
         "hovertemplate": "Policy=Repeal Franchise Tax<br>Asset Type=%{x}<br>sum of Marginal Effective Tax Rate=%{y}<extra></extra>",
         "legendgroup": "Repeal Franchise Tax",
         "marker": {
          "color": "#ab63fa",
          "pattern": {
           "shape": ""
          }
         },
         "name": "Repeal Franchise Tax",
         "offsetgroup": "Repeal Franchise Tax",
         "orientation": "v",
         "showlegend": true,
         "type": "histogram",
         "x": [
          "machines",
          "buildings",
          "intangibles"
         ],
         "xaxis": "x",
         "y": [
          0.0696304419211185,
          0.27513756749667073,
          0.09988890179247777
         ],
         "yaxis": "y"
        }
       ],
       "layout": {
        "barmode": "group",
        "height": 400,
        "legend": {
         "title": {
          "text": "Policy"
         },
         "tracegroupgap": 0
        },
        "margin": {
         "t": 60
        },
        "template": {
         "data": {
          "bar": [
           {
            "error_x": {
             "color": "#2a3f5f"
            },
            "error_y": {
             "color": "#2a3f5f"
            },
            "marker": {
             "line": {
              "color": "white",
              "width": 0.5
             },
             "pattern": {
              "fillmode": "overlay",
              "size": 10,
              "solidity": 0.2
             }
            },
            "type": "bar"
           }
          ],
          "barpolar": [
           {
            "marker": {
             "line": {
              "color": "white",
              "width": 0.5
             },
             "pattern": {
              "fillmode": "overlay",
              "size": 10,
              "solidity": 0.2
             }
            },
            "type": "barpolar"
           }
          ],
          "carpet": [
           {
            "aaxis": {
             "endlinecolor": "#2a3f5f",
             "gridcolor": "#C8D4E3",
             "linecolor": "#C8D4E3",
             "minorgridcolor": "#C8D4E3",
             "startlinecolor": "#2a3f5f"
            },
            "baxis": {
             "endlinecolor": "#2a3f5f",
             "gridcolor": "#C8D4E3",
             "linecolor": "#C8D4E3",
             "minorgridcolor": "#C8D4E3",
             "startlinecolor": "#2a3f5f"
            },
            "type": "carpet"
           }
          ],
          "choropleth": [
           {
            "colorbar": {
             "outlinewidth": 0,
             "ticks": ""
            },
            "type": "choropleth"
           }
          ],
          "contour": [
           {
            "colorbar": {
             "outlinewidth": 0,
             "ticks": ""
            },
            "colorscale": [
             [
              0,
              "#0d0887"
             ],
             [
              0.1111111111111111,
              "#46039f"
             ],
             [
              0.2222222222222222,
              "#7201a8"
             ],
             [
              0.3333333333333333,
              "#9c179e"
             ],
             [
              0.4444444444444444,
              "#bd3786"
             ],
             [
              0.5555555555555556,
              "#d8576b"
             ],
             [
              0.6666666666666666,
              "#ed7953"
             ],
             [
              0.7777777777777778,
              "#fb9f3a"
             ],
             [
              0.8888888888888888,
              "#fdca26"
             ],
             [
              1,
              "#f0f921"
             ]
            ],
            "type": "contour"
           }
          ],
          "contourcarpet": [
           {
            "colorbar": {
             "outlinewidth": 0,
             "ticks": ""
            },
            "type": "contourcarpet"
           }
          ],
          "heatmap": [
           {
            "colorbar": {
             "outlinewidth": 0,
             "ticks": ""
            },
            "colorscale": [
             [
              0,
              "#0d0887"
             ],
             [
              0.1111111111111111,
              "#46039f"
             ],
             [
              0.2222222222222222,
              "#7201a8"
             ],
             [
              0.3333333333333333,
              "#9c179e"
             ],
             [
              0.4444444444444444,
              "#bd3786"
             ],
             [
              0.5555555555555556,
              "#d8576b"
             ],
             [
              0.6666666666666666,
              "#ed7953"
             ],
             [
              0.7777777777777778,
              "#fb9f3a"
             ],
             [
              0.8888888888888888,
              "#fdca26"
             ],
             [
              1,
              "#f0f921"
             ]
            ],
            "type": "heatmap"
           }
          ],
          "heatmapgl": [
           {
            "colorbar": {
             "outlinewidth": 0,
             "ticks": ""
            },
            "colorscale": [
             [
              0,
              "#0d0887"
             ],
             [
              0.1111111111111111,
              "#46039f"
             ],
             [
              0.2222222222222222,
              "#7201a8"
             ],
             [
              0.3333333333333333,
              "#9c179e"
             ],
             [
              0.4444444444444444,
              "#bd3786"
             ],
             [
              0.5555555555555556,
              "#d8576b"
             ],
             [
              0.6666666666666666,
              "#ed7953"
             ],
             [
              0.7777777777777778,
              "#fb9f3a"
             ],
             [
              0.8888888888888888,
              "#fdca26"
             ],
             [
              1,
              "#f0f921"
             ]
            ],
            "type": "heatmapgl"
           }
          ],
          "histogram": [
           {
            "marker": {
             "pattern": {
              "fillmode": "overlay",
              "size": 10,
              "solidity": 0.2
             }
            },
            "type": "histogram"
           }
          ],
          "histogram2d": [
           {
            "colorbar": {
             "outlinewidth": 0,
             "ticks": ""
            },
            "colorscale": [
             [
              0,
              "#0d0887"
             ],
             [
              0.1111111111111111,
              "#46039f"
             ],
             [
              0.2222222222222222,
              "#7201a8"
             ],
             [
              0.3333333333333333,
              "#9c179e"
             ],
             [
              0.4444444444444444,
              "#bd3786"
             ],
             [
              0.5555555555555556,
              "#d8576b"
             ],
             [
              0.6666666666666666,
              "#ed7953"
             ],
             [
              0.7777777777777778,
              "#fb9f3a"
             ],
             [
              0.8888888888888888,
              "#fdca26"
             ],
             [
              1,
              "#f0f921"
             ]
            ],
            "type": "histogram2d"
           }
          ],
          "histogram2dcontour": [
           {
            "colorbar": {
             "outlinewidth": 0,
             "ticks": ""
            },
            "colorscale": [
             [
              0,
              "#0d0887"
             ],
             [
              0.1111111111111111,
              "#46039f"
             ],
             [
              0.2222222222222222,
              "#7201a8"
             ],
             [
              0.3333333333333333,
              "#9c179e"
             ],
             [
              0.4444444444444444,
              "#bd3786"
             ],
             [
              0.5555555555555556,
              "#d8576b"
             ],
             [
              0.6666666666666666,
              "#ed7953"
             ],
             [
              0.7777777777777778,
              "#fb9f3a"
             ],
             [
              0.8888888888888888,
              "#fdca26"
             ],
             [
              1,
              "#f0f921"
             ]
            ],
            "type": "histogram2dcontour"
           }
          ],
          "mesh3d": [
           {
            "colorbar": {
             "outlinewidth": 0,
             "ticks": ""
            },
            "type": "mesh3d"
           }
          ],
          "parcoords": [
           {
            "line": {
             "colorbar": {
              "outlinewidth": 0,
              "ticks": ""
             }
            },
            "type": "parcoords"
           }
          ],
          "pie": [
           {
            "automargin": true,
            "type": "pie"
           }
          ],
          "scatter": [
           {
            "fillpattern": {
             "fillmode": "overlay",
             "size": 10,
             "solidity": 0.2
            },
            "type": "scatter"
           }
          ],
          "scatter3d": [
           {
            "line": {
             "colorbar": {
              "outlinewidth": 0,
              "ticks": ""
             }
            },
            "marker": {
             "colorbar": {
              "outlinewidth": 0,
              "ticks": ""
             }
            },
            "type": "scatter3d"
           }
          ],
          "scattercarpet": [
           {
            "marker": {
             "colorbar": {
              "outlinewidth": 0,
              "ticks": ""
             }
            },
            "type": "scattercarpet"
           }
          ],
          "scattergeo": [
           {
            "marker": {
             "colorbar": {
              "outlinewidth": 0,
              "ticks": ""
             }
            },
            "type": "scattergeo"
           }
          ],
          "scattergl": [
           {
            "marker": {
             "colorbar": {
              "outlinewidth": 0,
              "ticks": ""
             }
            },
            "type": "scattergl"
           }
          ],
          "scattermapbox": [
           {
            "marker": {
             "colorbar": {
              "outlinewidth": 0,
              "ticks": ""
             }
            },
            "type": "scattermapbox"
           }
          ],
          "scatterpolar": [
           {
            "marker": {
             "colorbar": {
              "outlinewidth": 0,
              "ticks": ""
             }
            },
            "type": "scatterpolar"
           }
          ],
          "scatterpolargl": [
           {
            "marker": {
             "colorbar": {
              "outlinewidth": 0,
              "ticks": ""
             }
            },
            "type": "scatterpolargl"
           }
          ],
          "scatterternary": [
           {
            "marker": {
             "colorbar": {
              "outlinewidth": 0,
              "ticks": ""
             }
            },
            "type": "scatterternary"
           }
          ],
          "surface": [
           {
            "colorbar": {
             "outlinewidth": 0,
             "ticks": ""
            },
            "colorscale": [
             [
              0,
              "#0d0887"
             ],
             [
              0.1111111111111111,
              "#46039f"
             ],
             [
              0.2222222222222222,
              "#7201a8"
             ],
             [
              0.3333333333333333,
              "#9c179e"
             ],
             [
              0.4444444444444444,
              "#bd3786"
             ],
             [
              0.5555555555555556,
              "#d8576b"
             ],
             [
              0.6666666666666666,
              "#ed7953"
             ],
             [
              0.7777777777777778,
              "#fb9f3a"
             ],
             [
              0.8888888888888888,
              "#fdca26"
             ],
             [
              1,
              "#f0f921"
             ]
            ],
            "type": "surface"
           }
          ],
          "table": [
           {
            "cells": {
             "fill": {
              "color": "#EBF0F8"
             },
             "line": {
              "color": "white"
             }
            },
            "header": {
             "fill": {
              "color": "#C8D4E3"
             },
             "line": {
              "color": "white"
             }
            },
            "type": "table"
           }
          ]
         },
         "layout": {
          "annotationdefaults": {
           "arrowcolor": "#2a3f5f",
           "arrowhead": 0,
           "arrowwidth": 1
          },
          "autotypenumbers": "strict",
          "coloraxis": {
           "colorbar": {
            "outlinewidth": 0,
            "ticks": ""
           }
          },
          "colorscale": {
           "diverging": [
            [
             0,
             "#8e0152"
            ],
            [
             0.1,
             "#c51b7d"
            ],
            [
             0.2,
             "#de77ae"
            ],
            [
             0.3,
             "#f1b6da"
            ],
            [
             0.4,
             "#fde0ef"
            ],
            [
             0.5,
             "#f7f7f7"
            ],
            [
             0.6,
             "#e6f5d0"
            ],
            [
             0.7,
             "#b8e186"
            ],
            [
             0.8,
             "#7fbc41"
            ],
            [
             0.9,
             "#4d9221"
            ],
            [
             1,
             "#276419"
            ]
           ],
           "sequential": [
            [
             0,
             "#0d0887"
            ],
            [
             0.1111111111111111,
             "#46039f"
            ],
            [
             0.2222222222222222,
             "#7201a8"
            ],
            [
             0.3333333333333333,
             "#9c179e"
            ],
            [
             0.4444444444444444,
             "#bd3786"
            ],
            [
             0.5555555555555556,
             "#d8576b"
            ],
            [
             0.6666666666666666,
             "#ed7953"
            ],
            [
             0.7777777777777778,
             "#fb9f3a"
            ],
            [
             0.8888888888888888,
             "#fdca26"
            ],
            [
             1,
             "#f0f921"
            ]
           ],
           "sequentialminus": [
            [
             0,
             "#0d0887"
            ],
            [
             0.1111111111111111,
             "#46039f"
            ],
            [
             0.2222222222222222,
             "#7201a8"
            ],
            [
             0.3333333333333333,
             "#9c179e"
            ],
            [
             0.4444444444444444,
             "#bd3786"
            ],
            [
             0.5555555555555556,
             "#d8576b"
            ],
            [
             0.6666666666666666,
             "#ed7953"
            ],
            [
             0.7777777777777778,
             "#fb9f3a"
            ],
            [
             0.8888888888888888,
             "#fdca26"
            ],
            [
             1,
             "#f0f921"
            ]
           ]
          },
          "colorway": [
           "#636efa",
           "#EF553B",
           "#00cc96",
           "#ab63fa",
           "#FFA15A",
           "#19d3f3",
           "#FF6692",
           "#B6E880",
           "#FF97FF",
           "#FECB52"
          ],
          "font": {
           "color": "#2a3f5f"
          },
          "geo": {
           "bgcolor": "white",
           "lakecolor": "white",
           "landcolor": "white",
           "showlakes": true,
           "showland": true,
           "subunitcolor": "#C8D4E3"
          },
          "hoverlabel": {
           "align": "left"
          },
          "hovermode": "closest",
          "mapbox": {
           "style": "light"
          },
          "paper_bgcolor": "white",
          "plot_bgcolor": "white",
          "polar": {
           "angularaxis": {
            "gridcolor": "#EBF0F8",
            "linecolor": "#EBF0F8",
            "ticks": ""
           },
           "bgcolor": "white",
           "radialaxis": {
            "gridcolor": "#EBF0F8",
            "linecolor": "#EBF0F8",
            "ticks": ""
           }
          },
          "scene": {
           "xaxis": {
            "backgroundcolor": "white",
            "gridcolor": "#DFE8F3",
            "gridwidth": 2,
            "linecolor": "#EBF0F8",
            "showbackground": true,
            "ticks": "",
            "zerolinecolor": "#EBF0F8"
           },
           "yaxis": {
            "backgroundcolor": "white",
            "gridcolor": "#DFE8F3",
            "gridwidth": 2,
            "linecolor": "#EBF0F8",
            "showbackground": true,
            "ticks": "",
            "zerolinecolor": "#EBF0F8"
           },
           "zaxis": {
            "backgroundcolor": "white",
            "gridcolor": "#DFE8F3",
            "gridwidth": 2,
            "linecolor": "#EBF0F8",
            "showbackground": true,
            "ticks": "",
            "zerolinecolor": "#EBF0F8"
           }
          },
          "shapedefaults": {
           "line": {
            "color": "#2a3f5f"
           }
          },
          "ternary": {
           "aaxis": {
            "gridcolor": "#DFE8F3",
            "linecolor": "#A2B1C6",
            "ticks": ""
           },
           "baxis": {
            "gridcolor": "#DFE8F3",
            "linecolor": "#A2B1C6",
            "ticks": ""
           },
           "bgcolor": "white",
           "caxis": {
            "gridcolor": "#DFE8F3",
            "linecolor": "#A2B1C6",
            "ticks": ""
           }
          },
          "title": {
           "x": 0.05
          },
          "xaxis": {
           "automargin": true,
           "gridcolor": "#EBF0F8",
           "linecolor": "#EBF0F8",
           "ticks": "",
           "title": {
            "standoff": 15
           },
           "zerolinecolor": "#EBF0F8",
           "zerolinewidth": 2
          },
          "yaxis": {
           "automargin": true,
           "gridcolor": "#EBF0F8",
           "linecolor": "#EBF0F8",
           "ticks": "",
           "title": {
            "standoff": 15
           },
           "zerolinecolor": "#EBF0F8",
           "zerolinewidth": 2
          }
         }
        },
        "xaxis": {
         "anchor": "y",
         "domain": [
          0,
          1
         ],
         "title": {
          "text": "Asset Type"
         }
        },
        "yaxis": {
         "anchor": "x",
         "domain": [
          0,
          1
         ],
         "title": {
          "text": "sum of Marginal Effective Tax Rate"
         }
        }
       }
      }
     },
     "metadata": {},
     "output_type": "display_data"
    }
   ],
   "source": [
    "# Plot results\n",
    "fig = px.histogram(df[(df[\"output_var\"]==\"metr\") & (df['Policy'].isin([\"Current Law\", \"Repeal Business Tax\", \"Follow Federal Bonus Depreciation\", \"Repeal Franchise Tax\"]))], x=\"asset_type\", y=\"value\",\n",
    "             color='Policy', barmode='group', labels={'asset_type':'Asset Type', 'value': 'Marginal Effective Tax Rate'},\n",
    "             height=400)\n",
    "fig.show()"
   ]
  },
  {
   "cell_type": "code",
   "execution_count": 15,
   "metadata": {
    "colab": {
     "base_uri": "https://localhost:8080/"
    },
    "id": "j9TO10LbryyS",
    "outputId": "6250b37c-da56-4e48-9467-617c4431cf73"
   },
   "outputs": [
    {
     "name": "stdout",
     "output_type": "stream",
     "text": [
      "Machines: rho =  0.06608968747029248 , metr =  0.09214277905353714  and eatr =  0.3025207148336957\n"
     ]
    }
   ],
   "source": [
    "# compute example results for equipment\n",
    "r = ccc.paramfunctions.calc_r(\n",
    "        u_f + u_s - u_f * u_s, nominal_int_rate, inflation_rate,\n",
    "        nominal_int_rate, fraction_financed_w_debt, int_haircut, E, 0.0)\n",
    "r_prime = ccc.paramfunctions.calc_r_prime(\n",
    "    nominal_int_rate, inflation_rate, fraction_financed_w_debt, E)\n",
    "z_f = ccc.calcfunctions.dbsl(5, 2, 0.8, r)  # 5 year asset, double declining balance, 80% bonus\n",
    "z_s = ccc.calcfunctions.dbsl(5, 2, 0.0, r)  # 5 year asset, double declining balance, no bonus\n",
    "rho = eq_coc_state(\n",
    "        depreciation_rates['machines'], z_f, z_s, franchise_tax_rate,\n",
    "        u_f, u_s, tau_GR, inv_tax_credit, inflation_rate, r)\n",
    "metr = ccc.calcfunctions.eq_metr(rho, r_prime, inflation_rate)\n",
    "eatr = ccc.calcfunctions.eq_eatr(rho, metr, profit_rate, u_f + u_f - u_f * u_s)\n",
    "print('Machines: rho = ', rho, ', metr = ', metr, ' and eatr = ', eatr)"
   ]
  },
  {
   "cell_type": "code",
   "execution_count": 16,
   "metadata": {
    "colab": {
     "base_uri": "https://localhost:8080/"
    },
    "id": "A1PPzapJwHqU",
    "outputId": "c7123b69-c781-4fc9-da51-42b5b039e6f2"
   },
   "outputs": [
    {
     "name": "stdout",
     "output_type": "stream",
     "text": [
      "Machines: rho =  0.06125450230184801 , metr =  0.020480164799415276  and eatr =  0.28816867645746036\n"
     ]
    }
   ],
   "source": [
    "# compare to federal\n",
    "r = ccc.paramfunctions.calc_r(\n",
    "        u_f + u_s - u_f * u_s, nominal_int_rate, inflation_rate,\n",
    "        nominal_int_rate, fraction_financed_w_debt, int_haircut, E, 0.0)\n",
    "r_prime = ccc.paramfunctions.calc_r_prime(\n",
    "    nominal_int_rate, inflation_rate, fraction_financed_w_debt, E)\n",
    "z_f = ccc.calcfunctions.dbsl(5, 2, 0.8, r)  # 5 year asset, double declining balance, 80% bonus\n",
    "rho = ccc.calcfunctions.eq_coc(\n",
    "        depreciation_rates['machines'], z_f, 0.0,\n",
    "        u_f, inv_tax_credit, inflation_rate, r)\n",
    "metr = ccc.calcfunctions.eq_metr(rho, r_prime, inflation_rate)\n",
    "eatr = ccc.calcfunctions.eq_eatr(rho, metr, profit_rate, u_f + u_f - u_f * u_s)\n",
    "print('Machines: rho = ', rho, ', metr = ', metr, ' and eatr = ', eatr)"
   ]
  }
 ],
 "metadata": {
  "colab": {
   "provenance": []
  },
  "kernelspec": {
   "display_name": "Python 3 (ipykernel)",
   "language": "python",
   "name": "python3"
  },
  "language_info": {
   "codemirror_mode": {
    "name": "ipython",
    "version": 3
   },
   "file_extension": ".py",
   "mimetype": "text/x-python",
   "name": "python",
   "nbconvert_exporter": "python",
   "pygments_lexer": "ipython3",
   "version": "3.11.9"
  },
  "vscode": {
   "interpreter": {
    "hash": "67a23e02aff97247db4b6ea3280bc4eb9dc056399c8462f977c82b8c5d20185f"
   }
  }
 },
 "nbformat": 4,
 "nbformat_minor": 1
}
